{
 "cells": [
  {
   "cell_type": "markdown",
   "metadata": {
    "id": "EpoZtV52tq52"
   },
   "source": [
    "# Manipulação dos dados e EDA - DELITOS NYC - 2020\n",
    "\n",
    "[dataset NY] https://data.cityofnewyork.us/Public-Safety/NYPD-Arrest-Data-Year-to-Date-/uip8-fykc"
   ]
  },
  {
   "cell_type": "markdown",
   "metadata": {},
   "source": [
    "## 1- Importando a base de dados"
   ]
  },
  {
   "cell_type": "code",
   "execution_count": 1,
   "metadata": {
    "id": "NpHeI-PMj_aQ"
   },
   "outputs": [],
   "source": [
    "#  Importando as bibliotecas\n",
    "\n",
    "import pandas as pd\n",
    "import seaborn as sns\n",
    "import matplotlib.pyplot as plt\n",
    "import numpy as np\n",
    "import datetime\n",
    "from datetime import date"
   ]
  },
  {
   "cell_type": "markdown",
   "metadata": {},
   "source": [
    " - Link do site onde encontra-se o dataset\n",
    " \n",
    " url:https://data.cityofnewyork.us/Public-Safety/NYPD-Arrest-Data-Year-to-Date-/uip8-fykc"
   ]
  },
  {
   "cell_type": "code",
   "execution_count": 2,
   "metadata": {},
   "outputs": [],
   "source": [
    "df=pd.read_csv('dataset.csv')"
   ]
  },
  {
   "cell_type": "code",
   "execution_count": 3,
   "metadata": {},
   "outputs": [
    {
     "data": {
      "text/html": [
       "<div>\n",
       "<style scoped>\n",
       "    .dataframe tbody tr th:only-of-type {\n",
       "        vertical-align: middle;\n",
       "    }\n",
       "\n",
       "    .dataframe tbody tr th {\n",
       "        vertical-align: top;\n",
       "    }\n",
       "\n",
       "    .dataframe thead th {\n",
       "        text-align: right;\n",
       "    }\n",
       "</style>\n",
       "<table border=\"1\" class=\"dataframe\">\n",
       "  <thead>\n",
       "    <tr style=\"text-align: right;\">\n",
       "      <th></th>\n",
       "      <th>ARREST_KEY</th>\n",
       "      <th>ARREST_DATE</th>\n",
       "      <th>PD_CD</th>\n",
       "      <th>PD_DESC</th>\n",
       "      <th>KY_CD</th>\n",
       "      <th>OFNS_DESC</th>\n",
       "      <th>LAW_CODE</th>\n",
       "      <th>LAW_CAT_CD</th>\n",
       "      <th>ARREST_BORO</th>\n",
       "      <th>ARREST_PRECINCT</th>\n",
       "      <th>JURISDICTION_CODE</th>\n",
       "      <th>AGE_GROUP</th>\n",
       "      <th>PERP_SEX</th>\n",
       "      <th>PERP_RACE</th>\n",
       "      <th>X_COORD_CD</th>\n",
       "      <th>Y_COORD_CD</th>\n",
       "      <th>Latitude</th>\n",
       "      <th>Longitude</th>\n",
       "      <th>New Georeferenced Column</th>\n",
       "    </tr>\n",
       "  </thead>\n",
       "  <tbody>\n",
       "    <tr>\n",
       "      <th>0</th>\n",
       "      <td>218375425</td>\n",
       "      <td>09/26/2020</td>\n",
       "      <td>157.0</td>\n",
       "      <td>RAPE 1</td>\n",
       "      <td>104.0</td>\n",
       "      <td>RAPE</td>\n",
       "      <td>PL 1303501</td>\n",
       "      <td>F</td>\n",
       "      <td>M</td>\n",
       "      <td>1</td>\n",
       "      <td>0</td>\n",
       "      <td>25-44</td>\n",
       "      <td>M</td>\n",
       "      <td>WHITE</td>\n",
       "      <td>982285</td>\n",
       "      <td>201682</td>\n",
       "      <td>40.720255</td>\n",
       "      <td>-74.007090</td>\n",
       "      <td>POINT (-74.00709027999993 40.72025522300004)</td>\n",
       "    </tr>\n",
       "    <tr>\n",
       "      <th>1</th>\n",
       "      <td>217319714</td>\n",
       "      <td>09/02/2020</td>\n",
       "      <td>729.0</td>\n",
       "      <td>FORGERY,ETC.,UNCLASSIFIED-FELO</td>\n",
       "      <td>113.0</td>\n",
       "      <td>FORGERY</td>\n",
       "      <td>PL 1702500</td>\n",
       "      <td>F</td>\n",
       "      <td>M</td>\n",
       "      <td>5</td>\n",
       "      <td>0</td>\n",
       "      <td>18-24</td>\n",
       "      <td>F</td>\n",
       "      <td>BLACK</td>\n",
       "      <td>983903</td>\n",
       "      <td>200257</td>\n",
       "      <td>40.716344</td>\n",
       "      <td>-74.001253</td>\n",
       "      <td>POINT (-74.00125319299997 40.71634415200003)</td>\n",
       "    </tr>\n",
       "    <tr>\n",
       "      <th>2</th>\n",
       "      <td>218282529</td>\n",
       "      <td>09/24/2020</td>\n",
       "      <td>244.0</td>\n",
       "      <td>BURGLARY,UNCLASSIFIED,UNKNOWN</td>\n",
       "      <td>107.0</td>\n",
       "      <td>BURGLARY</td>\n",
       "      <td>PL 1402000</td>\n",
       "      <td>F</td>\n",
       "      <td>M</td>\n",
       "      <td>34</td>\n",
       "      <td>0</td>\n",
       "      <td>45-64</td>\n",
       "      <td>M</td>\n",
       "      <td>BLACK</td>\n",
       "      <td>1003633</td>\n",
       "      <td>253391</td>\n",
       "      <td>40.862161</td>\n",
       "      <td>-73.929927</td>\n",
       "      <td>POINT (-73.92992712599995 40.862161439000026)</td>\n",
       "    </tr>\n",
       "    <tr>\n",
       "      <th>3</th>\n",
       "      <td>217526617</td>\n",
       "      <td>09/07/2020</td>\n",
       "      <td>792.0</td>\n",
       "      <td>WEAPONS POSSESSION 1 &amp; 2</td>\n",
       "      <td>118.0</td>\n",
       "      <td>DANGEROUS WEAPONS</td>\n",
       "      <td>PL 2650303</td>\n",
       "      <td>F</td>\n",
       "      <td>K</td>\n",
       "      <td>67</td>\n",
       "      <td>0</td>\n",
       "      <td>18-24</td>\n",
       "      <td>M</td>\n",
       "      <td>BLACK</td>\n",
       "      <td>1003029</td>\n",
       "      <td>176696</td>\n",
       "      <td>40.651655</td>\n",
       "      <td>-73.932325</td>\n",
       "      <td>POINT (-73.93232493699998 40.65165467100008)</td>\n",
       "    </tr>\n",
       "    <tr>\n",
       "      <th>4</th>\n",
       "      <td>218518385</td>\n",
       "      <td>09/29/2020</td>\n",
       "      <td>268.0</td>\n",
       "      <td>CRIMINAL MIS 2 &amp; 3</td>\n",
       "      <td>121.0</td>\n",
       "      <td>CRIMINAL MISCHIEF &amp; RELATED OF</td>\n",
       "      <td>PL 1450502</td>\n",
       "      <td>F</td>\n",
       "      <td>K</td>\n",
       "      <td>66</td>\n",
       "      <td>0</td>\n",
       "      <td>18-24</td>\n",
       "      <td>M</td>\n",
       "      <td>BLACK</td>\n",
       "      <td>988164</td>\n",
       "      <td>170927</td>\n",
       "      <td>40.635839</td>\n",
       "      <td>-73.985899</td>\n",
       "      <td>POINT (-73.98589935799998 40.635839049000026)</td>\n",
       "    </tr>\n",
       "  </tbody>\n",
       "</table>\n",
       "</div>"
      ],
      "text/plain": [
       "   ARREST_KEY ARREST_DATE  PD_CD                         PD_DESC  KY_CD  \\\n",
       "0   218375425  09/26/2020  157.0                          RAPE 1  104.0   \n",
       "1   217319714  09/02/2020  729.0  FORGERY,ETC.,UNCLASSIFIED-FELO  113.0   \n",
       "2   218282529  09/24/2020  244.0   BURGLARY,UNCLASSIFIED,UNKNOWN  107.0   \n",
       "3   217526617  09/07/2020  792.0        WEAPONS POSSESSION 1 & 2  118.0   \n",
       "4   218518385  09/29/2020  268.0              CRIMINAL MIS 2 & 3  121.0   \n",
       "\n",
       "                        OFNS_DESC    LAW_CODE LAW_CAT_CD ARREST_BORO  \\\n",
       "0                            RAPE  PL 1303501          F           M   \n",
       "1                         FORGERY  PL 1702500          F           M   \n",
       "2                        BURGLARY  PL 1402000          F           M   \n",
       "3               DANGEROUS WEAPONS  PL 2650303          F           K   \n",
       "4  CRIMINAL MISCHIEF & RELATED OF  PL 1450502          F           K   \n",
       "\n",
       "   ARREST_PRECINCT  JURISDICTION_CODE AGE_GROUP PERP_SEX PERP_RACE  \\\n",
       "0                1                  0     25-44        M     WHITE   \n",
       "1                5                  0     18-24        F     BLACK   \n",
       "2               34                  0     45-64        M     BLACK   \n",
       "3               67                  0     18-24        M     BLACK   \n",
       "4               66                  0     18-24        M     BLACK   \n",
       "\n",
       "   X_COORD_CD  Y_COORD_CD   Latitude  Longitude  \\\n",
       "0      982285      201682  40.720255 -74.007090   \n",
       "1      983903      200257  40.716344 -74.001253   \n",
       "2     1003633      253391  40.862161 -73.929927   \n",
       "3     1003029      176696  40.651655 -73.932325   \n",
       "4      988164      170927  40.635839 -73.985899   \n",
       "\n",
       "                        New Georeferenced Column  \n",
       "0   POINT (-74.00709027999993 40.72025522300004)  \n",
       "1   POINT (-74.00125319299997 40.71634415200003)  \n",
       "2  POINT (-73.92992712599995 40.862161439000026)  \n",
       "3   POINT (-73.93232493699998 40.65165467100008)  \n",
       "4  POINT (-73.98589935799998 40.635839049000026)  "
      ]
     },
     "execution_count": 3,
     "metadata": {},
     "output_type": "execute_result"
    }
   ],
   "source": [
    "# visualizando as 5 primeiras linhas do dataset\n",
    "df[0:5]"
   ]
  },
  {
   "cell_type": "markdown",
   "metadata": {},
   "source": [
    "## 2- Preparaçao dos dados\n"
   ]
  },
  {
   "cell_type": "markdown",
   "metadata": {},
   "source": [
    " - Removendo as colunas que nao serão utilizadas "
   ]
  },
  {
   "cell_type": "code",
   "execution_count": 4,
   "metadata": {},
   "outputs": [],
   "source": [
    "select_ny=df.drop(['ARREST_KEY', 'PD_CD', 'PD_DESC', 'KY_CD', 'LAW_CODE','ARREST_PRECINCT', 'JURISDICTION_CODE', 'X_COORD_CD', 'Y_COORD_CD','New Georeferenced Column'], axis=1)"
   ]
  },
  {
   "cell_type": "code",
   "execution_count": 5,
   "metadata": {},
   "outputs": [],
   "source": [
    "#  Renomeando as colunas\n",
    "\n",
    "select_ny.columns = ['data_da_ocorrencia','descricao_da_ofensa','nivel_da_ofensa','bairro'\n",
    "                     ,'idade_do_infrator','sexo_do_infrator','raca_do_infrator','latitude','longitude']"
   ]
  },
  {
   "cell_type": "code",
   "execution_count": 6,
   "metadata": {},
   "outputs": [],
   "source": [
    "# reorganizando os dados referentes a data \n",
    "\n",
    "def date_to_weekday(date):\n",
    "    weekday_dict = {0:'Monday', 1:'Tuesday', 2: 'Wednesday', 3: 'Thursday', 4: 'Friday', 5: 'Saturday', 6: 'Sunday'}\n",
    "    date_time_obj = datetime.datetime.strptime(date, '%m/%d/%Y')\n",
    "    return weekday_dict[date_time_obj.weekday()]\n",
    "\n",
    "date = select_ny['data_da_ocorrencia'].str.split(\"/\", n = 3, expand = True)\n",
    "select_ny['ano'] = date[2].astype('int32')\n",
    "select_ny['dia'] = date[1].astype('int32')\n",
    "select_ny['mes'] = date[0].astype('int32')\n",
    "select_ny['dia_da_semana'] = select_ny['data_da_ocorrencia'].apply(date_to_weekday)\n",
    "\n",
    "# alterando os dados da coluna nivel_de_ofensa\n",
    "\n",
    "new_nivel_da_ofensa = {'M': \"contravencao\", 'F': \"crime\", 'V': \"violacao\",'I':\"outro\" }\n",
    "select_ny['nivel_da_ofensa'] = select_ny['nivel_da_ofensa'].map(new_nivel_da_ofensa)\n",
    "\n",
    "# alterando os dados da coluna bairro\n",
    "\n",
    "new_bairro = {'B': 'Bronx', 'S': 'Staten_Island', 'K': 'Brooklyn', 'M': 'Manhattan' , 'Q': 'Queens' }\n",
    "select_ny['bairro'] = select_ny['bairro'].map(new_bairro)"
   ]
  },
  {
   "cell_type": "code",
   "execution_count": 7,
   "metadata": {},
   "outputs": [
    {
     "data": {
      "text/html": [
       "<div>\n",
       "<style scoped>\n",
       "    .dataframe tbody tr th:only-of-type {\n",
       "        vertical-align: middle;\n",
       "    }\n",
       "\n",
       "    .dataframe tbody tr th {\n",
       "        vertical-align: top;\n",
       "    }\n",
       "\n",
       "    .dataframe thead th {\n",
       "        text-align: right;\n",
       "    }\n",
       "</style>\n",
       "<table border=\"1\" class=\"dataframe\">\n",
       "  <thead>\n",
       "    <tr style=\"text-align: right;\">\n",
       "      <th></th>\n",
       "      <th>data_da_ocorrencia</th>\n",
       "      <th>descricao_da_ofensa</th>\n",
       "      <th>nivel_da_ofensa</th>\n",
       "      <th>bairro</th>\n",
       "      <th>idade_do_infrator</th>\n",
       "      <th>sexo_do_infrator</th>\n",
       "      <th>raca_do_infrator</th>\n",
       "      <th>latitude</th>\n",
       "      <th>longitude</th>\n",
       "      <th>ano</th>\n",
       "      <th>dia</th>\n",
       "      <th>mes</th>\n",
       "      <th>dia_da_semana</th>\n",
       "    </tr>\n",
       "  </thead>\n",
       "  <tbody>\n",
       "    <tr>\n",
       "      <th>0</th>\n",
       "      <td>09/26/2020</td>\n",
       "      <td>RAPE</td>\n",
       "      <td>crime</td>\n",
       "      <td>Manhattan</td>\n",
       "      <td>25-44</td>\n",
       "      <td>M</td>\n",
       "      <td>WHITE</td>\n",
       "      <td>40.720255</td>\n",
       "      <td>-74.007090</td>\n",
       "      <td>2020</td>\n",
       "      <td>26</td>\n",
       "      <td>9</td>\n",
       "      <td>Saturday</td>\n",
       "    </tr>\n",
       "    <tr>\n",
       "      <th>1</th>\n",
       "      <td>09/02/2020</td>\n",
       "      <td>FORGERY</td>\n",
       "      <td>crime</td>\n",
       "      <td>Manhattan</td>\n",
       "      <td>18-24</td>\n",
       "      <td>F</td>\n",
       "      <td>BLACK</td>\n",
       "      <td>40.716344</td>\n",
       "      <td>-74.001253</td>\n",
       "      <td>2020</td>\n",
       "      <td>2</td>\n",
       "      <td>9</td>\n",
       "      <td>Wednesday</td>\n",
       "    </tr>\n",
       "    <tr>\n",
       "      <th>2</th>\n",
       "      <td>09/24/2020</td>\n",
       "      <td>BURGLARY</td>\n",
       "      <td>crime</td>\n",
       "      <td>Manhattan</td>\n",
       "      <td>45-64</td>\n",
       "      <td>M</td>\n",
       "      <td>BLACK</td>\n",
       "      <td>40.862161</td>\n",
       "      <td>-73.929927</td>\n",
       "      <td>2020</td>\n",
       "      <td>24</td>\n",
       "      <td>9</td>\n",
       "      <td>Thursday</td>\n",
       "    </tr>\n",
       "    <tr>\n",
       "      <th>3</th>\n",
       "      <td>09/07/2020</td>\n",
       "      <td>DANGEROUS WEAPONS</td>\n",
       "      <td>crime</td>\n",
       "      <td>Brooklyn</td>\n",
       "      <td>18-24</td>\n",
       "      <td>M</td>\n",
       "      <td>BLACK</td>\n",
       "      <td>40.651655</td>\n",
       "      <td>-73.932325</td>\n",
       "      <td>2020</td>\n",
       "      <td>7</td>\n",
       "      <td>9</td>\n",
       "      <td>Monday</td>\n",
       "    </tr>\n",
       "    <tr>\n",
       "      <th>4</th>\n",
       "      <td>09/29/2020</td>\n",
       "      <td>CRIMINAL MISCHIEF &amp; RELATED OF</td>\n",
       "      <td>crime</td>\n",
       "      <td>Brooklyn</td>\n",
       "      <td>18-24</td>\n",
       "      <td>M</td>\n",
       "      <td>BLACK</td>\n",
       "      <td>40.635839</td>\n",
       "      <td>-73.985899</td>\n",
       "      <td>2020</td>\n",
       "      <td>29</td>\n",
       "      <td>9</td>\n",
       "      <td>Tuesday</td>\n",
       "    </tr>\n",
       "  </tbody>\n",
       "</table>\n",
       "</div>"
      ],
      "text/plain": [
       "  data_da_ocorrencia             descricao_da_ofensa nivel_da_ofensa  \\\n",
       "0         09/26/2020                            RAPE           crime   \n",
       "1         09/02/2020                         FORGERY           crime   \n",
       "2         09/24/2020                        BURGLARY           crime   \n",
       "3         09/07/2020               DANGEROUS WEAPONS           crime   \n",
       "4         09/29/2020  CRIMINAL MISCHIEF & RELATED OF           crime   \n",
       "\n",
       "      bairro idade_do_infrator sexo_do_infrator raca_do_infrator   latitude  \\\n",
       "0  Manhattan             25-44                M            WHITE  40.720255   \n",
       "1  Manhattan             18-24                F            BLACK  40.716344   \n",
       "2  Manhattan             45-64                M            BLACK  40.862161   \n",
       "3   Brooklyn             18-24                M            BLACK  40.651655   \n",
       "4   Brooklyn             18-24                M            BLACK  40.635839   \n",
       "\n",
       "   longitude   ano  dia  mes dia_da_semana  \n",
       "0 -74.007090  2020   26    9      Saturday  \n",
       "1 -74.001253  2020    2    9     Wednesday  \n",
       "2 -73.929927  2020   24    9      Thursday  \n",
       "3 -73.932325  2020    7    9        Monday  \n",
       "4 -73.985899  2020   29    9       Tuesday  "
      ]
     },
     "execution_count": 7,
     "metadata": {},
     "output_type": "execute_result"
    }
   ],
   "source": [
    "select_ny.head()"
   ]
  },
  {
   "cell_type": "markdown",
   "metadata": {
    "id": "2XW4lv9Ppsbl"
   },
   "source": [
    " - Convertendo a coluna \" DATA_DA_OCORRENCIA \"para formato datetime"
   ]
  },
  {
   "cell_type": "code",
   "execution_count": 8,
   "metadata": {
    "id": "pLBhQGqZpsbm"
   },
   "outputs": [],
   "source": [
    "select_ny[\"data_da_ocorrencia\"] = pd.to_datetime(select_ny[\"data_da_ocorrencia\"] )"
   ]
  },
  {
   "cell_type": "code",
   "execution_count": 9,
   "metadata": {
    "id": "4juV-7iupsb1"
   },
   "outputs": [],
   "source": [
    "# select_ny = select_ny[['data_da_ocorrencia', 'data_final_da_ocorrencia', 'data_comunicacao_policia','hora_da_ocorrencia',\n",
    "#                        'hora_termino_da_ocorrencia','descricao_da_ofensa',\n",
    "#                        'conclusao', 'nivel_de_ofensa', 'jurisdicao','bairro', 'local_da_ocorrencia', 'descricao_das_intalacoes','latitude','longitude','lat_long']]\n",
    "\n",
    "# select_ny.head()"
   ]
  },
  {
   "cell_type": "markdown",
   "metadata": {
    "id": "UoG7ttKhpsb2"
   },
   "source": [
    "## 3.0  Gerando algumas vizualizações de select_ny "
   ]
  },
  {
   "cell_type": "markdown",
   "metadata": {
    "id": "aKNoEdHXpsb3"
   },
   "source": [
    "### 3.1- Quantidade de delitos cometidos por bairros\n",
    " \n",
    " - Delitos_concluidos_por_bairros será o dataframe a ser utilizado neste tópico\n",
    " - Selecionando apenas os delitos concluídos"
   ]
  },
  {
   "cell_type": "markdown",
   "metadata": {
    "id": "wyX6jzTzpsb4"
   },
   "source": [
    " - Criando o DataFrame delitos_concluidos_por_bairros"
   ]
  },
  {
   "cell_type": "code",
   "execution_count": 10,
   "metadata": {},
   "outputs": [],
   "source": [
    "delitos_concluidos_por_bairros_df = select_ny.bairro.value_counts().to_frame().reset_index()\n",
    "delitos_concluidos_por_bairros_df.columns = ['bairro' , 'qtde_delitos']"
   ]
  },
  {
   "cell_type": "code",
   "execution_count": 11,
   "metadata": {},
   "outputs": [
    {
     "data": {
      "text/html": [
       "<div>\n",
       "<style scoped>\n",
       "    .dataframe tbody tr th:only-of-type {\n",
       "        vertical-align: middle;\n",
       "    }\n",
       "\n",
       "    .dataframe tbody tr th {\n",
       "        vertical-align: top;\n",
       "    }\n",
       "\n",
       "    .dataframe thead th {\n",
       "        text-align: right;\n",
       "    }\n",
       "</style>\n",
       "<table border=\"1\" class=\"dataframe\">\n",
       "  <thead>\n",
       "    <tr style=\"text-align: right;\">\n",
       "      <th></th>\n",
       "      <th>bairro</th>\n",
       "      <th>qtde_delitos</th>\n",
       "    </tr>\n",
       "  </thead>\n",
       "  <tbody>\n",
       "    <tr>\n",
       "      <th>0</th>\n",
       "      <td>Brooklyn</td>\n",
       "      <td>27962</td>\n",
       "    </tr>\n",
       "    <tr>\n",
       "      <th>1</th>\n",
       "      <td>Manhattan</td>\n",
       "      <td>24637</td>\n",
       "    </tr>\n",
       "    <tr>\n",
       "      <th>2</th>\n",
       "      <td>Bronx</td>\n",
       "      <td>23963</td>\n",
       "    </tr>\n",
       "    <tr>\n",
       "      <th>3</th>\n",
       "      <td>Queens</td>\n",
       "      <td>22316</td>\n",
       "    </tr>\n",
       "    <tr>\n",
       "      <th>4</th>\n",
       "      <td>Staten_Island</td>\n",
       "      <td>4498</td>\n",
       "    </tr>\n",
       "  </tbody>\n",
       "</table>\n",
       "</div>"
      ],
      "text/plain": [
       "          bairro  qtde_delitos\n",
       "0       Brooklyn         27962\n",
       "1      Manhattan         24637\n",
       "2          Bronx         23963\n",
       "3         Queens         22316\n",
       "4  Staten_Island          4498"
      ]
     },
     "execution_count": 11,
     "metadata": {},
     "output_type": "execute_result"
    }
   ],
   "source": [
    "delitos_concluidos_por_bairros_df"
   ]
  },
  {
   "cell_type": "markdown",
   "metadata": {
    "id": "6vP14a-Fpsb6"
   },
   "source": [
    "- Visualizando a quantidade de delitos em cada bairro"
   ]
  },
  {
   "cell_type": "code",
   "execution_count": 12,
   "metadata": {
    "id": "WXyiN-vTpsb6"
   },
   "outputs": [
    {
     "data": {
      "image/png": "[encoded data removed]",
      "text/plain": [
       "<Figure size 432x288 with 1 Axes>"
      ]
     },
     "metadata": {
      "needs_background": "light"
     },
     "output_type": "display_data"
    }
   ],
   "source": [
    "sns.barplot(y = 'bairro' , x = 'qtde_delitos' , data = delitos_concluidos_por_bairros_df)\n",
    "titulo = ' Quantidade de Delitos praticados por bairro em NYC - 2020 '\n",
    "plt.title(titulo)\n",
    "plt.show()"
   ]
  },
  {
   "cell_type": "markdown",
   "metadata": {},
   "source": [
    " - Distribuição dos delitos cometidos de acordo com o dia do mes"
   ]
  },
  {
   "cell_type": "code",
   "execution_count": 13,
   "metadata": {},
   "outputs": [
    {
     "data": {
      "image/png": "[encoded data removed]",
      "text/plain": [
       "<Figure size 1800x1080 with 1 Axes>"
      ]
     },
     "metadata": {
      "needs_background": "light"
     },
     "output_type": "display_data"
    }
   ],
   "source": [
    "f, ax = plt.subplots(figsize=(25, 15))\n",
    "sns.countplot(y=\"dia\", data=select_ny,palette=\"pastel\" );"
   ]
  },
  {
   "cell_type": "code",
   "execution_count": 14,
   "metadata": {},
   "outputs": [
    {
     "data": {
      "text/plain": [
       "(103376, 13)"
      ]
     },
     "execution_count": 14,
     "metadata": {},
     "output_type": "execute_result"
    }
   ],
   "source": [
    "select_ny.shape"
   ]
  },
  {
   "cell_type": "markdown",
   "metadata": {},
   "source": [
    " - Distribuição dos delitos por mes"
   ]
  },
  {
   "cell_type": "code",
   "execution_count": 15,
   "metadata": {},
   "outputs": [
    {
     "data": {
      "image/png": "[encoded data removed]",
      "text/plain": [
       "<Figure size 720x504 with 1 Axes>"
      ]
     },
     "metadata": {
      "needs_background": "light"
     },
     "output_type": "display_data"
    }
   ],
   "source": [
    "f, ax = plt.subplots(figsize=(10, 7))\n",
    "sns.countplot(y=\"mes\", data=select_ny)\n",
    "titulo='Quantidade de delitos praticados em cada mês'\n",
    "plt.title(titulo)\n",
    "plt.show()"
   ]
  },
  {
   "cell_type": "markdown",
   "metadata": {
    "id": "lOjsk4jVpscA"
   },
   "source": [
    "### 3.2- Descrição da ofensa :  tipos de delitos mais comuns"
   ]
  },
  {
   "cell_type": "code",
   "execution_count": 16,
   "metadata": {
    "id": "CXmbagnJpscA"
   },
   "outputs": [],
   "source": [
    "tipos_de_delitos = select_ny.descricao_da_ofensa.value_counts().to_frame().reset_index()\n",
    "tipos_de_delitos.columns = ['descricao_da_ofensa' , 'quantidade']"
   ]
  },
  {
   "cell_type": "code",
   "execution_count": 22,
   "metadata": {},
   "outputs": [
    {
     "data": {
      "text/html": [
       "<div>\n",
       "<style scoped>\n",
       "    .dataframe tbody tr th:only-of-type {\n",
       "        vertical-align: middle;\n",
       "    }\n",
       "\n",
       "    .dataframe tbody tr th {\n",
       "        vertical-align: top;\n",
       "    }\n",
       "\n",
       "    .dataframe thead th {\n",
       "        text-align: right;\n",
       "    }\n",
       "</style>\n",
       "<table border=\"1\" class=\"dataframe\">\n",
       "  <thead>\n",
       "    <tr style=\"text-align: right;\">\n",
       "      <th></th>\n",
       "      <th>descricao_da_ofensa</th>\n",
       "      <th>quantidade</th>\n",
       "    </tr>\n",
       "  </thead>\n",
       "  <tbody>\n",
       "    <tr>\n",
       "      <th>0</th>\n",
       "      <td>ASSAULT 3 &amp; RELATED OFFENSES</td>\n",
       "      <td>17588</td>\n",
       "    </tr>\n",
       "    <tr>\n",
       "      <th>1</th>\n",
       "      <td>FELONY ASSAULT</td>\n",
       "      <td>10002</td>\n",
       "    </tr>\n",
       "    <tr>\n",
       "      <th>2</th>\n",
       "      <td>PETIT LARCENY</td>\n",
       "      <td>8540</td>\n",
       "    </tr>\n",
       "    <tr>\n",
       "      <th>3</th>\n",
       "      <td>DANGEROUS DRUGS</td>\n",
       "      <td>8263</td>\n",
       "    </tr>\n",
       "    <tr>\n",
       "      <th>4</th>\n",
       "      <td>MISCELLANEOUS PENAL LAW</td>\n",
       "      <td>6717</td>\n",
       "    </tr>\n",
       "    <tr>\n",
       "      <th>5</th>\n",
       "      <td>ROBBERY</td>\n",
       "      <td>5992</td>\n",
       "    </tr>\n",
       "    <tr>\n",
       "      <th>6</th>\n",
       "      <td>CRIMINAL MISCHIEF &amp; RELATED OF</td>\n",
       "      <td>5759</td>\n",
       "    </tr>\n",
       "    <tr>\n",
       "      <th>7</th>\n",
       "      <td>BURGLARY</td>\n",
       "      <td>4711</td>\n",
       "    </tr>\n",
       "    <tr>\n",
       "      <th>8</th>\n",
       "      <td>GRAND LARCENY</td>\n",
       "      <td>4688</td>\n",
       "    </tr>\n",
       "    <tr>\n",
       "      <th>9</th>\n",
       "      <td>DANGEROUS WEAPONS</td>\n",
       "      <td>4646</td>\n",
       "    </tr>\n",
       "    <tr>\n",
       "      <th>10</th>\n",
       "      <td>OFFENSES AGAINST PUBLIC ADMINI</td>\n",
       "      <td>3785</td>\n",
       "    </tr>\n",
       "    <tr>\n",
       "      <th>11</th>\n",
       "      <td>VEHICLE AND TRAFFIC LAWS</td>\n",
       "      <td>3533</td>\n",
       "    </tr>\n",
       "    <tr>\n",
       "      <th>12</th>\n",
       "      <td>OFF. AGNST PUB ORD SENSBLTY &amp;</td>\n",
       "      <td>2227</td>\n",
       "    </tr>\n",
       "    <tr>\n",
       "      <th>13</th>\n",
       "      <td>SEX CRIMES</td>\n",
       "      <td>2008</td>\n",
       "    </tr>\n",
       "    <tr>\n",
       "      <th>14</th>\n",
       "      <td>INTOXICATED &amp; IMPAIRED DRIVING</td>\n",
       "      <td>1701</td>\n",
       "    </tr>\n",
       "    <tr>\n",
       "      <th>15</th>\n",
       "      <td>POSSESSION OF STOLEN PROPERTY</td>\n",
       "      <td>1373</td>\n",
       "    </tr>\n",
       "    <tr>\n",
       "      <th>16</th>\n",
       "      <td>CRIMINAL TRESPASS</td>\n",
       "      <td>1160</td>\n",
       "    </tr>\n",
       "    <tr>\n",
       "      <th>17</th>\n",
       "      <td>FORGERY</td>\n",
       "      <td>1144</td>\n",
       "    </tr>\n",
       "    <tr>\n",
       "      <th>18</th>\n",
       "      <td>FOR OTHER AUTHORITIES</td>\n",
       "      <td>970</td>\n",
       "    </tr>\n",
       "    <tr>\n",
       "      <th>19</th>\n",
       "      <td>GRAND LARCENY OF MOTOR VEHICLE</td>\n",
       "      <td>893</td>\n",
       "    </tr>\n",
       "    <tr>\n",
       "      <th>20</th>\n",
       "      <td>MURDER &amp; NON-NEGL. MANSLAUGHTE</td>\n",
       "      <td>853</td>\n",
       "    </tr>\n",
       "    <tr>\n",
       "      <th>21</th>\n",
       "      <td>OTHER TRAFFIC INFRACTION</td>\n",
       "      <td>783</td>\n",
       "    </tr>\n",
       "    <tr>\n",
       "      <th>22</th>\n",
       "      <td>OTHER OFFENSES RELATED TO THEF</td>\n",
       "      <td>661</td>\n",
       "    </tr>\n",
       "    <tr>\n",
       "      <th>23</th>\n",
       "      <td>OFFENSES INVOLVING FRAUD</td>\n",
       "      <td>532</td>\n",
       "    </tr>\n",
       "    <tr>\n",
       "      <th>24</th>\n",
       "      <td>OFFENSES AGAINST THE PERSON</td>\n",
       "      <td>524</td>\n",
       "    </tr>\n",
       "    <tr>\n",
       "      <th>25</th>\n",
       "      <td>RAPE</td>\n",
       "      <td>438</td>\n",
       "    </tr>\n",
       "    <tr>\n",
       "      <th>26</th>\n",
       "      <td>BURGLAR'S TOOLS</td>\n",
       "      <td>416</td>\n",
       "    </tr>\n",
       "    <tr>\n",
       "      <th>27</th>\n",
       "      <td>OTHER STATE LAWS (NON PENAL LA</td>\n",
       "      <td>415</td>\n",
       "    </tr>\n",
       "    <tr>\n",
       "      <th>28</th>\n",
       "      <td>NYS LAWS-UNCLASSIFIED FELONY</td>\n",
       "      <td>402</td>\n",
       "    </tr>\n",
       "    <tr>\n",
       "      <th>29</th>\n",
       "      <td>UNAUTHORIZED USE OF A VEHICLE</td>\n",
       "      <td>388</td>\n",
       "    </tr>\n",
       "    <tr>\n",
       "      <th>30</th>\n",
       "      <td>FRAUDS</td>\n",
       "      <td>307</td>\n",
       "    </tr>\n",
       "    <tr>\n",
       "      <th>31</th>\n",
       "      <td>PROSTITUTION &amp; RELATED OFFENSES</td>\n",
       "      <td>300</td>\n",
       "    </tr>\n",
       "    <tr>\n",
       "      <th>32</th>\n",
       "      <td>OTHER STATE LAWS</td>\n",
       "      <td>250</td>\n",
       "    </tr>\n",
       "    <tr>\n",
       "      <th>33</th>\n",
       "      <td>INTOXICATED/IMPAIRED DRIVING</td>\n",
       "      <td>247</td>\n",
       "    </tr>\n",
       "    <tr>\n",
       "      <th>34</th>\n",
       "      <td>GAMBLING</td>\n",
       "      <td>246</td>\n",
       "    </tr>\n",
       "    <tr>\n",
       "      <th>35</th>\n",
       "      <td>ALCOHOLIC BEVERAGE CONTROL LAW</td>\n",
       "      <td>161</td>\n",
       "    </tr>\n",
       "    <tr>\n",
       "      <th>36</th>\n",
       "      <td>ADMINISTRATIVE CODE</td>\n",
       "      <td>108</td>\n",
       "    </tr>\n",
       "    <tr>\n",
       "      <th>37</th>\n",
       "      <td>THEFT-FRAUD</td>\n",
       "      <td>106</td>\n",
       "    </tr>\n",
       "    <tr>\n",
       "      <th>38</th>\n",
       "      <td>THEFT OF SERVICES</td>\n",
       "      <td>90</td>\n",
       "    </tr>\n",
       "    <tr>\n",
       "      <th>39</th>\n",
       "      <td>OFFENSES AGAINST PUBLIC SAFETY</td>\n",
       "      <td>76</td>\n",
       "    </tr>\n",
       "    <tr>\n",
       "      <th>40</th>\n",
       "      <td>ARSON</td>\n",
       "      <td>64</td>\n",
       "    </tr>\n",
       "    <tr>\n",
       "      <th>41</th>\n",
       "      <td>KIDNAPPING &amp; RELATED OFFENSES</td>\n",
       "      <td>35</td>\n",
       "    </tr>\n",
       "    <tr>\n",
       "      <th>42</th>\n",
       "      <td>DISORDERLY CONDUCT</td>\n",
       "      <td>32</td>\n",
       "    </tr>\n",
       "    <tr>\n",
       "      <th>43</th>\n",
       "      <td>FRAUDULENT ACCOSTING</td>\n",
       "      <td>28</td>\n",
       "    </tr>\n",
       "    <tr>\n",
       "      <th>44</th>\n",
       "      <td>OFFENSES RELATED TO CHILDREN</td>\n",
       "      <td>27</td>\n",
       "    </tr>\n",
       "    <tr>\n",
       "      <th>45</th>\n",
       "      <td>HARRASSMENT 2</td>\n",
       "      <td>25</td>\n",
       "    </tr>\n",
       "    <tr>\n",
       "      <th>46</th>\n",
       "      <td>MOVING INFRACTIONS</td>\n",
       "      <td>21</td>\n",
       "    </tr>\n",
       "    <tr>\n",
       "      <th>47</th>\n",
       "      <td>ENDAN WELFARE INCOMP</td>\n",
       "      <td>21</td>\n",
       "    </tr>\n",
       "    <tr>\n",
       "      <th>48</th>\n",
       "      <td>CHILD ABANDONMENT/NON SUPPORT</td>\n",
       "      <td>17</td>\n",
       "    </tr>\n",
       "    <tr>\n",
       "      <th>49</th>\n",
       "      <td>AGRICULTURE &amp; MRKTS LAW-UNCLASSIFIED</td>\n",
       "      <td>15</td>\n",
       "    </tr>\n",
       "    <tr>\n",
       "      <th>50</th>\n",
       "      <td>HOMICIDE-NEGLIGENT,UNCLASSIFIE</td>\n",
       "      <td>13</td>\n",
       "    </tr>\n",
       "    <tr>\n",
       "      <th>51</th>\n",
       "      <td>LOITERING/GAMBLING (CARDS, DIC</td>\n",
       "      <td>12</td>\n",
       "    </tr>\n",
       "    <tr>\n",
       "      <th>52</th>\n",
       "      <td>ANTICIPATORY OFFENSES</td>\n",
       "      <td>12</td>\n",
       "    </tr>\n",
       "    <tr>\n",
       "      <th>53</th>\n",
       "      <td>JOSTLING</td>\n",
       "      <td>10</td>\n",
       "    </tr>\n",
       "    <tr>\n",
       "      <th>54</th>\n",
       "      <td>HOMICIDE-NEGLIGENT-VEHICLE</td>\n",
       "      <td>6</td>\n",
       "    </tr>\n",
       "    <tr>\n",
       "      <th>55</th>\n",
       "      <td>OTHER STATE LAWS (NON PENAL LAW)</td>\n",
       "      <td>4</td>\n",
       "    </tr>\n",
       "    <tr>\n",
       "      <th>56</th>\n",
       "      <td>ESCAPE 3</td>\n",
       "      <td>4</td>\n",
       "    </tr>\n",
       "    <tr>\n",
       "      <th>57</th>\n",
       "      <td>KIDNAPPING</td>\n",
       "      <td>2</td>\n",
       "    </tr>\n",
       "    <tr>\n",
       "      <th>58</th>\n",
       "      <td>NEW YORK CITY HEALTH CODE</td>\n",
       "      <td>1</td>\n",
       "    </tr>\n",
       "  </tbody>\n",
       "</table>\n",
       "</div>"
      ],
      "text/plain": [
       "                     descricao_da_ofensa  quantidade\n",
       "0           ASSAULT 3 & RELATED OFFENSES       17588\n",
       "1                         FELONY ASSAULT       10002\n",
       "2                          PETIT LARCENY        8540\n",
       "3                        DANGEROUS DRUGS        8263\n",
       "4                MISCELLANEOUS PENAL LAW        6717\n",
       "5                                ROBBERY        5992\n",
       "6         CRIMINAL MISCHIEF & RELATED OF        5759\n",
       "7                               BURGLARY        4711\n",
       "8                          GRAND LARCENY        4688\n",
       "9                      DANGEROUS WEAPONS        4646\n",
       "10        OFFENSES AGAINST PUBLIC ADMINI        3785\n",
       "11              VEHICLE AND TRAFFIC LAWS        3533\n",
       "12         OFF. AGNST PUB ORD SENSBLTY &        2227\n",
       "13                            SEX CRIMES        2008\n",
       "14        INTOXICATED & IMPAIRED DRIVING        1701\n",
       "15         POSSESSION OF STOLEN PROPERTY        1373\n",
       "16                     CRIMINAL TRESPASS        1160\n",
       "17                               FORGERY        1144\n",
       "18                 FOR OTHER AUTHORITIES         970\n",
       "19        GRAND LARCENY OF MOTOR VEHICLE         893\n",
       "20        MURDER & NON-NEGL. MANSLAUGHTE         853\n",
       "21              OTHER TRAFFIC INFRACTION         783\n",
       "22        OTHER OFFENSES RELATED TO THEF         661\n",
       "23              OFFENSES INVOLVING FRAUD         532\n",
       "24           OFFENSES AGAINST THE PERSON         524\n",
       "25                                  RAPE         438\n",
       "26                       BURGLAR'S TOOLS         416\n",
       "27        OTHER STATE LAWS (NON PENAL LA         415\n",
       "28          NYS LAWS-UNCLASSIFIED FELONY         402\n",
       "29         UNAUTHORIZED USE OF A VEHICLE         388\n",
       "30                                FRAUDS         307\n",
       "31       PROSTITUTION & RELATED OFFENSES         300\n",
       "32                      OTHER STATE LAWS         250\n",
       "33          INTOXICATED/IMPAIRED DRIVING         247\n",
       "34                              GAMBLING         246\n",
       "35        ALCOHOLIC BEVERAGE CONTROL LAW         161\n",
       "36                   ADMINISTRATIVE CODE         108\n",
       "37                           THEFT-FRAUD         106\n",
       "38                     THEFT OF SERVICES          90\n",
       "39        OFFENSES AGAINST PUBLIC SAFETY          76\n",
       "40                                 ARSON          64\n",
       "41         KIDNAPPING & RELATED OFFENSES          35\n",
       "42                    DISORDERLY CONDUCT          32\n",
       "43                  FRAUDULENT ACCOSTING          28\n",
       "44          OFFENSES RELATED TO CHILDREN          27\n",
       "45                         HARRASSMENT 2          25\n",
       "46                    MOVING INFRACTIONS          21\n",
       "47                  ENDAN WELFARE INCOMP          21\n",
       "48         CHILD ABANDONMENT/NON SUPPORT          17\n",
       "49  AGRICULTURE & MRKTS LAW-UNCLASSIFIED          15\n",
       "50        HOMICIDE-NEGLIGENT,UNCLASSIFIE          13\n",
       "51        LOITERING/GAMBLING (CARDS, DIC          12\n",
       "52                 ANTICIPATORY OFFENSES          12\n",
       "53                              JOSTLING          10\n",
       "54            HOMICIDE-NEGLIGENT-VEHICLE           6\n",
       "55      OTHER STATE LAWS (NON PENAL LAW)           4\n",
       "56                              ESCAPE 3           4\n",
       "57                            KIDNAPPING           2\n",
       "58             NEW YORK CITY HEALTH CODE           1"
      ]
     },
     "execution_count": 22,
     "metadata": {},
     "output_type": "execute_result"
    }
   ],
   "source": [
    "tipos_de_delitos"
   ]
  },
  {
   "cell_type": "markdown",
   "metadata": {},
   "source": [
    " - Visualizando os tipos de delitos mais frequentes"
   ]
  },
  {
   "cell_type": "code",
   "execution_count": 26,
   "metadata": {},
   "outputs": [
    {
     "data": {
      "image/png": "[encoded data removed]",
      "text/plain": [
       "<Figure size 864x576 with 1 Axes>"
      ]
     },
     "metadata": {
      "needs_background": "light"
     },
     "output_type": "display_data"
    }
   ],
   "source": [
    "f, ax = plt.subplots(figsize=(12, 8))\n",
    "sns.barplot(y = 'descricao_da_ofensa' , x = 'quantidade' , data = tipos_de_delitos.head(15))\n",
    "titulo='Delitos mais recorrentes'\n",
    "plt.title(titulo, fontsize=15)\n",
    "plt.show()"
   ]
  },
  {
   "cell_type": "markdown",
   "metadata": {
    "id": "0F-s-HvYpscJ"
   },
   "source": [
    "###  3.3- Visualizando a distribuicao do sexo e raça dos infratores "
   ]
  },
  {
   "cell_type": "code",
   "execution_count": 27,
   "metadata": {},
   "outputs": [
    {
     "data": {
      "image/png": "[encoded data removed]",
      "text/plain": [
       "<Figure size 1080x504 with 1 Axes>"
      ]
     },
     "metadata": {
      "needs_background": "light"
     },
     "output_type": "display_data"
    }
   ],
   "source": [
    "f, ax = plt.subplots(figsize=(15, 7))\n",
    "sns.countplot( x =\"raca_do_infrator\", data=select_ny)\n",
    "titulo ='Delitos praticados x Raça do infrator'\n",
    "plt.title(titulo, fontsize=15)\n",
    "plt.show()"
   ]
  },
  {
   "cell_type": "code",
   "execution_count": 28,
   "metadata": {},
   "outputs": [
    {
     "data": {
      "image/png": "[encoded data removed]",
      "text/plain": [
       "<Figure size 810.375x720 with 1 Axes>"
      ]
     },
     "metadata": {
      "needs_background": "light"
     },
     "output_type": "display_data"
    }
   ],
   "source": [
    "ax = sns.catplot(x=\"idade_do_infrator\", hue=\"sexo_do_infrator\", kind=\"count\",palette=\"cubehelix\", data=select_ny, height=10, aspect=1)\n",
    "plt.xlabel('Faixa étaria de quem pratica os delitos' , fontsize=15)\n",
    "plt.ylabel('Quantidade de delitos praticados' , fontsize=15)\n",
    "titulo =\" Delitos praticados x Idade x Sexo\"\n",
    "plt.title(titulo, fontsize=15)\n",
    "plt.show()"
   ]
  },
  {
   "cell_type": "code",
   "execution_count": 29,
   "metadata": {},
   "outputs": [
    {
     "data": {
      "image/png": "[encoded data removed]",
      "text/plain": [
       "<Figure size 1080x576 with 1 Axes>"
      ]
     },
     "metadata": {
      "needs_background": "light"
     },
     "output_type": "display_data"
    }
   ],
   "source": [
    "plt.figure(figsize=(15,8))\n",
    "sns.countplot(x=\"sexo_do_infrator\", hue=\"raca_do_infrator\", data=select_ny, palette=\"pastel\")\n",
    "plt.xlabel('Sexo de quem pratica os delitos' , fontsize=15)\n",
    "plt.ylabel('Quantidade de delitos praticados' , fontsize=15)\n",
    "titulo =\" Delitos praticados x Sexo x Raça \"\n",
    "plt.title(titulo, fontsize=15)\n",
    "plt.show()"
   ]
  },
  {
   "cell_type": "code",
   "execution_count": 30,
   "metadata": {},
   "outputs": [
    {
     "data": {
      "image/png": "[encoded data removed]",
      "text/plain": [
       "<Figure size 1080x576 with 1 Axes>"
      ]
     },
     "metadata": {
      "needs_background": "light"
     },
     "output_type": "display_data"
    }
   ],
   "source": [
    "plt.figure(figsize=(15,8))\n",
    "sns.countplot(x='idade_do_infrator', hue='raca_do_infrator', data = select_ny)\n",
    "plt.xlabel('Faixa etária de quem pratica os delitos' , fontsize=15)\n",
    "plt.ylabel('Quantidade de delitos praticados' , fontsize=15)\n",
    "titulo =\" Delitos praticados x Sexo x Raça \"\n",
    "plt.title(titulo, fontsize=15)\n",
    "plt.show()"
   ]
  },
  {
   "cell_type": "code",
   "execution_count": 31,
   "metadata": {},
   "outputs": [
    {
     "data": {
      "text/html": [
       "<div>\n",
       "<style scoped>\n",
       "    .dataframe tbody tr th:only-of-type {\n",
       "        vertical-align: middle;\n",
       "    }\n",
       "\n",
       "    .dataframe tbody tr th {\n",
       "        vertical-align: top;\n",
       "    }\n",
       "\n",
       "    .dataframe thead th {\n",
       "        text-align: right;\n",
       "    }\n",
       "</style>\n",
       "<table border=\"1\" class=\"dataframe\">\n",
       "  <thead>\n",
       "    <tr style=\"text-align: right;\">\n",
       "      <th></th>\n",
       "      <th>data_da_ocorrencia</th>\n",
       "      <th>descricao_da_ofensa</th>\n",
       "      <th>nivel_da_ofensa</th>\n",
       "      <th>bairro</th>\n",
       "      <th>idade_do_infrator</th>\n",
       "      <th>sexo_do_infrator</th>\n",
       "      <th>raca_do_infrator</th>\n",
       "      <th>latitude</th>\n",
       "      <th>longitude</th>\n",
       "      <th>ano</th>\n",
       "      <th>dia</th>\n",
       "      <th>mes</th>\n",
       "      <th>dia_da_semana</th>\n",
       "    </tr>\n",
       "  </thead>\n",
       "  <tbody>\n",
       "    <tr>\n",
       "      <th>0</th>\n",
       "      <td>2020-09-26</td>\n",
       "      <td>RAPE</td>\n",
       "      <td>crime</td>\n",
       "      <td>Manhattan</td>\n",
       "      <td>25-44</td>\n",
       "      <td>M</td>\n",
       "      <td>WHITE</td>\n",
       "      <td>40.720255</td>\n",
       "      <td>-74.007090</td>\n",
       "      <td>2020</td>\n",
       "      <td>26</td>\n",
       "      <td>9</td>\n",
       "      <td>Saturday</td>\n",
       "    </tr>\n",
       "    <tr>\n",
       "      <th>1</th>\n",
       "      <td>2020-09-02</td>\n",
       "      <td>FORGERY</td>\n",
       "      <td>crime</td>\n",
       "      <td>Manhattan</td>\n",
       "      <td>18-24</td>\n",
       "      <td>F</td>\n",
       "      <td>BLACK</td>\n",
       "      <td>40.716344</td>\n",
       "      <td>-74.001253</td>\n",
       "      <td>2020</td>\n",
       "      <td>2</td>\n",
       "      <td>9</td>\n",
       "      <td>Wednesday</td>\n",
       "    </tr>\n",
       "    <tr>\n",
       "      <th>2</th>\n",
       "      <td>2020-09-24</td>\n",
       "      <td>BURGLARY</td>\n",
       "      <td>crime</td>\n",
       "      <td>Manhattan</td>\n",
       "      <td>45-64</td>\n",
       "      <td>M</td>\n",
       "      <td>BLACK</td>\n",
       "      <td>40.862161</td>\n",
       "      <td>-73.929927</td>\n",
       "      <td>2020</td>\n",
       "      <td>24</td>\n",
       "      <td>9</td>\n",
       "      <td>Thursday</td>\n",
       "    </tr>\n",
       "    <tr>\n",
       "      <th>3</th>\n",
       "      <td>2020-09-07</td>\n",
       "      <td>DANGEROUS WEAPONS</td>\n",
       "      <td>crime</td>\n",
       "      <td>Brooklyn</td>\n",
       "      <td>18-24</td>\n",
       "      <td>M</td>\n",
       "      <td>BLACK</td>\n",
       "      <td>40.651655</td>\n",
       "      <td>-73.932325</td>\n",
       "      <td>2020</td>\n",
       "      <td>7</td>\n",
       "      <td>9</td>\n",
       "      <td>Monday</td>\n",
       "    </tr>\n",
       "    <tr>\n",
       "      <th>4</th>\n",
       "      <td>2020-09-29</td>\n",
       "      <td>CRIMINAL MISCHIEF &amp; RELATED OF</td>\n",
       "      <td>crime</td>\n",
       "      <td>Brooklyn</td>\n",
       "      <td>18-24</td>\n",
       "      <td>M</td>\n",
       "      <td>BLACK</td>\n",
       "      <td>40.635839</td>\n",
       "      <td>-73.985899</td>\n",
       "      <td>2020</td>\n",
       "      <td>29</td>\n",
       "      <td>9</td>\n",
       "      <td>Tuesday</td>\n",
       "    </tr>\n",
       "  </tbody>\n",
       "</table>\n",
       "</div>"
      ],
      "text/plain": [
       "  data_da_ocorrencia             descricao_da_ofensa nivel_da_ofensa  \\\n",
       "0         2020-09-26                            RAPE           crime   \n",
       "1         2020-09-02                         FORGERY           crime   \n",
       "2         2020-09-24                        BURGLARY           crime   \n",
       "3         2020-09-07               DANGEROUS WEAPONS           crime   \n",
       "4         2020-09-29  CRIMINAL MISCHIEF & RELATED OF           crime   \n",
       "\n",
       "      bairro idade_do_infrator sexo_do_infrator raca_do_infrator   latitude  \\\n",
       "0  Manhattan             25-44                M            WHITE  40.720255   \n",
       "1  Manhattan             18-24                F            BLACK  40.716344   \n",
       "2  Manhattan             45-64                M            BLACK  40.862161   \n",
       "3   Brooklyn             18-24                M            BLACK  40.651655   \n",
       "4   Brooklyn             18-24                M            BLACK  40.635839   \n",
       "\n",
       "   longitude   ano  dia  mes dia_da_semana  \n",
       "0 -74.007090  2020   26    9      Saturday  \n",
       "1 -74.001253  2020    2    9     Wednesday  \n",
       "2 -73.929927  2020   24    9      Thursday  \n",
       "3 -73.932325  2020    7    9        Monday  \n",
       "4 -73.985899  2020   29    9       Tuesday  "
      ]
     },
     "execution_count": 31,
     "metadata": {},
     "output_type": "execute_result"
    }
   ],
   "source": [
    "select_ny.head()"
   ]
  },
  {
   "cell_type": "markdown",
   "metadata": {},
   "source": [
    "# 4 - Modelagem"
   ]
  },
  {
   "cell_type": "markdown",
   "metadata": {},
   "source": [
    "## 4.1 Preparação dos Dados\n",
    "- Separação Treino/Teste\n",
    "- Separar Dados de Entrada (Atributos) e de saída (target)\n",
    "- Tratar colunas categóricas\n",
    "- Tratar dados ausentes\n",
    "- Escalar os dados\n"
   ]
  },
  {
   "cell_type": "code",
   "execution_count": 32,
   "metadata": {},
   "outputs": [
    {
     "name": "stdout",
     "output_type": "stream",
     "text": [
      "<class 'pandas.core.frame.DataFrame'>\n",
      "RangeIndex: 103376 entries, 0 to 103375\n",
      "Data columns (total 13 columns):\n",
      " #   Column               Non-Null Count   Dtype         \n",
      "---  ------               --------------   -----         \n",
      " 0   data_da_ocorrencia   103376 non-null  datetime64[ns]\n",
      " 1   descricao_da_ofensa  103352 non-null  object        \n",
      " 2   nivel_da_ofensa      102406 non-null  object        \n",
      " 3   bairro               103376 non-null  object        \n",
      " 4   idade_do_infrator    103376 non-null  object        \n",
      " 5   sexo_do_infrator     103376 non-null  object        \n",
      " 6   raca_do_infrator     103376 non-null  object        \n",
      " 7   latitude             103376 non-null  float64       \n",
      " 8   longitude            103376 non-null  float64       \n",
      " 9   ano                  103376 non-null  int32         \n",
      " 10  dia                  103376 non-null  int32         \n",
      " 11  mes                  103376 non-null  int32         \n",
      " 12  dia_da_semana        103376 non-null  object        \n",
      "dtypes: datetime64[ns](1), float64(2), int32(3), object(7)\n",
      "memory usage: 9.1+ MB\n"
     ]
    }
   ],
   "source": [
    "select_ny.info()"
   ]
  },
  {
   "cell_type": "markdown",
   "metadata": {},
   "source": [
    " - Criando um dataset apenas com os delitos mais praticados"
   ]
  },
  {
   "cell_type": "code",
   "execution_count": null,
   "metadata": {},
   "outputs": [],
   "source": [
    "ml_dataset=pd.get_dummies(\n",
    "    select_ny,\n",
    "    prefix=None,\n",
    "    prefix_sep='_',\n",
    "    dummy_na=False,\n",
    "    columns=['bairro','sexo_do_infrator','raca_do_infrator','dia_da_semana'],\n",
    "    sparse=False,\n",
    "    drop_first=False,\n",
    "    dtype=None,\n",
    ")"
   ]
  },
  {
   "cell_type": "markdown",
   "metadata": {},
   "source": [
    " - Variáveis que podem servir como classificadores os delitos pelo nivel da ofensa.\n",
    "  - lat e long\n",
    "  - raça\n",
    "  - dia da semana , mes , dia "
   ]
  },
  {
   "cell_type": "code",
   "execution_count": null,
   "metadata": {},
   "outputs": [],
   "source": [
    "del(ml_dataset)"
   ]
  },
  {
   "cell_type": "code",
   "execution_count": null,
   "metadata": {},
   "outputs": [],
   "source": [
    "ml_dataset = ml_dataset.drop(columns=['descricao_da_ofensa','local_da_prisao','georeferencia','ano','data_da_ocorrencia'])"
   ]
  },
  {
   "cell_type": "code",
   "execution_count": null,
   "metadata": {},
   "outputs": [],
   "source": [
    "pd.set_option('display.max_columns', 500)\n",
    "ml_dataset"
   ]
  },
  {
   "cell_type": "code",
   "execution_count": null,
   "metadata": {},
   "outputs": [],
   "source": [
    "from sklearn.model_selection import train_test_split"
   ]
  },
  {
   "cell_type": "code",
   "execution_count": null,
   "metadata": {},
   "outputs": [],
   "source": [
    "train, test= train_test_split(ml_dataset, test_size=0.25 , random_state=123)"
   ]
  },
  {
   "cell_type": "code",
   "execution_count": null,
   "metadata": {},
   "outputs": [],
   "source": [
    "lista_cols = list(ml_dataset.columns)"
   ]
  },
  {
   "cell_type": "code",
   "execution_count": null,
   "metadata": {},
   "outputs": [],
   "source": []
  },
  {
   "cell_type": "code",
   "execution_count": null,
   "metadata": {},
   "outputs": [],
   "source": []
  },
  {
   "cell_type": "code",
   "execution_count": null,
   "metadata": {},
   "outputs": [],
   "source": []
  },
  {
   "cell_type": "code",
   "execution_count": null,
   "metadata": {},
   "outputs": [],
   "source": [
    "X_cols =\n",
    "\n",
    "y_cols ="
   ]
  },
  {
   "cell_type": "code",
   "execution_count": null,
   "metadata": {},
   "outputs": [],
   "source": [
    "X_train = train[X_cols]\n",
    "X_test = test[X_cols]\n",
    "y_train = train[y_col]\n",
    "y_test = test[y_col]"
   ]
  }
 ],
 "metadata": {
  "colab": {
   "collapsed_sections": [],
   "name": "Crimes.ipynb",
   "provenance": []
  },
  "kernelspec": {
   "display_name": "Python 3",
   "language": "python",
   "name": "python3"
  },
  "language_info": {
   "codemirror_mode": {
    "name": "ipython",
    "version": 3
   },
   "file_extension": ".py",
   "mimetype": "text/x-python",
   "name": "python",
   "nbconvert_exporter": "python",
   "pygments_lexer": "ipython3",
   "version": "3.8.3"
  }
 },
 "nbformat": 4,
 "nbformat_minor": 1
}

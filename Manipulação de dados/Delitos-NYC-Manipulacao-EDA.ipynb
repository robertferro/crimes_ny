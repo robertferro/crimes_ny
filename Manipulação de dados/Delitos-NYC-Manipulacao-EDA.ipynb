{
 "cells": [
  {
   "cell_type": "markdown",
   "metadata": {
    "id": "EpoZtV52tq52"
   },
   "source": [
    "# Manipulação dos dados e EDA - DELITOS NYC\n",
    "\n",
    "[dataset NY](https://www.kaggle.com/adamschroeder/crimes-new-york-city?select=Crime_Column_Description.csv)"
   ]
  },
  {
   "cell_type": "markdown",
   "metadata": {},
   "source": [
    "## 1- Importando a base de dados"
   ]
  },
  {
   "cell_type": "code",
   "execution_count": 1,
   "metadata": {
    "id": "NpHeI-PMj_aQ"
   },
   "outputs": [],
   "source": [
    "#  Importando as bibliotecas\n",
    "\n",
    "import pandas as pd\n",
    "import seaborn as sns\n",
    "import matplotlib.pyplot as plt\n",
    "import numpy as np"
   ]
  },
  {
   "cell_type": "code",
   "execution_count": 2,
   "metadata": {
    "colab": {
     "base_uri": "https://localhost:8080/",
     "height": 391
    },
    "id": "HP137-Y0psbg",
    "outputId": "1c4f1917-e27a-4639-c63d-266f323de331"
   },
   "outputs": [
    {
     "name": "stderr",
     "output_type": "stream",
     "text": [
      "C:\\Users\\pc\\anaconda3\\lib\\site-packages\\IPython\\core\\interactiveshell.py:3071: DtypeWarning: Columns (17) have mixed types.Specify dtype option on import or set low_memory=False.\n",
      "  has_raised = await self.run_ast_nodes(code_ast.body, cell_name,\n"
     ]
    }
   ],
   "source": [
    "# lendo o arquivo csv referente aos delitos em nova york\n",
    "ny  = pd.read_csv('ny.csv')"
   ]
  },
  {
   "cell_type": "code",
   "execution_count": 3,
   "metadata": {
    "id": "U3V2JZ1kpsbi"
   },
   "outputs": [
    {
     "data": {
      "text/html": [
       "<div>\n",
       "<style scoped>\n",
       "    .dataframe tbody tr th:only-of-type {\n",
       "        vertical-align: middle;\n",
       "    }\n",
       "\n",
       "    .dataframe tbody tr th {\n",
       "        vertical-align: top;\n",
       "    }\n",
       "\n",
       "    .dataframe thead th {\n",
       "        text-align: right;\n",
       "    }\n",
       "</style>\n",
       "<table border=\"1\" class=\"dataframe\">\n",
       "  <thead>\n",
       "    <tr style=\"text-align: right;\">\n",
       "      <th></th>\n",
       "      <th>CMPLNT_NUM</th>\n",
       "      <th>CMPLNT_FR_DT</th>\n",
       "      <th>CMPLNT_FR_TM</th>\n",
       "      <th>CMPLNT_TO_DT</th>\n",
       "      <th>CMPLNT_TO_TM</th>\n",
       "      <th>RPT_DT</th>\n",
       "      <th>KY_CD</th>\n",
       "      <th>OFNS_DESC</th>\n",
       "      <th>PD_CD</th>\n",
       "      <th>PD_DESC</th>\n",
       "      <th>...</th>\n",
       "      <th>ADDR_PCT_CD</th>\n",
       "      <th>LOC_OF_OCCUR_DESC</th>\n",
       "      <th>PREM_TYP_DESC</th>\n",
       "      <th>PARKS_NM</th>\n",
       "      <th>HADEVELOPT</th>\n",
       "      <th>X_COORD_CD</th>\n",
       "      <th>Y_COORD_CD</th>\n",
       "      <th>Latitude</th>\n",
       "      <th>Longitude</th>\n",
       "      <th>Lat_Lon</th>\n",
       "    </tr>\n",
       "  </thead>\n",
       "  <tbody>\n",
       "    <tr>\n",
       "      <th>0</th>\n",
       "      <td>101109527</td>\n",
       "      <td>12/31/2015</td>\n",
       "      <td>23:45:00</td>\n",
       "      <td>NaN</td>\n",
       "      <td>NaN</td>\n",
       "      <td>12/31/2015</td>\n",
       "      <td>113</td>\n",
       "      <td>FORGERY</td>\n",
       "      <td>729.0</td>\n",
       "      <td>FORGERY,ETC.,UNCLASSIFIED-FELO</td>\n",
       "      <td>...</td>\n",
       "      <td>44.0</td>\n",
       "      <td>INSIDE</td>\n",
       "      <td>BAR/NIGHT CLUB</td>\n",
       "      <td>NaN</td>\n",
       "      <td>NaN</td>\n",
       "      <td>1007314.0</td>\n",
       "      <td>241257.0</td>\n",
       "      <td>40.828848</td>\n",
       "      <td>-73.916661</td>\n",
       "      <td>(40.828848333, -73.916661142)</td>\n",
       "    </tr>\n",
       "    <tr>\n",
       "      <th>1</th>\n",
       "      <td>153401121</td>\n",
       "      <td>12/31/2015</td>\n",
       "      <td>23:36:00</td>\n",
       "      <td>NaN</td>\n",
       "      <td>NaN</td>\n",
       "      <td>12/31/2015</td>\n",
       "      <td>101</td>\n",
       "      <td>MURDER &amp; NON-NEGL. MANSLAUGHTER</td>\n",
       "      <td>NaN</td>\n",
       "      <td>NaN</td>\n",
       "      <td>...</td>\n",
       "      <td>103.0</td>\n",
       "      <td>OUTSIDE</td>\n",
       "      <td>NaN</td>\n",
       "      <td>NaN</td>\n",
       "      <td>NaN</td>\n",
       "      <td>1043991.0</td>\n",
       "      <td>193406.0</td>\n",
       "      <td>40.697338</td>\n",
       "      <td>-73.784557</td>\n",
       "      <td>(40.697338138, -73.784556739)</td>\n",
       "    </tr>\n",
       "    <tr>\n",
       "      <th>2</th>\n",
       "      <td>569369778</td>\n",
       "      <td>12/31/2015</td>\n",
       "      <td>23:30:00</td>\n",
       "      <td>NaN</td>\n",
       "      <td>NaN</td>\n",
       "      <td>12/31/2015</td>\n",
       "      <td>117</td>\n",
       "      <td>DANGEROUS DRUGS</td>\n",
       "      <td>503.0</td>\n",
       "      <td>CONTROLLED SUBSTANCE,INTENT TO</td>\n",
       "      <td>...</td>\n",
       "      <td>28.0</td>\n",
       "      <td>NaN</td>\n",
       "      <td>OTHER</td>\n",
       "      <td>NaN</td>\n",
       "      <td>NaN</td>\n",
       "      <td>999463.0</td>\n",
       "      <td>231690.0</td>\n",
       "      <td>40.802607</td>\n",
       "      <td>-73.945052</td>\n",
       "      <td>(40.802606608, -73.945051911)</td>\n",
       "    </tr>\n",
       "    <tr>\n",
       "      <th>3</th>\n",
       "      <td>968417082</td>\n",
       "      <td>12/31/2015</td>\n",
       "      <td>23:30:00</td>\n",
       "      <td>NaN</td>\n",
       "      <td>NaN</td>\n",
       "      <td>12/31/2015</td>\n",
       "      <td>344</td>\n",
       "      <td>ASSAULT 3 &amp; RELATED OFFENSES</td>\n",
       "      <td>101.0</td>\n",
       "      <td>ASSAULT 3</td>\n",
       "      <td>...</td>\n",
       "      <td>105.0</td>\n",
       "      <td>INSIDE</td>\n",
       "      <td>RESIDENCE-HOUSE</td>\n",
       "      <td>NaN</td>\n",
       "      <td>NaN</td>\n",
       "      <td>1060183.0</td>\n",
       "      <td>177862.0</td>\n",
       "      <td>40.654549</td>\n",
       "      <td>-73.726339</td>\n",
       "      <td>(40.654549444, -73.726338791)</td>\n",
       "    </tr>\n",
       "    <tr>\n",
       "      <th>4</th>\n",
       "      <td>641637920</td>\n",
       "      <td>12/31/2015</td>\n",
       "      <td>23:25:00</td>\n",
       "      <td>12/31/2015</td>\n",
       "      <td>23:30:00</td>\n",
       "      <td>12/31/2015</td>\n",
       "      <td>344</td>\n",
       "      <td>ASSAULT 3 &amp; RELATED OFFENSES</td>\n",
       "      <td>101.0</td>\n",
       "      <td>ASSAULT 3</td>\n",
       "      <td>...</td>\n",
       "      <td>13.0</td>\n",
       "      <td>FRONT OF</td>\n",
       "      <td>OTHER</td>\n",
       "      <td>NaN</td>\n",
       "      <td>NaN</td>\n",
       "      <td>987606.0</td>\n",
       "      <td>208148.0</td>\n",
       "      <td>40.738002</td>\n",
       "      <td>-73.987891</td>\n",
       "      <td>(40.7380024, -73.98789129)</td>\n",
       "    </tr>\n",
       "  </tbody>\n",
       "</table>\n",
       "<p>5 rows × 24 columns</p>\n",
       "</div>"
      ],
      "text/plain": [
       "   CMPLNT_NUM CMPLNT_FR_DT CMPLNT_FR_TM CMPLNT_TO_DT CMPLNT_TO_TM      RPT_DT  \\\n",
       "0   101109527   12/31/2015     23:45:00          NaN          NaN  12/31/2015   \n",
       "1   153401121   12/31/2015     23:36:00          NaN          NaN  12/31/2015   \n",
       "2   569369778   12/31/2015     23:30:00          NaN          NaN  12/31/2015   \n",
       "3   968417082   12/31/2015     23:30:00          NaN          NaN  12/31/2015   \n",
       "4   641637920   12/31/2015     23:25:00   12/31/2015     23:30:00  12/31/2015   \n",
       "\n",
       "   KY_CD                        OFNS_DESC  PD_CD  \\\n",
       "0    113                          FORGERY  729.0   \n",
       "1    101  MURDER & NON-NEGL. MANSLAUGHTER    NaN   \n",
       "2    117                  DANGEROUS DRUGS  503.0   \n",
       "3    344     ASSAULT 3 & RELATED OFFENSES  101.0   \n",
       "4    344     ASSAULT 3 & RELATED OFFENSES  101.0   \n",
       "\n",
       "                          PD_DESC  ... ADDR_PCT_CD LOC_OF_OCCUR_DESC  \\\n",
       "0  FORGERY,ETC.,UNCLASSIFIED-FELO  ...        44.0            INSIDE   \n",
       "1                             NaN  ...       103.0           OUTSIDE   \n",
       "2  CONTROLLED SUBSTANCE,INTENT TO  ...        28.0               NaN   \n",
       "3                       ASSAULT 3  ...       105.0            INSIDE   \n",
       "4                       ASSAULT 3  ...        13.0          FRONT OF   \n",
       "\n",
       "     PREM_TYP_DESC PARKS_NM  HADEVELOPT X_COORD_CD Y_COORD_CD   Latitude  \\\n",
       "0   BAR/NIGHT CLUB      NaN         NaN  1007314.0   241257.0  40.828848   \n",
       "1              NaN      NaN         NaN  1043991.0   193406.0  40.697338   \n",
       "2            OTHER      NaN         NaN   999463.0   231690.0  40.802607   \n",
       "3  RESIDENCE-HOUSE      NaN         NaN  1060183.0   177862.0  40.654549   \n",
       "4            OTHER      NaN         NaN   987606.0   208148.0  40.738002   \n",
       "\n",
       "   Longitude                        Lat_Lon  \n",
       "0 -73.916661  (40.828848333, -73.916661142)  \n",
       "1 -73.784557  (40.697338138, -73.784556739)  \n",
       "2 -73.945052  (40.802606608, -73.945051911)  \n",
       "3 -73.726339  (40.654549444, -73.726338791)  \n",
       "4 -73.987891     (40.7380024, -73.98789129)  \n",
       "\n",
       "[5 rows x 24 columns]"
      ]
     },
     "execution_count": 3,
     "metadata": {},
     "output_type": "execute_result"
    }
   ],
   "source": [
    "ny.head()"
   ]
  },
  {
   "cell_type": "markdown",
   "metadata": {
    "id": "wBzpcrS_psbj"
   },
   "source": [
    "## 2- Preparaçao dos dados\n",
    "\n",
    " - Criando um novo DataFrame \"select_ny\"\n"
   ]
  },
  {
   "cell_type": "markdown",
   "metadata": {
    "id": "Vq97sKpJpsbk"
   },
   "source": [
    " - Criando uma cópia do DataFrame ny"
   ]
  },
  {
   "cell_type": "code",
   "execution_count": 4,
   "metadata": {
    "id": "L84udDVVpsbk"
   },
   "outputs": [],
   "source": [
    "ny_datetime = ny.copy()"
   ]
  },
  {
   "cell_type": "markdown",
   "metadata": {
    "id": "2XW4lv9Ppsbl"
   },
   "source": [
    " - Convertendo algumas colunas para formato datetime"
   ]
  },
  {
   "cell_type": "code",
   "execution_count": 5,
   "metadata": {
    "id": "pLBhQGqZpsbm"
   },
   "outputs": [],
   "source": [
    "ny_datetime[\"CMPLNT_FR_DT\"] = pd.to_datetime(ny_datetime[\"CMPLNT_FR_DT\"], errors = 'coerce')"
   ]
  },
  {
   "cell_type": "code",
   "execution_count": 6,
   "metadata": {
    "id": "wOJtHDIVpsbn"
   },
   "outputs": [],
   "source": [
    "# ny_datetime['CMPLNT_FR_TM'] = pd.to_datetime(ny_datetime['CMPLNT_FR_TM'],format=r\"%H:%M:%S.%f\")"
   ]
  },
  {
   "cell_type": "code",
   "execution_count": 7,
   "metadata": {
    "id": "rHR-mr6wpsbp"
   },
   "outputs": [],
   "source": [
    "ny_datetime['CMPLNT_TO_DT'] = pd.to_datetime(ny_datetime['CMPLNT_TO_DT'], errors = 'coerce')"
   ]
  },
  {
   "cell_type": "code",
   "execution_count": 8,
   "metadata": {
    "id": "WbH1WKfVpsbp"
   },
   "outputs": [],
   "source": [
    "# ny_datetime['CMPLNT_TO_TM'] = pd.to_datetime(ny_datetime['CMPLNT_TO_TM'], errors = 'coerce')"
   ]
  },
  {
   "cell_type": "code",
   "execution_count": 9,
   "metadata": {
    "id": "6ktBRP0xpsbq"
   },
   "outputs": [],
   "source": [
    "ny_datetime['RPT_DT'] = pd.to_datetime(ny_datetime['RPT_DT'], errors = 'coerce')"
   ]
  },
  {
   "cell_type": "code",
   "execution_count": 10,
   "metadata": {},
   "outputs": [
    {
     "name": "stdout",
     "output_type": "stream",
     "text": [
      "<class 'pandas.core.frame.DataFrame'>\n",
      "RangeIndex: 1048575 entries, 0 to 1048574\n",
      "Data columns (total 24 columns):\n",
      " #   Column             Non-Null Count    Dtype         \n",
      "---  ------             --------------    -----         \n",
      " 0   CMPLNT_NUM         1048575 non-null  int64         \n",
      " 1   CMPLNT_FR_DT       1048503 non-null  datetime64[ns]\n",
      " 2   CMPLNT_FR_TM       1048575 non-null  object        \n",
      " 3   CMPLNT_TO_DT       842616 non-null   datetime64[ns]\n",
      " 4   CMPLNT_TO_TM       843002 non-null   object        \n",
      " 5   RPT_DT             1048575 non-null  datetime64[ns]\n",
      " 6   KY_CD              1048575 non-null  int64         \n",
      " 7   OFNS_DESC          1045695 non-null  object        \n",
      " 8   PD_CD              1047842 non-null  float64       \n",
      " 9   PD_DESC            1047842 non-null  object        \n",
      " 10  CRM_ATPT_CPTD_CD   1048574 non-null  object        \n",
      " 11  LAW_CAT_CD         1048575 non-null  object        \n",
      " 12  JURIS_DESC         1048575 non-null  object        \n",
      " 13  BORO_NM            1048575 non-null  object        \n",
      " 14  ADDR_PCT_CD        1048574 non-null  float64       \n",
      " 15  LOC_OF_OCCUR_DESC  830823 non-null   object        \n",
      " 16  PREM_TYP_DESC      1043886 non-null  object        \n",
      " 17  PARKS_NM           7599 non-null     object        \n",
      " 18  HADEVELOPT         51772 non-null    object        \n",
      " 19  X_COORD_CD         1016158 non-null  float64       \n",
      " 20  Y_COORD_CD         1016158 non-null  float64       \n",
      " 21  Latitude           1016158 non-null  float64       \n",
      " 22  Longitude          1016158 non-null  float64       \n",
      " 23  Lat_Lon            1016158 non-null  object        \n",
      "dtypes: datetime64[ns](3), float64(6), int64(2), object(13)\n",
      "memory usage: 192.0+ MB\n"
     ]
    }
   ],
   "source": [
    "ny_datetime.info()"
   ]
  },
  {
   "cell_type": "markdown",
   "metadata": {
    "id": "7tGNm_YEpsbt"
   },
   "source": [
    "## 2.1- Selecionando colunas do DataFrame \"ny_datetime\"\n",
    "\n",
    " - Utilizamos o DataFrame \"ny_datetime\" , que ja tem as colunas convertidas para o padrão datetime.\n",
    "\n",
    " - Por meio do metodo iloc ,selecinamos as colunas que tem informações úteis, relacionadas aos delitos praticados.\n",
    "\n",
    " "
   ]
  },
  {
   "cell_type": "code",
   "execution_count": 11,
   "metadata": {
    "id": "fLel0eNGmye4"
   },
   "outputs": [],
   "source": [
    "select_ny = ny_datetime.iloc[:, [1,2,3,4,5,7,10,11,12,13,15,16,21,22,23]]"
   ]
  },
  {
   "cell_type": "markdown",
   "metadata": {
    "id": "E9o3GXrTpsbu"
   },
   "source": [
    " -  Renomeando as colunas do DataFrame select_ny"
   ]
  },
  {
   "cell_type": "code",
   "execution_count": 12,
   "metadata": {
    "id": "T8RISaw8psbv"
   },
   "outputs": [],
   "source": [
    "select_ny.columns = ['data_da_ocorrencia','hora_da_ocorrencia','data_final_da_ocorrencia', \n",
    "                     'hora_termino_da_ocorrencia','data_comunicacao_policia',\n",
    "                     'descricao_da_ofensa','conclusao','nivel_de_ofensa','jurisdicao','bairro','local_da_ocorrencia'\n",
    "                    ,'descricao_das_intalacoes','latitude','longitude','lat_long']"
   ]
  },
  {
   "cell_type": "code",
   "execution_count": 13,
   "metadata": {
    "id": "G_kmoHGqpsbv"
   },
   "outputs": [
    {
     "data": {
      "text/html": [
       "<div>\n",
       "<style scoped>\n",
       "    .dataframe tbody tr th:only-of-type {\n",
       "        vertical-align: middle;\n",
       "    }\n",
       "\n",
       "    .dataframe tbody tr th {\n",
       "        vertical-align: top;\n",
       "    }\n",
       "\n",
       "    .dataframe thead th {\n",
       "        text-align: right;\n",
       "    }\n",
       "</style>\n",
       "<table border=\"1\" class=\"dataframe\">\n",
       "  <thead>\n",
       "    <tr style=\"text-align: right;\">\n",
       "      <th></th>\n",
       "      <th>data_da_ocorrencia</th>\n",
       "      <th>hora_da_ocorrencia</th>\n",
       "      <th>data_final_da_ocorrencia</th>\n",
       "      <th>hora_termino_da_ocorrencia</th>\n",
       "      <th>data_comunicacao_policia</th>\n",
       "      <th>descricao_da_ofensa</th>\n",
       "      <th>conclusao</th>\n",
       "      <th>nivel_de_ofensa</th>\n",
       "      <th>jurisdicao</th>\n",
       "      <th>bairro</th>\n",
       "      <th>local_da_ocorrencia</th>\n",
       "      <th>descricao_das_intalacoes</th>\n",
       "      <th>latitude</th>\n",
       "      <th>longitude</th>\n",
       "      <th>lat_long</th>\n",
       "    </tr>\n",
       "  </thead>\n",
       "  <tbody>\n",
       "    <tr>\n",
       "      <th>0</th>\n",
       "      <td>2015-12-31</td>\n",
       "      <td>23:45:00</td>\n",
       "      <td>NaT</td>\n",
       "      <td>NaN</td>\n",
       "      <td>2015-12-31</td>\n",
       "      <td>FORGERY</td>\n",
       "      <td>COMPLETED</td>\n",
       "      <td>FELONY</td>\n",
       "      <td>N.Y. POLICE DEPT</td>\n",
       "      <td>BRONX</td>\n",
       "      <td>INSIDE</td>\n",
       "      <td>BAR/NIGHT CLUB</td>\n",
       "      <td>40.828848</td>\n",
       "      <td>-73.916661</td>\n",
       "      <td>(40.828848333, -73.916661142)</td>\n",
       "    </tr>\n",
       "    <tr>\n",
       "      <th>1</th>\n",
       "      <td>2015-12-31</td>\n",
       "      <td>23:36:00</td>\n",
       "      <td>NaT</td>\n",
       "      <td>NaN</td>\n",
       "      <td>2015-12-31</td>\n",
       "      <td>MURDER &amp; NON-NEGL. MANSLAUGHTER</td>\n",
       "      <td>COMPLETED</td>\n",
       "      <td>FELONY</td>\n",
       "      <td>N.Y. POLICE DEPT</td>\n",
       "      <td>QUEENS</td>\n",
       "      <td>OUTSIDE</td>\n",
       "      <td>NaN</td>\n",
       "      <td>40.697338</td>\n",
       "      <td>-73.784557</td>\n",
       "      <td>(40.697338138, -73.784556739)</td>\n",
       "    </tr>\n",
       "    <tr>\n",
       "      <th>2</th>\n",
       "      <td>2015-12-31</td>\n",
       "      <td>23:30:00</td>\n",
       "      <td>NaT</td>\n",
       "      <td>NaN</td>\n",
       "      <td>2015-12-31</td>\n",
       "      <td>DANGEROUS DRUGS</td>\n",
       "      <td>COMPLETED</td>\n",
       "      <td>FELONY</td>\n",
       "      <td>N.Y. POLICE DEPT</td>\n",
       "      <td>MANHATTAN</td>\n",
       "      <td>NaN</td>\n",
       "      <td>OTHER</td>\n",
       "      <td>40.802607</td>\n",
       "      <td>-73.945052</td>\n",
       "      <td>(40.802606608, -73.945051911)</td>\n",
       "    </tr>\n",
       "    <tr>\n",
       "      <th>3</th>\n",
       "      <td>2015-12-31</td>\n",
       "      <td>23:30:00</td>\n",
       "      <td>NaT</td>\n",
       "      <td>NaN</td>\n",
       "      <td>2015-12-31</td>\n",
       "      <td>ASSAULT 3 &amp; RELATED OFFENSES</td>\n",
       "      <td>COMPLETED</td>\n",
       "      <td>MISDEMEANOR</td>\n",
       "      <td>N.Y. POLICE DEPT</td>\n",
       "      <td>QUEENS</td>\n",
       "      <td>INSIDE</td>\n",
       "      <td>RESIDENCE-HOUSE</td>\n",
       "      <td>40.654549</td>\n",
       "      <td>-73.726339</td>\n",
       "      <td>(40.654549444, -73.726338791)</td>\n",
       "    </tr>\n",
       "    <tr>\n",
       "      <th>4</th>\n",
       "      <td>2015-12-31</td>\n",
       "      <td>23:25:00</td>\n",
       "      <td>2015-12-31</td>\n",
       "      <td>23:30:00</td>\n",
       "      <td>2015-12-31</td>\n",
       "      <td>ASSAULT 3 &amp; RELATED OFFENSES</td>\n",
       "      <td>COMPLETED</td>\n",
       "      <td>MISDEMEANOR</td>\n",
       "      <td>N.Y. POLICE DEPT</td>\n",
       "      <td>MANHATTAN</td>\n",
       "      <td>FRONT OF</td>\n",
       "      <td>OTHER</td>\n",
       "      <td>40.738002</td>\n",
       "      <td>-73.987891</td>\n",
       "      <td>(40.7380024, -73.98789129)</td>\n",
       "    </tr>\n",
       "  </tbody>\n",
       "</table>\n",
       "</div>"
      ],
      "text/plain": [
       "  data_da_ocorrencia hora_da_ocorrencia data_final_da_ocorrencia  \\\n",
       "0         2015-12-31           23:45:00                      NaT   \n",
       "1         2015-12-31           23:36:00                      NaT   \n",
       "2         2015-12-31           23:30:00                      NaT   \n",
       "3         2015-12-31           23:30:00                      NaT   \n",
       "4         2015-12-31           23:25:00               2015-12-31   \n",
       "\n",
       "  hora_termino_da_ocorrencia data_comunicacao_policia  \\\n",
       "0                        NaN               2015-12-31   \n",
       "1                        NaN               2015-12-31   \n",
       "2                        NaN               2015-12-31   \n",
       "3                        NaN               2015-12-31   \n",
       "4                   23:30:00               2015-12-31   \n",
       "\n",
       "               descricao_da_ofensa  conclusao nivel_de_ofensa  \\\n",
       "0                          FORGERY  COMPLETED          FELONY   \n",
       "1  MURDER & NON-NEGL. MANSLAUGHTER  COMPLETED          FELONY   \n",
       "2                  DANGEROUS DRUGS  COMPLETED          FELONY   \n",
       "3     ASSAULT 3 & RELATED OFFENSES  COMPLETED     MISDEMEANOR   \n",
       "4     ASSAULT 3 & RELATED OFFENSES  COMPLETED     MISDEMEANOR   \n",
       "\n",
       "         jurisdicao     bairro local_da_ocorrencia descricao_das_intalacoes  \\\n",
       "0  N.Y. POLICE DEPT      BRONX              INSIDE           BAR/NIGHT CLUB   \n",
       "1  N.Y. POLICE DEPT     QUEENS             OUTSIDE                      NaN   \n",
       "2  N.Y. POLICE DEPT  MANHATTAN                 NaN                    OTHER   \n",
       "3  N.Y. POLICE DEPT     QUEENS              INSIDE          RESIDENCE-HOUSE   \n",
       "4  N.Y. POLICE DEPT  MANHATTAN            FRONT OF                    OTHER   \n",
       "\n",
       "    latitude  longitude                       lat_long  \n",
       "0  40.828848 -73.916661  (40.828848333, -73.916661142)  \n",
       "1  40.697338 -73.784557  (40.697338138, -73.784556739)  \n",
       "2  40.802607 -73.945052  (40.802606608, -73.945051911)  \n",
       "3  40.654549 -73.726339  (40.654549444, -73.726338791)  \n",
       "4  40.738002 -73.987891     (40.7380024, -73.98789129)  "
      ]
     },
     "execution_count": 13,
     "metadata": {},
     "output_type": "execute_result"
    }
   ],
   "source": [
    "select_ny.head()"
   ]
  },
  {
   "cell_type": "markdown",
   "metadata": {
    "id": "UFkBS_c9psbz"
   },
   "source": [
    "## 2.2-  Alterando dados do DataFrame \"select_ny\""
   ]
  },
  {
   "cell_type": "code",
   "execution_count": 14,
   "metadata": {
    "id": "wXrjvs-Spsb0"
   },
   "outputs": [],
   "source": [
    "select_ny = select_ny.copy()"
   ]
  },
  {
   "cell_type": "code",
   "execution_count": 15,
   "metadata": {
    "id": "pA0G7Pm3psb0"
   },
   "outputs": [],
   "source": [
    "# alterando os dados de  select_ny['conclusao']\n",
    "new_conclusao = {'ATTEMPTED': 'nao_concluido', 'COMPLETED': 'concluido' }\n",
    "select_ny['conclusao'] = select_ny['conclusao'].map(new_conclusao)\n",
    "\n",
    "# alterando os dados de  select_ny['nivel_de_ofensa']\n",
    "new_nivel_de_ofensa = {'MISDEMEANOR': \"contravencao\", 'FELONY': \"crime\", 'VIOLATION': \"violacao\" }\n",
    "select_ny['nivel_de_ofensa'] = select_ny['nivel_de_ofensa'].map(new_nivel_de_ofensa)\n",
    "\n",
    "\n",
    "# alterando os dados de  select_ny['local_da_ocorrencia'], dentro ou fora dos estabelecimentos \n",
    "new_local_da_ocorrencia = {'INSIDE': \"dentro\", 'FRONT OF': \"fora\", 'OPPOSITE OF': \"fora\", \n",
    "                           'REAR OF': \"fora\", 'OUTSIDE': \"fora\" }\n",
    "select_ny['local_da_ocorrencia'] = select_ny['local_da_ocorrencia'].map(new_local_da_ocorrencia)"
   ]
  },
  {
   "cell_type": "markdown",
   "metadata": {
    "id": "s39HYJXupsb1"
   },
   "source": [
    " - Reordenando as colunas do DataFrame"
   ]
  },
  {
   "cell_type": "code",
   "execution_count": 16,
   "metadata": {
    "id": "4juV-7iupsb1"
   },
   "outputs": [
    {
     "data": {
      "text/html": [
       "<div>\n",
       "<style scoped>\n",
       "    .dataframe tbody tr th:only-of-type {\n",
       "        vertical-align: middle;\n",
       "    }\n",
       "\n",
       "    .dataframe tbody tr th {\n",
       "        vertical-align: top;\n",
       "    }\n",
       "\n",
       "    .dataframe thead th {\n",
       "        text-align: right;\n",
       "    }\n",
       "</style>\n",
       "<table border=\"1\" class=\"dataframe\">\n",
       "  <thead>\n",
       "    <tr style=\"text-align: right;\">\n",
       "      <th></th>\n",
       "      <th>data_da_ocorrencia</th>\n",
       "      <th>data_final_da_ocorrencia</th>\n",
       "      <th>data_comunicacao_policia</th>\n",
       "      <th>hora_da_ocorrencia</th>\n",
       "      <th>hora_termino_da_ocorrencia</th>\n",
       "      <th>descricao_da_ofensa</th>\n",
       "      <th>conclusao</th>\n",
       "      <th>nivel_de_ofensa</th>\n",
       "      <th>jurisdicao</th>\n",
       "      <th>bairro</th>\n",
       "      <th>local_da_ocorrencia</th>\n",
       "      <th>descricao_das_intalacoes</th>\n",
       "      <th>latitude</th>\n",
       "      <th>longitude</th>\n",
       "      <th>lat_long</th>\n",
       "    </tr>\n",
       "  </thead>\n",
       "  <tbody>\n",
       "    <tr>\n",
       "      <th>0</th>\n",
       "      <td>2015-12-31</td>\n",
       "      <td>NaT</td>\n",
       "      <td>2015-12-31</td>\n",
       "      <td>23:45:00</td>\n",
       "      <td>NaN</td>\n",
       "      <td>FORGERY</td>\n",
       "      <td>concluido</td>\n",
       "      <td>crime</td>\n",
       "      <td>N.Y. POLICE DEPT</td>\n",
       "      <td>BRONX</td>\n",
       "      <td>dentro</td>\n",
       "      <td>BAR/NIGHT CLUB</td>\n",
       "      <td>40.828848</td>\n",
       "      <td>-73.916661</td>\n",
       "      <td>(40.828848333, -73.916661142)</td>\n",
       "    </tr>\n",
       "    <tr>\n",
       "      <th>1</th>\n",
       "      <td>2015-12-31</td>\n",
       "      <td>NaT</td>\n",
       "      <td>2015-12-31</td>\n",
       "      <td>23:36:00</td>\n",
       "      <td>NaN</td>\n",
       "      <td>MURDER &amp; NON-NEGL. MANSLAUGHTER</td>\n",
       "      <td>concluido</td>\n",
       "      <td>crime</td>\n",
       "      <td>N.Y. POLICE DEPT</td>\n",
       "      <td>QUEENS</td>\n",
       "      <td>fora</td>\n",
       "      <td>NaN</td>\n",
       "      <td>40.697338</td>\n",
       "      <td>-73.784557</td>\n",
       "      <td>(40.697338138, -73.784556739)</td>\n",
       "    </tr>\n",
       "    <tr>\n",
       "      <th>2</th>\n",
       "      <td>2015-12-31</td>\n",
       "      <td>NaT</td>\n",
       "      <td>2015-12-31</td>\n",
       "      <td>23:30:00</td>\n",
       "      <td>NaN</td>\n",
       "      <td>DANGEROUS DRUGS</td>\n",
       "      <td>concluido</td>\n",
       "      <td>crime</td>\n",
       "      <td>N.Y. POLICE DEPT</td>\n",
       "      <td>MANHATTAN</td>\n",
       "      <td>NaN</td>\n",
       "      <td>OTHER</td>\n",
       "      <td>40.802607</td>\n",
       "      <td>-73.945052</td>\n",
       "      <td>(40.802606608, -73.945051911)</td>\n",
       "    </tr>\n",
       "    <tr>\n",
       "      <th>3</th>\n",
       "      <td>2015-12-31</td>\n",
       "      <td>NaT</td>\n",
       "      <td>2015-12-31</td>\n",
       "      <td>23:30:00</td>\n",
       "      <td>NaN</td>\n",
       "      <td>ASSAULT 3 &amp; RELATED OFFENSES</td>\n",
       "      <td>concluido</td>\n",
       "      <td>contravencao</td>\n",
       "      <td>N.Y. POLICE DEPT</td>\n",
       "      <td>QUEENS</td>\n",
       "      <td>dentro</td>\n",
       "      <td>RESIDENCE-HOUSE</td>\n",
       "      <td>40.654549</td>\n",
       "      <td>-73.726339</td>\n",
       "      <td>(40.654549444, -73.726338791)</td>\n",
       "    </tr>\n",
       "    <tr>\n",
       "      <th>4</th>\n",
       "      <td>2015-12-31</td>\n",
       "      <td>2015-12-31</td>\n",
       "      <td>2015-12-31</td>\n",
       "      <td>23:25:00</td>\n",
       "      <td>23:30:00</td>\n",
       "      <td>ASSAULT 3 &amp; RELATED OFFENSES</td>\n",
       "      <td>concluido</td>\n",
       "      <td>contravencao</td>\n",
       "      <td>N.Y. POLICE DEPT</td>\n",
       "      <td>MANHATTAN</td>\n",
       "      <td>fora</td>\n",
       "      <td>OTHER</td>\n",
       "      <td>40.738002</td>\n",
       "      <td>-73.987891</td>\n",
       "      <td>(40.7380024, -73.98789129)</td>\n",
       "    </tr>\n",
       "  </tbody>\n",
       "</table>\n",
       "</div>"
      ],
      "text/plain": [
       "  data_da_ocorrencia data_final_da_ocorrencia data_comunicacao_policia  \\\n",
       "0         2015-12-31                      NaT               2015-12-31   \n",
       "1         2015-12-31                      NaT               2015-12-31   \n",
       "2         2015-12-31                      NaT               2015-12-31   \n",
       "3         2015-12-31                      NaT               2015-12-31   \n",
       "4         2015-12-31               2015-12-31               2015-12-31   \n",
       "\n",
       "  hora_da_ocorrencia hora_termino_da_ocorrencia  \\\n",
       "0           23:45:00                        NaN   \n",
       "1           23:36:00                        NaN   \n",
       "2           23:30:00                        NaN   \n",
       "3           23:30:00                        NaN   \n",
       "4           23:25:00                   23:30:00   \n",
       "\n",
       "               descricao_da_ofensa  conclusao nivel_de_ofensa  \\\n",
       "0                          FORGERY  concluido           crime   \n",
       "1  MURDER & NON-NEGL. MANSLAUGHTER  concluido           crime   \n",
       "2                  DANGEROUS DRUGS  concluido           crime   \n",
       "3     ASSAULT 3 & RELATED OFFENSES  concluido    contravencao   \n",
       "4     ASSAULT 3 & RELATED OFFENSES  concluido    contravencao   \n",
       "\n",
       "         jurisdicao     bairro local_da_ocorrencia descricao_das_intalacoes  \\\n",
       "0  N.Y. POLICE DEPT      BRONX              dentro           BAR/NIGHT CLUB   \n",
       "1  N.Y. POLICE DEPT     QUEENS                fora                      NaN   \n",
       "2  N.Y. POLICE DEPT  MANHATTAN                 NaN                    OTHER   \n",
       "3  N.Y. POLICE DEPT     QUEENS              dentro          RESIDENCE-HOUSE   \n",
       "4  N.Y. POLICE DEPT  MANHATTAN                fora                    OTHER   \n",
       "\n",
       "    latitude  longitude                       lat_long  \n",
       "0  40.828848 -73.916661  (40.828848333, -73.916661142)  \n",
       "1  40.697338 -73.784557  (40.697338138, -73.784556739)  \n",
       "2  40.802607 -73.945052  (40.802606608, -73.945051911)  \n",
       "3  40.654549 -73.726339  (40.654549444, -73.726338791)  \n",
       "4  40.738002 -73.987891     (40.7380024, -73.98789129)  "
      ]
     },
     "execution_count": 16,
     "metadata": {},
     "output_type": "execute_result"
    }
   ],
   "source": [
    "select_ny = select_ny[['data_da_ocorrencia', 'data_final_da_ocorrencia', 'data_comunicacao_policia','hora_da_ocorrencia',\n",
    "                       'hora_termino_da_ocorrencia','descricao_da_ofensa',\n",
    "                       'conclusao', 'nivel_de_ofensa', 'jurisdicao','bairro', 'local_da_ocorrencia', 'descricao_das_intalacoes','latitude','longitude','lat_long']]\n",
    "\n",
    "select_ny.head()"
   ]
  },
  {
   "cell_type": "markdown",
   "metadata": {
    "id": "UoG7ttKhpsb2"
   },
   "source": [
    "## 3.0  Gerando algumas vizualizações de select_ny "
   ]
  },
  {
   "cell_type": "markdown",
   "metadata": {
    "id": "aKNoEdHXpsb3"
   },
   "source": [
    "### 3.1- Quantidade de delitos cometidos por bairros\n",
    " \n",
    " - Delitos_concluidos_por_bairros será o dataframe a ser utilizado neste tópico\n",
    " - Selecionando apenas os delitos concluídos"
   ]
  },
  {
   "cell_type": "code",
   "execution_count": 17,
   "metadata": {
    "id": "llzCiO8fpsb3"
   },
   "outputs": [],
   "source": [
    "delitos_concluidos_por_bairros = select_ny.query('conclusao == \"concluido\"')"
   ]
  },
  {
   "cell_type": "code",
   "execution_count": 18,
   "metadata": {},
   "outputs": [
    {
     "data": {
      "text/html": [
       "<div>\n",
       "<style scoped>\n",
       "    .dataframe tbody tr th:only-of-type {\n",
       "        vertical-align: middle;\n",
       "    }\n",
       "\n",
       "    .dataframe tbody tr th {\n",
       "        vertical-align: top;\n",
       "    }\n",
       "\n",
       "    .dataframe thead th {\n",
       "        text-align: right;\n",
       "    }\n",
       "</style>\n",
       "<table border=\"1\" class=\"dataframe\">\n",
       "  <thead>\n",
       "    <tr style=\"text-align: right;\">\n",
       "      <th></th>\n",
       "      <th>data_da_ocorrencia</th>\n",
       "      <th>data_final_da_ocorrencia</th>\n",
       "      <th>data_comunicacao_policia</th>\n",
       "      <th>hora_da_ocorrencia</th>\n",
       "      <th>hora_termino_da_ocorrencia</th>\n",
       "      <th>descricao_da_ofensa</th>\n",
       "      <th>conclusao</th>\n",
       "      <th>nivel_de_ofensa</th>\n",
       "      <th>jurisdicao</th>\n",
       "      <th>bairro</th>\n",
       "      <th>local_da_ocorrencia</th>\n",
       "      <th>descricao_das_intalacoes</th>\n",
       "      <th>latitude</th>\n",
       "      <th>longitude</th>\n",
       "      <th>lat_long</th>\n",
       "    </tr>\n",
       "  </thead>\n",
       "  <tbody>\n",
       "    <tr>\n",
       "      <th>0</th>\n",
       "      <td>2015-12-31</td>\n",
       "      <td>NaT</td>\n",
       "      <td>2015-12-31</td>\n",
       "      <td>23:45:00</td>\n",
       "      <td>NaN</td>\n",
       "      <td>FORGERY</td>\n",
       "      <td>concluido</td>\n",
       "      <td>crime</td>\n",
       "      <td>N.Y. POLICE DEPT</td>\n",
       "      <td>BRONX</td>\n",
       "      <td>dentro</td>\n",
       "      <td>BAR/NIGHT CLUB</td>\n",
       "      <td>40.828848</td>\n",
       "      <td>-73.916661</td>\n",
       "      <td>(40.828848333, -73.916661142)</td>\n",
       "    </tr>\n",
       "    <tr>\n",
       "      <th>1</th>\n",
       "      <td>2015-12-31</td>\n",
       "      <td>NaT</td>\n",
       "      <td>2015-12-31</td>\n",
       "      <td>23:36:00</td>\n",
       "      <td>NaN</td>\n",
       "      <td>MURDER &amp; NON-NEGL. MANSLAUGHTER</td>\n",
       "      <td>concluido</td>\n",
       "      <td>crime</td>\n",
       "      <td>N.Y. POLICE DEPT</td>\n",
       "      <td>QUEENS</td>\n",
       "      <td>fora</td>\n",
       "      <td>NaN</td>\n",
       "      <td>40.697338</td>\n",
       "      <td>-73.784557</td>\n",
       "      <td>(40.697338138, -73.784556739)</td>\n",
       "    </tr>\n",
       "    <tr>\n",
       "      <th>2</th>\n",
       "      <td>2015-12-31</td>\n",
       "      <td>NaT</td>\n",
       "      <td>2015-12-31</td>\n",
       "      <td>23:30:00</td>\n",
       "      <td>NaN</td>\n",
       "      <td>DANGEROUS DRUGS</td>\n",
       "      <td>concluido</td>\n",
       "      <td>crime</td>\n",
       "      <td>N.Y. POLICE DEPT</td>\n",
       "      <td>MANHATTAN</td>\n",
       "      <td>NaN</td>\n",
       "      <td>OTHER</td>\n",
       "      <td>40.802607</td>\n",
       "      <td>-73.945052</td>\n",
       "      <td>(40.802606608, -73.945051911)</td>\n",
       "    </tr>\n",
       "    <tr>\n",
       "      <th>3</th>\n",
       "      <td>2015-12-31</td>\n",
       "      <td>NaT</td>\n",
       "      <td>2015-12-31</td>\n",
       "      <td>23:30:00</td>\n",
       "      <td>NaN</td>\n",
       "      <td>ASSAULT 3 &amp; RELATED OFFENSES</td>\n",
       "      <td>concluido</td>\n",
       "      <td>contravencao</td>\n",
       "      <td>N.Y. POLICE DEPT</td>\n",
       "      <td>QUEENS</td>\n",
       "      <td>dentro</td>\n",
       "      <td>RESIDENCE-HOUSE</td>\n",
       "      <td>40.654549</td>\n",
       "      <td>-73.726339</td>\n",
       "      <td>(40.654549444, -73.726338791)</td>\n",
       "    </tr>\n",
       "    <tr>\n",
       "      <th>4</th>\n",
       "      <td>2015-12-31</td>\n",
       "      <td>2015-12-31</td>\n",
       "      <td>2015-12-31</td>\n",
       "      <td>23:25:00</td>\n",
       "      <td>23:30:00</td>\n",
       "      <td>ASSAULT 3 &amp; RELATED OFFENSES</td>\n",
       "      <td>concluido</td>\n",
       "      <td>contravencao</td>\n",
       "      <td>N.Y. POLICE DEPT</td>\n",
       "      <td>MANHATTAN</td>\n",
       "      <td>fora</td>\n",
       "      <td>OTHER</td>\n",
       "      <td>40.738002</td>\n",
       "      <td>-73.987891</td>\n",
       "      <td>(40.7380024, -73.98789129)</td>\n",
       "    </tr>\n",
       "  </tbody>\n",
       "</table>\n",
       "</div>"
      ],
      "text/plain": [
       "  data_da_ocorrencia data_final_da_ocorrencia data_comunicacao_policia  \\\n",
       "0         2015-12-31                      NaT               2015-12-31   \n",
       "1         2015-12-31                      NaT               2015-12-31   \n",
       "2         2015-12-31                      NaT               2015-12-31   \n",
       "3         2015-12-31                      NaT               2015-12-31   \n",
       "4         2015-12-31               2015-12-31               2015-12-31   \n",
       "\n",
       "  hora_da_ocorrencia hora_termino_da_ocorrencia  \\\n",
       "0           23:45:00                        NaN   \n",
       "1           23:36:00                        NaN   \n",
       "2           23:30:00                        NaN   \n",
       "3           23:30:00                        NaN   \n",
       "4           23:25:00                   23:30:00   \n",
       "\n",
       "               descricao_da_ofensa  conclusao nivel_de_ofensa  \\\n",
       "0                          FORGERY  concluido           crime   \n",
       "1  MURDER & NON-NEGL. MANSLAUGHTER  concluido           crime   \n",
       "2                  DANGEROUS DRUGS  concluido           crime   \n",
       "3     ASSAULT 3 & RELATED OFFENSES  concluido    contravencao   \n",
       "4     ASSAULT 3 & RELATED OFFENSES  concluido    contravencao   \n",
       "\n",
       "         jurisdicao     bairro local_da_ocorrencia descricao_das_intalacoes  \\\n",
       "0  N.Y. POLICE DEPT      BRONX              dentro           BAR/NIGHT CLUB   \n",
       "1  N.Y. POLICE DEPT     QUEENS                fora                      NaN   \n",
       "2  N.Y. POLICE DEPT  MANHATTAN                 NaN                    OTHER   \n",
       "3  N.Y. POLICE DEPT     QUEENS              dentro          RESIDENCE-HOUSE   \n",
       "4  N.Y. POLICE DEPT  MANHATTAN                fora                    OTHER   \n",
       "\n",
       "    latitude  longitude                       lat_long  \n",
       "0  40.828848 -73.916661  (40.828848333, -73.916661142)  \n",
       "1  40.697338 -73.784557  (40.697338138, -73.784556739)  \n",
       "2  40.802607 -73.945052  (40.802606608, -73.945051911)  \n",
       "3  40.654549 -73.726339  (40.654549444, -73.726338791)  \n",
       "4  40.738002 -73.987891     (40.7380024, -73.98789129)  "
      ]
     },
     "execution_count": 18,
     "metadata": {},
     "output_type": "execute_result"
    }
   ],
   "source": [
    "delitos_concluidos_por_bairros.head()"
   ]
  },
  {
   "cell_type": "markdown",
   "metadata": {
    "id": "wyX6jzTzpsb4"
   },
   "source": [
    " - Criando o DataFrame delitos_concluidos_por_bairros"
   ]
  },
  {
   "cell_type": "code",
   "execution_count": 19,
   "metadata": {
    "id": "2hTmZGp6psb5"
   },
   "outputs": [
    {
     "data": {
      "text/html": [
       "<div>\n",
       "<style scoped>\n",
       "    .dataframe tbody tr th:only-of-type {\n",
       "        vertical-align: middle;\n",
       "    }\n",
       "\n",
       "    .dataframe tbody tr th {\n",
       "        vertical-align: top;\n",
       "    }\n",
       "\n",
       "    .dataframe thead th {\n",
       "        text-align: right;\n",
       "    }\n",
       "</style>\n",
       "<table border=\"1\" class=\"dataframe\">\n",
       "  <thead>\n",
       "    <tr style=\"text-align: right;\">\n",
       "      <th></th>\n",
       "      <th>bairro</th>\n",
       "      <th>delitos_concluidos</th>\n",
       "    </tr>\n",
       "  </thead>\n",
       "  <tbody>\n",
       "    <tr>\n",
       "      <th>0</th>\n",
       "      <td>BROOKLYN</td>\n",
       "      <td>309645</td>\n",
       "    </tr>\n",
       "    <tr>\n",
       "      <th>1</th>\n",
       "      <td>MANHATTAN</td>\n",
       "      <td>240259</td>\n",
       "    </tr>\n",
       "    <tr>\n",
       "      <th>2</th>\n",
       "      <td>BRONX</td>\n",
       "      <td>223833</td>\n",
       "    </tr>\n",
       "    <tr>\n",
       "      <th>3</th>\n",
       "      <td>QUEENS</td>\n",
       "      <td>208015</td>\n",
       "    </tr>\n",
       "    <tr>\n",
       "      <th>4</th>\n",
       "      <td>STATEN ISLAND</td>\n",
       "      <td>48064</td>\n",
       "    </tr>\n",
       "  </tbody>\n",
       "</table>\n",
       "</div>"
      ],
      "text/plain": [
       "          bairro  delitos_concluidos\n",
       "0       BROOKLYN              309645\n",
       "1      MANHATTAN              240259\n",
       "2          BRONX              223833\n",
       "3         QUEENS              208015\n",
       "4  STATEN ISLAND               48064"
      ]
     },
     "execution_count": 19,
     "metadata": {},
     "output_type": "execute_result"
    }
   ],
   "source": [
    "delitos_concluidos_por_bairros_df = delitos_concluidos_por_bairros.bairro.value_counts()\n",
    "delitos_concluidos_por_bairros_df = delitos_concluidos_por_bairros_df.to_frame().reset_index()\n",
    "delitos_concluidos_por_bairros_df.columns = ['bairro' , 'delitos_concluidos']\n",
    "delitos_concluidos_por_bairros_df"
   ]
  },
  {
   "cell_type": "markdown",
   "metadata": {
    "id": "6vP14a-Fpsb6"
   },
   "source": [
    "- Visualizando a quantidade de delitos em cada bairro"
   ]
  },
  {
   "cell_type": "code",
   "execution_count": 20,
   "metadata": {
    "id": "WXyiN-vTpsb6"
   },
   "outputs": [
    {
     "data": {
      "text/plain": [
       "<matplotlib.axes._subplots.AxesSubplot at 0xbded6a0>"
      ]
     },
     "execution_count": 20,
     "metadata": {},
     "output_type": "execute_result"
    },
    {
     "data": {
      "image/png": "[encoded data removed]",
      "text/plain": [
       "<Figure size 432x288 with 1 Axes>"
      ]
     },
     "metadata": {
      "needs_background": "light"
     },
     "output_type": "display_data"
    }
   ],
   "source": [
    "sns.barplot(x = 'bairro' , y = 'delitos_concluidos' , data = delitos_concluidos_por_bairros_df)"
   ]
  },
  {
   "cell_type": "markdown",
   "metadata": {
    "id": "iv0i-NhYpsb7"
   },
   "source": [
    "### Visualizando o comportamento dos delitos ao longo dos anos \n",
    "\n",
    "  - Verificando a quantidade de registros por ano"
   ]
  },
  {
   "cell_type": "code",
   "execution_count": 21,
   "metadata": {
    "id": "pyRqPoCBpsb8"
   },
   "outputs": [
    {
     "data": {
      "text/plain": [
       "2014.0    490363\n",
       "2015.0    468576\n",
       "2013.0     86162\n",
       "2012.0      1229\n",
       "2011.0       578\n",
       "2010.0       357\n",
       "2009.0       242\n",
       "2008.0       218\n",
       "2006.0       139\n",
       "2007.0       135\n",
       "Name: data_da_ocorrencia, dtype: int64"
      ]
     },
     "execution_count": 21,
     "metadata": {},
     "output_type": "execute_result"
    }
   ],
   "source": [
    "select_ny['data_da_ocorrencia'].dt.year.value_counts().head(10)"
   ]
  },
  {
   "cell_type": "markdown",
   "metadata": {
    "id": "lOjsk4jVpscA"
   },
   "source": [
    "### 3.2- Descrição da ofensa :  tipos de delitos mais comuns"
   ]
  },
  {
   "cell_type": "code",
   "execution_count": 22,
   "metadata": {
    "id": "CXmbagnJpscA"
   },
   "outputs": [],
   "source": [
    "tipos_de_delitos = delitos_concluidos_por_bairros.descricao_da_ofensa.value_counts().to_frame().reset_index()\n",
    "tipos_de_delitos.columns = ['descricao_da_ofensa' , 'quantidade']"
   ]
  },
  {
   "cell_type": "code",
   "execution_count": 23,
   "metadata": {
    "id": "uthWhva6pscB"
   },
   "outputs": [
    {
     "data": {
      "text/html": [
       "<div>\n",
       "<style scoped>\n",
       "    .dataframe tbody tr th:only-of-type {\n",
       "        vertical-align: middle;\n",
       "    }\n",
       "\n",
       "    .dataframe tbody tr th {\n",
       "        vertical-align: top;\n",
       "    }\n",
       "\n",
       "    .dataframe thead th {\n",
       "        text-align: right;\n",
       "    }\n",
       "</style>\n",
       "<table border=\"1\" class=\"dataframe\">\n",
       "  <thead>\n",
       "    <tr style=\"text-align: right;\">\n",
       "      <th></th>\n",
       "      <th>descricao_da_ofensa</th>\n",
       "      <th>quantidade</th>\n",
       "    </tr>\n",
       "  </thead>\n",
       "  <tbody>\n",
       "    <tr>\n",
       "      <th>0</th>\n",
       "      <td>PETIT LARCENY</td>\n",
       "      <td>177689</td>\n",
       "    </tr>\n",
       "    <tr>\n",
       "      <th>1</th>\n",
       "      <td>HARRASSMENT 2</td>\n",
       "      <td>132854</td>\n",
       "    </tr>\n",
       "    <tr>\n",
       "      <th>2</th>\n",
       "      <td>ASSAULT 3 &amp; RELATED OFFENSES</td>\n",
       "      <td>113732</td>\n",
       "    </tr>\n",
       "    <tr>\n",
       "      <th>3</th>\n",
       "      <td>CRIMINAL MISCHIEF &amp; RELATED OF</td>\n",
       "      <td>102419</td>\n",
       "    </tr>\n",
       "    <tr>\n",
       "      <th>4</th>\n",
       "      <td>GRAND LARCENY</td>\n",
       "      <td>94360</td>\n",
       "    </tr>\n",
       "  </tbody>\n",
       "</table>\n",
       "</div>"
      ],
      "text/plain": [
       "              descricao_da_ofensa  quantidade\n",
       "0                   PETIT LARCENY      177689\n",
       "1                   HARRASSMENT 2      132854\n",
       "2    ASSAULT 3 & RELATED OFFENSES      113732\n",
       "3  CRIMINAL MISCHIEF & RELATED OF      102419\n",
       "4                   GRAND LARCENY       94360"
      ]
     },
     "execution_count": 23,
     "metadata": {},
     "output_type": "execute_result"
    }
   ],
   "source": [
    "principais_delitos = tipos_de_delitos.head()\n",
    "principais_delitos"
   ]
  },
  {
   "cell_type": "code",
   "execution_count": 24,
   "metadata": {
    "id": "TWtkU-GZpscB"
   },
   "outputs": [
    {
     "data": {
      "text/plain": [
       "<matplotlib.axes._subplots.AxesSubplot at 0xbd6fe80>"
      ]
     },
     "execution_count": 24,
     "metadata": {},
     "output_type": "execute_result"
    },
    {
     "data": {
      "image/png": "[encoded data removed]",
      "text/plain": [
       "<Figure size 1152x576 with 1 Axes>"
      ]
     },
     "metadata": {
      "needs_background": "light"
     },
     "output_type": "display_data"
    }
   ],
   "source": [
    "plt.figure(figsize=(16,8))\n",
    "sns.barplot(x = 'descricao_da_ofensa' , y = 'quantidade' , data = principais_delitos)"
   ]
  },
  {
   "cell_type": "markdown",
   "metadata": {
    "id": "zK91BVoZpscC"
   },
   "source": [
    "###  Nivel  de ofensa  dos delitos mais comuns\n",
    " "
   ]
  },
  {
   "cell_type": "markdown",
   "metadata": {
    "id": "B88MLWf_pscD"
   },
   "source": [
    " -  Detalhando os crimes "
   ]
  },
  {
   "cell_type": "code",
   "execution_count": 25,
   "metadata": {
    "id": "kWnzf_DYpscD"
   },
   "outputs": [
    {
     "data": {
      "text/html": [
       "<div>\n",
       "<style scoped>\n",
       "    .dataframe tbody tr th:only-of-type {\n",
       "        vertical-align: middle;\n",
       "    }\n",
       "\n",
       "    .dataframe tbody tr th {\n",
       "        vertical-align: top;\n",
       "    }\n",
       "\n",
       "    .dataframe thead th {\n",
       "        text-align: right;\n",
       "    }\n",
       "</style>\n",
       "<table border=\"1\" class=\"dataframe\">\n",
       "  <thead>\n",
       "    <tr style=\"text-align: right;\">\n",
       "      <th></th>\n",
       "      <th>tipo_crimes</th>\n",
       "      <th>quantidade</th>\n",
       "    </tr>\n",
       "  </thead>\n",
       "  <tbody>\n",
       "    <tr>\n",
       "      <th>0</th>\n",
       "      <td>GRAND LARCENY</td>\n",
       "      <td>94360</td>\n",
       "    </tr>\n",
       "    <tr>\n",
       "      <th>1</th>\n",
       "      <td>FELONY ASSAULT</td>\n",
       "      <td>41566</td>\n",
       "    </tr>\n",
       "    <tr>\n",
       "      <th>2</th>\n",
       "      <td>ROBBERY</td>\n",
       "      <td>32620</td>\n",
       "    </tr>\n",
       "    <tr>\n",
       "      <th>3</th>\n",
       "      <td>BURGLARY</td>\n",
       "      <td>32229</td>\n",
       "    </tr>\n",
       "    <tr>\n",
       "      <th>4</th>\n",
       "      <td>MISCELLANEOUS PENAL LAW</td>\n",
       "      <td>27218</td>\n",
       "    </tr>\n",
       "  </tbody>\n",
       "</table>\n",
       "</div>"
      ],
      "text/plain": [
       "               tipo_crimes  quantidade\n",
       "0            GRAND LARCENY       94360\n",
       "1           FELONY ASSAULT       41566\n",
       "2                  ROBBERY       32620\n",
       "3                 BURGLARY       32229\n",
       "4  MISCELLANEOUS PENAL LAW       27218"
      ]
     },
     "execution_count": 25,
     "metadata": {},
     "output_type": "execute_result"
    }
   ],
   "source": [
    "crimes_df = delitos_concluidos_por_bairros.query('nivel_de_ofensa == \"crime\"').descricao_da_ofensa.value_counts()\n",
    "crimes_df = crimes_df.to_frame().reset_index()\n",
    "crimes_df.columns = ['tipo_crimes','quantidade']\n",
    "crimes_df.head()"
   ]
  },
  {
   "cell_type": "markdown",
   "metadata": {
    "id": "_Im1GLwppscE"
   },
   "source": [
    " -  Detalhando as contravenções "
   ]
  },
  {
   "cell_type": "code",
   "execution_count": 26,
   "metadata": {
    "id": "5SDe4kEJpscG"
   },
   "outputs": [
    {
     "data": {
      "text/html": [
       "<div>\n",
       "<style scoped>\n",
       "    .dataframe tbody tr th:only-of-type {\n",
       "        vertical-align: middle;\n",
       "    }\n",
       "\n",
       "    .dataframe tbody tr th {\n",
       "        vertical-align: top;\n",
       "    }\n",
       "\n",
       "    .dataframe thead th {\n",
       "        text-align: right;\n",
       "    }\n",
       "</style>\n",
       "<table border=\"1\" class=\"dataframe\">\n",
       "  <thead>\n",
       "    <tr style=\"text-align: right;\">\n",
       "      <th></th>\n",
       "      <th>tipo_contravencao</th>\n",
       "      <th>quantidade</th>\n",
       "    </tr>\n",
       "  </thead>\n",
       "  <tbody>\n",
       "    <tr>\n",
       "      <th>0</th>\n",
       "      <td>PETIT LARCENY</td>\n",
       "      <td>177689</td>\n",
       "    </tr>\n",
       "    <tr>\n",
       "      <th>1</th>\n",
       "      <td>ASSAULT 3 &amp; RELATED OFFENSES</td>\n",
       "      <td>113732</td>\n",
       "    </tr>\n",
       "    <tr>\n",
       "      <th>2</th>\n",
       "      <td>CRIMINAL MISCHIEF &amp; RELATED OF</td>\n",
       "      <td>83476</td>\n",
       "    </tr>\n",
       "    <tr>\n",
       "      <th>3</th>\n",
       "      <td>DANGEROUS DRUGS</td>\n",
       "      <td>46976</td>\n",
       "    </tr>\n",
       "    <tr>\n",
       "      <th>4</th>\n",
       "      <td>OFF. AGNST PUB ORD SENSBLTY &amp;</td>\n",
       "      <td>44641</td>\n",
       "    </tr>\n",
       "  </tbody>\n",
       "</table>\n",
       "</div>"
      ],
      "text/plain": [
       "                tipo_contravencao  quantidade\n",
       "0                   PETIT LARCENY      177689\n",
       "1    ASSAULT 3 & RELATED OFFENSES      113732\n",
       "2  CRIMINAL MISCHIEF & RELATED OF       83476\n",
       "3                 DANGEROUS DRUGS       46976\n",
       "4   OFF. AGNST PUB ORD SENSBLTY &       44641"
      ]
     },
     "execution_count": 26,
     "metadata": {},
     "output_type": "execute_result"
    }
   ],
   "source": [
    "contravencoes_df = delitos_concluidos_por_bairros.query('nivel_de_ofensa == \"contravencao\"').descricao_da_ofensa.value_counts()\n",
    "contravencoes_df = contravencoes_df.to_frame().reset_index()\n",
    "contravencoes_df.columns = ['tipo_contravencao','quantidade']\n",
    "contravencoes_df.head()"
   ]
  },
  {
   "cell_type": "markdown",
   "metadata": {
    "id": "IR2ds20cpscH"
   },
   "source": [
    " -  Detalhando as violações"
   ]
  },
  {
   "cell_type": "code",
   "execution_count": 27,
   "metadata": {
    "id": "nwPkHSFspscI"
   },
   "outputs": [
    {
     "data": {
      "text/html": [
       "<div>\n",
       "<style scoped>\n",
       "    .dataframe tbody tr th:only-of-type {\n",
       "        vertical-align: middle;\n",
       "    }\n",
       "\n",
       "    .dataframe tbody tr th {\n",
       "        vertical-align: top;\n",
       "    }\n",
       "\n",
       "    .dataframe thead th {\n",
       "        text-align: right;\n",
       "    }\n",
       "</style>\n",
       "<table border=\"1\" class=\"dataframe\">\n",
       "  <thead>\n",
       "    <tr style=\"text-align: right;\">\n",
       "      <th></th>\n",
       "      <th>tipo_violacao</th>\n",
       "      <th>quantidade</th>\n",
       "    </tr>\n",
       "  </thead>\n",
       "  <tbody>\n",
       "    <tr>\n",
       "      <th>0</th>\n",
       "      <td>HARRASSMENT 2</td>\n",
       "      <td>132854</td>\n",
       "    </tr>\n",
       "    <tr>\n",
       "      <th>1</th>\n",
       "      <td>MISCELLANEOUS PENAL LAW</td>\n",
       "      <td>1716</td>\n",
       "    </tr>\n",
       "    <tr>\n",
       "      <th>2</th>\n",
       "      <td>ADMINISTRATIVE CODE</td>\n",
       "      <td>184</td>\n",
       "    </tr>\n",
       "    <tr>\n",
       "      <th>3</th>\n",
       "      <td>DISORDERLY CONDUCT</td>\n",
       "      <td>121</td>\n",
       "    </tr>\n",
       "    <tr>\n",
       "      <th>4</th>\n",
       "      <td>OTHER STATE LAWS</td>\n",
       "      <td>31</td>\n",
       "    </tr>\n",
       "  </tbody>\n",
       "</table>\n",
       "</div>"
      ],
      "text/plain": [
       "             tipo_violacao  quantidade\n",
       "0            HARRASSMENT 2      132854\n",
       "1  MISCELLANEOUS PENAL LAW        1716\n",
       "2      ADMINISTRATIVE CODE         184\n",
       "3       DISORDERLY CONDUCT         121\n",
       "4         OTHER STATE LAWS          31"
      ]
     },
     "execution_count": 27,
     "metadata": {},
     "output_type": "execute_result"
    }
   ],
   "source": [
    "violacoes_df = delitos_concluidos_por_bairros.query('nivel_de_ofensa == \"violacao\"').descricao_da_ofensa.value_counts()\n",
    "violacoes_df = violacoes_df.to_frame().reset_index()\n",
    "violacoes_df.columns = ['tipo_violacao','quantidade']\n",
    "violacoes_df.head()"
   ]
  },
  {
   "cell_type": "markdown",
   "metadata": {
    "id": "0F-s-HvYpscJ"
   },
   "source": [
    "###  3.3- Relação entre o  horario e os tipos de delitos "
   ]
  },
  {
   "cell_type": "markdown",
   "metadata": {
    "id": "qWXQuvfdpscJ"
   },
   "source": [
    "-  Delitos particados durante dia  "
   ]
  },
  {
   "cell_type": "code",
   "execution_count": 28,
   "metadata": {
    "id": "hoPavog_pscK"
   },
   "outputs": [],
   "source": [
    "delitos_dia = delitos_concluidos_por_bairros.query(' hora_da_ocorrencia >= \"06:00:00\" and hora_da_ocorrencia < \"18:00:00\" ')"
   ]
  },
  {
   "cell_type": "code",
   "execution_count": 29,
   "metadata": {
    "id": "o83bt_-ZpscL"
   },
   "outputs": [
    {
     "data": {
      "text/html": [
       "<div>\n",
       "<style scoped>\n",
       "    .dataframe tbody tr th:only-of-type {\n",
       "        vertical-align: middle;\n",
       "    }\n",
       "\n",
       "    .dataframe tbody tr th {\n",
       "        vertical-align: top;\n",
       "    }\n",
       "\n",
       "    .dataframe thead th {\n",
       "        text-align: right;\n",
       "    }\n",
       "</style>\n",
       "<table border=\"1\" class=\"dataframe\">\n",
       "  <thead>\n",
       "    <tr style=\"text-align: right;\">\n",
       "      <th></th>\n",
       "      <th>ofensa</th>\n",
       "      <th>quantidade</th>\n",
       "    </tr>\n",
       "  </thead>\n",
       "  <tbody>\n",
       "    <tr>\n",
       "      <th>0</th>\n",
       "      <td>contravencao</td>\n",
       "      <td>264575</td>\n",
       "    </tr>\n",
       "    <tr>\n",
       "      <th>1</th>\n",
       "      <td>crime</td>\n",
       "      <td>139481</td>\n",
       "    </tr>\n",
       "    <tr>\n",
       "      <th>2</th>\n",
       "      <td>violacao</td>\n",
       "      <td>65930</td>\n",
       "    </tr>\n",
       "  </tbody>\n",
       "</table>\n",
       "</div>"
      ],
      "text/plain": [
       "         ofensa  quantidade\n",
       "0  contravencao      264575\n",
       "1         crime      139481\n",
       "2      violacao       65930"
      ]
     },
     "execution_count": 29,
     "metadata": {},
     "output_type": "execute_result"
    }
   ],
   "source": [
    "tipos_de_ofensa_dia = delitos_dia.nivel_de_ofensa.value_counts().to_frame().reset_index()\n",
    "tipos_de_ofensa_dia.columns = ['ofensa' , 'quantidade']\n",
    "tipos_de_ofensa_dia"
   ]
  },
  {
   "cell_type": "code",
   "execution_count": 30,
   "metadata": {
    "id": "rRt4mmiEpscL"
   },
   "outputs": [
    {
     "data": {
      "image/png": "[encoded data removed]",
      "text/plain": [
       "<Figure size 432x288 with 1 Axes>"
      ]
     },
     "metadata": {
      "needs_background": "light"
     },
     "output_type": "display_data"
    }
   ],
   "source": [
    "sns.barplot(x = 'ofensa' , y = 'quantidade' , data =tipos_de_ofensa_dia)\n",
    "plt.title('Visualizando o nível de ofensa  dos delitos praticados durante o dia')\n",
    "plt.show()"
   ]
  },
  {
   "cell_type": "code",
   "execution_count": 31,
   "metadata": {
    "id": "VX2gZDRFpscM"
   },
   "outputs": [
    {
     "data": {
      "text/html": [
       "<div>\n",
       "<style scoped>\n",
       "    .dataframe tbody tr th:only-of-type {\n",
       "        vertical-align: middle;\n",
       "    }\n",
       "\n",
       "    .dataframe tbody tr th {\n",
       "        vertical-align: top;\n",
       "    }\n",
       "\n",
       "    .dataframe thead th {\n",
       "        text-align: right;\n",
       "    }\n",
       "</style>\n",
       "<table border=\"1\" class=\"dataframe\">\n",
       "  <thead>\n",
       "    <tr style=\"text-align: right;\">\n",
       "      <th></th>\n",
       "      <th>data_da_ocorrencia</th>\n",
       "      <th>data_final_da_ocorrencia</th>\n",
       "      <th>data_comunicacao_policia</th>\n",
       "      <th>hora_da_ocorrencia</th>\n",
       "      <th>hora_termino_da_ocorrencia</th>\n",
       "      <th>descricao_da_ofensa</th>\n",
       "      <th>conclusao</th>\n",
       "      <th>nivel_de_ofensa</th>\n",
       "      <th>jurisdicao</th>\n",
       "      <th>bairro</th>\n",
       "      <th>local_da_ocorrencia</th>\n",
       "      <th>descricao_das_intalacoes</th>\n",
       "      <th>latitude</th>\n",
       "      <th>longitude</th>\n",
       "      <th>lat_long</th>\n",
       "    </tr>\n",
       "  </thead>\n",
       "  <tbody>\n",
       "    <tr>\n",
       "      <th>21</th>\n",
       "      <td>2015-04-06</td>\n",
       "      <td>2015-04-10</td>\n",
       "      <td>2015-12-21</td>\n",
       "      <td>12:00:00</td>\n",
       "      <td>18:00:00</td>\n",
       "      <td>RAPE</td>\n",
       "      <td>concluido</td>\n",
       "      <td>crime</td>\n",
       "      <td>N.Y. POLICE DEPT</td>\n",
       "      <td>QUEENS</td>\n",
       "      <td>dentro</td>\n",
       "      <td>OTHER</td>\n",
       "      <td>NaN</td>\n",
       "      <td>NaN</td>\n",
       "      <td>NaN</td>\n",
       "    </tr>\n",
       "    <tr>\n",
       "      <th>126</th>\n",
       "      <td>2013-06-26</td>\n",
       "      <td>2013-09-09</td>\n",
       "      <td>2015-12-14</td>\n",
       "      <td>15:00:00</td>\n",
       "      <td>7:00:00</td>\n",
       "      <td>SEX CRIMES</td>\n",
       "      <td>concluido</td>\n",
       "      <td>crime</td>\n",
       "      <td>N.Y. POLICE DEPT</td>\n",
       "      <td>BROOKLYN</td>\n",
       "      <td>dentro</td>\n",
       "      <td>RESIDENCE-HOUSE</td>\n",
       "      <td>NaN</td>\n",
       "      <td>NaN</td>\n",
       "      <td>NaN</td>\n",
       "    </tr>\n",
       "    <tr>\n",
       "      <th>147</th>\n",
       "      <td>2015-12-31</td>\n",
       "      <td>NaT</td>\n",
       "      <td>2015-12-31</td>\n",
       "      <td>12:35:00</td>\n",
       "      <td>NaN</td>\n",
       "      <td>ASSAULT 3 &amp; RELATED OFFENSES</td>\n",
       "      <td>concluido</td>\n",
       "      <td>contravencao</td>\n",
       "      <td>N.Y. POLICE DEPT</td>\n",
       "      <td>QUEENS</td>\n",
       "      <td>NaN</td>\n",
       "      <td>GAS STATION</td>\n",
       "      <td>40.782291</td>\n",
       "      <td>-73.914596</td>\n",
       "      <td>(40.782290775, -73.914596198)</td>\n",
       "    </tr>\n",
       "    <tr>\n",
       "      <th>189</th>\n",
       "      <td>2015-12-31</td>\n",
       "      <td>NaT</td>\n",
       "      <td>2015-12-31</td>\n",
       "      <td>16:30:00</td>\n",
       "      <td>NaN</td>\n",
       "      <td>GRAND LARCENY</td>\n",
       "      <td>concluido</td>\n",
       "      <td>crime</td>\n",
       "      <td>N.Y. POLICE DEPT</td>\n",
       "      <td>BROOKLYN</td>\n",
       "      <td>dentro</td>\n",
       "      <td>DRY CLEANER/LAUNDRY</td>\n",
       "      <td>40.677838</td>\n",
       "      <td>-73.884875</td>\n",
       "      <td>(40.677837858, -73.884874827)</td>\n",
       "    </tr>\n",
       "    <tr>\n",
       "      <th>192</th>\n",
       "      <td>2015-12-31</td>\n",
       "      <td>2015-12-31</td>\n",
       "      <td>2015-12-31</td>\n",
       "      <td>17:57:00</td>\n",
       "      <td>18:13:00</td>\n",
       "      <td>VEHICLE AND TRAFFIC LAWS</td>\n",
       "      <td>concluido</td>\n",
       "      <td>contravencao</td>\n",
       "      <td>N.Y. POLICE DEPT</td>\n",
       "      <td>MANHATTAN</td>\n",
       "      <td>NaN</td>\n",
       "      <td>STREET</td>\n",
       "      <td>40.724145</td>\n",
       "      <td>-73.992606</td>\n",
       "      <td>(40.724144528, -73.99260554)</td>\n",
       "    </tr>\n",
       "  </tbody>\n",
       "</table>\n",
       "</div>"
      ],
      "text/plain": [
       "    data_da_ocorrencia data_final_da_ocorrencia data_comunicacao_policia  \\\n",
       "21          2015-04-06               2015-04-10               2015-12-21   \n",
       "126         2013-06-26               2013-09-09               2015-12-14   \n",
       "147         2015-12-31                      NaT               2015-12-31   \n",
       "189         2015-12-31                      NaT               2015-12-31   \n",
       "192         2015-12-31               2015-12-31               2015-12-31   \n",
       "\n",
       "    hora_da_ocorrencia hora_termino_da_ocorrencia  \\\n",
       "21            12:00:00                   18:00:00   \n",
       "126           15:00:00                    7:00:00   \n",
       "147           12:35:00                        NaN   \n",
       "189           16:30:00                        NaN   \n",
       "192           17:57:00                   18:13:00   \n",
       "\n",
       "              descricao_da_ofensa  conclusao nivel_de_ofensa  \\\n",
       "21                           RAPE  concluido           crime   \n",
       "126                    SEX CRIMES  concluido           crime   \n",
       "147  ASSAULT 3 & RELATED OFFENSES  concluido    contravencao   \n",
       "189                 GRAND LARCENY  concluido           crime   \n",
       "192      VEHICLE AND TRAFFIC LAWS  concluido    contravencao   \n",
       "\n",
       "           jurisdicao     bairro local_da_ocorrencia descricao_das_intalacoes  \\\n",
       "21   N.Y. POLICE DEPT     QUEENS              dentro                    OTHER   \n",
       "126  N.Y. POLICE DEPT   BROOKLYN              dentro          RESIDENCE-HOUSE   \n",
       "147  N.Y. POLICE DEPT     QUEENS                 NaN              GAS STATION   \n",
       "189  N.Y. POLICE DEPT   BROOKLYN              dentro      DRY CLEANER/LAUNDRY   \n",
       "192  N.Y. POLICE DEPT  MANHATTAN                 NaN                   STREET   \n",
       "\n",
       "      latitude  longitude                       lat_long  \n",
       "21         NaN        NaN                            NaN  \n",
       "126        NaN        NaN                            NaN  \n",
       "147  40.782291 -73.914596  (40.782290775, -73.914596198)  \n",
       "189  40.677838 -73.884875  (40.677837858, -73.884874827)  \n",
       "192  40.724145 -73.992606   (40.724144528, -73.99260554)  "
      ]
     },
     "execution_count": 31,
     "metadata": {},
     "output_type": "execute_result"
    }
   ],
   "source": [
    "delitos_dia.head()"
   ]
  },
  {
   "cell_type": "markdown",
   "metadata": {
    "id": "SnNBZZaqpscN"
   },
   "source": [
    "### - Descrição dos delitos praticados durante o dia  em cada bairro"
   ]
  },
  {
   "cell_type": "markdown",
   "metadata": {
    "id": "KyU8BaENpscO"
   },
   "source": [
    " - BROOKLYN"
   ]
  },
  {
   "cell_type": "code",
   "execution_count": 32,
   "metadata": {
    "id": "qu8bpwh9pscP"
   },
   "outputs": [],
   "source": [
    "delitos_brooklyn_dia = delitos_dia.query(' bairro == \"BROOKLYN\"')"
   ]
  },
  {
   "cell_type": "code",
   "execution_count": 33,
   "metadata": {
    "id": "lYUaUbWWpscP"
   },
   "outputs": [
    {
     "data": {
      "text/plain": [
       "PETIT LARCENY                     25926\n",
       "HARRASSMENT 2                     20257\n",
       "ASSAULT 3 & RELATED OFFENSES      14227\n",
       "GRAND LARCENY                     13857\n",
       "CRIMINAL MISCHIEF & RELATED OF    12925\n",
       "Name: descricao_da_ofensa, dtype: int64"
      ]
     },
     "execution_count": 33,
     "metadata": {},
     "output_type": "execute_result"
    }
   ],
   "source": [
    "delitos_brooklyn_dia.descricao_da_ofensa.value_counts().head()"
   ]
  },
  {
   "cell_type": "markdown",
   "metadata": {
    "id": "2PRYAuz3pscQ"
   },
   "source": [
    " - MANHATTAN"
   ]
  },
  {
   "cell_type": "code",
   "execution_count": 34,
   "metadata": {
    "id": "JujPu8EIpscR"
   },
   "outputs": [],
   "source": [
    "delitos_manhattan_dia = delitos_dia.query('bairro == \"MANHATTAN\"')"
   ]
  },
  {
   "cell_type": "code",
   "execution_count": 35,
   "metadata": {
    "id": "uJa2Iew1pscR"
   },
   "outputs": [
    {
     "data": {
      "text/plain": [
       "PETIT LARCENY                     30647\n",
       "GRAND LARCENY                     17960\n",
       "HARRASSMENT 2                     13212\n",
       "CRIMINAL MISCHIEF & RELATED OF     8423\n",
       "ASSAULT 3 & RELATED OFFENSES       8061\n",
       "Name: descricao_da_ofensa, dtype: int64"
      ]
     },
     "execution_count": 35,
     "metadata": {},
     "output_type": "execute_result"
    }
   ],
   "source": [
    "delitos_manhattan_dia.descricao_da_ofensa.value_counts().head()"
   ]
  },
  {
   "cell_type": "markdown",
   "metadata": {
    "id": "FDDed786pscS"
   },
   "source": [
    "  - BRONX"
   ]
  },
  {
   "cell_type": "code",
   "execution_count": 36,
   "metadata": {
    "id": "oK8jlRr7pscS"
   },
   "outputs": [],
   "source": [
    "delitos_bronx_dia = delitos_dia.query('bairro == \"BRONX\"')"
   ]
  },
  {
   "cell_type": "code",
   "execution_count": 37,
   "metadata": {
    "id": "6chNS1xopscS"
   },
   "outputs": [
    {
     "data": {
      "text/plain": [
       "PETIT LARCENY                     16950\n",
       "HARRASSMENT 2                     13864\n",
       "ASSAULT 3 & RELATED OFFENSES      11735\n",
       "DANGEROUS DRUGS                    9324\n",
       "CRIMINAL MISCHIEF & RELATED OF     8541\n",
       "Name: descricao_da_ofensa, dtype: int64"
      ]
     },
     "execution_count": 37,
     "metadata": {},
     "output_type": "execute_result"
    }
   ],
   "source": [
    "delitos_bronx_dia.descricao_da_ofensa.value_counts().head()"
   ]
  },
  {
   "cell_type": "markdown",
   "metadata": {
    "id": "zHwHFmYdpscT"
   },
   "source": [
    " - QUEENS"
   ]
  },
  {
   "cell_type": "code",
   "execution_count": 38,
   "metadata": {
    "id": "mzWqhy7apscU"
   },
   "outputs": [],
   "source": [
    "delitos_queens_dia = delitos_dia.query('bairro == \"QUEENS\"')"
   ]
  },
  {
   "cell_type": "code",
   "execution_count": 39,
   "metadata": {
    "id": "HzVPWrF8pscU"
   },
   "outputs": [
    {
     "data": {
      "text/plain": [
       "PETIT LARCENY                     18013\n",
       "HARRASSMENT 2                     13148\n",
       "CRIMINAL MISCHIEF & RELATED OF     9232\n",
       "GRAND LARCENY                      9174\n",
       "ASSAULT 3 & RELATED OFFENSES       8614\n",
       "Name: descricao_da_ofensa, dtype: int64"
      ]
     },
     "execution_count": 39,
     "metadata": {},
     "output_type": "execute_result"
    }
   ],
   "source": [
    "delitos_queens_dia.descricao_da_ofensa.value_counts().head()"
   ]
  },
  {
   "cell_type": "markdown",
   "metadata": {
    "id": "NUaQh9shpscV"
   },
   "source": [
    " - STATEN ISLAND"
   ]
  },
  {
   "cell_type": "code",
   "execution_count": 40,
   "metadata": {
    "id": "e58nXqjxpscV"
   },
   "outputs": [],
   "source": [
    "delitos_statenisland_dia = delitos_dia.query('bairro == \"STATEN ISLAND\"')"
   ]
  },
  {
   "cell_type": "code",
   "execution_count": 41,
   "metadata": {
    "id": "2lLNPvBvpscW"
   },
   "outputs": [
    {
     "data": {
      "text/plain": [
       "HARRASSMENT 2                     4592\n",
       "PETIT LARCENY                     4229\n",
       "CRIMINAL MISCHIEF & RELATED OF    2565\n",
       "ASSAULT 3 & RELATED OFFENSES      2060\n",
       "OFF. AGNST PUB ORD SENSBLTY &     1625\n",
       "Name: descricao_da_ofensa, dtype: int64"
      ]
     },
     "execution_count": 41,
     "metadata": {},
     "output_type": "execute_result"
    }
   ],
   "source": [
    "delitos_statenisland_dia.descricao_da_ofensa.value_counts().head()"
   ]
  },
  {
   "cell_type": "markdown",
   "metadata": {
    "id": "mNqjrat3pscW"
   },
   "source": [
    "###  Delitos particados durante a noite "
   ]
  },
  {
   "cell_type": "code",
   "execution_count": 42,
   "metadata": {
    "id": "NhWqW_1ApscX"
   },
   "outputs": [],
   "source": [
    "delitos_noite = delitos_concluidos_por_bairros.query(' hora_da_ocorrencia >= \"18:00:00\" and hora_da_ocorrencia < \"6:00:00\" ')"
   ]
  },
  {
   "cell_type": "code",
   "execution_count": 43,
   "metadata": {
    "id": "MI3pyd4PpscY"
   },
   "outputs": [
    {
     "data": {
      "text/html": [
       "<div>\n",
       "<style scoped>\n",
       "    .dataframe tbody tr th:only-of-type {\n",
       "        vertical-align: middle;\n",
       "    }\n",
       "\n",
       "    .dataframe tbody tr th {\n",
       "        vertical-align: top;\n",
       "    }\n",
       "\n",
       "    .dataframe thead th {\n",
       "        text-align: right;\n",
       "    }\n",
       "</style>\n",
       "<table border=\"1\" class=\"dataframe\">\n",
       "  <thead>\n",
       "    <tr style=\"text-align: right;\">\n",
       "      <th></th>\n",
       "      <th>data_da_ocorrencia</th>\n",
       "      <th>data_final_da_ocorrencia</th>\n",
       "      <th>data_comunicacao_policia</th>\n",
       "      <th>hora_da_ocorrencia</th>\n",
       "      <th>hora_termino_da_ocorrencia</th>\n",
       "      <th>descricao_da_ofensa</th>\n",
       "      <th>conclusao</th>\n",
       "      <th>nivel_de_ofensa</th>\n",
       "      <th>jurisdicao</th>\n",
       "      <th>bairro</th>\n",
       "      <th>local_da_ocorrencia</th>\n",
       "      <th>descricao_das_intalacoes</th>\n",
       "      <th>latitude</th>\n",
       "      <th>longitude</th>\n",
       "      <th>lat_long</th>\n",
       "    </tr>\n",
       "  </thead>\n",
       "  <tbody>\n",
       "    <tr>\n",
       "      <th>0</th>\n",
       "      <td>2015-12-31</td>\n",
       "      <td>NaT</td>\n",
       "      <td>2015-12-31</td>\n",
       "      <td>23:45:00</td>\n",
       "      <td>NaN</td>\n",
       "      <td>FORGERY</td>\n",
       "      <td>concluido</td>\n",
       "      <td>crime</td>\n",
       "      <td>N.Y. POLICE DEPT</td>\n",
       "      <td>BRONX</td>\n",
       "      <td>dentro</td>\n",
       "      <td>BAR/NIGHT CLUB</td>\n",
       "      <td>40.828848</td>\n",
       "      <td>-73.916661</td>\n",
       "      <td>(40.828848333, -73.916661142)</td>\n",
       "    </tr>\n",
       "    <tr>\n",
       "      <th>1</th>\n",
       "      <td>2015-12-31</td>\n",
       "      <td>NaT</td>\n",
       "      <td>2015-12-31</td>\n",
       "      <td>23:36:00</td>\n",
       "      <td>NaN</td>\n",
       "      <td>MURDER &amp; NON-NEGL. MANSLAUGHTER</td>\n",
       "      <td>concluido</td>\n",
       "      <td>crime</td>\n",
       "      <td>N.Y. POLICE DEPT</td>\n",
       "      <td>QUEENS</td>\n",
       "      <td>fora</td>\n",
       "      <td>NaN</td>\n",
       "      <td>40.697338</td>\n",
       "      <td>-73.784557</td>\n",
       "      <td>(40.697338138, -73.784556739)</td>\n",
       "    </tr>\n",
       "    <tr>\n",
       "      <th>2</th>\n",
       "      <td>2015-12-31</td>\n",
       "      <td>NaT</td>\n",
       "      <td>2015-12-31</td>\n",
       "      <td>23:30:00</td>\n",
       "      <td>NaN</td>\n",
       "      <td>DANGEROUS DRUGS</td>\n",
       "      <td>concluido</td>\n",
       "      <td>crime</td>\n",
       "      <td>N.Y. POLICE DEPT</td>\n",
       "      <td>MANHATTAN</td>\n",
       "      <td>NaN</td>\n",
       "      <td>OTHER</td>\n",
       "      <td>40.802607</td>\n",
       "      <td>-73.945052</td>\n",
       "      <td>(40.802606608, -73.945051911)</td>\n",
       "    </tr>\n",
       "    <tr>\n",
       "      <th>3</th>\n",
       "      <td>2015-12-31</td>\n",
       "      <td>NaT</td>\n",
       "      <td>2015-12-31</td>\n",
       "      <td>23:30:00</td>\n",
       "      <td>NaN</td>\n",
       "      <td>ASSAULT 3 &amp; RELATED OFFENSES</td>\n",
       "      <td>concluido</td>\n",
       "      <td>contravencao</td>\n",
       "      <td>N.Y. POLICE DEPT</td>\n",
       "      <td>QUEENS</td>\n",
       "      <td>dentro</td>\n",
       "      <td>RESIDENCE-HOUSE</td>\n",
       "      <td>40.654549</td>\n",
       "      <td>-73.726339</td>\n",
       "      <td>(40.654549444, -73.726338791)</td>\n",
       "    </tr>\n",
       "    <tr>\n",
       "      <th>4</th>\n",
       "      <td>2015-12-31</td>\n",
       "      <td>2015-12-31</td>\n",
       "      <td>2015-12-31</td>\n",
       "      <td>23:25:00</td>\n",
       "      <td>23:30:00</td>\n",
       "      <td>ASSAULT 3 &amp; RELATED OFFENSES</td>\n",
       "      <td>concluido</td>\n",
       "      <td>contravencao</td>\n",
       "      <td>N.Y. POLICE DEPT</td>\n",
       "      <td>MANHATTAN</td>\n",
       "      <td>fora</td>\n",
       "      <td>OTHER</td>\n",
       "      <td>40.738002</td>\n",
       "      <td>-73.987891</td>\n",
       "      <td>(40.7380024, -73.98789129)</td>\n",
       "    </tr>\n",
       "  </tbody>\n",
       "</table>\n",
       "</div>"
      ],
      "text/plain": [
       "  data_da_ocorrencia data_final_da_ocorrencia data_comunicacao_policia  \\\n",
       "0         2015-12-31                      NaT               2015-12-31   \n",
       "1         2015-12-31                      NaT               2015-12-31   \n",
       "2         2015-12-31                      NaT               2015-12-31   \n",
       "3         2015-12-31                      NaT               2015-12-31   \n",
       "4         2015-12-31               2015-12-31               2015-12-31   \n",
       "\n",
       "  hora_da_ocorrencia hora_termino_da_ocorrencia  \\\n",
       "0           23:45:00                        NaN   \n",
       "1           23:36:00                        NaN   \n",
       "2           23:30:00                        NaN   \n",
       "3           23:30:00                        NaN   \n",
       "4           23:25:00                   23:30:00   \n",
       "\n",
       "               descricao_da_ofensa  conclusao nivel_de_ofensa  \\\n",
       "0                          FORGERY  concluido           crime   \n",
       "1  MURDER & NON-NEGL. MANSLAUGHTER  concluido           crime   \n",
       "2                  DANGEROUS DRUGS  concluido           crime   \n",
       "3     ASSAULT 3 & RELATED OFFENSES  concluido    contravencao   \n",
       "4     ASSAULT 3 & RELATED OFFENSES  concluido    contravencao   \n",
       "\n",
       "         jurisdicao     bairro local_da_ocorrencia descricao_das_intalacoes  \\\n",
       "0  N.Y. POLICE DEPT      BRONX              dentro           BAR/NIGHT CLUB   \n",
       "1  N.Y. POLICE DEPT     QUEENS                fora                      NaN   \n",
       "2  N.Y. POLICE DEPT  MANHATTAN                 NaN                    OTHER   \n",
       "3  N.Y. POLICE DEPT     QUEENS              dentro          RESIDENCE-HOUSE   \n",
       "4  N.Y. POLICE DEPT  MANHATTAN                fora                    OTHER   \n",
       "\n",
       "    latitude  longitude                       lat_long  \n",
       "0  40.828848 -73.916661  (40.828848333, -73.916661142)  \n",
       "1  40.697338 -73.784557  (40.697338138, -73.784556739)  \n",
       "2  40.802607 -73.945052  (40.802606608, -73.945051911)  \n",
       "3  40.654549 -73.726339  (40.654549444, -73.726338791)  \n",
       "4  40.738002 -73.987891     (40.7380024, -73.98789129)  "
      ]
     },
     "execution_count": 43,
     "metadata": {},
     "output_type": "execute_result"
    }
   ],
   "source": [
    "delitos_noite.head()"
   ]
  },
  {
   "cell_type": "code",
   "execution_count": 44,
   "metadata": {
    "id": "nLJk4Pe8pscZ"
   },
   "outputs": [
    {
     "data": {
      "text/html": [
       "<div>\n",
       "<style scoped>\n",
       "    .dataframe tbody tr th:only-of-type {\n",
       "        vertical-align: middle;\n",
       "    }\n",
       "\n",
       "    .dataframe tbody tr th {\n",
       "        vertical-align: top;\n",
       "    }\n",
       "\n",
       "    .dataframe thead th {\n",
       "        text-align: right;\n",
       "    }\n",
       "</style>\n",
       "<table border=\"1\" class=\"dataframe\">\n",
       "  <thead>\n",
       "    <tr style=\"text-align: right;\">\n",
       "      <th></th>\n",
       "      <th>ofensa</th>\n",
       "      <th>quantidade</th>\n",
       "    </tr>\n",
       "  </thead>\n",
       "  <tbody>\n",
       "    <tr>\n",
       "      <th>0</th>\n",
       "      <td>contravencao</td>\n",
       "      <td>260234</td>\n",
       "    </tr>\n",
       "    <tr>\n",
       "      <th>1</th>\n",
       "      <td>crime</td>\n",
       "      <td>138405</td>\n",
       "    </tr>\n",
       "    <tr>\n",
       "      <th>2</th>\n",
       "      <td>violacao</td>\n",
       "      <td>51602</td>\n",
       "    </tr>\n",
       "  </tbody>\n",
       "</table>\n",
       "</div>"
      ],
      "text/plain": [
       "         ofensa  quantidade\n",
       "0  contravencao      260234\n",
       "1         crime      138405\n",
       "2      violacao       51602"
      ]
     },
     "execution_count": 44,
     "metadata": {},
     "output_type": "execute_result"
    }
   ],
   "source": [
    "tipos_de_ofensa_noite = delitos_noite.nivel_de_ofensa.value_counts().to_frame().reset_index()\n",
    "tipos_de_ofensa_noite.columns = ['ofensa' , 'quantidade']\n",
    "tipos_de_ofensa_noite"
   ]
  },
  {
   "cell_type": "code",
   "execution_count": 45,
   "metadata": {
    "id": "qMNkefFCpsca"
   },
   "outputs": [
    {
     "data": {
      "image/png": "[encoded data removed]",
      "text/plain": [
       "<Figure size 432x288 with 1 Axes>"
      ]
     },
     "metadata": {
      "needs_background": "light"
     },
     "output_type": "display_data"
    }
   ],
   "source": [
    "sns.barplot(x = 'ofensa' , y = 'quantidade' ,data =  tipos_de_ofensa_noite)\n",
    "plt.title('Visualizando o nível de ofensa  dos delitos praticados durante a noite')\n",
    "plt.show()"
   ]
  },
  {
   "cell_type": "markdown",
   "metadata": {
    "id": "3W2LMxOXpscb"
   },
   "source": [
    "####  - Descrição dos delitos praticados a noite em cada bairro"
   ]
  },
  {
   "cell_type": "markdown",
   "metadata": {
    "id": "KuNv10H0pscj"
   },
   "source": [
    " - BROOKLYN"
   ]
  },
  {
   "cell_type": "code",
   "execution_count": 46,
   "metadata": {
    "id": "TVugp_UWpsck"
   },
   "outputs": [],
   "source": [
    "delitos_brooklyn_noite = delitos_noite.query(' bairro == \"BROOKLYN\"')"
   ]
  },
  {
   "cell_type": "code",
   "execution_count": 47,
   "metadata": {
    "id": "rAF_gM3npsck"
   },
   "outputs": [
    {
     "data": {
      "text/plain": [
       "PETIT LARCENY                     18485\n",
       "ASSAULT 3 & RELATED OFFENSES      17726\n",
       "HARRASSMENT 2                     15972\n",
       "CRIMINAL MISCHIEF & RELATED OF    15053\n",
       "DANGEROUS DRUGS                    9148\n",
       "Name: descricao_da_ofensa, dtype: int64"
      ]
     },
     "execution_count": 47,
     "metadata": {},
     "output_type": "execute_result"
    }
   ],
   "source": [
    "delitos_brooklyn_noite.descricao_da_ofensa.value_counts().head()"
   ]
  },
  {
   "cell_type": "markdown",
   "metadata": {
    "id": "Q-CwFfkLpscl"
   },
   "source": [
    " - MANHATTAN"
   ]
  },
  {
   "cell_type": "code",
   "execution_count": 48,
   "metadata": {
    "id": "wwi-TUvvpscl"
   },
   "outputs": [],
   "source": [
    "delitos_manhattan_noite = delitos_noite.query(' bairro == \"MANHATTAN\"')"
   ]
  },
  {
   "cell_type": "code",
   "execution_count": 49,
   "metadata": {
    "id": "mUI9YbYjpscm"
   },
   "outputs": [
    {
     "data": {
      "text/plain": [
       "PETIT LARCENY                     18505\n",
       "GRAND LARCENY                     12946\n",
       "ASSAULT 3 & RELATED OFFENSES      11293\n",
       "HARRASSMENT 2                      9665\n",
       "CRIMINAL MISCHIEF & RELATED OF     9275\n",
       "Name: descricao_da_ofensa, dtype: int64"
      ]
     },
     "execution_count": 49,
     "metadata": {},
     "output_type": "execute_result"
    }
   ],
   "source": [
    "delitos_manhattan_noite.descricao_da_ofensa.value_counts().head()"
   ]
  },
  {
   "cell_type": "markdown",
   "metadata": {
    "id": "oe0nZXKjpscm"
   },
   "source": [
    " - BRONX"
   ]
  },
  {
   "cell_type": "code",
   "execution_count": 50,
   "metadata": {
    "id": "Maa4N8j1pscn"
   },
   "outputs": [],
   "source": [
    "delitos_bronx_noite = delitos_noite.query(' bairro == \"BRONX\"')"
   ]
  },
  {
   "cell_type": "code",
   "execution_count": 51,
   "metadata": {
    "id": "txd9SBiipscn"
   },
   "outputs": [
    {
     "data": {
      "text/plain": [
       "ASSAULT 3 & RELATED OFFENSES      14220\n",
       "PETIT LARCENY                     11966\n",
       "DANGEROUS DRUGS                   11273\n",
       "CRIMINAL MISCHIEF & RELATED OF    10549\n",
       "HARRASSMENT 2                     10294\n",
       "Name: descricao_da_ofensa, dtype: int64"
      ]
     },
     "execution_count": 51,
     "metadata": {},
     "output_type": "execute_result"
    }
   ],
   "source": [
    "delitos_bronx_noite.descricao_da_ofensa.value_counts().head()"
   ]
  },
  {
   "cell_type": "markdown",
   "metadata": {
    "id": "v_xM60unpsco"
   },
   "source": [
    " - QUEENS"
   ]
  },
  {
   "cell_type": "code",
   "execution_count": 52,
   "metadata": {
    "id": "C03CaoAVpscp"
   },
   "outputs": [],
   "source": [
    "delitos_queens_noite = delitos_noite.query(' bairro == \"QUEENS\"')"
   ]
  },
  {
   "cell_type": "code",
   "execution_count": 53,
   "metadata": {
    "id": "EzwIIScFpscp"
   },
   "outputs": [
    {
     "data": {
      "text/plain": [
       "PETIT LARCENY                     13257\n",
       "ASSAULT 3 & RELATED OFFENSES      12532\n",
       "CRIMINAL MISCHIEF & RELATED OF    11379\n",
       "HARRASSMENT 2                     10950\n",
       "GRAND LARCENY                      6263\n",
       "Name: descricao_da_ofensa, dtype: int64"
      ]
     },
     "execution_count": 53,
     "metadata": {},
     "output_type": "execute_result"
    }
   ],
   "source": [
    "delitos_queens_noite.descricao_da_ofensa.value_counts().head()"
   ]
  },
  {
   "cell_type": "markdown",
   "metadata": {
    "id": "WL4xdsJApscr"
   },
   "source": [
    " - STATEN ISLAND"
   ]
  },
  {
   "cell_type": "code",
   "execution_count": 54,
   "metadata": {
    "id": "S5E8y3TZpscr"
   },
   "outputs": [],
   "source": [
    "delitos_statenisland_noite = delitos_noite.query(' bairro == \"STATEN ISLAND\"')"
   ]
  },
  {
   "cell_type": "code",
   "execution_count": 55,
   "metadata": {
    "id": "CHpPGsbtpscs"
   },
   "outputs": [
    {
     "data": {
      "text/plain": [
       "HARRASSMENT 2                     3678\n",
       "CRIMINAL MISCHIEF & RELATED OF    2857\n",
       "PETIT LARCENY                     2717\n",
       "ASSAULT 3 & RELATED OFFENSES      2328\n",
       "OFF. AGNST PUB ORD SENSBLTY &     1113\n",
       "Name: descricao_da_ofensa, dtype: int64"
      ]
     },
     "execution_count": 55,
     "metadata": {},
     "output_type": "execute_result"
    }
   ],
   "source": [
    "delitos_statenisland_noite.descricao_da_ofensa.value_counts().head()"
   ]
  },
  {
   "cell_type": "markdown",
   "metadata": {
    "id": "NAqIntFzpsdQ"
   },
   "source": [
    "# Tratando os dados e excluindo valores nulos"
   ]
  },
  {
   "cell_type": "code",
   "execution_count": 56,
   "metadata": {
    "id": "tx3gnR3vpsdR"
   },
   "outputs": [],
   "source": [
    "select_ny = select_ny.dropna()"
   ]
  },
  {
   "cell_type": "code",
   "execution_count": 57,
   "metadata": {
    "id": "MGsT4t0ypsdR"
   },
   "outputs": [
    {
     "data": {
      "text/plain": [
       "(653539, 15)"
      ]
     },
     "execution_count": 57,
     "metadata": {},
     "output_type": "execute_result"
    }
   ],
   "source": [
    "select_ny.shape"
   ]
  },
  {
   "cell_type": "code",
   "execution_count": 58,
   "metadata": {
    "id": "LdjIkmVCpsdS"
   },
   "outputs": [
    {
     "name": "stdout",
     "output_type": "stream",
     "text": [
      "<class 'pandas.core.frame.DataFrame'>\n",
      "Int64Index: 653539 entries, 4 to 1048573\n",
      "Data columns (total 15 columns):\n",
      " #   Column                      Non-Null Count   Dtype         \n",
      "---  ------                      --------------   -----         \n",
      " 0   data_da_ocorrencia          653539 non-null  datetime64[ns]\n",
      " 1   data_final_da_ocorrencia    653539 non-null  datetime64[ns]\n",
      " 2   data_comunicacao_policia    653539 non-null  datetime64[ns]\n",
      " 3   hora_da_ocorrencia          653539 non-null  object        \n",
      " 4   hora_termino_da_ocorrencia  653539 non-null  object        \n",
      " 5   descricao_da_ofensa         653539 non-null  object        \n",
      " 6   conclusao                   653539 non-null  object        \n",
      " 7   nivel_de_ofensa             653539 non-null  object        \n",
      " 8   jurisdicao                  653539 non-null  object        \n",
      " 9   bairro                      653539 non-null  object        \n",
      " 10  local_da_ocorrencia         653539 non-null  object        \n",
      " 11  descricao_das_intalacoes    653539 non-null  object        \n",
      " 12  latitude                    653539 non-null  float64       \n",
      " 13  longitude                   653539 non-null  float64       \n",
      " 14  lat_long                    653539 non-null  object        \n",
      "dtypes: datetime64[ns](3), float64(2), object(10)\n",
      "memory usage: 79.8+ MB\n"
     ]
    }
   ],
   "source": [
    "select_ny.info()"
   ]
  },
  {
   "cell_type": "markdown",
   "metadata": {
    "id": "-Iv0QWr9psdS"
   },
   "source": [
    " -  Selecionando datas acima de 2013"
   ]
  },
  {
   "cell_type": "code",
   "execution_count": 59,
   "metadata": {
    "id": "90-yoH_opsdT"
   },
   "outputs": [],
   "source": [
    "select_ny = select_ny.query('data_da_ocorrencia >= \"2014-1-1\"')"
   ]
  },
  {
   "cell_type": "code",
   "execution_count": 60,
   "metadata": {
    "id": "2u3Wgn_apsdT"
   },
   "outputs": [
    {
     "data": {
      "text/plain": [
       "2014    302720\n",
       "2015    295290\n",
       "Name: data_da_ocorrencia, dtype: int64"
      ]
     },
     "execution_count": 60,
     "metadata": {},
     "output_type": "execute_result"
    }
   ],
   "source": [
    "select_ny['data_da_ocorrencia'].dt.year.value_counts()"
   ]
  },
  {
   "cell_type": "code",
   "execution_count": 61,
   "metadata": {},
   "outputs": [
    {
     "data": {
      "text/html": [
       "<div>\n",
       "<style scoped>\n",
       "    .dataframe tbody tr th:only-of-type {\n",
       "        vertical-align: middle;\n",
       "    }\n",
       "\n",
       "    .dataframe tbody tr th {\n",
       "        vertical-align: top;\n",
       "    }\n",
       "\n",
       "    .dataframe thead th {\n",
       "        text-align: right;\n",
       "    }\n",
       "</style>\n",
       "<table border=\"1\" class=\"dataframe\">\n",
       "  <thead>\n",
       "    <tr style=\"text-align: right;\">\n",
       "      <th></th>\n",
       "      <th>data_da_ocorrencia</th>\n",
       "      <th>data_final_da_ocorrencia</th>\n",
       "      <th>data_comunicacao_policia</th>\n",
       "      <th>hora_da_ocorrencia</th>\n",
       "      <th>hora_termino_da_ocorrencia</th>\n",
       "      <th>descricao_da_ofensa</th>\n",
       "      <th>conclusao</th>\n",
       "      <th>nivel_de_ofensa</th>\n",
       "      <th>jurisdicao</th>\n",
       "      <th>bairro</th>\n",
       "      <th>local_da_ocorrencia</th>\n",
       "      <th>descricao_das_intalacoes</th>\n",
       "      <th>latitude</th>\n",
       "      <th>longitude</th>\n",
       "      <th>lat_long</th>\n",
       "    </tr>\n",
       "  </thead>\n",
       "  <tbody>\n",
       "    <tr>\n",
       "      <th>4</th>\n",
       "      <td>2015-12-31</td>\n",
       "      <td>2015-12-31</td>\n",
       "      <td>2015-12-31</td>\n",
       "      <td>23:25:00</td>\n",
       "      <td>23:30:00</td>\n",
       "      <td>ASSAULT 3 &amp; RELATED OFFENSES</td>\n",
       "      <td>concluido</td>\n",
       "      <td>contravencao</td>\n",
       "      <td>N.Y. POLICE DEPT</td>\n",
       "      <td>MANHATTAN</td>\n",
       "      <td>fora</td>\n",
       "      <td>OTHER</td>\n",
       "      <td>40.738002</td>\n",
       "      <td>-73.987891</td>\n",
       "      <td>(40.7380024, -73.98789129)</td>\n",
       "    </tr>\n",
       "    <tr>\n",
       "      <th>5</th>\n",
       "      <td>2015-12-31</td>\n",
       "      <td>2015-12-31</td>\n",
       "      <td>2015-12-31</td>\n",
       "      <td>23:18:00</td>\n",
       "      <td>23:25:00</td>\n",
       "      <td>FELONY ASSAULT</td>\n",
       "      <td>nao_concluido</td>\n",
       "      <td>crime</td>\n",
       "      <td>N.Y. POLICE DEPT</td>\n",
       "      <td>BROOKLYN</td>\n",
       "      <td>fora</td>\n",
       "      <td>DRUG STORE</td>\n",
       "      <td>40.665023</td>\n",
       "      <td>-73.957111</td>\n",
       "      <td>(40.665022689, -73.957110763)</td>\n",
       "    </tr>\n",
       "    <tr>\n",
       "      <th>7</th>\n",
       "      <td>2015-12-31</td>\n",
       "      <td>2015-12-31</td>\n",
       "      <td>2015-12-31</td>\n",
       "      <td>23:15:00</td>\n",
       "      <td>23:15:00</td>\n",
       "      <td>DANGEROUS WEAPONS</td>\n",
       "      <td>concluido</td>\n",
       "      <td>crime</td>\n",
       "      <td>N.Y. POLICE DEPT</td>\n",
       "      <td>BRONX</td>\n",
       "      <td>fora</td>\n",
       "      <td>STREET</td>\n",
       "      <td>40.845707</td>\n",
       "      <td>-73.910398</td>\n",
       "      <td>(40.845707148, -73.910398033)</td>\n",
       "    </tr>\n",
       "    <tr>\n",
       "      <th>8</th>\n",
       "      <td>2015-12-31</td>\n",
       "      <td>2015-12-31</td>\n",
       "      <td>2015-12-31</td>\n",
       "      <td>23:15:00</td>\n",
       "      <td>23:30:00</td>\n",
       "      <td>ASSAULT 3 &amp; RELATED OFFENSES</td>\n",
       "      <td>concluido</td>\n",
       "      <td>contravencao</td>\n",
       "      <td>N.Y. POLICE DEPT</td>\n",
       "      <td>BRONX</td>\n",
       "      <td>dentro</td>\n",
       "      <td>RESIDENCE - APT. HOUSE</td>\n",
       "      <td>40.856711</td>\n",
       "      <td>-73.891900</td>\n",
       "      <td>(40.856711291, -73.891899956)</td>\n",
       "    </tr>\n",
       "    <tr>\n",
       "      <th>9</th>\n",
       "      <td>2015-12-31</td>\n",
       "      <td>2015-12-31</td>\n",
       "      <td>2015-12-31</td>\n",
       "      <td>23:10:00</td>\n",
       "      <td>23:10:00</td>\n",
       "      <td>PETIT LARCENY</td>\n",
       "      <td>concluido</td>\n",
       "      <td>contravencao</td>\n",
       "      <td>N.Y. POLICE DEPT</td>\n",
       "      <td>MANHATTAN</td>\n",
       "      <td>dentro</td>\n",
       "      <td>DRUG STORE</td>\n",
       "      <td>40.765618</td>\n",
       "      <td>-73.963623</td>\n",
       "      <td>(40.765617688, -73.96362342)</td>\n",
       "    </tr>\n",
       "  </tbody>\n",
       "</table>\n",
       "</div>"
      ],
      "text/plain": [
       "  data_da_ocorrencia data_final_da_ocorrencia data_comunicacao_policia  \\\n",
       "4         2015-12-31               2015-12-31               2015-12-31   \n",
       "5         2015-12-31               2015-12-31               2015-12-31   \n",
       "7         2015-12-31               2015-12-31               2015-12-31   \n",
       "8         2015-12-31               2015-12-31               2015-12-31   \n",
       "9         2015-12-31               2015-12-31               2015-12-31   \n",
       "\n",
       "  hora_da_ocorrencia hora_termino_da_ocorrencia           descricao_da_ofensa  \\\n",
       "4           23:25:00                   23:30:00  ASSAULT 3 & RELATED OFFENSES   \n",
       "5           23:18:00                   23:25:00                FELONY ASSAULT   \n",
       "7           23:15:00                   23:15:00             DANGEROUS WEAPONS   \n",
       "8           23:15:00                   23:30:00  ASSAULT 3 & RELATED OFFENSES   \n",
       "9           23:10:00                   23:10:00                 PETIT LARCENY   \n",
       "\n",
       "       conclusao nivel_de_ofensa        jurisdicao     bairro  \\\n",
       "4      concluido    contravencao  N.Y. POLICE DEPT  MANHATTAN   \n",
       "5  nao_concluido           crime  N.Y. POLICE DEPT   BROOKLYN   \n",
       "7      concluido           crime  N.Y. POLICE DEPT      BRONX   \n",
       "8      concluido    contravencao  N.Y. POLICE DEPT      BRONX   \n",
       "9      concluido    contravencao  N.Y. POLICE DEPT  MANHATTAN   \n",
       "\n",
       "  local_da_ocorrencia descricao_das_intalacoes   latitude  longitude  \\\n",
       "4                fora                    OTHER  40.738002 -73.987891   \n",
       "5                fora               DRUG STORE  40.665023 -73.957111   \n",
       "7                fora                   STREET  40.845707 -73.910398   \n",
       "8              dentro   RESIDENCE - APT. HOUSE  40.856711 -73.891900   \n",
       "9              dentro               DRUG STORE  40.765618 -73.963623   \n",
       "\n",
       "                        lat_long  \n",
       "4     (40.7380024, -73.98789129)  \n",
       "5  (40.665022689, -73.957110763)  \n",
       "7  (40.845707148, -73.910398033)  \n",
       "8  (40.856711291, -73.891899956)  \n",
       "9   (40.765617688, -73.96362342)  "
      ]
     },
     "execution_count": 61,
     "metadata": {},
     "output_type": "execute_result"
    }
   ],
   "source": [
    "select_ny.head()"
   ]
  },
  {
   "cell_type": "markdown",
   "metadata": {
    "id": "ViSQir58psdU"
   },
   "source": [
    "- Criando um arquivo csv \"select_ny\""
   ]
  },
  {
   "cell_type": "code",
   "execution_count": 65,
   "metadata": {
    "id": "R2GZGz8EpsdU"
   },
   "outputs": [],
   "source": [
    "select_ny.to_csv('select_ny.csv', index =False , encoding = 'latin-1' )"
   ]
  },
  {
   "cell_type": "code",
   "execution_count": 66,
   "metadata": {
    "id": "QNEbwSEQpsdV"
   },
   "outputs": [
    {
     "data": {
      "text/html": [
       "<div>\n",
       "<style scoped>\n",
       "    .dataframe tbody tr th:only-of-type {\n",
       "        vertical-align: middle;\n",
       "    }\n",
       "\n",
       "    .dataframe tbody tr th {\n",
       "        vertical-align: top;\n",
       "    }\n",
       "\n",
       "    .dataframe thead th {\n",
       "        text-align: right;\n",
       "    }\n",
       "</style>\n",
       "<table border=\"1\" class=\"dataframe\">\n",
       "  <thead>\n",
       "    <tr style=\"text-align: right;\">\n",
       "      <th></th>\n",
       "      <th>data_da_ocorrencia</th>\n",
       "      <th>data_final_da_ocorrencia</th>\n",
       "      <th>data_comunicacao_policia</th>\n",
       "      <th>hora_da_ocorrencia</th>\n",
       "      <th>hora_termino_da_ocorrencia</th>\n",
       "      <th>descricao_da_ofensa</th>\n",
       "      <th>conclusao</th>\n",
       "      <th>nivel_de_ofensa</th>\n",
       "      <th>jurisdicao</th>\n",
       "      <th>bairro</th>\n",
       "      <th>local_da_ocorrencia</th>\n",
       "      <th>descricao_das_intalacoes</th>\n",
       "      <th>latitude</th>\n",
       "      <th>longitude</th>\n",
       "      <th>lat_long</th>\n",
       "    </tr>\n",
       "  </thead>\n",
       "  <tbody>\n",
       "    <tr>\n",
       "      <th>0</th>\n",
       "      <td>2015-12-31</td>\n",
       "      <td>2015-12-31</td>\n",
       "      <td>2015-12-31</td>\n",
       "      <td>23:25:00</td>\n",
       "      <td>23:30:00</td>\n",
       "      <td>ASSAULT 3 &amp; RELATED OFFENSES</td>\n",
       "      <td>concluido</td>\n",
       "      <td>contravencao</td>\n",
       "      <td>N.Y. POLICE DEPT</td>\n",
       "      <td>MANHATTAN</td>\n",
       "      <td>fora</td>\n",
       "      <td>OTHER</td>\n",
       "      <td>40.738002</td>\n",
       "      <td>-73.987891</td>\n",
       "      <td>(40.7380024, -73.98789129)</td>\n",
       "    </tr>\n",
       "    <tr>\n",
       "      <th>1</th>\n",
       "      <td>2015-12-31</td>\n",
       "      <td>2015-12-31</td>\n",
       "      <td>2015-12-31</td>\n",
       "      <td>23:18:00</td>\n",
       "      <td>23:25:00</td>\n",
       "      <td>FELONY ASSAULT</td>\n",
       "      <td>nao_concluido</td>\n",
       "      <td>crime</td>\n",
       "      <td>N.Y. POLICE DEPT</td>\n",
       "      <td>BROOKLYN</td>\n",
       "      <td>fora</td>\n",
       "      <td>DRUG STORE</td>\n",
       "      <td>40.665023</td>\n",
       "      <td>-73.957111</td>\n",
       "      <td>(40.665022689, -73.957110763)</td>\n",
       "    </tr>\n",
       "    <tr>\n",
       "      <th>2</th>\n",
       "      <td>2015-12-31</td>\n",
       "      <td>2015-12-31</td>\n",
       "      <td>2015-12-31</td>\n",
       "      <td>23:15:00</td>\n",
       "      <td>23:15:00</td>\n",
       "      <td>DANGEROUS WEAPONS</td>\n",
       "      <td>concluido</td>\n",
       "      <td>crime</td>\n",
       "      <td>N.Y. POLICE DEPT</td>\n",
       "      <td>BRONX</td>\n",
       "      <td>fora</td>\n",
       "      <td>STREET</td>\n",
       "      <td>40.845707</td>\n",
       "      <td>-73.910398</td>\n",
       "      <td>(40.845707148, -73.910398033)</td>\n",
       "    </tr>\n",
       "    <tr>\n",
       "      <th>3</th>\n",
       "      <td>2015-12-31</td>\n",
       "      <td>2015-12-31</td>\n",
       "      <td>2015-12-31</td>\n",
       "      <td>23:15:00</td>\n",
       "      <td>23:30:00</td>\n",
       "      <td>ASSAULT 3 &amp; RELATED OFFENSES</td>\n",
       "      <td>concluido</td>\n",
       "      <td>contravencao</td>\n",
       "      <td>N.Y. POLICE DEPT</td>\n",
       "      <td>BRONX</td>\n",
       "      <td>dentro</td>\n",
       "      <td>RESIDENCE - APT. HOUSE</td>\n",
       "      <td>40.856711</td>\n",
       "      <td>-73.891900</td>\n",
       "      <td>(40.856711291, -73.891899956)</td>\n",
       "    </tr>\n",
       "    <tr>\n",
       "      <th>4</th>\n",
       "      <td>2015-12-31</td>\n",
       "      <td>2015-12-31</td>\n",
       "      <td>2015-12-31</td>\n",
       "      <td>23:10:00</td>\n",
       "      <td>23:10:00</td>\n",
       "      <td>PETIT LARCENY</td>\n",
       "      <td>concluido</td>\n",
       "      <td>contravencao</td>\n",
       "      <td>N.Y. POLICE DEPT</td>\n",
       "      <td>MANHATTAN</td>\n",
       "      <td>dentro</td>\n",
       "      <td>DRUG STORE</td>\n",
       "      <td>40.765618</td>\n",
       "      <td>-73.963623</td>\n",
       "      <td>(40.765617688, -73.96362342)</td>\n",
       "    </tr>\n",
       "    <tr>\n",
       "      <th>...</th>\n",
       "      <td>...</td>\n",
       "      <td>...</td>\n",
       "      <td>...</td>\n",
       "      <td>...</td>\n",
       "      <td>...</td>\n",
       "      <td>...</td>\n",
       "      <td>...</td>\n",
       "      <td>...</td>\n",
       "      <td>...</td>\n",
       "      <td>...</td>\n",
       "      <td>...</td>\n",
       "      <td>...</td>\n",
       "      <td>...</td>\n",
       "      <td>...</td>\n",
       "      <td>...</td>\n",
       "    </tr>\n",
       "    <tr>\n",
       "      <th>598005</th>\n",
       "      <td>2014-01-01</td>\n",
       "      <td>2014-01-01</td>\n",
       "      <td>2014-01-01</td>\n",
       "      <td>0:01:00</td>\n",
       "      <td>0:10:00</td>\n",
       "      <td>BURGLARY</td>\n",
       "      <td>concluido</td>\n",
       "      <td>crime</td>\n",
       "      <td>N.Y. POLICE DEPT</td>\n",
       "      <td>BROOKLYN</td>\n",
       "      <td>dentro</td>\n",
       "      <td>RESIDENCE-HOUSE</td>\n",
       "      <td>40.614609</td>\n",
       "      <td>-73.956477</td>\n",
       "      <td>(40.614608952, -73.956476812)</td>\n",
       "    </tr>\n",
       "    <tr>\n",
       "      <th>598006</th>\n",
       "      <td>2014-01-01</td>\n",
       "      <td>2014-01-01</td>\n",
       "      <td>2014-01-01</td>\n",
       "      <td>0:01:00</td>\n",
       "      <td>0:15:00</td>\n",
       "      <td>CRIMINAL MISCHIEF &amp; RELATED OF</td>\n",
       "      <td>concluido</td>\n",
       "      <td>contravencao</td>\n",
       "      <td>N.Y. POLICE DEPT</td>\n",
       "      <td>BROOKLYN</td>\n",
       "      <td>dentro</td>\n",
       "      <td>RESIDENCE-HOUSE</td>\n",
       "      <td>40.666746</td>\n",
       "      <td>-73.920731</td>\n",
       "      <td>(40.66674631, -73.920731471)</td>\n",
       "    </tr>\n",
       "    <tr>\n",
       "      <th>598007</th>\n",
       "      <td>2014-01-01</td>\n",
       "      <td>2014-01-01</td>\n",
       "      <td>2014-01-01</td>\n",
       "      <td>0:01:00</td>\n",
       "      <td>0:20:00</td>\n",
       "      <td>CRIMINAL MISCHIEF &amp; RELATED OF</td>\n",
       "      <td>concluido</td>\n",
       "      <td>contravencao</td>\n",
       "      <td>N.Y. POLICE DEPT</td>\n",
       "      <td>BROOKLYN</td>\n",
       "      <td>dentro</td>\n",
       "      <td>RESIDENCE - APT. HOUSE</td>\n",
       "      <td>40.658884</td>\n",
       "      <td>-73.923574</td>\n",
       "      <td>(40.658884437, -73.923573739)</td>\n",
       "    </tr>\n",
       "    <tr>\n",
       "      <th>598008</th>\n",
       "      <td>2014-01-01</td>\n",
       "      <td>2014-01-01</td>\n",
       "      <td>2014-01-01</td>\n",
       "      <td>0:00:00</td>\n",
       "      <td>2:00:00</td>\n",
       "      <td>CRIMINAL MISCHIEF &amp; RELATED OF</td>\n",
       "      <td>concluido</td>\n",
       "      <td>contravencao</td>\n",
       "      <td>N.Y. POLICE DEPT</td>\n",
       "      <td>BROOKLYN</td>\n",
       "      <td>fora</td>\n",
       "      <td>RESIDENCE-HOUSE</td>\n",
       "      <td>40.681050</td>\n",
       "      <td>-73.914106</td>\n",
       "      <td>(40.681050076, -73.914105717)</td>\n",
       "    </tr>\n",
       "    <tr>\n",
       "      <th>598009</th>\n",
       "      <td>2014-01-01</td>\n",
       "      <td>2014-01-01</td>\n",
       "      <td>2014-01-01</td>\n",
       "      <td>0:00:00</td>\n",
       "      <td>1:30:00</td>\n",
       "      <td>GRAND LARCENY</td>\n",
       "      <td>concluido</td>\n",
       "      <td>crime</td>\n",
       "      <td>N.Y. POLICE DEPT</td>\n",
       "      <td>BROOKLYN</td>\n",
       "      <td>dentro</td>\n",
       "      <td>SOCIAL CLUB/POLICY</td>\n",
       "      <td>40.643843</td>\n",
       "      <td>-73.948826</td>\n",
       "      <td>(40.643843305, -73.948825705)</td>\n",
       "    </tr>\n",
       "  </tbody>\n",
       "</table>\n",
       "<p>598010 rows × 15 columns</p>\n",
       "</div>"
      ],
      "text/plain": [
       "       data_da_ocorrencia data_final_da_ocorrencia data_comunicacao_policia  \\\n",
       "0              2015-12-31               2015-12-31               2015-12-31   \n",
       "1              2015-12-31               2015-12-31               2015-12-31   \n",
       "2              2015-12-31               2015-12-31               2015-12-31   \n",
       "3              2015-12-31               2015-12-31               2015-12-31   \n",
       "4              2015-12-31               2015-12-31               2015-12-31   \n",
       "...                   ...                      ...                      ...   \n",
       "598005         2014-01-01               2014-01-01               2014-01-01   \n",
       "598006         2014-01-01               2014-01-01               2014-01-01   \n",
       "598007         2014-01-01               2014-01-01               2014-01-01   \n",
       "598008         2014-01-01               2014-01-01               2014-01-01   \n",
       "598009         2014-01-01               2014-01-01               2014-01-01   \n",
       "\n",
       "       hora_da_ocorrencia hora_termino_da_ocorrencia  \\\n",
       "0                23:25:00                   23:30:00   \n",
       "1                23:18:00                   23:25:00   \n",
       "2                23:15:00                   23:15:00   \n",
       "3                23:15:00                   23:30:00   \n",
       "4                23:10:00                   23:10:00   \n",
       "...                   ...                        ...   \n",
       "598005            0:01:00                    0:10:00   \n",
       "598006            0:01:00                    0:15:00   \n",
       "598007            0:01:00                    0:20:00   \n",
       "598008            0:00:00                    2:00:00   \n",
       "598009            0:00:00                    1:30:00   \n",
       "\n",
       "                   descricao_da_ofensa      conclusao nivel_de_ofensa  \\\n",
       "0         ASSAULT 3 & RELATED OFFENSES      concluido    contravencao   \n",
       "1                       FELONY ASSAULT  nao_concluido           crime   \n",
       "2                    DANGEROUS WEAPONS      concluido           crime   \n",
       "3         ASSAULT 3 & RELATED OFFENSES      concluido    contravencao   \n",
       "4                        PETIT LARCENY      concluido    contravencao   \n",
       "...                                ...            ...             ...   \n",
       "598005                        BURGLARY      concluido           crime   \n",
       "598006  CRIMINAL MISCHIEF & RELATED OF      concluido    contravencao   \n",
       "598007  CRIMINAL MISCHIEF & RELATED OF      concluido    contravencao   \n",
       "598008  CRIMINAL MISCHIEF & RELATED OF      concluido    contravencao   \n",
       "598009                   GRAND LARCENY      concluido           crime   \n",
       "\n",
       "              jurisdicao     bairro local_da_ocorrencia  \\\n",
       "0       N.Y. POLICE DEPT  MANHATTAN                fora   \n",
       "1       N.Y. POLICE DEPT   BROOKLYN                fora   \n",
       "2       N.Y. POLICE DEPT      BRONX                fora   \n",
       "3       N.Y. POLICE DEPT      BRONX              dentro   \n",
       "4       N.Y. POLICE DEPT  MANHATTAN              dentro   \n",
       "...                  ...        ...                 ...   \n",
       "598005  N.Y. POLICE DEPT   BROOKLYN              dentro   \n",
       "598006  N.Y. POLICE DEPT   BROOKLYN              dentro   \n",
       "598007  N.Y. POLICE DEPT   BROOKLYN              dentro   \n",
       "598008  N.Y. POLICE DEPT   BROOKLYN                fora   \n",
       "598009  N.Y. POLICE DEPT   BROOKLYN              dentro   \n",
       "\n",
       "       descricao_das_intalacoes   latitude  longitude  \\\n",
       "0                         OTHER  40.738002 -73.987891   \n",
       "1                    DRUG STORE  40.665023 -73.957111   \n",
       "2                        STREET  40.845707 -73.910398   \n",
       "3        RESIDENCE - APT. HOUSE  40.856711 -73.891900   \n",
       "4                    DRUG STORE  40.765618 -73.963623   \n",
       "...                         ...        ...        ...   \n",
       "598005          RESIDENCE-HOUSE  40.614609 -73.956477   \n",
       "598006          RESIDENCE-HOUSE  40.666746 -73.920731   \n",
       "598007   RESIDENCE - APT. HOUSE  40.658884 -73.923574   \n",
       "598008          RESIDENCE-HOUSE  40.681050 -73.914106   \n",
       "598009       SOCIAL CLUB/POLICY  40.643843 -73.948826   \n",
       "\n",
       "                             lat_long  \n",
       "0          (40.7380024, -73.98789129)  \n",
       "1       (40.665022689, -73.957110763)  \n",
       "2       (40.845707148, -73.910398033)  \n",
       "3       (40.856711291, -73.891899956)  \n",
       "4        (40.765617688, -73.96362342)  \n",
       "...                               ...  \n",
       "598005  (40.614608952, -73.956476812)  \n",
       "598006   (40.66674631, -73.920731471)  \n",
       "598007  (40.658884437, -73.923573739)  \n",
       "598008  (40.681050076, -73.914105717)  \n",
       "598009  (40.643843305, -73.948825705)  \n",
       "\n",
       "[598010 rows x 15 columns]"
      ]
     },
     "execution_count": 66,
     "metadata": {},
     "output_type": "execute_result"
    }
   ],
   "source": [
    "pd.read_csv('select_ny.csv')"
   ]
  },
  {
   "cell_type": "code",
   "execution_count": null,
   "metadata": {},
   "outputs": [],
   "source": []
  }
 ],
 "metadata": {
  "colab": {
   "collapsed_sections": [],
   "name": "Crimes.ipynb",
   "provenance": []
  },
  "kernelspec": {
   "display_name": "Python 3",
   "language": "python",
   "name": "python3"
  },
  "language_info": {
   "codemirror_mode": {
    "name": "ipython",
    "version": 3
   },
   "file_extension": ".py",
   "mimetype": "text/x-python",
   "name": "python",
   "nbconvert_exporter": "python",
   "pygments_lexer": "ipython3",
   "version": "3.8.3"
  }
 },
 "nbformat": 4,
 "nbformat_minor": 1
}

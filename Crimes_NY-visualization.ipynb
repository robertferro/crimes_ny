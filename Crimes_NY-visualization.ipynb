{
 "cells": [
  {
   "cell_type": "markdown",
   "metadata": {
    "id": "EpoZtV52tq52"
   },
   "source": [
    "# OFFENSES NEW YORK \n",
    "\n",
    "[dataset NY](https://www.kaggle.com/adamschroeder/crimes-new-york-city?select=Crime_Column_Description.csv)"
   ]
  },
  {
   "cell_type": "code",
   "execution_count": null,
   "metadata": {},
   "outputs": [],
   "source": [
    "# topicos a serem executados\n",
    "#  agrupamento por ano , ofensas ano a ano\n",
    "\n",
    "# \n",
    "# \n",
    "# df.groupby(df['data']).dt.year['vendas'].sum()\n",
    "\n",
    "# gerando grafico\n",
    "# df.groupby(df['data'].dt.year)['vendas'].sum().plot.bar()"
   ]
  },
  {
   "cell_type": "code",
   "execution_count": 1,
   "metadata": {
    "id": "NpHeI-PMj_aQ"
   },
   "outputs": [],
   "source": [
    "import pandas as pd\n",
    "import seaborn as sns\n",
    "import matplotlib.pyplot as plt\n",
    "import numpy as np"
   ]
  },
  {
   "cell_type": "code",
   "execution_count": 2,
   "metadata": {},
   "outputs": [
    {
     "name": "stderr",
     "output_type": "stream",
     "text": [
      "C:\\Users\\Biena\\anaconda3\\lib\\site-packages\\IPython\\core\\interactiveshell.py:3071: DtypeWarning: Columns (17) have mixed types.Specify dtype option on import or set low_memory=False.\n",
      "  has_raised = await self.run_ast_nodes(code_ast.body, cell_name,\n"
     ]
    }
   ],
   "source": [
    "# importando os dados referentes aos delitos em nova york\n",
    "ny  = pd.read_csv('NYPD_Complaint_Data_Historic.csv')"
   ]
  },
  {
   "cell_type": "code",
   "execution_count": 3,
   "metadata": {},
   "outputs": [
    {
     "data": {
      "text/html": [
       "<div>\n",
       "<style scoped>\n",
       "    .dataframe tbody tr th:only-of-type {\n",
       "        vertical-align: middle;\n",
       "    }\n",
       "\n",
       "    .dataframe tbody tr th {\n",
       "        vertical-align: top;\n",
       "    }\n",
       "\n",
       "    .dataframe thead th {\n",
       "        text-align: right;\n",
       "    }\n",
       "</style>\n",
       "<table border=\"1\" class=\"dataframe\">\n",
       "  <thead>\n",
       "    <tr style=\"text-align: right;\">\n",
       "      <th></th>\n",
       "      <th>CMPLNT_NUM</th>\n",
       "      <th>CMPLNT_FR_DT</th>\n",
       "      <th>CMPLNT_FR_TM</th>\n",
       "      <th>CMPLNT_TO_DT</th>\n",
       "      <th>CMPLNT_TO_TM</th>\n",
       "      <th>RPT_DT</th>\n",
       "      <th>KY_CD</th>\n",
       "      <th>OFNS_DESC</th>\n",
       "      <th>PD_CD</th>\n",
       "      <th>PD_DESC</th>\n",
       "      <th>...</th>\n",
       "      <th>ADDR_PCT_CD</th>\n",
       "      <th>LOC_OF_OCCUR_DESC</th>\n",
       "      <th>PREM_TYP_DESC</th>\n",
       "      <th>PARKS_NM</th>\n",
       "      <th>HADEVELOPT</th>\n",
       "      <th>X_COORD_CD</th>\n",
       "      <th>Y_COORD_CD</th>\n",
       "      <th>Latitude</th>\n",
       "      <th>Longitude</th>\n",
       "      <th>Lat_Lon</th>\n",
       "    </tr>\n",
       "  </thead>\n",
       "  <tbody>\n",
       "    <tr>\n",
       "      <th>0</th>\n",
       "      <td>101109527</td>\n",
       "      <td>12/31/2015</td>\n",
       "      <td>23:45:00</td>\n",
       "      <td>NaN</td>\n",
       "      <td>NaN</td>\n",
       "      <td>12/31/2015</td>\n",
       "      <td>113</td>\n",
       "      <td>FORGERY</td>\n",
       "      <td>729.0</td>\n",
       "      <td>FORGERY,ETC.,UNCLASSIFIED-FELO</td>\n",
       "      <td>...</td>\n",
       "      <td>44.0</td>\n",
       "      <td>INSIDE</td>\n",
       "      <td>BAR/NIGHT CLUB</td>\n",
       "      <td>NaN</td>\n",
       "      <td>NaN</td>\n",
       "      <td>1007314.0</td>\n",
       "      <td>241257.0</td>\n",
       "      <td>40.828848</td>\n",
       "      <td>-73.916661</td>\n",
       "      <td>(40.828848333, -73.916661142)</td>\n",
       "    </tr>\n",
       "    <tr>\n",
       "      <th>1</th>\n",
       "      <td>153401121</td>\n",
       "      <td>12/31/2015</td>\n",
       "      <td>23:36:00</td>\n",
       "      <td>NaN</td>\n",
       "      <td>NaN</td>\n",
       "      <td>12/31/2015</td>\n",
       "      <td>101</td>\n",
       "      <td>MURDER &amp; NON-NEGL. MANSLAUGHTER</td>\n",
       "      <td>NaN</td>\n",
       "      <td>NaN</td>\n",
       "      <td>...</td>\n",
       "      <td>103.0</td>\n",
       "      <td>OUTSIDE</td>\n",
       "      <td>NaN</td>\n",
       "      <td>NaN</td>\n",
       "      <td>NaN</td>\n",
       "      <td>1043991.0</td>\n",
       "      <td>193406.0</td>\n",
       "      <td>40.697338</td>\n",
       "      <td>-73.784557</td>\n",
       "      <td>(40.697338138, -73.784556739)</td>\n",
       "    </tr>\n",
       "    <tr>\n",
       "      <th>2</th>\n",
       "      <td>569369778</td>\n",
       "      <td>12/31/2015</td>\n",
       "      <td>23:30:00</td>\n",
       "      <td>NaN</td>\n",
       "      <td>NaN</td>\n",
       "      <td>12/31/2015</td>\n",
       "      <td>117</td>\n",
       "      <td>DANGEROUS DRUGS</td>\n",
       "      <td>503.0</td>\n",
       "      <td>CONTROLLED SUBSTANCE,INTENT TO</td>\n",
       "      <td>...</td>\n",
       "      <td>28.0</td>\n",
       "      <td>NaN</td>\n",
       "      <td>OTHER</td>\n",
       "      <td>NaN</td>\n",
       "      <td>NaN</td>\n",
       "      <td>999463.0</td>\n",
       "      <td>231690.0</td>\n",
       "      <td>40.802607</td>\n",
       "      <td>-73.945052</td>\n",
       "      <td>(40.802606608, -73.945051911)</td>\n",
       "    </tr>\n",
       "    <tr>\n",
       "      <th>3</th>\n",
       "      <td>968417082</td>\n",
       "      <td>12/31/2015</td>\n",
       "      <td>23:30:00</td>\n",
       "      <td>NaN</td>\n",
       "      <td>NaN</td>\n",
       "      <td>12/31/2015</td>\n",
       "      <td>344</td>\n",
       "      <td>ASSAULT 3 &amp; RELATED OFFENSES</td>\n",
       "      <td>101.0</td>\n",
       "      <td>ASSAULT 3</td>\n",
       "      <td>...</td>\n",
       "      <td>105.0</td>\n",
       "      <td>INSIDE</td>\n",
       "      <td>RESIDENCE-HOUSE</td>\n",
       "      <td>NaN</td>\n",
       "      <td>NaN</td>\n",
       "      <td>1060183.0</td>\n",
       "      <td>177862.0</td>\n",
       "      <td>40.654549</td>\n",
       "      <td>-73.726339</td>\n",
       "      <td>(40.654549444, -73.726338791)</td>\n",
       "    </tr>\n",
       "    <tr>\n",
       "      <th>4</th>\n",
       "      <td>641637920</td>\n",
       "      <td>12/31/2015</td>\n",
       "      <td>23:25:00</td>\n",
       "      <td>12/31/2015</td>\n",
       "      <td>23:30:00</td>\n",
       "      <td>12/31/2015</td>\n",
       "      <td>344</td>\n",
       "      <td>ASSAULT 3 &amp; RELATED OFFENSES</td>\n",
       "      <td>101.0</td>\n",
       "      <td>ASSAULT 3</td>\n",
       "      <td>...</td>\n",
       "      <td>13.0</td>\n",
       "      <td>FRONT OF</td>\n",
       "      <td>OTHER</td>\n",
       "      <td>NaN</td>\n",
       "      <td>NaN</td>\n",
       "      <td>987606.0</td>\n",
       "      <td>208148.0</td>\n",
       "      <td>40.738002</td>\n",
       "      <td>-73.987891</td>\n",
       "      <td>(40.7380024, -73.98789129)</td>\n",
       "    </tr>\n",
       "    <tr>\n",
       "      <th>...</th>\n",
       "      <td>...</td>\n",
       "      <td>...</td>\n",
       "      <td>...</td>\n",
       "      <td>...</td>\n",
       "      <td>...</td>\n",
       "      <td>...</td>\n",
       "      <td>...</td>\n",
       "      <td>...</td>\n",
       "      <td>...</td>\n",
       "      <td>...</td>\n",
       "      <td>...</td>\n",
       "      <td>...</td>\n",
       "      <td>...</td>\n",
       "      <td>...</td>\n",
       "      <td>...</td>\n",
       "      <td>...</td>\n",
       "      <td>...</td>\n",
       "      <td>...</td>\n",
       "      <td>...</td>\n",
       "      <td>...</td>\n",
       "      <td>...</td>\n",
       "    </tr>\n",
       "    <tr>\n",
       "      <th>1048570</th>\n",
       "      <td>317154175</td>\n",
       "      <td>11/1/2013</td>\n",
       "      <td>20:30:00</td>\n",
       "      <td>11/1/2013</td>\n",
       "      <td>21:00:00</td>\n",
       "      <td>11/1/2013</td>\n",
       "      <td>341</td>\n",
       "      <td>PETIT LARCENY</td>\n",
       "      <td>338.0</td>\n",
       "      <td>LARCENY,PETIT FROM BUILDING,UN</td>\n",
       "      <td>...</td>\n",
       "      <td>40.0</td>\n",
       "      <td>INSIDE</td>\n",
       "      <td>RESIDENCE - APT. HOUSE</td>\n",
       "      <td>NaN</td>\n",
       "      <td>NaN</td>\n",
       "      <td>1006185.0</td>\n",
       "      <td>233271.0</td>\n",
       "      <td>40.806932</td>\n",
       "      <td>-73.920767</td>\n",
       "      <td>(40.806931888, -73.920766811)</td>\n",
       "    </tr>\n",
       "    <tr>\n",
       "      <th>1048571</th>\n",
       "      <td>833410354</td>\n",
       "      <td>11/1/2013</td>\n",
       "      <td>20:28:00</td>\n",
       "      <td>11/1/2013</td>\n",
       "      <td>20:31:00</td>\n",
       "      <td>11/1/2013</td>\n",
       "      <td>344</td>\n",
       "      <td>ASSAULT 3 &amp; RELATED OFFENSES</td>\n",
       "      <td>113.0</td>\n",
       "      <td>MENACING,UNCLASSIFIED</td>\n",
       "      <td>...</td>\n",
       "      <td>75.0</td>\n",
       "      <td>FRONT OF</td>\n",
       "      <td>GROCERY/BODEGA</td>\n",
       "      <td>NaN</td>\n",
       "      <td>NaN</td>\n",
       "      <td>1013319.0</td>\n",
       "      <td>180075.0</td>\n",
       "      <td>40.660901</td>\n",
       "      <td>-73.895227</td>\n",
       "      <td>(40.660901484, -73.895226891)</td>\n",
       "    </tr>\n",
       "    <tr>\n",
       "      <th>1048572</th>\n",
       "      <td>961949188</td>\n",
       "      <td>11/1/2013</td>\n",
       "      <td>20:25:00</td>\n",
       "      <td>NaN</td>\n",
       "      <td>NaN</td>\n",
       "      <td>11/1/2013</td>\n",
       "      <td>121</td>\n",
       "      <td>CRIMINAL MISCHIEF &amp; RELATED OF</td>\n",
       "      <td>269.0</td>\n",
       "      <td>MISCHIEF,CRIMINAL,    UNCL 2ND</td>\n",
       "      <td>...</td>\n",
       "      <td>1.0</td>\n",
       "      <td>INSIDE</td>\n",
       "      <td>FAST FOOD</td>\n",
       "      <td>NaN</td>\n",
       "      <td>NaN</td>\n",
       "      <td>982953.0</td>\n",
       "      <td>203013.0</td>\n",
       "      <td>40.723909</td>\n",
       "      <td>-74.004681</td>\n",
       "      <td>(40.723908621, -74.004680695)</td>\n",
       "    </tr>\n",
       "    <tr>\n",
       "      <th>1048573</th>\n",
       "      <td>157608118</td>\n",
       "      <td>11/1/2013</td>\n",
       "      <td>20:25:00</td>\n",
       "      <td>11/1/2013</td>\n",
       "      <td>20:45:00</td>\n",
       "      <td>11/1/2013</td>\n",
       "      <td>235</td>\n",
       "      <td>DANGEROUS DRUGS</td>\n",
       "      <td>511.0</td>\n",
       "      <td>CONTROLLED SUBSTANCE, POSSESSI</td>\n",
       "      <td>...</td>\n",
       "      <td>52.0</td>\n",
       "      <td>FRONT OF</td>\n",
       "      <td>STREET</td>\n",
       "      <td>NaN</td>\n",
       "      <td>NaN</td>\n",
       "      <td>1019388.0</td>\n",
       "      <td>259017.0</td>\n",
       "      <td>40.877554</td>\n",
       "      <td>-73.872939</td>\n",
       "      <td>(40.877554428, -73.872939471)</td>\n",
       "    </tr>\n",
       "    <tr>\n",
       "      <th>1048574</th>\n",
       "      <td>176151924</td>\n",
       "      <td>11/1/2013</td>\n",
       "      <td>20:25:00</td>\n",
       "      <td>11/1/2013</td>\n",
       "      <td>20:30:00</td>\n",
       "      <td>11/1/2013</td>\n",
       "      <td>236</td>\n",
       "      <td>DANGEROUS WEAPONS</td>\n",
       "      <td>782.0</td>\n",
       "      <td>WEAPONS, POSSESSION, ETC</td>\n",
       "      <td>...</td>\n",
       "      <td>32.0</td>\n",
       "      <td>NaN</td>\n",
       "      <td>TRANSIT - NYC SUBWAY</td>\n",
       "      <td>NaN</td>\n",
       "      <td>NaN</td>\n",
       "      <td>1000622.0</td>\n",
       "      <td>235883.0</td>\n",
       "      <td>40.814113</td>\n",
       "      <td>-73.940855</td>\n",
       "      <td>(40.814113161, -73.940855365)</td>\n",
       "    </tr>\n",
       "  </tbody>\n",
       "</table>\n",
       "<p>1048575 rows × 24 columns</p>\n",
       "</div>"
      ],
      "text/plain": [
       "         CMPLNT_NUM CMPLNT_FR_DT CMPLNT_FR_TM CMPLNT_TO_DT CMPLNT_TO_TM  \\\n",
       "0         101109527   12/31/2015     23:45:00          NaN          NaN   \n",
       "1         153401121   12/31/2015     23:36:00          NaN          NaN   \n",
       "2         569369778   12/31/2015     23:30:00          NaN          NaN   \n",
       "3         968417082   12/31/2015     23:30:00          NaN          NaN   \n",
       "4         641637920   12/31/2015     23:25:00   12/31/2015     23:30:00   \n",
       "...             ...          ...          ...          ...          ...   \n",
       "1048570   317154175    11/1/2013     20:30:00    11/1/2013     21:00:00   \n",
       "1048571   833410354    11/1/2013     20:28:00    11/1/2013     20:31:00   \n",
       "1048572   961949188    11/1/2013     20:25:00          NaN          NaN   \n",
       "1048573   157608118    11/1/2013     20:25:00    11/1/2013     20:45:00   \n",
       "1048574   176151924    11/1/2013     20:25:00    11/1/2013     20:30:00   \n",
       "\n",
       "             RPT_DT  KY_CD                        OFNS_DESC  PD_CD  \\\n",
       "0        12/31/2015    113                          FORGERY  729.0   \n",
       "1        12/31/2015    101  MURDER & NON-NEGL. MANSLAUGHTER    NaN   \n",
       "2        12/31/2015    117                  DANGEROUS DRUGS  503.0   \n",
       "3        12/31/2015    344     ASSAULT 3 & RELATED OFFENSES  101.0   \n",
       "4        12/31/2015    344     ASSAULT 3 & RELATED OFFENSES  101.0   \n",
       "...             ...    ...                              ...    ...   \n",
       "1048570   11/1/2013    341                    PETIT LARCENY  338.0   \n",
       "1048571   11/1/2013    344     ASSAULT 3 & RELATED OFFENSES  113.0   \n",
       "1048572   11/1/2013    121   CRIMINAL MISCHIEF & RELATED OF  269.0   \n",
       "1048573   11/1/2013    235                  DANGEROUS DRUGS  511.0   \n",
       "1048574   11/1/2013    236                DANGEROUS WEAPONS  782.0   \n",
       "\n",
       "                                PD_DESC  ... ADDR_PCT_CD LOC_OF_OCCUR_DESC  \\\n",
       "0        FORGERY,ETC.,UNCLASSIFIED-FELO  ...        44.0            INSIDE   \n",
       "1                                   NaN  ...       103.0           OUTSIDE   \n",
       "2        CONTROLLED SUBSTANCE,INTENT TO  ...        28.0               NaN   \n",
       "3                             ASSAULT 3  ...       105.0            INSIDE   \n",
       "4                             ASSAULT 3  ...        13.0          FRONT OF   \n",
       "...                                 ...  ...         ...               ...   \n",
       "1048570  LARCENY,PETIT FROM BUILDING,UN  ...        40.0            INSIDE   \n",
       "1048571           MENACING,UNCLASSIFIED  ...        75.0          FRONT OF   \n",
       "1048572  MISCHIEF,CRIMINAL,    UNCL 2ND  ...         1.0            INSIDE   \n",
       "1048573  CONTROLLED SUBSTANCE, POSSESSI  ...        52.0          FRONT OF   \n",
       "1048574        WEAPONS, POSSESSION, ETC  ...        32.0               NaN   \n",
       "\n",
       "                  PREM_TYP_DESC PARKS_NM  HADEVELOPT X_COORD_CD Y_COORD_CD  \\\n",
       "0                BAR/NIGHT CLUB      NaN         NaN  1007314.0   241257.0   \n",
       "1                           NaN      NaN         NaN  1043991.0   193406.0   \n",
       "2                         OTHER      NaN         NaN   999463.0   231690.0   \n",
       "3               RESIDENCE-HOUSE      NaN         NaN  1060183.0   177862.0   \n",
       "4                         OTHER      NaN         NaN   987606.0   208148.0   \n",
       "...                         ...      ...         ...        ...        ...   \n",
       "1048570  RESIDENCE - APT. HOUSE      NaN         NaN  1006185.0   233271.0   \n",
       "1048571          GROCERY/BODEGA      NaN         NaN  1013319.0   180075.0   \n",
       "1048572               FAST FOOD      NaN         NaN   982953.0   203013.0   \n",
       "1048573                  STREET      NaN         NaN  1019388.0   259017.0   \n",
       "1048574    TRANSIT - NYC SUBWAY      NaN         NaN  1000622.0   235883.0   \n",
       "\n",
       "          Latitude  Longitude                        Lat_Lon  \n",
       "0        40.828848 -73.916661  (40.828848333, -73.916661142)  \n",
       "1        40.697338 -73.784557  (40.697338138, -73.784556739)  \n",
       "2        40.802607 -73.945052  (40.802606608, -73.945051911)  \n",
       "3        40.654549 -73.726339  (40.654549444, -73.726338791)  \n",
       "4        40.738002 -73.987891     (40.7380024, -73.98789129)  \n",
       "...            ...        ...                            ...  \n",
       "1048570  40.806932 -73.920767  (40.806931888, -73.920766811)  \n",
       "1048571  40.660901 -73.895227  (40.660901484, -73.895226891)  \n",
       "1048572  40.723909 -74.004681  (40.723908621, -74.004680695)  \n",
       "1048573  40.877554 -73.872939  (40.877554428, -73.872939471)  \n",
       "1048574  40.814113 -73.940855  (40.814113161, -73.940855365)  \n",
       "\n",
       "[1048575 rows x 24 columns]"
      ]
     },
     "execution_count": 3,
     "metadata": {},
     "output_type": "execute_result"
    }
   ],
   "source": [
    "ny"
   ]
  },
  {
   "cell_type": "markdown",
   "metadata": {},
   "source": [
    "# Creating a new DataFrame \"select_ny\"\n"
   ]
  },
  {
   "cell_type": "markdown",
   "metadata": {},
   "source": [
    "##  Eliminando possiveis erros do DataFrame :\n",
    "\n",
    "### ny['CMPLNT_FR_DT' , 'CMPLNT_FR_TM','CMPLNT_TO_DT','CMPLNT_TO_TM', 'RPT_DT']\n",
    "\n",
    "#### -  As colunas acima serão convertidas para formato datetime\n",
    "\n",
    "#### -  Valores que estiverem fora do padrão serão eliminados"
   ]
  },
  {
   "cell_type": "markdown",
   "metadata": {},
   "source": [
    "#### Criando uma copia do DataFrame ny"
   ]
  },
  {
   "cell_type": "code",
   "execution_count": 4,
   "metadata": {},
   "outputs": [],
   "source": [
    "ny_datetime = ny.copy()"
   ]
  },
  {
   "cell_type": "markdown",
   "metadata": {},
   "source": [
    "#### Convertendo as colunas para formato datetime"
   ]
  },
  {
   "cell_type": "code",
   "execution_count": 5,
   "metadata": {},
   "outputs": [],
   "source": [
    "ny_datetime[\"CMPLNT_FR_DT\"] = pd.to_datetime(ny_datetime[\"CMPLNT_FR_DT\"], errors = 'coerce')"
   ]
  },
  {
   "cell_type": "code",
   "execution_count": 6,
   "metadata": {},
   "outputs": [],
   "source": [
    "ny_datetime['CMPLNT_FR_TM'] = pd.to_datetime(ny_datetime['CMPLNT_FR_TM'])"
   ]
  },
  {
   "cell_type": "code",
   "execution_count": 7,
   "metadata": {},
   "outputs": [],
   "source": [
    "ny_datetime['CMPLNT_TO_DT'] = pd.to_datetime(ny_datetime['CMPLNT_TO_DT'], errors = 'coerce')"
   ]
  },
  {
   "cell_type": "code",
   "execution_count": 8,
   "metadata": {},
   "outputs": [],
   "source": [
    "ny_datetime['CMPLNT_TO_TM'] = pd.to_datetime(ny_datetime['CMPLNT_TO_TM'])"
   ]
  },
  {
   "cell_type": "code",
   "execution_count": 9,
   "metadata": {},
   "outputs": [],
   "source": [
    "ny_datetime['RPT_DT'] = pd.to_datetime(ny_datetime['RPT_DT'], errors = 'coerce')"
   ]
  },
  {
   "cell_type": "markdown",
   "metadata": {},
   "source": [
    "## Criando uma nova coluna \"duracao_da_ocorrencia\"\n",
    "\n",
    "### ny['duracao_da_ocorrencia']"
   ]
  },
  {
   "cell_type": "code",
   "execution_count": 10,
   "metadata": {},
   "outputs": [],
   "source": [
    " ny_datetime['duracao_da_ocorrencia'] = ny_datetime['CMPLNT_TO_TM'] - ny_datetime['CMPLNT_FR_TM']"
   ]
  },
  {
   "cell_type": "code",
   "execution_count": 11,
   "metadata": {},
   "outputs": [
    {
     "data": {
      "text/html": [
       "<div>\n",
       "<style scoped>\n",
       "    .dataframe tbody tr th:only-of-type {\n",
       "        vertical-align: middle;\n",
       "    }\n",
       "\n",
       "    .dataframe tbody tr th {\n",
       "        vertical-align: top;\n",
       "    }\n",
       "\n",
       "    .dataframe thead th {\n",
       "        text-align: right;\n",
       "    }\n",
       "</style>\n",
       "<table border=\"1\" class=\"dataframe\">\n",
       "  <thead>\n",
       "    <tr style=\"text-align: right;\">\n",
       "      <th></th>\n",
       "      <th>CMPLNT_NUM</th>\n",
       "      <th>CMPLNT_FR_DT</th>\n",
       "      <th>CMPLNT_FR_TM</th>\n",
       "      <th>CMPLNT_TO_DT</th>\n",
       "      <th>CMPLNT_TO_TM</th>\n",
       "      <th>RPT_DT</th>\n",
       "      <th>KY_CD</th>\n",
       "      <th>OFNS_DESC</th>\n",
       "      <th>PD_CD</th>\n",
       "      <th>PD_DESC</th>\n",
       "      <th>...</th>\n",
       "      <th>LOC_OF_OCCUR_DESC</th>\n",
       "      <th>PREM_TYP_DESC</th>\n",
       "      <th>PARKS_NM</th>\n",
       "      <th>HADEVELOPT</th>\n",
       "      <th>X_COORD_CD</th>\n",
       "      <th>Y_COORD_CD</th>\n",
       "      <th>Latitude</th>\n",
       "      <th>Longitude</th>\n",
       "      <th>Lat_Lon</th>\n",
       "      <th>duracao_da_ocorrencia</th>\n",
       "    </tr>\n",
       "  </thead>\n",
       "  <tbody>\n",
       "    <tr>\n",
       "      <th>0</th>\n",
       "      <td>101109527</td>\n",
       "      <td>2015-12-31</td>\n",
       "      <td>2020-11-04 23:45:00</td>\n",
       "      <td>NaT</td>\n",
       "      <td>NaT</td>\n",
       "      <td>2015-12-31</td>\n",
       "      <td>113</td>\n",
       "      <td>FORGERY</td>\n",
       "      <td>729.0</td>\n",
       "      <td>FORGERY,ETC.,UNCLASSIFIED-FELO</td>\n",
       "      <td>...</td>\n",
       "      <td>INSIDE</td>\n",
       "      <td>BAR/NIGHT CLUB</td>\n",
       "      <td>NaN</td>\n",
       "      <td>NaN</td>\n",
       "      <td>1007314.0</td>\n",
       "      <td>241257.0</td>\n",
       "      <td>40.828848</td>\n",
       "      <td>-73.916661</td>\n",
       "      <td>(40.828848333, -73.916661142)</td>\n",
       "      <td>NaT</td>\n",
       "    </tr>\n",
       "    <tr>\n",
       "      <th>1</th>\n",
       "      <td>153401121</td>\n",
       "      <td>2015-12-31</td>\n",
       "      <td>2020-11-04 23:36:00</td>\n",
       "      <td>NaT</td>\n",
       "      <td>NaT</td>\n",
       "      <td>2015-12-31</td>\n",
       "      <td>101</td>\n",
       "      <td>MURDER &amp; NON-NEGL. MANSLAUGHTER</td>\n",
       "      <td>NaN</td>\n",
       "      <td>NaN</td>\n",
       "      <td>...</td>\n",
       "      <td>OUTSIDE</td>\n",
       "      <td>NaN</td>\n",
       "      <td>NaN</td>\n",
       "      <td>NaN</td>\n",
       "      <td>1043991.0</td>\n",
       "      <td>193406.0</td>\n",
       "      <td>40.697338</td>\n",
       "      <td>-73.784557</td>\n",
       "      <td>(40.697338138, -73.784556739)</td>\n",
       "      <td>NaT</td>\n",
       "    </tr>\n",
       "    <tr>\n",
       "      <th>2</th>\n",
       "      <td>569369778</td>\n",
       "      <td>2015-12-31</td>\n",
       "      <td>2020-11-04 23:30:00</td>\n",
       "      <td>NaT</td>\n",
       "      <td>NaT</td>\n",
       "      <td>2015-12-31</td>\n",
       "      <td>117</td>\n",
       "      <td>DANGEROUS DRUGS</td>\n",
       "      <td>503.0</td>\n",
       "      <td>CONTROLLED SUBSTANCE,INTENT TO</td>\n",
       "      <td>...</td>\n",
       "      <td>NaN</td>\n",
       "      <td>OTHER</td>\n",
       "      <td>NaN</td>\n",
       "      <td>NaN</td>\n",
       "      <td>999463.0</td>\n",
       "      <td>231690.0</td>\n",
       "      <td>40.802607</td>\n",
       "      <td>-73.945052</td>\n",
       "      <td>(40.802606608, -73.945051911)</td>\n",
       "      <td>NaT</td>\n",
       "    </tr>\n",
       "    <tr>\n",
       "      <th>3</th>\n",
       "      <td>968417082</td>\n",
       "      <td>2015-12-31</td>\n",
       "      <td>2020-11-04 23:30:00</td>\n",
       "      <td>NaT</td>\n",
       "      <td>NaT</td>\n",
       "      <td>2015-12-31</td>\n",
       "      <td>344</td>\n",
       "      <td>ASSAULT 3 &amp; RELATED OFFENSES</td>\n",
       "      <td>101.0</td>\n",
       "      <td>ASSAULT 3</td>\n",
       "      <td>...</td>\n",
       "      <td>INSIDE</td>\n",
       "      <td>RESIDENCE-HOUSE</td>\n",
       "      <td>NaN</td>\n",
       "      <td>NaN</td>\n",
       "      <td>1060183.0</td>\n",
       "      <td>177862.0</td>\n",
       "      <td>40.654549</td>\n",
       "      <td>-73.726339</td>\n",
       "      <td>(40.654549444, -73.726338791)</td>\n",
       "      <td>NaT</td>\n",
       "    </tr>\n",
       "    <tr>\n",
       "      <th>4</th>\n",
       "      <td>641637920</td>\n",
       "      <td>2015-12-31</td>\n",
       "      <td>2020-11-04 23:25:00</td>\n",
       "      <td>2015-12-31</td>\n",
       "      <td>2020-11-04 23:30:00</td>\n",
       "      <td>2015-12-31</td>\n",
       "      <td>344</td>\n",
       "      <td>ASSAULT 3 &amp; RELATED OFFENSES</td>\n",
       "      <td>101.0</td>\n",
       "      <td>ASSAULT 3</td>\n",
       "      <td>...</td>\n",
       "      <td>FRONT OF</td>\n",
       "      <td>OTHER</td>\n",
       "      <td>NaN</td>\n",
       "      <td>NaN</td>\n",
       "      <td>987606.0</td>\n",
       "      <td>208148.0</td>\n",
       "      <td>40.738002</td>\n",
       "      <td>-73.987891</td>\n",
       "      <td>(40.7380024, -73.98789129)</td>\n",
       "      <td>00:05:00</td>\n",
       "    </tr>\n",
       "  </tbody>\n",
       "</table>\n",
       "<p>5 rows × 25 columns</p>\n",
       "</div>"
      ],
      "text/plain": [
       "   CMPLNT_NUM CMPLNT_FR_DT        CMPLNT_FR_TM CMPLNT_TO_DT  \\\n",
       "0   101109527   2015-12-31 2020-11-04 23:45:00          NaT   \n",
       "1   153401121   2015-12-31 2020-11-04 23:36:00          NaT   \n",
       "2   569369778   2015-12-31 2020-11-04 23:30:00          NaT   \n",
       "3   968417082   2015-12-31 2020-11-04 23:30:00          NaT   \n",
       "4   641637920   2015-12-31 2020-11-04 23:25:00   2015-12-31   \n",
       "\n",
       "         CMPLNT_TO_TM     RPT_DT  KY_CD                        OFNS_DESC  \\\n",
       "0                 NaT 2015-12-31    113                          FORGERY   \n",
       "1                 NaT 2015-12-31    101  MURDER & NON-NEGL. MANSLAUGHTER   \n",
       "2                 NaT 2015-12-31    117                  DANGEROUS DRUGS   \n",
       "3                 NaT 2015-12-31    344     ASSAULT 3 & RELATED OFFENSES   \n",
       "4 2020-11-04 23:30:00 2015-12-31    344     ASSAULT 3 & RELATED OFFENSES   \n",
       "\n",
       "   PD_CD                         PD_DESC  ... LOC_OF_OCCUR_DESC  \\\n",
       "0  729.0  FORGERY,ETC.,UNCLASSIFIED-FELO  ...            INSIDE   \n",
       "1    NaN                             NaN  ...           OUTSIDE   \n",
       "2  503.0  CONTROLLED SUBSTANCE,INTENT TO  ...               NaN   \n",
       "3  101.0                       ASSAULT 3  ...            INSIDE   \n",
       "4  101.0                       ASSAULT 3  ...          FRONT OF   \n",
       "\n",
       "     PREM_TYP_DESC PARKS_NM HADEVELOPT  X_COORD_CD Y_COORD_CD   Latitude  \\\n",
       "0   BAR/NIGHT CLUB      NaN        NaN   1007314.0   241257.0  40.828848   \n",
       "1              NaN      NaN        NaN   1043991.0   193406.0  40.697338   \n",
       "2            OTHER      NaN        NaN    999463.0   231690.0  40.802607   \n",
       "3  RESIDENCE-HOUSE      NaN        NaN   1060183.0   177862.0  40.654549   \n",
       "4            OTHER      NaN        NaN    987606.0   208148.0  40.738002   \n",
       "\n",
       "   Longitude                        Lat_Lon  duracao_da_ocorrencia  \n",
       "0 -73.916661  (40.828848333, -73.916661142)                    NaT  \n",
       "1 -73.784557  (40.697338138, -73.784556739)                    NaT  \n",
       "2 -73.945052  (40.802606608, -73.945051911)                    NaT  \n",
       "3 -73.726339  (40.654549444, -73.726338791)                    NaT  \n",
       "4 -73.987891     (40.7380024, -73.98789129)               00:05:00  \n",
       "\n",
       "[5 rows x 25 columns]"
      ]
     },
     "execution_count": 11,
     "metadata": {},
     "output_type": "execute_result"
    }
   ],
   "source": [
    "ny_datetime.head()"
   ]
  },
  {
   "cell_type": "markdown",
   "metadata": {},
   "source": [
    "## Selecionando colunas do DataFrame \"ny_datetime\"\n",
    "\n",
    "Utilizamos o DataFrame \"ny_datetime\" , que ja tem as colunas convertidas para o padrão datetime.\n",
    "\n",
    "Por meio do metodo iloc ,selecinamos as colunas que tem informaçoes uteis, relacionadas aos delitos praticados.\n",
    "\n",
    " "
   ]
  },
  {
   "cell_type": "code",
   "execution_count": 12,
   "metadata": {
    "id": "fLel0eNGmye4"
   },
   "outputs": [],
   "source": [
    "select_ny = ny_datetime.iloc[:, [1,2,3,4,5,7,10,11,12,13,15,16,24]]"
   ]
  },
  {
   "cell_type": "markdown",
   "metadata": {},
   "source": [
    "## Renomeando as colunas do DataFrame select_ny"
   ]
  },
  {
   "cell_type": "code",
   "execution_count": 13,
   "metadata": {},
   "outputs": [],
   "source": [
    "select_ny.columns = ['data_da_ocorrencia','hora_da_ocorrencia','data_final_da_ocorrencia', \n",
    "                     'hora_termino_da_ocorrencia','data_comunicacao_policia',\n",
    "                     'descricao_da_ofensa','conclusao','nivel_de_ofensa','jurisdicao','bairro','local_da_ocorrencia'\n",
    "                    ,'descricao_das_intalacoes','duracao_da_ocorrencia']"
   ]
  },
  {
   "cell_type": "code",
   "execution_count": 14,
   "metadata": {},
   "outputs": [
    {
     "data": {
      "text/html": [
       "<div>\n",
       "<style scoped>\n",
       "    .dataframe tbody tr th:only-of-type {\n",
       "        vertical-align: middle;\n",
       "    }\n",
       "\n",
       "    .dataframe tbody tr th {\n",
       "        vertical-align: top;\n",
       "    }\n",
       "\n",
       "    .dataframe thead th {\n",
       "        text-align: right;\n",
       "    }\n",
       "</style>\n",
       "<table border=\"1\" class=\"dataframe\">\n",
       "  <thead>\n",
       "    <tr style=\"text-align: right;\">\n",
       "      <th></th>\n",
       "      <th>data_da_ocorrencia</th>\n",
       "      <th>hora_da_ocorrencia</th>\n",
       "      <th>data_final_da_ocorrencia</th>\n",
       "      <th>hora_termino_da_ocorrencia</th>\n",
       "      <th>data_comunicacao_policia</th>\n",
       "      <th>descricao_da_ofensa</th>\n",
       "      <th>conclusao</th>\n",
       "      <th>nivel_de_ofensa</th>\n",
       "      <th>jurisdicao</th>\n",
       "      <th>bairro</th>\n",
       "      <th>local_da_ocorrencia</th>\n",
       "      <th>descricao_das_intalacoes</th>\n",
       "      <th>duracao_da_ocorrencia</th>\n",
       "    </tr>\n",
       "  </thead>\n",
       "  <tbody>\n",
       "    <tr>\n",
       "      <th>0</th>\n",
       "      <td>2015-12-31</td>\n",
       "      <td>2020-11-04 23:45:00</td>\n",
       "      <td>NaT</td>\n",
       "      <td>NaT</td>\n",
       "      <td>2015-12-31</td>\n",
       "      <td>FORGERY</td>\n",
       "      <td>COMPLETED</td>\n",
       "      <td>FELONY</td>\n",
       "      <td>N.Y. POLICE DEPT</td>\n",
       "      <td>BRONX</td>\n",
       "      <td>INSIDE</td>\n",
       "      <td>BAR/NIGHT CLUB</td>\n",
       "      <td>NaT</td>\n",
       "    </tr>\n",
       "    <tr>\n",
       "      <th>1</th>\n",
       "      <td>2015-12-31</td>\n",
       "      <td>2020-11-04 23:36:00</td>\n",
       "      <td>NaT</td>\n",
       "      <td>NaT</td>\n",
       "      <td>2015-12-31</td>\n",
       "      <td>MURDER &amp; NON-NEGL. MANSLAUGHTER</td>\n",
       "      <td>COMPLETED</td>\n",
       "      <td>FELONY</td>\n",
       "      <td>N.Y. POLICE DEPT</td>\n",
       "      <td>QUEENS</td>\n",
       "      <td>OUTSIDE</td>\n",
       "      <td>NaN</td>\n",
       "      <td>NaT</td>\n",
       "    </tr>\n",
       "    <tr>\n",
       "      <th>2</th>\n",
       "      <td>2015-12-31</td>\n",
       "      <td>2020-11-04 23:30:00</td>\n",
       "      <td>NaT</td>\n",
       "      <td>NaT</td>\n",
       "      <td>2015-12-31</td>\n",
       "      <td>DANGEROUS DRUGS</td>\n",
       "      <td>COMPLETED</td>\n",
       "      <td>FELONY</td>\n",
       "      <td>N.Y. POLICE DEPT</td>\n",
       "      <td>MANHATTAN</td>\n",
       "      <td>NaN</td>\n",
       "      <td>OTHER</td>\n",
       "      <td>NaT</td>\n",
       "    </tr>\n",
       "    <tr>\n",
       "      <th>3</th>\n",
       "      <td>2015-12-31</td>\n",
       "      <td>2020-11-04 23:30:00</td>\n",
       "      <td>NaT</td>\n",
       "      <td>NaT</td>\n",
       "      <td>2015-12-31</td>\n",
       "      <td>ASSAULT 3 &amp; RELATED OFFENSES</td>\n",
       "      <td>COMPLETED</td>\n",
       "      <td>MISDEMEANOR</td>\n",
       "      <td>N.Y. POLICE DEPT</td>\n",
       "      <td>QUEENS</td>\n",
       "      <td>INSIDE</td>\n",
       "      <td>RESIDENCE-HOUSE</td>\n",
       "      <td>NaT</td>\n",
       "    </tr>\n",
       "    <tr>\n",
       "      <th>4</th>\n",
       "      <td>2015-12-31</td>\n",
       "      <td>2020-11-04 23:25:00</td>\n",
       "      <td>2015-12-31</td>\n",
       "      <td>2020-11-04 23:30:00</td>\n",
       "      <td>2015-12-31</td>\n",
       "      <td>ASSAULT 3 &amp; RELATED OFFENSES</td>\n",
       "      <td>COMPLETED</td>\n",
       "      <td>MISDEMEANOR</td>\n",
       "      <td>N.Y. POLICE DEPT</td>\n",
       "      <td>MANHATTAN</td>\n",
       "      <td>FRONT OF</td>\n",
       "      <td>OTHER</td>\n",
       "      <td>00:05:00</td>\n",
       "    </tr>\n",
       "  </tbody>\n",
       "</table>\n",
       "</div>"
      ],
      "text/plain": [
       "  data_da_ocorrencia  hora_da_ocorrencia data_final_da_ocorrencia  \\\n",
       "0         2015-12-31 2020-11-04 23:45:00                      NaT   \n",
       "1         2015-12-31 2020-11-04 23:36:00                      NaT   \n",
       "2         2015-12-31 2020-11-04 23:30:00                      NaT   \n",
       "3         2015-12-31 2020-11-04 23:30:00                      NaT   \n",
       "4         2015-12-31 2020-11-04 23:25:00               2015-12-31   \n",
       "\n",
       "  hora_termino_da_ocorrencia data_comunicacao_policia  \\\n",
       "0                        NaT               2015-12-31   \n",
       "1                        NaT               2015-12-31   \n",
       "2                        NaT               2015-12-31   \n",
       "3                        NaT               2015-12-31   \n",
       "4        2020-11-04 23:30:00               2015-12-31   \n",
       "\n",
       "               descricao_da_ofensa  conclusao nivel_de_ofensa  \\\n",
       "0                          FORGERY  COMPLETED          FELONY   \n",
       "1  MURDER & NON-NEGL. MANSLAUGHTER  COMPLETED          FELONY   \n",
       "2                  DANGEROUS DRUGS  COMPLETED          FELONY   \n",
       "3     ASSAULT 3 & RELATED OFFENSES  COMPLETED     MISDEMEANOR   \n",
       "4     ASSAULT 3 & RELATED OFFENSES  COMPLETED     MISDEMEANOR   \n",
       "\n",
       "         jurisdicao     bairro local_da_ocorrencia descricao_das_intalacoes  \\\n",
       "0  N.Y. POLICE DEPT      BRONX              INSIDE           BAR/NIGHT CLUB   \n",
       "1  N.Y. POLICE DEPT     QUEENS             OUTSIDE                      NaN   \n",
       "2  N.Y. POLICE DEPT  MANHATTAN                 NaN                    OTHER   \n",
       "3  N.Y. POLICE DEPT     QUEENS              INSIDE          RESIDENCE-HOUSE   \n",
       "4  N.Y. POLICE DEPT  MANHATTAN            FRONT OF                    OTHER   \n",
       "\n",
       "  duracao_da_ocorrencia  \n",
       "0                   NaT  \n",
       "1                   NaT  \n",
       "2                   NaT  \n",
       "3                   NaT  \n",
       "4              00:05:00  "
      ]
     },
     "execution_count": 14,
     "metadata": {},
     "output_type": "execute_result"
    }
   ],
   "source": [
    "select_ny.head()"
   ]
  },
  {
   "cell_type": "markdown",
   "metadata": {},
   "source": [
    "### Alterando dados do DataFrame \"select_ny\""
   ]
  },
  {
   "cell_type": "code",
   "execution_count": 15,
   "metadata": {},
   "outputs": [
    {
     "name": "stderr",
     "output_type": "stream",
     "text": [
      "<ipython-input-15-2337f2ea4e4e>:3: SettingWithCopyWarning: \n",
      "A value is trying to be set on a copy of a slice from a DataFrame.\n",
      "Try using .loc[row_indexer,col_indexer] = value instead\n",
      "\n",
      "See the caveats in the documentation: https://pandas.pydata.org/pandas-docs/stable/user_guide/indexing.html#returning-a-view-versus-a-copy\n",
      "  select_ny['conclusao'] = select_ny['conclusao'].map(new_conclusao)\n",
      "<ipython-input-15-2337f2ea4e4e>:7: SettingWithCopyWarning: \n",
      "A value is trying to be set on a copy of a slice from a DataFrame.\n",
      "Try using .loc[row_indexer,col_indexer] = value instead\n",
      "\n",
      "See the caveats in the documentation: https://pandas.pydata.org/pandas-docs/stable/user_guide/indexing.html#returning-a-view-versus-a-copy\n",
      "  select_ny['nivel_de_ofensa'] = select_ny['nivel_de_ofensa'].map(new_nivel_de_ofensa)\n",
      "<ipython-input-15-2337f2ea4e4e>:13: SettingWithCopyWarning: \n",
      "A value is trying to be set on a copy of a slice from a DataFrame.\n",
      "Try using .loc[row_indexer,col_indexer] = value instead\n",
      "\n",
      "See the caveats in the documentation: https://pandas.pydata.org/pandas-docs/stable/user_guide/indexing.html#returning-a-view-versus-a-copy\n",
      "  select_ny['local_da_ocorrencia'] = select_ny['local_da_ocorrencia'].map(new_local_da_ocorrencia)\n"
     ]
    }
   ],
   "source": [
    "# alterando os dados de  select_ny['conclusao']\n",
    "new_conclusao = {'ATTEMPTED': 'nao_concluido', 'COMPLETED': 'concluido' }\n",
    "select_ny['conclusao'] = select_ny['conclusao'].map(new_conclusao)\n",
    "\n",
    "# alterando os dados de  select_ny['nivel_de_ofensa']\n",
    "new_nivel_de_ofensa = {'MISDEMEANOR': \"contravencao\", 'FELONY': \"crime\", 'VIOLATION': \"violacao\" }\n",
    "select_ny['nivel_de_ofensa'] = select_ny['nivel_de_ofensa'].map(new_nivel_de_ofensa)\n",
    "\n",
    "\n",
    "# alterando os dados de  select_ny['local_da_ocorrencia']\n",
    "new_local_da_ocorrencia = {'INSIDE': \"dentro\", 'FRONT OF': \"em_frente\", 'OPPOSITE OF': \"oposto\", \n",
    "                           'REAR OF': \"atras\", 'OUTSIDE': \"fora\" }\n",
    "select_ny['local_da_ocorrencia'] = select_ny['local_da_ocorrencia'].map(new_local_da_ocorrencia)"
   ]
  },
  {
   "cell_type": "markdown",
   "metadata": {},
   "source": [
    "### Reordenando as colunas do DataFrame"
   ]
  },
  {
   "cell_type": "code",
   "execution_count": 16,
   "metadata": {},
   "outputs": [
    {
     "data": {
      "text/html": [
       "<div>\n",
       "<style scoped>\n",
       "    .dataframe tbody tr th:only-of-type {\n",
       "        vertical-align: middle;\n",
       "    }\n",
       "\n",
       "    .dataframe tbody tr th {\n",
       "        vertical-align: top;\n",
       "    }\n",
       "\n",
       "    .dataframe thead th {\n",
       "        text-align: right;\n",
       "    }\n",
       "</style>\n",
       "<table border=\"1\" class=\"dataframe\">\n",
       "  <thead>\n",
       "    <tr style=\"text-align: right;\">\n",
       "      <th></th>\n",
       "      <th>data_da_ocorrencia</th>\n",
       "      <th>data_final_da_ocorrencia</th>\n",
       "      <th>data_comunicacao_policia</th>\n",
       "      <th>hora_da_ocorrencia</th>\n",
       "      <th>hora_termino_da_ocorrencia</th>\n",
       "      <th>duracao_da_ocorrencia</th>\n",
       "      <th>descricao_da_ofensa</th>\n",
       "      <th>conclusao</th>\n",
       "      <th>nivel_de_ofensa</th>\n",
       "      <th>jurisdicao</th>\n",
       "      <th>bairro</th>\n",
       "      <th>local_da_ocorrencia</th>\n",
       "      <th>descricao_das_intalacoes</th>\n",
       "    </tr>\n",
       "  </thead>\n",
       "  <tbody>\n",
       "    <tr>\n",
       "      <th>0</th>\n",
       "      <td>2015-12-31</td>\n",
       "      <td>NaT</td>\n",
       "      <td>2015-12-31</td>\n",
       "      <td>2020-11-04 23:45:00</td>\n",
       "      <td>NaT</td>\n",
       "      <td>NaT</td>\n",
       "      <td>FORGERY</td>\n",
       "      <td>concluido</td>\n",
       "      <td>crime</td>\n",
       "      <td>N.Y. POLICE DEPT</td>\n",
       "      <td>BRONX</td>\n",
       "      <td>dentro</td>\n",
       "      <td>BAR/NIGHT CLUB</td>\n",
       "    </tr>\n",
       "    <tr>\n",
       "      <th>1</th>\n",
       "      <td>2015-12-31</td>\n",
       "      <td>NaT</td>\n",
       "      <td>2015-12-31</td>\n",
       "      <td>2020-11-04 23:36:00</td>\n",
       "      <td>NaT</td>\n",
       "      <td>NaT</td>\n",
       "      <td>MURDER &amp; NON-NEGL. MANSLAUGHTER</td>\n",
       "      <td>concluido</td>\n",
       "      <td>crime</td>\n",
       "      <td>N.Y. POLICE DEPT</td>\n",
       "      <td>QUEENS</td>\n",
       "      <td>fora</td>\n",
       "      <td>NaN</td>\n",
       "    </tr>\n",
       "    <tr>\n",
       "      <th>2</th>\n",
       "      <td>2015-12-31</td>\n",
       "      <td>NaT</td>\n",
       "      <td>2015-12-31</td>\n",
       "      <td>2020-11-04 23:30:00</td>\n",
       "      <td>NaT</td>\n",
       "      <td>NaT</td>\n",
       "      <td>DANGEROUS DRUGS</td>\n",
       "      <td>concluido</td>\n",
       "      <td>crime</td>\n",
       "      <td>N.Y. POLICE DEPT</td>\n",
       "      <td>MANHATTAN</td>\n",
       "      <td>NaN</td>\n",
       "      <td>OTHER</td>\n",
       "    </tr>\n",
       "    <tr>\n",
       "      <th>3</th>\n",
       "      <td>2015-12-31</td>\n",
       "      <td>NaT</td>\n",
       "      <td>2015-12-31</td>\n",
       "      <td>2020-11-04 23:30:00</td>\n",
       "      <td>NaT</td>\n",
       "      <td>NaT</td>\n",
       "      <td>ASSAULT 3 &amp; RELATED OFFENSES</td>\n",
       "      <td>concluido</td>\n",
       "      <td>contravencao</td>\n",
       "      <td>N.Y. POLICE DEPT</td>\n",
       "      <td>QUEENS</td>\n",
       "      <td>dentro</td>\n",
       "      <td>RESIDENCE-HOUSE</td>\n",
       "    </tr>\n",
       "    <tr>\n",
       "      <th>4</th>\n",
       "      <td>2015-12-31</td>\n",
       "      <td>2015-12-31</td>\n",
       "      <td>2015-12-31</td>\n",
       "      <td>2020-11-04 23:25:00</td>\n",
       "      <td>2020-11-04 23:30:00</td>\n",
       "      <td>00:05:00</td>\n",
       "      <td>ASSAULT 3 &amp; RELATED OFFENSES</td>\n",
       "      <td>concluido</td>\n",
       "      <td>contravencao</td>\n",
       "      <td>N.Y. POLICE DEPT</td>\n",
       "      <td>MANHATTAN</td>\n",
       "      <td>em_frente</td>\n",
       "      <td>OTHER</td>\n",
       "    </tr>\n",
       "    <tr>\n",
       "      <th>...</th>\n",
       "      <td>...</td>\n",
       "      <td>...</td>\n",
       "      <td>...</td>\n",
       "      <td>...</td>\n",
       "      <td>...</td>\n",
       "      <td>...</td>\n",
       "      <td>...</td>\n",
       "      <td>...</td>\n",
       "      <td>...</td>\n",
       "      <td>...</td>\n",
       "      <td>...</td>\n",
       "      <td>...</td>\n",
       "      <td>...</td>\n",
       "    </tr>\n",
       "    <tr>\n",
       "      <th>1048570</th>\n",
       "      <td>2013-11-01</td>\n",
       "      <td>2013-11-01</td>\n",
       "      <td>2013-11-01</td>\n",
       "      <td>2020-11-04 20:30:00</td>\n",
       "      <td>2020-11-04 21:00:00</td>\n",
       "      <td>00:30:00</td>\n",
       "      <td>PETIT LARCENY</td>\n",
       "      <td>concluido</td>\n",
       "      <td>contravencao</td>\n",
       "      <td>N.Y. POLICE DEPT</td>\n",
       "      <td>BRONX</td>\n",
       "      <td>dentro</td>\n",
       "      <td>RESIDENCE - APT. HOUSE</td>\n",
       "    </tr>\n",
       "    <tr>\n",
       "      <th>1048571</th>\n",
       "      <td>2013-11-01</td>\n",
       "      <td>2013-11-01</td>\n",
       "      <td>2013-11-01</td>\n",
       "      <td>2020-11-04 20:28:00</td>\n",
       "      <td>2020-11-04 20:31:00</td>\n",
       "      <td>00:03:00</td>\n",
       "      <td>ASSAULT 3 &amp; RELATED OFFENSES</td>\n",
       "      <td>concluido</td>\n",
       "      <td>contravencao</td>\n",
       "      <td>N.Y. POLICE DEPT</td>\n",
       "      <td>BROOKLYN</td>\n",
       "      <td>em_frente</td>\n",
       "      <td>GROCERY/BODEGA</td>\n",
       "    </tr>\n",
       "    <tr>\n",
       "      <th>1048572</th>\n",
       "      <td>2013-11-01</td>\n",
       "      <td>NaT</td>\n",
       "      <td>2013-11-01</td>\n",
       "      <td>2020-11-04 20:25:00</td>\n",
       "      <td>NaT</td>\n",
       "      <td>NaT</td>\n",
       "      <td>CRIMINAL MISCHIEF &amp; RELATED OF</td>\n",
       "      <td>concluido</td>\n",
       "      <td>crime</td>\n",
       "      <td>N.Y. POLICE DEPT</td>\n",
       "      <td>MANHATTAN</td>\n",
       "      <td>dentro</td>\n",
       "      <td>FAST FOOD</td>\n",
       "    </tr>\n",
       "    <tr>\n",
       "      <th>1048573</th>\n",
       "      <td>2013-11-01</td>\n",
       "      <td>2013-11-01</td>\n",
       "      <td>2013-11-01</td>\n",
       "      <td>2020-11-04 20:25:00</td>\n",
       "      <td>2020-11-04 20:45:00</td>\n",
       "      <td>00:20:00</td>\n",
       "      <td>DANGEROUS DRUGS</td>\n",
       "      <td>concluido</td>\n",
       "      <td>contravencao</td>\n",
       "      <td>N.Y. POLICE DEPT</td>\n",
       "      <td>BRONX</td>\n",
       "      <td>em_frente</td>\n",
       "      <td>STREET</td>\n",
       "    </tr>\n",
       "    <tr>\n",
       "      <th>1048574</th>\n",
       "      <td>2013-11-01</td>\n",
       "      <td>2013-11-01</td>\n",
       "      <td>2013-11-01</td>\n",
       "      <td>2020-11-04 20:25:00</td>\n",
       "      <td>2020-11-04 20:30:00</td>\n",
       "      <td>00:05:00</td>\n",
       "      <td>DANGEROUS WEAPONS</td>\n",
       "      <td>concluido</td>\n",
       "      <td>contravencao</td>\n",
       "      <td>N.Y. TRANSIT POLICE</td>\n",
       "      <td>MANHATTAN</td>\n",
       "      <td>NaN</td>\n",
       "      <td>TRANSIT - NYC SUBWAY</td>\n",
       "    </tr>\n",
       "  </tbody>\n",
       "</table>\n",
       "<p>1048575 rows × 13 columns</p>\n",
       "</div>"
      ],
      "text/plain": [
       "        data_da_ocorrencia data_final_da_ocorrencia data_comunicacao_policia  \\\n",
       "0               2015-12-31                      NaT               2015-12-31   \n",
       "1               2015-12-31                      NaT               2015-12-31   \n",
       "2               2015-12-31                      NaT               2015-12-31   \n",
       "3               2015-12-31                      NaT               2015-12-31   \n",
       "4               2015-12-31               2015-12-31               2015-12-31   \n",
       "...                    ...                      ...                      ...   \n",
       "1048570         2013-11-01               2013-11-01               2013-11-01   \n",
       "1048571         2013-11-01               2013-11-01               2013-11-01   \n",
       "1048572         2013-11-01                      NaT               2013-11-01   \n",
       "1048573         2013-11-01               2013-11-01               2013-11-01   \n",
       "1048574         2013-11-01               2013-11-01               2013-11-01   \n",
       "\n",
       "         hora_da_ocorrencia hora_termino_da_ocorrencia duracao_da_ocorrencia  \\\n",
       "0       2020-11-04 23:45:00                        NaT                   NaT   \n",
       "1       2020-11-04 23:36:00                        NaT                   NaT   \n",
       "2       2020-11-04 23:30:00                        NaT                   NaT   \n",
       "3       2020-11-04 23:30:00                        NaT                   NaT   \n",
       "4       2020-11-04 23:25:00        2020-11-04 23:30:00              00:05:00   \n",
       "...                     ...                        ...                   ...   \n",
       "1048570 2020-11-04 20:30:00        2020-11-04 21:00:00              00:30:00   \n",
       "1048571 2020-11-04 20:28:00        2020-11-04 20:31:00              00:03:00   \n",
       "1048572 2020-11-04 20:25:00                        NaT                   NaT   \n",
       "1048573 2020-11-04 20:25:00        2020-11-04 20:45:00              00:20:00   \n",
       "1048574 2020-11-04 20:25:00        2020-11-04 20:30:00              00:05:00   \n",
       "\n",
       "                     descricao_da_ofensa  conclusao nivel_de_ofensa  \\\n",
       "0                                FORGERY  concluido           crime   \n",
       "1        MURDER & NON-NEGL. MANSLAUGHTER  concluido           crime   \n",
       "2                        DANGEROUS DRUGS  concluido           crime   \n",
       "3           ASSAULT 3 & RELATED OFFENSES  concluido    contravencao   \n",
       "4           ASSAULT 3 & RELATED OFFENSES  concluido    contravencao   \n",
       "...                                  ...        ...             ...   \n",
       "1048570                    PETIT LARCENY  concluido    contravencao   \n",
       "1048571     ASSAULT 3 & RELATED OFFENSES  concluido    contravencao   \n",
       "1048572   CRIMINAL MISCHIEF & RELATED OF  concluido           crime   \n",
       "1048573                  DANGEROUS DRUGS  concluido    contravencao   \n",
       "1048574                DANGEROUS WEAPONS  concluido    contravencao   \n",
       "\n",
       "                  jurisdicao     bairro local_da_ocorrencia  \\\n",
       "0           N.Y. POLICE DEPT      BRONX              dentro   \n",
       "1           N.Y. POLICE DEPT     QUEENS                fora   \n",
       "2           N.Y. POLICE DEPT  MANHATTAN                 NaN   \n",
       "3           N.Y. POLICE DEPT     QUEENS              dentro   \n",
       "4           N.Y. POLICE DEPT  MANHATTAN           em_frente   \n",
       "...                      ...        ...                 ...   \n",
       "1048570     N.Y. POLICE DEPT      BRONX              dentro   \n",
       "1048571     N.Y. POLICE DEPT   BROOKLYN           em_frente   \n",
       "1048572     N.Y. POLICE DEPT  MANHATTAN              dentro   \n",
       "1048573     N.Y. POLICE DEPT      BRONX           em_frente   \n",
       "1048574  N.Y. TRANSIT POLICE  MANHATTAN                 NaN   \n",
       "\n",
       "        descricao_das_intalacoes  \n",
       "0                 BAR/NIGHT CLUB  \n",
       "1                            NaN  \n",
       "2                          OTHER  \n",
       "3                RESIDENCE-HOUSE  \n",
       "4                          OTHER  \n",
       "...                          ...  \n",
       "1048570   RESIDENCE - APT. HOUSE  \n",
       "1048571           GROCERY/BODEGA  \n",
       "1048572                FAST FOOD  \n",
       "1048573                   STREET  \n",
       "1048574     TRANSIT - NYC SUBWAY  \n",
       "\n",
       "[1048575 rows x 13 columns]"
      ]
     },
     "execution_count": 16,
     "metadata": {},
     "output_type": "execute_result"
    }
   ],
   "source": [
    "select_ny = select_ny[['data_da_ocorrencia', 'data_final_da_ocorrencia', 'data_comunicacao_policia','hora_da_ocorrencia',\n",
    "                       'hora_termino_da_ocorrencia', 'duracao_da_ocorrencia','descricao_da_ofensa',\n",
    "                       'conclusao', 'nivel_de_ofensa', 'jurisdicao','bairro', 'local_da_ocorrencia', 'descricao_das_intalacoes']]\n",
    "\n",
    "select_ny"
   ]
  },
  {
   "cell_type": "markdown",
   "metadata": {},
   "source": [
    "### Eliminando a data das colunas \"hora_da_ocorrencia\" e \"hora_termino_da_ocorrencia\"\n"
   ]
  },
  {
   "cell_type": "code",
   "execution_count": null,
   "metadata": {},
   "outputs": [],
   "source": []
  },
  {
   "cell_type": "markdown",
   "metadata": {},
   "source": [
    "# Tratando os dados e excluindo valores nulos"
   ]
  },
  {
   "cell_type": "markdown",
   "metadata": {},
   "source": [
    "## Gerando o DataFrame \" df \" , excluindos os valores \"NaN\"\n",
    "\n",
    " \n",
    "Aqui os dados nulos serão analisados se podem ser excluidos sem haver perdas grandes com relação as informações passadas ."
   ]
  },
  {
   "cell_type": "code",
   "execution_count": 17,
   "metadata": {},
   "outputs": [],
   "source": [
    "df = select_ny.dropna(subset = ['data_da_ocorrencia','data_final_da_ocorrencia' ,'hora_termino_da_ocorrencia','descricao_da_ofensa'])"
   ]
  },
  {
   "cell_type": "code",
   "execution_count": 18,
   "metadata": {},
   "outputs": [
    {
     "name": "stdout",
     "output_type": "stream",
     "text": [
      "<class 'pandas.core.frame.DataFrame'>\n",
      "Int64Index: 840206 entries, 4 to 1048574\n",
      "Data columns (total 13 columns):\n",
      " #   Column                      Non-Null Count   Dtype          \n",
      "---  ------                      --------------   -----          \n",
      " 0   data_da_ocorrencia          840206 non-null  datetime64[ns] \n",
      " 1   data_final_da_ocorrencia    840206 non-null  datetime64[ns] \n",
      " 2   data_comunicacao_policia    840206 non-null  datetime64[ns] \n",
      " 3   hora_da_ocorrencia          840206 non-null  datetime64[ns] \n",
      " 4   hora_termino_da_ocorrencia  840206 non-null  datetime64[ns] \n",
      " 5   duracao_da_ocorrencia       840206 non-null  timedelta64[ns]\n",
      " 6   descricao_da_ofensa         840206 non-null  object         \n",
      " 7   conclusao                   840206 non-null  object         \n",
      " 8   nivel_de_ofensa             840206 non-null  object         \n",
      " 9   jurisdicao                  840206 non-null  object         \n",
      " 10  bairro                      840206 non-null  object         \n",
      " 11  local_da_ocorrencia         670053 non-null  object         \n",
      " 12  descricao_das_intalacoes    836977 non-null  object         \n",
      "dtypes: datetime64[ns](5), object(7), timedelta64[ns](1)\n",
      "memory usage: 89.7+ MB\n"
     ]
    }
   ],
   "source": [
    "df.info()"
   ]
  },
  {
   "cell_type": "markdown",
   "metadata": {},
   "source": [
    "## Verificando a porcentagem da redução dos delitos após excluir alguns valores nulos do DataFrame \"select_ny\" ."
   ]
  },
  {
   "cell_type": "markdown",
   "metadata": {},
   "source": [
    "### Conclusao x quantidade  utilizando \"select_ny\" "
   ]
  },
  {
   "cell_type": "markdown",
   "metadata": {},
   "source": [
    "Cálculo da quantidade de delitos conluidos x não concluidos.\n",
    "\n",
    "Criando o DataFrame \"delitos\", referente aos delitos do DataFrame \"select_ny\"."
   ]
  },
  {
   "cell_type": "code",
   "execution_count": 19,
   "metadata": {},
   "outputs": [
    {
     "data": {
      "text/html": [
       "<div>\n",
       "<style scoped>\n",
       "    .dataframe tbody tr th:only-of-type {\n",
       "        vertical-align: middle;\n",
       "    }\n",
       "\n",
       "    .dataframe tbody tr th {\n",
       "        vertical-align: top;\n",
       "    }\n",
       "\n",
       "    .dataframe thead th {\n",
       "        text-align: right;\n",
       "    }\n",
       "</style>\n",
       "<table border=\"1\" class=\"dataframe\">\n",
       "  <thead>\n",
       "    <tr style=\"text-align: right;\">\n",
       "      <th></th>\n",
       "      <th>conclusao</th>\n",
       "      <th>quantidade_select_ny</th>\n",
       "    </tr>\n",
       "  </thead>\n",
       "  <tbody>\n",
       "    <tr>\n",
       "      <th>0</th>\n",
       "      <td>concluido</td>\n",
       "      <td>1029816</td>\n",
       "    </tr>\n",
       "    <tr>\n",
       "      <th>1</th>\n",
       "      <td>nao_concluido</td>\n",
       "      <td>18758</td>\n",
       "    </tr>\n",
       "  </tbody>\n",
       "</table>\n",
       "</div>"
      ],
      "text/plain": [
       "       conclusao  quantidade_select_ny\n",
       "0      concluido               1029816\n",
       "1  nao_concluido                 18758"
      ]
     },
     "execution_count": 19,
     "metadata": {},
     "output_type": "execute_result"
    }
   ],
   "source": [
    "\n",
    "delitos = select_ny.conclusao.value_counts().to_frame().reset_index()\n",
    "delitos.columns = ['conclusao' , 'quantidade_select_ny']\n",
    "delitos"
   ]
  },
  {
   "cell_type": "markdown",
   "metadata": {},
   "source": [
    "### Conclusao x quantidade  utilizando \" df \" "
   ]
  },
  {
   "cell_type": "markdown",
   "metadata": {},
   "source": [
    "Cálculo da quantidade de delitos conluidos x não concluidos.\n",
    "\n",
    "Criando o DataFrame \"delitos_df\", referente aos delitos do DataFrame \"df \" ."
   ]
  },
  {
   "cell_type": "code",
   "execution_count": 20,
   "metadata": {},
   "outputs": [
    {
     "data": {
      "text/html": [
       "<div>\n",
       "<style scoped>\n",
       "    .dataframe tbody tr th:only-of-type {\n",
       "        vertical-align: middle;\n",
       "    }\n",
       "\n",
       "    .dataframe tbody tr th {\n",
       "        vertical-align: top;\n",
       "    }\n",
       "\n",
       "    .dataframe thead th {\n",
       "        text-align: right;\n",
       "    }\n",
       "</style>\n",
       "<table border=\"1\" class=\"dataframe\">\n",
       "  <thead>\n",
       "    <tr style=\"text-align: right;\">\n",
       "      <th></th>\n",
       "      <th>conclusao</th>\n",
       "      <th>quantidade_df</th>\n",
       "    </tr>\n",
       "  </thead>\n",
       "  <tbody>\n",
       "    <tr>\n",
       "      <th>0</th>\n",
       "      <td>concluido</td>\n",
       "      <td>824822</td>\n",
       "    </tr>\n",
       "    <tr>\n",
       "      <th>1</th>\n",
       "      <td>nao_concluido</td>\n",
       "      <td>15384</td>\n",
       "    </tr>\n",
       "  </tbody>\n",
       "</table>\n",
       "</div>"
      ],
      "text/plain": [
       "       conclusao  quantidade_df\n",
       "0      concluido         824822\n",
       "1  nao_concluido          15384"
      ]
     },
     "execution_count": 20,
     "metadata": {},
     "output_type": "execute_result"
    }
   ],
   "source": [
    "delitos_df = df.conclusao.value_counts().to_frame().reset_index()\n",
    "delitos_df.columns = ['conclusao' , 'quantidade_df']\n",
    "delitos_df"
   ]
  },
  {
   "cell_type": "markdown",
   "metadata": {},
   "source": [
    "### Visualizando a redução do número de delitos % ( select_ny x df )"
   ]
  },
  {
   "cell_type": "markdown",
   "metadata": {},
   "source": [
    "Criando a variável \"redução\", referente a % da redução dos delitos dos DataFrames \"select_ny\" e \"ny\".\n"
   ]
  },
  {
   "cell_type": "code",
   "execution_count": 21,
   "metadata": {},
   "outputs": [],
   "source": [
    "# redução do numero de registros em %\n",
    "reducao = 100 - ((delitos_df.quantidade_df / delitos.quantidade_select_ny) * 100)"
   ]
  },
  {
   "cell_type": "markdown",
   "metadata": {},
   "source": [
    "- Adicionando a coluna \"redução_%\" ao DataFrame \"delitos\""
   ]
  },
  {
   "cell_type": "code",
   "execution_count": 22,
   "metadata": {},
   "outputs": [],
   "source": [
    "delitos['reducao_%'] = reducao"
   ]
  },
  {
   "cell_type": "markdown",
   "metadata": {},
   "source": [
    " - Adicionando a coluna \"quantidade_df\", ao DataFrame \"delitos\",  referente a quantidade de delitos do DataFrame \"delitos_df\""
   ]
  },
  {
   "cell_type": "code",
   "execution_count": 23,
   "metadata": {},
   "outputs": [],
   "source": [
    "delitos['quantidade_df'] = delitos_df.quantidade_df"
   ]
  },
  {
   "cell_type": "code",
   "execution_count": 24,
   "metadata": {},
   "outputs": [],
   "source": [
    "delitos = delitos[['conclusao', 'quantidade_select_ny','quantidade_df', 'reducao_%']]"
   ]
  },
  {
   "cell_type": "markdown",
   "metadata": {},
   "source": [
    "### DataFrame \"delitos\", mostrando a redução apos excluir valores NaN"
   ]
  },
  {
   "cell_type": "code",
   "execution_count": 25,
   "metadata": {},
   "outputs": [
    {
     "data": {
      "text/plain": [
       "Index(['conclusao', 'quantidade_select_ny', 'quantidade_df', 'reducao_%'], dtype='object')"
      ]
     },
     "execution_count": 25,
     "metadata": {},
     "output_type": "execute_result"
    }
   ],
   "source": [
    "delitos.columns"
   ]
  },
  {
   "cell_type": "code",
   "execution_count": 26,
   "metadata": {},
   "outputs": [],
   "source": [
    "delitos = delitos.drop(columns = 'conclusao')"
   ]
  },
  {
   "cell_type": "code",
   "execution_count": 28,
   "metadata": {},
   "outputs": [
    {
     "data": {
      "text/html": [
       "<div>\n",
       "<style scoped>\n",
       "    .dataframe tbody tr th:only-of-type {\n",
       "        vertical-align: middle;\n",
       "    }\n",
       "\n",
       "    .dataframe tbody tr th {\n",
       "        vertical-align: top;\n",
       "    }\n",
       "\n",
       "    .dataframe thead th {\n",
       "        text-align: right;\n",
       "    }\n",
       "</style>\n",
       "<table border=\"1\" class=\"dataframe\">\n",
       "  <thead>\n",
       "    <tr style=\"text-align: right;\">\n",
       "      <th></th>\n",
       "      <th>quantidade_select_ny</th>\n",
       "      <th>quantidade_df</th>\n",
       "      <th>reducao_%</th>\n",
       "    </tr>\n",
       "  </thead>\n",
       "  <tbody>\n",
       "    <tr>\n",
       "      <th>0</th>\n",
       "      <td>1029816</td>\n",
       "      <td>824822</td>\n",
       "      <td>19.905886</td>\n",
       "    </tr>\n",
       "    <tr>\n",
       "      <th>1</th>\n",
       "      <td>18758</td>\n",
       "      <td>15384</td>\n",
       "      <td>17.986992</td>\n",
       "    </tr>\n",
       "  </tbody>\n",
       "</table>\n",
       "</div>"
      ],
      "text/plain": [
       "   quantidade_select_ny  quantidade_df  reducao_%\n",
       "0               1029816         824822  19.905886\n",
       "1                 18758          15384  17.986992"
      ]
     },
     "execution_count": 28,
     "metadata": {},
     "output_type": "execute_result"
    }
   ],
   "source": [
    "delitos"
   ]
  },
  {
   "cell_type": "code",
   "execution_count": 30,
   "metadata": {},
   "outputs": [],
   "source": [
    "delitos = delitos.drop(columns = 'reducao_%')"
   ]
  },
  {
   "cell_type": "code",
   "execution_count": 31,
   "metadata": {},
   "outputs": [
    {
     "data": {
      "text/html": [
       "<div>\n",
       "<style scoped>\n",
       "    .dataframe tbody tr th:only-of-type {\n",
       "        vertical-align: middle;\n",
       "    }\n",
       "\n",
       "    .dataframe tbody tr th {\n",
       "        vertical-align: top;\n",
       "    }\n",
       "\n",
       "    .dataframe thead th {\n",
       "        text-align: right;\n",
       "    }\n",
       "</style>\n",
       "<table border=\"1\" class=\"dataframe\">\n",
       "  <thead>\n",
       "    <tr style=\"text-align: right;\">\n",
       "      <th></th>\n",
       "      <th>quantidade_select_ny</th>\n",
       "      <th>quantidade_df</th>\n",
       "    </tr>\n",
       "  </thead>\n",
       "  <tbody>\n",
       "    <tr>\n",
       "      <th>0</th>\n",
       "      <td>1029816</td>\n",
       "      <td>824822</td>\n",
       "    </tr>\n",
       "    <tr>\n",
       "      <th>1</th>\n",
       "      <td>18758</td>\n",
       "      <td>15384</td>\n",
       "    </tr>\n",
       "  </tbody>\n",
       "</table>\n",
       "</div>"
      ],
      "text/plain": [
       "   quantidade_select_ny  quantidade_df\n",
       "0               1029816         824822\n",
       "1                 18758          15384"
      ]
     },
     "execution_count": 31,
     "metadata": {},
     "output_type": "execute_result"
    }
   ],
   "source": [
    "delitos"
   ]
  },
  {
   "cell_type": "code",
   "execution_count": 33,
   "metadata": {},
   "outputs": [],
   "source": [
    "delitos = delitos.T"
   ]
  },
  {
   "cell_type": "code",
   "execution_count": 34,
   "metadata": {},
   "outputs": [],
   "source": [
    "delitos.columns = ['concluido', 'nao_concluido']"
   ]
  },
  {
   "cell_type": "code",
   "execution_count": 35,
   "metadata": {},
   "outputs": [
    {
     "data": {
      "text/html": [
       "<div>\n",
       "<style scoped>\n",
       "    .dataframe tbody tr th:only-of-type {\n",
       "        vertical-align: middle;\n",
       "    }\n",
       "\n",
       "    .dataframe tbody tr th {\n",
       "        vertical-align: top;\n",
       "    }\n",
       "\n",
       "    .dataframe thead th {\n",
       "        text-align: right;\n",
       "    }\n",
       "</style>\n",
       "<table border=\"1\" class=\"dataframe\">\n",
       "  <thead>\n",
       "    <tr style=\"text-align: right;\">\n",
       "      <th></th>\n",
       "      <th>concluido</th>\n",
       "      <th>nao_concluido</th>\n",
       "    </tr>\n",
       "  </thead>\n",
       "  <tbody>\n",
       "    <tr>\n",
       "      <th>quantidade_select_ny</th>\n",
       "      <td>1029816</td>\n",
       "      <td>18758</td>\n",
       "    </tr>\n",
       "    <tr>\n",
       "      <th>quantidade_df</th>\n",
       "      <td>824822</td>\n",
       "      <td>15384</td>\n",
       "    </tr>\n",
       "  </tbody>\n",
       "</table>\n",
       "</div>"
      ],
      "text/plain": [
       "                      concluido  nao_concluido\n",
       "quantidade_select_ny    1029816          18758\n",
       "quantidade_df            824822          15384"
      ]
     },
     "execution_count": 35,
     "metadata": {},
     "output_type": "execute_result"
    }
   ],
   "source": [
    "delitos"
   ]
  },
  {
   "cell_type": "markdown",
   "metadata": {},
   "source": [
    "## Delitos concluidos x delitos não concluidos\n",
    "\n",
    "### Comparando os DataFrames \"select_ny\" e \"df\""
   ]
  },
  {
   "cell_type": "code",
   "execution_count": 36,
   "metadata": {},
   "outputs": [
    {
     "data": {
      "text/plain": [
       "<matplotlib.axes._subplots.AxesSubplot at 0x1574638e550>"
      ]
     },
     "execution_count": 36,
     "metadata": {},
     "output_type": "execute_result"
    },
    {
     "data": {
      "image/png": "[encoded data removed]",
      "text/plain": [
       "<Figure size 432x288 with 1 Axes>"
      ]
     },
     "metadata": {
      "needs_background": "light"
     },
     "output_type": "display_data"
    }
   ],
   "source": [
    "delitos.plot.bar()"
   ]
  },
  {
   "cell_type": "markdown",
   "metadata": {},
   "source": [
    "# Gerando algumas vizualizações de select_ny "
   ]
  },
  {
   "cell_type": "markdown",
   "metadata": {},
   "source": [
    "# Quantidade de delitos cometidos por bairros\n",
    " \n",
    " - Delitos_concluidos_por_bairros -- dataframe\n",
    " - Selecionando apenas os delitos concluídos"
   ]
  },
  {
   "cell_type": "code",
   "execution_count": 40,
   "metadata": {},
   "outputs": [],
   "source": [
    "delitos_concluidos_por_bairros = select_ny.query('conclusao == \"concluido\"')"
   ]
  },
  {
   "cell_type": "markdown",
   "metadata": {},
   "source": [
    " - Criando o DataFrame delitos_concluidos_por_bairros"
   ]
  },
  {
   "cell_type": "code",
   "execution_count": 41,
   "metadata": {},
   "outputs": [
    {
     "data": {
      "text/html": [
       "<div>\n",
       "<style scoped>\n",
       "    .dataframe tbody tr th:only-of-type {\n",
       "        vertical-align: middle;\n",
       "    }\n",
       "\n",
       "    .dataframe tbody tr th {\n",
       "        vertical-align: top;\n",
       "    }\n",
       "\n",
       "    .dataframe thead th {\n",
       "        text-align: right;\n",
       "    }\n",
       "</style>\n",
       "<table border=\"1\" class=\"dataframe\">\n",
       "  <thead>\n",
       "    <tr style=\"text-align: right;\">\n",
       "      <th></th>\n",
       "      <th>bairro</th>\n",
       "      <th>delitos_concluidos</th>\n",
       "    </tr>\n",
       "  </thead>\n",
       "  <tbody>\n",
       "    <tr>\n",
       "      <th>0</th>\n",
       "      <td>BROOKLYN</td>\n",
       "      <td>309645</td>\n",
       "    </tr>\n",
       "    <tr>\n",
       "      <th>1</th>\n",
       "      <td>MANHATTAN</td>\n",
       "      <td>240259</td>\n",
       "    </tr>\n",
       "    <tr>\n",
       "      <th>2</th>\n",
       "      <td>BRONX</td>\n",
       "      <td>223833</td>\n",
       "    </tr>\n",
       "    <tr>\n",
       "      <th>3</th>\n",
       "      <td>QUEENS</td>\n",
       "      <td>208015</td>\n",
       "    </tr>\n",
       "    <tr>\n",
       "      <th>4</th>\n",
       "      <td>STATEN ISLAND</td>\n",
       "      <td>48064</td>\n",
       "    </tr>\n",
       "  </tbody>\n",
       "</table>\n",
       "</div>"
      ],
      "text/plain": [
       "          bairro  delitos_concluidos\n",
       "0       BROOKLYN              309645\n",
       "1      MANHATTAN              240259\n",
       "2          BRONX              223833\n",
       "3         QUEENS              208015\n",
       "4  STATEN ISLAND               48064"
      ]
     },
     "execution_count": 41,
     "metadata": {},
     "output_type": "execute_result"
    }
   ],
   "source": [
    "delitos_concluidos_por_bairros_df = delitos_concluidos_por_bairros.bairro.value_counts()\n",
    "delitos_concluidos_por_bairros_df = delitos_concluidos_por_bairros_df.to_frame().reset_index()\n",
    "delitos_concluidos_por_bairros_df.columns = ['bairro' , 'delitos_concluidos']\n",
    "delitos_concluidos_por_bairros_df"
   ]
  },
  {
   "cell_type": "markdown",
   "metadata": {},
   "source": [
    "- Visualizando a quantidade d ddelitos em cada bairro"
   ]
  },
  {
   "cell_type": "code",
   "execution_count": 43,
   "metadata": {},
   "outputs": [
    {
     "data": {
      "text/plain": [
       "<matplotlib.axes._subplots.AxesSubplot at 0x15746468550>"
      ]
     },
     "execution_count": 43,
     "metadata": {},
     "output_type": "execute_result"
    },
    {
     "data": {
      "image/png": "[encoded data removed]",
      "text/plain": [
       "<Figure size 432x288 with 1 Axes>"
      ]
     },
     "metadata": {
      "needs_background": "light"
     },
     "output_type": "display_data"
    }
   ],
   "source": [
    "sns.barplot(x = 'bairro' , y = 'delitos_concluidos' , data = delitos_concluidos_por_bairros_df)"
   ]
  },
  {
   "cell_type": "markdown",
   "metadata": {},
   "source": [
    "# Visualizando o comportamento dos delitos ao longo dos anos "
   ]
  },
  {
   "cell_type": "markdown",
   "metadata": {},
   "source": [
    "## Delitos 2013/2014/ 2015 "
   ]
  },
  {
   "cell_type": "code",
   "execution_count": 90,
   "metadata": {},
   "outputs": [
    {
     "data": {
      "text/html": [
       "<div>\n",
       "<style scoped>\n",
       "    .dataframe tbody tr th:only-of-type {\n",
       "        vertical-align: middle;\n",
       "    }\n",
       "\n",
       "    .dataframe tbody tr th {\n",
       "        vertical-align: top;\n",
       "    }\n",
       "\n",
       "    .dataframe thead th {\n",
       "        text-align: right;\n",
       "    }\n",
       "</style>\n",
       "<table border=\"1\" class=\"dataframe\">\n",
       "  <thead>\n",
       "    <tr style=\"text-align: right;\">\n",
       "      <th></th>\n",
       "      <th>data_da_ocorrencia</th>\n",
       "      <th>data_final_da_ocorrencia</th>\n",
       "      <th>data_comunicacao_policia</th>\n",
       "      <th>hora_da_ocorrencia</th>\n",
       "      <th>hora_termino_da_ocorrencia</th>\n",
       "      <th>duracao_da_ocorrencia</th>\n",
       "      <th>descricao_da_ofensa</th>\n",
       "      <th>conclusao</th>\n",
       "      <th>nivel_de_ofensa</th>\n",
       "      <th>jurisdicao</th>\n",
       "      <th>bairro</th>\n",
       "      <th>local_da_ocorrencia</th>\n",
       "      <th>descricao_das_intalacoes</th>\n",
       "    </tr>\n",
       "  </thead>\n",
       "  <tbody>\n",
       "    <tr>\n",
       "      <th>0</th>\n",
       "      <td>2015-12-31</td>\n",
       "      <td>NaT</td>\n",
       "      <td>2015-12-31</td>\n",
       "      <td>2020-11-01 23:45:00</td>\n",
       "      <td>NaT</td>\n",
       "      <td>NaT</td>\n",
       "      <td>FORGERY</td>\n",
       "      <td>concluido</td>\n",
       "      <td>crime</td>\n",
       "      <td>N.Y. POLICE DEPT</td>\n",
       "      <td>BRONX</td>\n",
       "      <td>dentro</td>\n",
       "      <td>BAR/NIGHT CLUB</td>\n",
       "    </tr>\n",
       "    <tr>\n",
       "      <th>1</th>\n",
       "      <td>2015-12-31</td>\n",
       "      <td>NaT</td>\n",
       "      <td>2015-12-31</td>\n",
       "      <td>2020-11-01 23:36:00</td>\n",
       "      <td>NaT</td>\n",
       "      <td>NaT</td>\n",
       "      <td>MURDER &amp; NON-NEGL. MANSLAUGHTER</td>\n",
       "      <td>concluido</td>\n",
       "      <td>crime</td>\n",
       "      <td>N.Y. POLICE DEPT</td>\n",
       "      <td>QUEENS</td>\n",
       "      <td>fora</td>\n",
       "      <td>NaN</td>\n",
       "    </tr>\n",
       "    <tr>\n",
       "      <th>2</th>\n",
       "      <td>2015-12-31</td>\n",
       "      <td>NaT</td>\n",
       "      <td>2015-12-31</td>\n",
       "      <td>2020-11-01 23:30:00</td>\n",
       "      <td>NaT</td>\n",
       "      <td>NaT</td>\n",
       "      <td>DANGEROUS DRUGS</td>\n",
       "      <td>concluido</td>\n",
       "      <td>crime</td>\n",
       "      <td>N.Y. POLICE DEPT</td>\n",
       "      <td>MANHATTAN</td>\n",
       "      <td>NaN</td>\n",
       "      <td>OTHER</td>\n",
       "    </tr>\n",
       "    <tr>\n",
       "      <th>3</th>\n",
       "      <td>2015-12-31</td>\n",
       "      <td>NaT</td>\n",
       "      <td>2015-12-31</td>\n",
       "      <td>2020-11-01 23:30:00</td>\n",
       "      <td>NaT</td>\n",
       "      <td>NaT</td>\n",
       "      <td>ASSAULT 3 &amp; RELATED OFFENSES</td>\n",
       "      <td>concluido</td>\n",
       "      <td>contravencao</td>\n",
       "      <td>N.Y. POLICE DEPT</td>\n",
       "      <td>QUEENS</td>\n",
       "      <td>dentro</td>\n",
       "      <td>RESIDENCE-HOUSE</td>\n",
       "    </tr>\n",
       "    <tr>\n",
       "      <th>4</th>\n",
       "      <td>2015-12-31</td>\n",
       "      <td>2015-12-31</td>\n",
       "      <td>2015-12-31</td>\n",
       "      <td>2020-11-01 23:25:00</td>\n",
       "      <td>2020-11-01 23:30:00</td>\n",
       "      <td>00:05:00</td>\n",
       "      <td>ASSAULT 3 &amp; RELATED OFFENSES</td>\n",
       "      <td>concluido</td>\n",
       "      <td>contravencao</td>\n",
       "      <td>N.Y. POLICE DEPT</td>\n",
       "      <td>MANHATTAN</td>\n",
       "      <td>em_frente</td>\n",
       "      <td>OTHER</td>\n",
       "    </tr>\n",
       "    <tr>\n",
       "      <th>...</th>\n",
       "      <td>...</td>\n",
       "      <td>...</td>\n",
       "      <td>...</td>\n",
       "      <td>...</td>\n",
       "      <td>...</td>\n",
       "      <td>...</td>\n",
       "      <td>...</td>\n",
       "      <td>...</td>\n",
       "      <td>...</td>\n",
       "      <td>...</td>\n",
       "      <td>...</td>\n",
       "      <td>...</td>\n",
       "      <td>...</td>\n",
       "    </tr>\n",
       "    <tr>\n",
       "      <th>1048570</th>\n",
       "      <td>2013-11-01</td>\n",
       "      <td>2013-11-01</td>\n",
       "      <td>2013-11-01</td>\n",
       "      <td>2020-11-01 20:30:00</td>\n",
       "      <td>2020-11-01 21:00:00</td>\n",
       "      <td>00:30:00</td>\n",
       "      <td>PETIT LARCENY</td>\n",
       "      <td>concluido</td>\n",
       "      <td>contravencao</td>\n",
       "      <td>N.Y. POLICE DEPT</td>\n",
       "      <td>BRONX</td>\n",
       "      <td>dentro</td>\n",
       "      <td>RESIDENCE - APT. HOUSE</td>\n",
       "    </tr>\n",
       "    <tr>\n",
       "      <th>1048571</th>\n",
       "      <td>2013-11-01</td>\n",
       "      <td>2013-11-01</td>\n",
       "      <td>2013-11-01</td>\n",
       "      <td>2020-11-01 20:28:00</td>\n",
       "      <td>2020-11-01 20:31:00</td>\n",
       "      <td>00:03:00</td>\n",
       "      <td>ASSAULT 3 &amp; RELATED OFFENSES</td>\n",
       "      <td>concluido</td>\n",
       "      <td>contravencao</td>\n",
       "      <td>N.Y. POLICE DEPT</td>\n",
       "      <td>BROOKLYN</td>\n",
       "      <td>em_frente</td>\n",
       "      <td>GROCERY/BODEGA</td>\n",
       "    </tr>\n",
       "    <tr>\n",
       "      <th>1048572</th>\n",
       "      <td>2013-11-01</td>\n",
       "      <td>NaT</td>\n",
       "      <td>2013-11-01</td>\n",
       "      <td>2020-11-01 20:25:00</td>\n",
       "      <td>NaT</td>\n",
       "      <td>NaT</td>\n",
       "      <td>CRIMINAL MISCHIEF &amp; RELATED OF</td>\n",
       "      <td>concluido</td>\n",
       "      <td>crime</td>\n",
       "      <td>N.Y. POLICE DEPT</td>\n",
       "      <td>MANHATTAN</td>\n",
       "      <td>dentro</td>\n",
       "      <td>FAST FOOD</td>\n",
       "    </tr>\n",
       "    <tr>\n",
       "      <th>1048573</th>\n",
       "      <td>2013-11-01</td>\n",
       "      <td>2013-11-01</td>\n",
       "      <td>2013-11-01</td>\n",
       "      <td>2020-11-01 20:25:00</td>\n",
       "      <td>2020-11-01 20:45:00</td>\n",
       "      <td>00:20:00</td>\n",
       "      <td>DANGEROUS DRUGS</td>\n",
       "      <td>concluido</td>\n",
       "      <td>contravencao</td>\n",
       "      <td>N.Y. POLICE DEPT</td>\n",
       "      <td>BRONX</td>\n",
       "      <td>em_frente</td>\n",
       "      <td>STREET</td>\n",
       "    </tr>\n",
       "    <tr>\n",
       "      <th>1048574</th>\n",
       "      <td>2013-11-01</td>\n",
       "      <td>2013-11-01</td>\n",
       "      <td>2013-11-01</td>\n",
       "      <td>2020-11-01 20:25:00</td>\n",
       "      <td>2020-11-01 20:30:00</td>\n",
       "      <td>00:05:00</td>\n",
       "      <td>DANGEROUS WEAPONS</td>\n",
       "      <td>concluido</td>\n",
       "      <td>contravencao</td>\n",
       "      <td>N.Y. TRANSIT POLICE</td>\n",
       "      <td>MANHATTAN</td>\n",
       "      <td>NaN</td>\n",
       "      <td>TRANSIT - NYC SUBWAY</td>\n",
       "    </tr>\n",
       "  </tbody>\n",
       "</table>\n",
       "<p>1048575 rows × 13 columns</p>\n",
       "</div>"
      ],
      "text/plain": [
       "        data_da_ocorrencia data_final_da_ocorrencia data_comunicacao_policia  \\\n",
       "0               2015-12-31                      NaT               2015-12-31   \n",
       "1               2015-12-31                      NaT               2015-12-31   \n",
       "2               2015-12-31                      NaT               2015-12-31   \n",
       "3               2015-12-31                      NaT               2015-12-31   \n",
       "4               2015-12-31               2015-12-31               2015-12-31   \n",
       "...                    ...                      ...                      ...   \n",
       "1048570         2013-11-01               2013-11-01               2013-11-01   \n",
       "1048571         2013-11-01               2013-11-01               2013-11-01   \n",
       "1048572         2013-11-01                      NaT               2013-11-01   \n",
       "1048573         2013-11-01               2013-11-01               2013-11-01   \n",
       "1048574         2013-11-01               2013-11-01               2013-11-01   \n",
       "\n",
       "         hora_da_ocorrencia hora_termino_da_ocorrencia duracao_da_ocorrencia  \\\n",
       "0       2020-11-01 23:45:00                        NaT                   NaT   \n",
       "1       2020-11-01 23:36:00                        NaT                   NaT   \n",
       "2       2020-11-01 23:30:00                        NaT                   NaT   \n",
       "3       2020-11-01 23:30:00                        NaT                   NaT   \n",
       "4       2020-11-01 23:25:00        2020-11-01 23:30:00              00:05:00   \n",
       "...                     ...                        ...                   ...   \n",
       "1048570 2020-11-01 20:30:00        2020-11-01 21:00:00              00:30:00   \n",
       "1048571 2020-11-01 20:28:00        2020-11-01 20:31:00              00:03:00   \n",
       "1048572 2020-11-01 20:25:00                        NaT                   NaT   \n",
       "1048573 2020-11-01 20:25:00        2020-11-01 20:45:00              00:20:00   \n",
       "1048574 2020-11-01 20:25:00        2020-11-01 20:30:00              00:05:00   \n",
       "\n",
       "                     descricao_da_ofensa  conclusao nivel_de_ofensa  \\\n",
       "0                                FORGERY  concluido           crime   \n",
       "1        MURDER & NON-NEGL. MANSLAUGHTER  concluido           crime   \n",
       "2                        DANGEROUS DRUGS  concluido           crime   \n",
       "3           ASSAULT 3 & RELATED OFFENSES  concluido    contravencao   \n",
       "4           ASSAULT 3 & RELATED OFFENSES  concluido    contravencao   \n",
       "...                                  ...        ...             ...   \n",
       "1048570                    PETIT LARCENY  concluido    contravencao   \n",
       "1048571     ASSAULT 3 & RELATED OFFENSES  concluido    contravencao   \n",
       "1048572   CRIMINAL MISCHIEF & RELATED OF  concluido           crime   \n",
       "1048573                  DANGEROUS DRUGS  concluido    contravencao   \n",
       "1048574                DANGEROUS WEAPONS  concluido    contravencao   \n",
       "\n",
       "                  jurisdicao     bairro local_da_ocorrencia  \\\n",
       "0           N.Y. POLICE DEPT      BRONX              dentro   \n",
       "1           N.Y. POLICE DEPT     QUEENS                fora   \n",
       "2           N.Y. POLICE DEPT  MANHATTAN                 NaN   \n",
       "3           N.Y. POLICE DEPT     QUEENS              dentro   \n",
       "4           N.Y. POLICE DEPT  MANHATTAN           em_frente   \n",
       "...                      ...        ...                 ...   \n",
       "1048570     N.Y. POLICE DEPT      BRONX              dentro   \n",
       "1048571     N.Y. POLICE DEPT   BROOKLYN           em_frente   \n",
       "1048572     N.Y. POLICE DEPT  MANHATTAN              dentro   \n",
       "1048573     N.Y. POLICE DEPT      BRONX           em_frente   \n",
       "1048574  N.Y. TRANSIT POLICE  MANHATTAN                 NaN   \n",
       "\n",
       "        descricao_das_intalacoes  \n",
       "0                 BAR/NIGHT CLUB  \n",
       "1                            NaN  \n",
       "2                          OTHER  \n",
       "3                RESIDENCE-HOUSE  \n",
       "4                          OTHER  \n",
       "...                          ...  \n",
       "1048570   RESIDENCE - APT. HOUSE  \n",
       "1048571           GROCERY/BODEGA  \n",
       "1048572                FAST FOOD  \n",
       "1048573                   STREET  \n",
       "1048574     TRANSIT - NYC SUBWAY  \n",
       "\n",
       "[1048575 rows x 13 columns]"
      ]
     },
     "execution_count": 90,
     "metadata": {},
     "output_type": "execute_result"
    }
   ],
   "source": [
    "select_ny"
   ]
  },
  {
   "cell_type": "code",
   "execution_count": null,
   "metadata": {},
   "outputs": [],
   "source": [
    "# \n",
    "# df.groupby(df['data']).dt.year['vendas'].sum()\n",
    "\n",
    "# gerando grafico\n",
    "# df.groupby(df['data'].dt.year)['vendas'].sum().plot.bar()"
   ]
  },
  {
   "cell_type": "code",
   "execution_count": 65,
   "metadata": {},
   "outputs": [
    {
     "data": {
      "text/html": [
       "<div>\n",
       "<style scoped>\n",
       "    .dataframe tbody tr th:only-of-type {\n",
       "        vertical-align: middle;\n",
       "    }\n",
       "\n",
       "    .dataframe tbody tr th {\n",
       "        vertical-align: top;\n",
       "    }\n",
       "\n",
       "    .dataframe thead th {\n",
       "        text-align: right;\n",
       "    }\n",
       "</style>\n",
       "<table border=\"1\" class=\"dataframe\">\n",
       "  <thead>\n",
       "    <tr style=\"text-align: right;\">\n",
       "      <th></th>\n",
       "      <th>data_da_ocorrencia</th>\n",
       "      <th>data_final_da_ocorrencia</th>\n",
       "      <th>data_comunicacao_policia</th>\n",
       "      <th>hora_da_ocorrencia</th>\n",
       "      <th>hora_termino_da_ocorrencia</th>\n",
       "      <th>duracao_da_ocorrencia</th>\n",
       "      <th>descricao_da_ofensa</th>\n",
       "      <th>conclusao</th>\n",
       "      <th>nivel_de_ofensa</th>\n",
       "      <th>jurisdicao</th>\n",
       "      <th>bairro</th>\n",
       "      <th>local_da_ocorrencia</th>\n",
       "      <th>descricao_das_intalacoes</th>\n",
       "    </tr>\n",
       "  </thead>\n",
       "  <tbody>\n",
       "    <tr>\n",
       "      <th>0</th>\n",
       "      <td>2015-12-31</td>\n",
       "      <td>NaT</td>\n",
       "      <td>2015-12-31</td>\n",
       "      <td>2020-11-01 23:45:00</td>\n",
       "      <td>NaT</td>\n",
       "      <td>NaT</td>\n",
       "      <td>FORGERY</td>\n",
       "      <td>concluido</td>\n",
       "      <td>crime</td>\n",
       "      <td>N.Y. POLICE DEPT</td>\n",
       "      <td>BRONX</td>\n",
       "      <td>dentro</td>\n",
       "      <td>BAR/NIGHT CLUB</td>\n",
       "    </tr>\n",
       "    <tr>\n",
       "      <th>1</th>\n",
       "      <td>2015-12-31</td>\n",
       "      <td>NaT</td>\n",
       "      <td>2015-12-31</td>\n",
       "      <td>2020-11-01 23:36:00</td>\n",
       "      <td>NaT</td>\n",
       "      <td>NaT</td>\n",
       "      <td>MURDER &amp; NON-NEGL. MANSLAUGHTER</td>\n",
       "      <td>concluido</td>\n",
       "      <td>crime</td>\n",
       "      <td>N.Y. POLICE DEPT</td>\n",
       "      <td>QUEENS</td>\n",
       "      <td>fora</td>\n",
       "      <td>NaN</td>\n",
       "    </tr>\n",
       "    <tr>\n",
       "      <th>2</th>\n",
       "      <td>2015-12-31</td>\n",
       "      <td>NaT</td>\n",
       "      <td>2015-12-31</td>\n",
       "      <td>2020-11-01 23:30:00</td>\n",
       "      <td>NaT</td>\n",
       "      <td>NaT</td>\n",
       "      <td>DANGEROUS DRUGS</td>\n",
       "      <td>concluido</td>\n",
       "      <td>crime</td>\n",
       "      <td>N.Y. POLICE DEPT</td>\n",
       "      <td>MANHATTAN</td>\n",
       "      <td>NaN</td>\n",
       "      <td>OTHER</td>\n",
       "    </tr>\n",
       "    <tr>\n",
       "      <th>3</th>\n",
       "      <td>2015-12-31</td>\n",
       "      <td>NaT</td>\n",
       "      <td>2015-12-31</td>\n",
       "      <td>2020-11-01 23:30:00</td>\n",
       "      <td>NaT</td>\n",
       "      <td>NaT</td>\n",
       "      <td>ASSAULT 3 &amp; RELATED OFFENSES</td>\n",
       "      <td>concluido</td>\n",
       "      <td>contravencao</td>\n",
       "      <td>N.Y. POLICE DEPT</td>\n",
       "      <td>QUEENS</td>\n",
       "      <td>dentro</td>\n",
       "      <td>RESIDENCE-HOUSE</td>\n",
       "    </tr>\n",
       "    <tr>\n",
       "      <th>4</th>\n",
       "      <td>2015-12-31</td>\n",
       "      <td>2015-12-31</td>\n",
       "      <td>2015-12-31</td>\n",
       "      <td>2020-11-01 23:25:00</td>\n",
       "      <td>2020-11-01 23:30:00</td>\n",
       "      <td>00:05:00</td>\n",
       "      <td>ASSAULT 3 &amp; RELATED OFFENSES</td>\n",
       "      <td>concluido</td>\n",
       "      <td>contravencao</td>\n",
       "      <td>N.Y. POLICE DEPT</td>\n",
       "      <td>MANHATTAN</td>\n",
       "      <td>em_frente</td>\n",
       "      <td>OTHER</td>\n",
       "    </tr>\n",
       "  </tbody>\n",
       "</table>\n",
       "</div>"
      ],
      "text/plain": [
       "  data_da_ocorrencia data_final_da_ocorrencia data_comunicacao_policia  \\\n",
       "0         2015-12-31                      NaT               2015-12-31   \n",
       "1         2015-12-31                      NaT               2015-12-31   \n",
       "2         2015-12-31                      NaT               2015-12-31   \n",
       "3         2015-12-31                      NaT               2015-12-31   \n",
       "4         2015-12-31               2015-12-31               2015-12-31   \n",
       "\n",
       "   hora_da_ocorrencia hora_termino_da_ocorrencia duracao_da_ocorrencia  \\\n",
       "0 2020-11-01 23:45:00                        NaT                   NaT   \n",
       "1 2020-11-01 23:36:00                        NaT                   NaT   \n",
       "2 2020-11-01 23:30:00                        NaT                   NaT   \n",
       "3 2020-11-01 23:30:00                        NaT                   NaT   \n",
       "4 2020-11-01 23:25:00        2020-11-01 23:30:00              00:05:00   \n",
       "\n",
       "               descricao_da_ofensa  conclusao nivel_de_ofensa  \\\n",
       "0                          FORGERY  concluido           crime   \n",
       "1  MURDER & NON-NEGL. MANSLAUGHTER  concluido           crime   \n",
       "2                  DANGEROUS DRUGS  concluido           crime   \n",
       "3     ASSAULT 3 & RELATED OFFENSES  concluido    contravencao   \n",
       "4     ASSAULT 3 & RELATED OFFENSES  concluido    contravencao   \n",
       "\n",
       "         jurisdicao     bairro local_da_ocorrencia descricao_das_intalacoes  \n",
       "0  N.Y. POLICE DEPT      BRONX              dentro           BAR/NIGHT CLUB  \n",
       "1  N.Y. POLICE DEPT     QUEENS                fora                      NaN  \n",
       "2  N.Y. POLICE DEPT  MANHATTAN                 NaN                    OTHER  \n",
       "3  N.Y. POLICE DEPT     QUEENS              dentro          RESIDENCE-HOUSE  \n",
       "4  N.Y. POLICE DEPT  MANHATTAN           em_frente                    OTHER  "
      ]
     },
     "execution_count": 65,
     "metadata": {},
     "output_type": "execute_result"
    }
   ],
   "source": [
    "select_ny.head()"
   ]
  },
  {
   "cell_type": "code",
   "execution_count": null,
   "metadata": {},
   "outputs": [],
   "source": []
  },
  {
   "cell_type": "code",
   "execution_count": null,
   "metadata": {},
   "outputs": [],
   "source": [
    "select_ny.head()"
   ]
  },
  {
   "cell_type": "code",
   "execution_count": null,
   "metadata": {},
   "outputs": [],
   "source": [
    "select_ny.conclusao.value_counts()"
   ]
  },
  {
   "cell_type": "code",
   "execution_count": null,
   "metadata": {},
   "outputs": [],
   "source": [
    "crimes_2009_2015 = delitos_concluidos_por_bairros[['data_da_ocorrencia' , 'nivel_de_ofensa']]\n",
    "crimes_2009_2015"
   ]
  },
  {
   "cell_type": "code",
   "execution_count": null,
   "metadata": {},
   "outputs": [],
   "source": [
    "crimes_2009_2015.nivel_de_ofensa.value_counts()"
   ]
  },
  {
   "cell_type": "code",
   "execution_count": null,
   "metadata": {},
   "outputs": [],
   "source": [
    "crimes_2009 = crimes_2009_2015.query('data_da_ocorrencia >= \"1/1/2009\" & data_da_ocorrencia < \"1/1/2010\"') "
   ]
  },
  {
   "cell_type": "code",
   "execution_count": null,
   "metadata": {},
   "outputs": [],
   "source": [
    "crimes_2009"
   ]
  },
  {
   "cell_type": "code",
   "execution_count": null,
   "metadata": {},
   "outputs": [],
   "source": []
  },
  {
   "cell_type": "markdown",
   "metadata": {},
   "source": [
    "## Descrição da ofensa - Tipos de delitos mais comuns"
   ]
  },
  {
   "cell_type": "code",
   "execution_count": null,
   "metadata": {},
   "outputs": [],
   "source": [
    "delitos_concluidos_por_bairros"
   ]
  },
  {
   "cell_type": "code",
   "execution_count": null,
   "metadata": {},
   "outputs": [],
   "source": [
    "tipos_de_delitos = delitos_concluidos_por_bairros.descricao_da_ofensa.value_counts().to_frame().reset_index()\n",
    "tipos_de_delitos.columns = ['descricao_da_ofensa' , 'quantidade']"
   ]
  },
  {
   "cell_type": "code",
   "execution_count": null,
   "metadata": {},
   "outputs": [],
   "source": [
    "principais_delitos = tipos_de_delitos.head(19)\n",
    "principais_delitos"
   ]
  },
  {
   "cell_type": "code",
   "execution_count": null,
   "metadata": {},
   "outputs": [],
   "source": []
  },
  {
   "cell_type": "markdown",
   "metadata": {},
   "source": [
    "## Nivel  de ofensa  dos delitos mais comuns\n",
    "relacionar os tipos de delitos mais comuns com o nivel de ofensa "
   ]
  },
  {
   "cell_type": "code",
   "execution_count": null,
   "metadata": {},
   "outputs": [],
   "source": [
    "# separar crime e a descrição dos crimes \n",
    "# separar contravenção e ver a descrição da contravencção\n",
    "# separar violação e ver a descrição da violação"
   ]
  },
  {
   "cell_type": "markdown",
   "metadata": {},
   "source": [
    "## Detalhando os crimes "
   ]
  },
  {
   "cell_type": "code",
   "execution_count": null,
   "metadata": {},
   "outputs": [],
   "source": [
    "crimes_df = delitos_concluidos_por_bairros.query('nivel_de_ofensa == \"crime\"').descricao_da_ofensa.value_counts()\n",
    "crimes_df = crimes_df.to_frame().reset_index()\n",
    "crimes_df.columns = ['tipo_crimes','quantidade']\n",
    "crimes_df"
   ]
  },
  {
   "cell_type": "markdown",
   "metadata": {},
   "source": [
    "## Detalhando as contravenções "
   ]
  },
  {
   "cell_type": "code",
   "execution_count": null,
   "metadata": {},
   "outputs": [],
   "source": [
    "contravencoes_df = delitos_concluidos_por_bairros.query('nivel_de_ofensa == \"contravencao\"').descricao_da_ofensa.value_counts()\n",
    "contravencoes_df = contravencoes_df.to_frame().reset_index()\n",
    "contravencoes_df.columns = ['tipo_contravencao','quantidade']\n",
    "contravencoes_df"
   ]
  },
  {
   "cell_type": "code",
   "execution_count": null,
   "metadata": {},
   "outputs": [],
   "source": []
  },
  {
   "cell_type": "markdown",
   "metadata": {},
   "source": [
    "## Detalhando as violações"
   ]
  },
  {
   "cell_type": "code",
   "execution_count": null,
   "metadata": {},
   "outputs": [],
   "source": [
    "violacoes_df = delitos_concluidos_por_bairros.query('nivel_de_ofensa == \"violacao\"').descricao_da_ofensa.value_counts()\n",
    "violacoes_df = violacoes_df.to_frame().reset_index()\n",
    "violacoes_df.columns = ['tipo_violacao','quantidade']\n",
    "violacoes_df"
   ]
  },
  {
   "cell_type": "markdown",
   "metadata": {},
   "source": [
    "# Relação entre o  horario e os tipos de delitos "
   ]
  },
  {
   "cell_type": "code",
   "execution_count": null,
   "metadata": {},
   "outputs": [],
   "source": []
  },
  {
   "cell_type": "code",
   "execution_count": null,
   "metadata": {},
   "outputs": [],
   "source": []
  },
  {
   "cell_type": "code",
   "execution_count": null,
   "metadata": {},
   "outputs": [],
   "source": []
  },
  {
   "cell_type": "code",
   "execution_count": null,
   "metadata": {},
   "outputs": [],
   "source": []
  },
  {
   "cell_type": "code",
   "execution_count": null,
   "metadata": {},
   "outputs": [],
   "source": []
  },
  {
   "cell_type": "code",
   "execution_count": null,
   "metadata": {},
   "outputs": [],
   "source": []
  },
  {
   "cell_type": "markdown",
   "metadata": {},
   "source": [
    "## Qual departamento e responsável pelos delitos"
   ]
  },
  {
   "cell_type": "code",
   "execution_count": null,
   "metadata": {},
   "outputs": [],
   "source": [
    "dep_resp_delitos = delitos_concluidos_por_bairros[['jurisdicao','descricao_da_ofensa','nivel_de_ofensa','local_da_ocorrencia']]\n",
    "dep_resp_delitos"
   ]
  },
  {
   "cell_type": "markdown",
   "metadata": {},
   "source": [
    "jurisdição"
   ]
  },
  {
   "cell_type": "code",
   "execution_count": null,
   "metadata": {},
   "outputs": [],
   "source": [
    "jurisdicao_crimes = dep_resp_delitos.query('nivel_de_ofensa == \"crime\"')\n",
    "jurisdicao_crimes.jurisdicao.value_counts()\n"
   ]
  },
  {
   "cell_type": "code",
   "execution_count": null,
   "metadata": {},
   "outputs": [],
   "source": [
    "jurisdicao_contravencao = dep_resp_delitos.query('nivel_de_ofensa == \"contravencao\"')\n",
    "jurisdicao_contravencao.jurisdicao.value_counts()\n"
   ]
  },
  {
   "cell_type": "code",
   "execution_count": null,
   "metadata": {},
   "outputs": [],
   "source": [
    "jurisdicao_violacao = dep_resp_delitos.query('nivel_de_ofensa == \"violacao\" ')\n",
    "jurisdicao_violacao.jurisdicao.value_counts()\n"
   ]
  },
  {
   "cell_type": "code",
   "execution_count": null,
   "metadata": {},
   "outputs": [],
   "source": []
  },
  {
   "cell_type": "markdown",
   "metadata": {},
   "source": [
    "## Local da ocorrencia \n",
    "#### Neste tópico , podemos separar o local onde ocorreu o delito , se dentro ou fora do estabelecimento em questão "
   ]
  },
  {
   "cell_type": "code",
   "execution_count": null,
   "metadata": {},
   "outputs": [],
   "source": [
    "# total de delitos concluidos \n",
    "total_registros = len(delitos_concluidos_por_bairros.local_da_ocorrencia)\n",
    "total_registros"
   ]
  },
  {
   "cell_type": "code",
   "execution_count": null,
   "metadata": {},
   "outputs": [],
   "source": [
    "# delitos que aconteceram na parte de dentro dos estabelecimentos\n",
    "total_delitos_local_da_ocorrencia = delitos_concluidos_por_bairros.query('local_da_ocorrencia == \"dentro\" ')\n",
    "total_delitos_dentro = sum(total_delitos_local_da_ocorrencia.local_da_ocorrencia.value_counts())\n",
    "total_delitos_dentro"
   ]
  },
  {
   "cell_type": "code",
   "execution_count": null,
   "metadata": {},
   "outputs": [],
   "source": [
    "#  delitos que aconteceram na parte de fora dos estabelecimentos\n",
    "total_delitos_fora_do_local_da_ocorrencia = delitos_concluidos_por_bairros.query('local_da_ocorrencia != \"dentro\" ')\n",
    "total_delitos_fora_do_local =  sum(total_delitos_fora_do_local_da_ocorrencia.local_da_ocorrencia.value_counts())\n",
    "total_delitos_fora_do_local"
   ]
  },
  {
   "cell_type": "code",
   "execution_count": null,
   "metadata": {},
   "outputs": [],
   "source": [
    "#  delitos que não tiveram registro se dentro ou fora do local da ocorrencia\n",
    "delitos_sem_registro_do_local = total_registros - (total_delitos_dentro + total_delitos_fora_do_local)\n",
    "delitos_sem_registro_do_local"
   ]
  },
  {
   "cell_type": "code",
   "execution_count": null,
   "metadata": {},
   "outputs": [],
   "source": [
    "# crinado um DataFrame para visualizar os dados obtidos acima a respeito do local dos delitos\n",
    "\n",
    "\n",
    "dados_local_da_ocorrencia = {\n",
    "    'local' : ['dentro','fora', 'sem_registro'],\n",
    "    'total' : [total_delitos_dentro, total_delitos_fora_do_local, delitos_sem_registro_do_local ]\n",
    "\n",
    "}\n",
    "\n",
    "dados_local_da_ocorrencia_df = pd.DataFrame(dados_local_da_ocorrencia)"
   ]
  },
  {
   "cell_type": "code",
   "execution_count": null,
   "metadata": {},
   "outputs": [],
   "source": [
    "dados_local_da_ocorrencia_df"
   ]
  },
  {
   "cell_type": "markdown",
   "metadata": {},
   "source": [
    "### Visualisando local onde acontecem os delitos "
   ]
  },
  {
   "cell_type": "code",
   "execution_count": null,
   "metadata": {},
   "outputs": [],
   "source": [
    "sns.barplot(x = 'local' , y = 'total' , data = dados_local_da_ocorrencia_df)"
   ]
  },
  {
   "cell_type": "code",
   "execution_count": null,
   "metadata": {},
   "outputs": [],
   "source": [
    "dados_local_da_ocorrencia_df"
   ]
  },
  {
   "cell_type": "markdown",
   "metadata": {},
   "source": [
    "## Verificando e visualizando quais os tipos de ofensa e suas ocorrencias"
   ]
  },
  {
   "cell_type": "code",
   "execution_count": null,
   "metadata": {},
   "outputs": [],
   "source": [
    "# duração media do tipo nivel_de_ofensa x  descrição_da_ofensa "
   ]
  },
  {
   "cell_type": "code",
   "execution_count": null,
   "metadata": {},
   "outputs": [],
   "source": [
    "nivel_de_ofensa = select_ny.query('conclusao == \"concluido\" ')\n",
    "nivel_de_ofensa_df = nivel_de_ofensa.nivel_de_ofensa.value_counts()\n",
    "nivel_de_ofensa_df = nivel_de_ofensa_df.to_frame().reset_index()\n",
    "nivel_de_ofensa_df.columns = ['ofensa' , 'quantidade']\n",
    "nivel_de_ofensa_df\n",
    "# visualizando os tipos de crimes e suas quantidades"
   ]
  },
  {
   "cell_type": "code",
   "execution_count": null,
   "metadata": {},
   "outputs": [],
   "source": [
    "sns.barplot(x = 'ofensa' , y = 'quantidade' , data = nivel_de_ofensa_df)"
   ]
  },
  {
   "cell_type": "markdown",
   "metadata": {},
   "source": [
    "### Duração media de cada tipo de ofensa"
   ]
  },
  {
   "cell_type": "code",
   "execution_count": null,
   "metadata": {},
   "outputs": [],
   "source": [
    "nivel_de_ofensa"
   ]
  },
  {
   "cell_type": "code",
   "execution_count": null,
   "metadata": {},
   "outputs": [],
   "source": [
    "duracao_crimes = nivel_de_ofensa.query('nivel_de_ofensa == \"crime\"')\n",
    "duracao_crimes = duracao_crimes.duracao_da_ocorrencia.mean()\n",
    "duracao_crimes"
   ]
  },
  {
   "cell_type": "code",
   "execution_count": null,
   "metadata": {},
   "outputs": [],
   "source": [
    "duracao_contravencao = nivel_de_ofensa.query('nivel_de_ofensa == \"contravencao\"')\n",
    "duracao_contravencao =  duracao_contravencao.duracao_da_ocorrencia.mean()\n",
    "duracao_contravencao"
   ]
  },
  {
   "cell_type": "code",
   "execution_count": null,
   "metadata": {},
   "outputs": [],
   "source": [
    "duracao_violacao = nivel_de_ofensa.query('nivel_de_ofensa == \"violacao\"')\n",
    "duracao_violacao =  duracao_violacao.duracao_da_ocorrencia.mean()\n",
    "duracao_violacao"
   ]
  },
  {
   "cell_type": "markdown",
   "metadata": {},
   "source": [
    "### Distribuição dos tipos de ofensa por  bairros"
   ]
  },
  {
   "cell_type": "markdown",
   "metadata": {},
   "source": [
    "#### BROOKLYN"
   ]
  },
  {
   "cell_type": "code",
   "execution_count": null,
   "metadata": {},
   "outputs": [],
   "source": [
    "brooklyn = nivel_de_ofensa.query('bairro == \"BROOKLYN\" ')\n",
    "brooklyn_df = brooklyn.nivel_de_ofensa.value_counts().to_frame().reset_index()\n",
    "brooklyn_df.columns = ['ofensa' , 'quantidade']\n",
    "brooklyn_df"
   ]
  },
  {
   "cell_type": "code",
   "execution_count": null,
   "metadata": {},
   "outputs": [],
   "source": [
    "sns.barplot(x = 'ofensa' , y = 'quantidade' , data = brooklyn_df)"
   ]
  },
  {
   "cell_type": "markdown",
   "metadata": {},
   "source": [
    "#### MANHATTAN"
   ]
  },
  {
   "cell_type": "code",
   "execution_count": null,
   "metadata": {},
   "outputs": [],
   "source": [
    "manhattan = nivel_de_ofensa.query('bairro == \"MANHATTAN\" ')\n",
    "manhattan_df = manhattan.nivel_de_ofensa.value_counts().to_frame().reset_index()\n",
    "manhattan_df.columns = ['ofensa' , 'quantidade']\n",
    "manhattan_df"
   ]
  },
  {
   "cell_type": "code",
   "execution_count": null,
   "metadata": {},
   "outputs": [],
   "source": [
    "sns.barplot(x = 'ofensa' , y = 'quantidade' , data = manhattan_df)"
   ]
  },
  {
   "cell_type": "markdown",
   "metadata": {},
   "source": [
    "#### BRONX"
   ]
  },
  {
   "cell_type": "code",
   "execution_count": null,
   "metadata": {},
   "outputs": [],
   "source": [
    "bronx = nivel_de_ofensa.query('bairro == \"BRONX\" ')\n",
    "bronx_df = bronx.nivel_de_ofensa.value_counts().to_frame().reset_index()\n",
    "bronx_df.columns = ['ofensa' , 'quantidade']\n",
    "bronx_df"
   ]
  },
  {
   "cell_type": "code",
   "execution_count": null,
   "metadata": {},
   "outputs": [],
   "source": [
    "sns.barplot(x = 'ofensa' , y = 'quantidade' , data = bronx_df)"
   ]
  },
  {
   "cell_type": "markdown",
   "metadata": {},
   "source": [
    "#### QUEENS"
   ]
  },
  {
   "cell_type": "code",
   "execution_count": null,
   "metadata": {},
   "outputs": [],
   "source": [
    "queens = nivel_de_ofensa.query('bairro == \"QUEENS\"')\n",
    "queens_df = queens.nivel_de_ofensa.value_counts().to_frame().reset_index()\n",
    "queens_df.columns = ['ofensa' , 'quantidade']\n",
    "queens_df"
   ]
  },
  {
   "cell_type": "code",
   "execution_count": null,
   "metadata": {},
   "outputs": [],
   "source": [
    "sns.barplot(x = 'ofensa' , y = 'quantidade' , data = queens_df)"
   ]
  },
  {
   "cell_type": "markdown",
   "metadata": {},
   "source": [
    "#### STATEN ISLAND"
   ]
  },
  {
   "cell_type": "code",
   "execution_count": null,
   "metadata": {},
   "outputs": [],
   "source": [
    "staten_island = nivel_de_ofensa.query('bairro == \"STATEN ISLAND\"')\n",
    "staten_island_df = staten_island.nivel_de_ofensa.value_counts().to_frame().reset_index()\n",
    "staten_island_df.columns = ['ofensa' , 'quantidade']\n",
    "staten_island_df"
   ]
  },
  {
   "cell_type": "code",
   "execution_count": null,
   "metadata": {},
   "outputs": [],
   "source": [
    "sns.barplot(x = 'ofensa' , y = 'quantidade' , data = staten_island_df)"
   ]
  },
  {
   "cell_type": "markdown",
   "metadata": {},
   "source": [
    "## Comparando as ocorrencias de contravenção em cada bairro"
   ]
  },
  {
   "cell_type": "code",
   "execution_count": null,
   "metadata": {},
   "outputs": [],
   "source": [
    "# gerando as variaveis contravenção de cada bairro\n",
    "\n",
    "# BROOKLYN\n",
    "contravencao_brooklyn = sum(brooklyn_df.query('ofensa == \"contravencao\"').quantidade)\n",
    "contravencao_brooklyn\n",
    "\n",
    "# MANHATTAN\n",
    "contravencao_manhattan = sum(manhattan_df.query('ofensa == \"contravencao\"').quantidade)\n",
    "contravencao_manhattan\n",
    "\n",
    "# BRONX\n",
    "contravencao_bronx = sum(bronx_df.query('ofensa == \"contravencao\"').quantidade)\n",
    "contravencao_bronx\n",
    "\n",
    "# queens\n",
    "contravencao_queens = sum(queens_df.query('ofensa == \"contravencao\"').quantidade)\n",
    "contravencao_queens\n",
    "\n",
    "\n",
    "# staten_island\n",
    "contravencao_staten_island = sum(staten_island_df.query('ofensa == \"contravencao\"').quantidade)\n",
    "contravencao_staten_island\n"
   ]
  },
  {
   "cell_type": "code",
   "execution_count": null,
   "metadata": {},
   "outputs": [],
   "source": [
    "\n",
    "contravencao_por_bairros = {\n",
    "    'bairro' : ['brooklyn', 'manhattan', 'bronx', 'queens', 'staten_island'],\n",
    "    'total_contravencao' : [contravencao_brooklyn, contravencao_manhattan, contravencao_bronx, contravencao_queens, contravencao_staten_island ]\n",
    "\n",
    "}\n",
    "\n",
    "contravencao_por_bairros_df = pd.DataFrame(contravencao_por_bairros)"
   ]
  },
  {
   "cell_type": "code",
   "execution_count": null,
   "metadata": {},
   "outputs": [],
   "source": [
    "contravencao_por_bairros_df"
   ]
  },
  {
   "cell_type": "code",
   "execution_count": null,
   "metadata": {},
   "outputs": [],
   "source": [
    "sns.barplot(x = 'bairro' , y = 'total_contravencao' , data = contravencao_por_bairros_df)"
   ]
  },
  {
   "cell_type": "code",
   "execution_count": null,
   "metadata": {},
   "outputs": [],
   "source": [
    "contravencao_por_bairros_df.plot(x = 'bairro' , y = 'total_contravencao' , color = 'red' )"
   ]
  },
  {
   "cell_type": "code",
   "execution_count": null,
   "metadata": {},
   "outputs": [],
   "source": []
  },
  {
   "cell_type": "markdown",
   "metadata": {},
   "source": [
    "## Comparando as ocorrencias de crimes em cada bairro"
   ]
  },
  {
   "cell_type": "code",
   "execution_count": null,
   "metadata": {},
   "outputs": [],
   "source": [
    "# comparar delitos (crime x contravenção x violaçao ) entre os  bairros \n",
    "# criar variaveis e por meio de um dicionario criar um dataFrame e visualizar as comparaçoes"
   ]
  },
  {
   "cell_type": "code",
   "execution_count": null,
   "metadata": {},
   "outputs": [],
   "source": [
    "# gerando as variaveis crimes de cada bairro\n",
    "\n",
    "# BROOKLYN\n",
    "crimes_brooklyn = sum(brooklyn_df.query('ofensa == \"crime\"').quantidade)\n",
    "crimes_brooklyn\n",
    "\n",
    "# MANHATTAN\n",
    "crimes_manhattan = sum(manhattan_df.query('ofensa == \"crime\"').quantidade)\n",
    "crimes_manhattan\n",
    "\n",
    "# BRONX\n",
    "crimes_bronx = sum(bronx_df.query('ofensa == \"crime\"').quantidade)\n",
    "crimes_bronx\n",
    "\n",
    "# queens\n",
    "crimes_queens = sum(queens_df.query('ofensa == \"crime\"').quantidade)\n",
    "crimes_queens\n",
    "\n",
    "\n",
    "# staten_island\n",
    "crimes_staten_island = sum(staten_island_df.query('ofensa == \"crime\"').quantidade)\n",
    "crimes_staten_island\n"
   ]
  },
  {
   "cell_type": "code",
   "execution_count": null,
   "metadata": {},
   "outputs": [],
   "source": [
    "\n",
    "crimes_por_bairros = {\n",
    "    'bairro' : ['brooklyn', 'manhattan', 'bronx', 'queens', 'staten_island'],\n",
    "    'total_crimes' : [crimes_brooklyn, crimes_manhattan, crimes_bronx, crimes_queens, crimes_staten_island ]\n",
    "\n",
    "}\n",
    "\n",
    "crimes_por_bairros_df = pd.DataFrame(crimes_por_bairros)"
   ]
  },
  {
   "cell_type": "code",
   "execution_count": null,
   "metadata": {},
   "outputs": [],
   "source": [
    "crimes_por_bairros_df"
   ]
  },
  {
   "cell_type": "code",
   "execution_count": null,
   "metadata": {},
   "outputs": [],
   "source": [
    "sns.barplot(x = 'bairro' , y = 'total_crimes' , data = crimes_por_bairros_df)"
   ]
  },
  {
   "cell_type": "code",
   "execution_count": null,
   "metadata": {},
   "outputs": [],
   "source": [
    "crimes_por_bairros_df.plot(x = 'bairro' , y = 'total_crimes' , color = 'blue' )"
   ]
  },
  {
   "cell_type": "markdown",
   "metadata": {},
   "source": [
    "## Comparando as ocorrencias de violação em cada bairro"
   ]
  },
  {
   "cell_type": "code",
   "execution_count": null,
   "metadata": {},
   "outputs": [],
   "source": [
    "# gerando as variaveis violação de cada bairro\n",
    "\n",
    "# BROOKLYN\n",
    "violacao_brooklyn = sum(brooklyn_df.query('ofensa == \"violacao\"').quantidade)\n",
    "violacao_brooklyn\n",
    "\n",
    "# MANHATTAN\n",
    "violacao_manhattan = sum(manhattan_df.query('ofensa == \"violacao\"').quantidade)\n",
    "violacao_manhattan\n",
    "\n",
    "# BRONX\n",
    "violacao_bronx = sum(bronx_df.query('ofensa == \"violacao\"').quantidade)\n",
    "violacao_bronx\n",
    "\n",
    "# queens\n",
    "violacao_queens = sum(queens_df.query('ofensa == \"violacao\"').quantidade)\n",
    "violacao_queens\n",
    "\n",
    "\n",
    "# staten_island\n",
    "violacao_staten_island = sum(staten_island_df.query('ofensa == \"violacao\"').quantidade)\n",
    "violacao_staten_island"
   ]
  },
  {
   "cell_type": "code",
   "execution_count": null,
   "metadata": {},
   "outputs": [],
   "source": [
    "\n",
    "violacao_por_bairros = {\n",
    "    'bairro' : ['brooklyn', 'manhattan', 'bronx', 'queens', 'staten_island'],\n",
    "    'total_violacao' : [violacao_brooklyn, violacao_manhattan, violacao_bronx, violacao_queens, violacao_staten_island ]\n",
    "\n",
    "}\n",
    "\n",
    "violacao_por_bairros_df = pd.DataFrame(violacao_por_bairros)"
   ]
  },
  {
   "cell_type": "code",
   "execution_count": null,
   "metadata": {},
   "outputs": [],
   "source": [
    "violacao_por_bairros_df"
   ]
  },
  {
   "cell_type": "code",
   "execution_count": null,
   "metadata": {},
   "outputs": [],
   "source": [
    "sns.barplot(x = 'bairro' , y = 'total_violacao' , data = violacao_por_bairros_df)"
   ]
  },
  {
   "cell_type": "code",
   "execution_count": null,
   "metadata": {},
   "outputs": [],
   "source": []
  },
  {
   "cell_type": "code",
   "execution_count": null,
   "metadata": {},
   "outputs": [],
   "source": []
  },
  {
   "cell_type": "code",
   "execution_count": null,
   "metadata": {},
   "outputs": [],
   "source": []
  },
  {
   "cell_type": "code",
   "execution_count": null,
   "metadata": {},
   "outputs": [],
   "source": []
  },
  {
   "cell_type": "markdown",
   "metadata": {},
   "source": []
  },
  {
   "cell_type": "markdown",
   "metadata": {},
   "source": [
    "# Crimes não concluidos por bairro"
   ]
  },
  {
   "cell_type": "code",
   "execution_count": null,
   "metadata": {},
   "outputs": [],
   "source": [
    "crimes_nao_concluidos_por_bairros = select_ny.query('conclusao == \"nao_concluido\" ').bairro.value_counts()\n",
    "crimes_nao_concluidos_por_bairros_df = pd.DataFrame(crimes_nao_concluidos_por_bairros).reset_index()\n",
    "crimes_nao_concluidos_por_bairros_df.columns = ['bairro' , 'crimes_nao_concluidos']\n",
    "sns.barplot(x = 'bairro' , y = 'crimes_nao_concluidos' , data = crimes_nao_concluidos_por_bairros_df)"
   ]
  },
  {
   "cell_type": "code",
   "execution_count": null,
   "metadata": {},
   "outputs": [],
   "source": [
    "crimes_nao_concluidos_por_bairros_df"
   ]
  },
  {
   "cell_type": "markdown",
   "metadata": {},
   "source": [
    "## Detalhando "
   ]
  },
  {
   "cell_type": "code",
   "execution_count": null,
   "metadata": {},
   "outputs": [],
   "source": [
    "crimes_falhos_df = select_ny.query('conclusao == \"nao_concluido\" ')\n",
    "crimes_falhos_df\n",
    "# crimes_falhos_df.dropna(subset = ['data_final_da_ocorrencia' ,'hora_termino_da_ocorrencia'])\n",
    "# não podem ser excluidos pois muitos registros seriam peridos "
   ]
  },
  {
   "cell_type": "code",
   "execution_count": null,
   "metadata": {},
   "outputs": [],
   "source": [
    "descricao_crimes_falhos = crimes_falhos_df.descricao_da_ofensa.value_counts().to_frame().reset_index()\n",
    "descricao_crimes_falhos.columns = [' descricao_da_ofensa' , 'quantidade']\n",
    "descricao_crimes_falhos.head(20)\n",
    "# quais os tipos e a quantidade dos crimes que não foram concluidos  "
   ]
  },
  {
   "cell_type": "code",
   "execution_count": null,
   "metadata": {},
   "outputs": [],
   "source": []
  },
  {
   "cell_type": "code",
   "execution_count": null,
   "metadata": {},
   "outputs": [],
   "source": []
  }
 ],
 "metadata": {
  "colab": {
   "collapsed_sections": [],
   "name": "Crimes.ipynb",
   "provenance": []
  },
  "kernelspec": {
   "display_name": "Python 3",
   "language": "python",
   "name": "python3"
  },
  "language_info": {
   "codemirror_mode": {
    "name": "ipython",
    "version": 3
   },
   "file_extension": ".py",
   "mimetype": "text/x-python",
   "name": "python",
   "nbconvert_exporter": "python",
   "pygments_lexer": "ipython3",
   "version": "3.8.3"
  }
 },
 "nbformat": 4,
 "nbformat_minor": 1
}

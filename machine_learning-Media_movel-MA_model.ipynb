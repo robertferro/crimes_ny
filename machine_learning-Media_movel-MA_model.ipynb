{
 "cells": [
  {
   "cell_type": "markdown",
   "metadata": {},
   "source": [
    "# Desenvolvendo o algorítmo de machine learning\n",
    "\n",
    " - MA_MODEL"
   ]
  },
  {
   "cell_type": "code",
   "execution_count": 1,
   "metadata": {},
   "outputs": [],
   "source": [
    "#  importando as bibliotecas\n",
    "import pandas as pd\n",
    "import numpy as np\n",
    "import seaborn as sns\n",
    "import matplotlib.pyplot as plt"
   ]
  },
  {
   "cell_type": "markdown",
   "metadata": {},
   "source": [
    "- importando os dados dos delitos"
   ]
  },
  {
   "cell_type": "code",
   "execution_count": 2,
   "metadata": {},
   "outputs": [],
   "source": [
    "delitos_ny = pd.read_csv('select_ny.csv')"
   ]
  },
  {
   "cell_type": "code",
   "execution_count": 3,
   "metadata": {},
   "outputs": [
    {
     "data": {
      "text/html": [
       "<div>\n",
       "<style scoped>\n",
       "    .dataframe tbody tr th:only-of-type {\n",
       "        vertical-align: middle;\n",
       "    }\n",
       "\n",
       "    .dataframe tbody tr th {\n",
       "        vertical-align: top;\n",
       "    }\n",
       "\n",
       "    .dataframe thead th {\n",
       "        text-align: right;\n",
       "    }\n",
       "</style>\n",
       "<table border=\"1\" class=\"dataframe\">\n",
       "  <thead>\n",
       "    <tr style=\"text-align: right;\">\n",
       "      <th></th>\n",
       "      <th>data_da_ocorrencia</th>\n",
       "      <th>data_final_da_ocorrencia</th>\n",
       "      <th>data_comunicacao_policia</th>\n",
       "      <th>hora_da_ocorrencia</th>\n",
       "      <th>hora_termino_da_ocorrencia</th>\n",
       "      <th>duracao_da_ocorrencia</th>\n",
       "      <th>descricao_da_ofensa</th>\n",
       "      <th>conclusao</th>\n",
       "      <th>nivel_de_ofensa</th>\n",
       "      <th>jurisdicao</th>\n",
       "      <th>bairro</th>\n",
       "      <th>local_da_ocorrencia</th>\n",
       "      <th>descricao_das_intalacoes</th>\n",
       "    </tr>\n",
       "  </thead>\n",
       "  <tbody>\n",
       "    <tr>\n",
       "      <th>0</th>\n",
       "      <td>2015-12-31</td>\n",
       "      <td>2015-12-31</td>\n",
       "      <td>2015-12-31</td>\n",
       "      <td>23:25:00</td>\n",
       "      <td>23:30:00</td>\n",
       "      <td>0 days 00:05:00.000000000</td>\n",
       "      <td>ASSAULT 3 &amp; RELATED OFFENSES</td>\n",
       "      <td>concluido</td>\n",
       "      <td>contravencao</td>\n",
       "      <td>N.Y. POLICE DEPT</td>\n",
       "      <td>MANHATTAN</td>\n",
       "      <td>em_frente</td>\n",
       "      <td>OTHER</td>\n",
       "    </tr>\n",
       "    <tr>\n",
       "      <th>1</th>\n",
       "      <td>2015-12-31</td>\n",
       "      <td>2015-12-31</td>\n",
       "      <td>2015-12-31</td>\n",
       "      <td>23:18:00</td>\n",
       "      <td>23:25:00</td>\n",
       "      <td>0 days 00:07:00.000000000</td>\n",
       "      <td>FELONY ASSAULT</td>\n",
       "      <td>nao_concluido</td>\n",
       "      <td>crime</td>\n",
       "      <td>N.Y. POLICE DEPT</td>\n",
       "      <td>BROOKLYN</td>\n",
       "      <td>em_frente</td>\n",
       "      <td>DRUG STORE</td>\n",
       "    </tr>\n",
       "    <tr>\n",
       "      <th>2</th>\n",
       "      <td>2015-12-31</td>\n",
       "      <td>2015-12-31</td>\n",
       "      <td>2015-12-31</td>\n",
       "      <td>23:15:00</td>\n",
       "      <td>23:15:00</td>\n",
       "      <td>0 days 00:00:00.000000000</td>\n",
       "      <td>DANGEROUS WEAPONS</td>\n",
       "      <td>concluido</td>\n",
       "      <td>crime</td>\n",
       "      <td>N.Y. POLICE DEPT</td>\n",
       "      <td>BRONX</td>\n",
       "      <td>em_frente</td>\n",
       "      <td>STREET</td>\n",
       "    </tr>\n",
       "    <tr>\n",
       "      <th>3</th>\n",
       "      <td>2015-12-31</td>\n",
       "      <td>2015-12-31</td>\n",
       "      <td>2015-12-31</td>\n",
       "      <td>23:15:00</td>\n",
       "      <td>23:30:00</td>\n",
       "      <td>0 days 00:15:00.000000000</td>\n",
       "      <td>ASSAULT 3 &amp; RELATED OFFENSES</td>\n",
       "      <td>concluido</td>\n",
       "      <td>contravencao</td>\n",
       "      <td>N.Y. POLICE DEPT</td>\n",
       "      <td>BRONX</td>\n",
       "      <td>dentro</td>\n",
       "      <td>RESIDENCE - APT. HOUSE</td>\n",
       "    </tr>\n",
       "    <tr>\n",
       "      <th>4</th>\n",
       "      <td>2015-12-31</td>\n",
       "      <td>2015-12-31</td>\n",
       "      <td>2015-12-31</td>\n",
       "      <td>23:10:00</td>\n",
       "      <td>23:10:00</td>\n",
       "      <td>0 days 00:00:00.000000000</td>\n",
       "      <td>PETIT LARCENY</td>\n",
       "      <td>concluido</td>\n",
       "      <td>contravencao</td>\n",
       "      <td>N.Y. POLICE DEPT</td>\n",
       "      <td>MANHATTAN</td>\n",
       "      <td>dentro</td>\n",
       "      <td>DRUG STORE</td>\n",
       "    </tr>\n",
       "  </tbody>\n",
       "</table>\n",
       "</div>"
      ],
      "text/plain": [
       "  data_da_ocorrencia data_final_da_ocorrencia data_comunicacao_policia  \\\n",
       "0         2015-12-31               2015-12-31               2015-12-31   \n",
       "1         2015-12-31               2015-12-31               2015-12-31   \n",
       "2         2015-12-31               2015-12-31               2015-12-31   \n",
       "3         2015-12-31               2015-12-31               2015-12-31   \n",
       "4         2015-12-31               2015-12-31               2015-12-31   \n",
       "\n",
       "  hora_da_ocorrencia hora_termino_da_ocorrencia      duracao_da_ocorrencia  \\\n",
       "0           23:25:00                   23:30:00  0 days 00:05:00.000000000   \n",
       "1           23:18:00                   23:25:00  0 days 00:07:00.000000000   \n",
       "2           23:15:00                   23:15:00  0 days 00:00:00.000000000   \n",
       "3           23:15:00                   23:30:00  0 days 00:15:00.000000000   \n",
       "4           23:10:00                   23:10:00  0 days 00:00:00.000000000   \n",
       "\n",
       "            descricao_da_ofensa      conclusao nivel_de_ofensa  \\\n",
       "0  ASSAULT 3 & RELATED OFFENSES      concluido    contravencao   \n",
       "1                FELONY ASSAULT  nao_concluido           crime   \n",
       "2             DANGEROUS WEAPONS      concluido           crime   \n",
       "3  ASSAULT 3 & RELATED OFFENSES      concluido    contravencao   \n",
       "4                 PETIT LARCENY      concluido    contravencao   \n",
       "\n",
       "         jurisdicao     bairro local_da_ocorrencia descricao_das_intalacoes  \n",
       "0  N.Y. POLICE DEPT  MANHATTAN           em_frente                    OTHER  \n",
       "1  N.Y. POLICE DEPT   BROOKLYN           em_frente               DRUG STORE  \n",
       "2  N.Y. POLICE DEPT      BRONX           em_frente                   STREET  \n",
       "3  N.Y. POLICE DEPT      BRONX              dentro   RESIDENCE - APT. HOUSE  \n",
       "4  N.Y. POLICE DEPT  MANHATTAN              dentro               DRUG STORE  "
      ]
     },
     "execution_count": 3,
     "metadata": {},
     "output_type": "execute_result"
    }
   ],
   "source": [
    "delitos_ny.head()"
   ]
  },
  {
   "cell_type": "markdown",
   "metadata": {},
   "source": [
    " - convertendo as colunas data para Datetime"
   ]
  },
  {
   "cell_type": "code",
   "execution_count": 4,
   "metadata": {},
   "outputs": [],
   "source": [
    "delitos_ny['data_da_ocorrencia'] = pd.to_datetime(delitos_ny['data_da_ocorrencia'])"
   ]
  },
  {
   "cell_type": "code",
   "execution_count": 5,
   "metadata": {},
   "outputs": [],
   "source": [
    "delitos_ny['data_final_da_ocorrencia'] = pd.to_datetime(delitos_ny['data_final_da_ocorrencia'])"
   ]
  },
  {
   "cell_type": "code",
   "execution_count": 6,
   "metadata": {},
   "outputs": [],
   "source": [
    "delitos_ny['data_comunicacao_policia'] = pd.to_datetime(delitos_ny['data_comunicacao_policia'])"
   ]
  },
  {
   "cell_type": "markdown",
   "metadata": {},
   "source": [
    " - Selecionando apenas os delitos concluídos nos anos 2014 e 2015"
   ]
  },
  {
   "cell_type": "code",
   "execution_count": 7,
   "metadata": {},
   "outputs": [],
   "source": [
    "delitos_ny = delitos_ny.query('conclusao == \"concluido\" and data_da_ocorrencia >= \"2014-01-01\"')"
   ]
  },
  {
   "cell_type": "code",
   "execution_count": 8,
   "metadata": {},
   "outputs": [
    {
     "data": {
      "text/plain": [
       "2014    303854\n",
       "2015    294305\n",
       "Name: data_da_ocorrencia, dtype: int64"
      ]
     },
     "execution_count": 8,
     "metadata": {},
     "output_type": "execute_result"
    }
   ],
   "source": [
    "delitos_ny['data_da_ocorrencia'].dt.year.value_counts()"
   ]
  },
  {
   "cell_type": "markdown",
   "metadata": {},
   "source": [
    "###    Descrição da ofensa"
   ]
  },
  {
   "cell_type": "markdown",
   "metadata": {},
   "source": [
    " - selecionando a variável \n",
    " - criando um dataframe data x descrição dos delitos"
   ]
  },
  {
   "cell_type": "code",
   "execution_count": 9,
   "metadata": {},
   "outputs": [],
   "source": [
    "descricao_da_ofensa = pd.crosstab(delitos_ny.data_da_ocorrencia , delitos_ny.descricao_da_ofensa)"
   ]
  },
  {
   "cell_type": "code",
   "execution_count": 10,
   "metadata": {},
   "outputs": [
    {
     "data": {
      "text/html": [
       "<div>\n",
       "<style scoped>\n",
       "    .dataframe tbody tr th:only-of-type {\n",
       "        vertical-align: middle;\n",
       "    }\n",
       "\n",
       "    .dataframe tbody tr th {\n",
       "        vertical-align: top;\n",
       "    }\n",
       "\n",
       "    .dataframe thead th {\n",
       "        text-align: right;\n",
       "    }\n",
       "</style>\n",
       "<table border=\"1\" class=\"dataframe\">\n",
       "  <thead>\n",
       "    <tr style=\"text-align: right;\">\n",
       "      <th>descricao_da_ofensa</th>\n",
       "      <th>ABORTION</th>\n",
       "      <th>ADMINISTRATIVE CODE</th>\n",
       "      <th>AGRICULTURE &amp; MRKTS LAW-UNCLASSIFIED</th>\n",
       "      <th>ALCOHOLIC BEVERAGE CONTROL LAW</th>\n",
       "      <th>ANTICIPATORY OFFENSES</th>\n",
       "      <th>ARSON</th>\n",
       "      <th>ASSAULT 3 &amp; RELATED OFFENSES</th>\n",
       "      <th>BURGLAR'S TOOLS</th>\n",
       "      <th>BURGLARY</th>\n",
       "      <th>CHILD ABANDONMENT/NON SUPPORT</th>\n",
       "      <th>...</th>\n",
       "      <th>PROSTITUTION &amp; RELATED OFFENSES</th>\n",
       "      <th>RAPE</th>\n",
       "      <th>ROBBERY</th>\n",
       "      <th>SEX CRIMES</th>\n",
       "      <th>THEFT OF SERVICES</th>\n",
       "      <th>THEFT-FRAUD</th>\n",
       "      <th>UNAUTHORIZED USE OF A VEHICLE</th>\n",
       "      <th>UNDER THE INFLUENCE OF DRUGS</th>\n",
       "      <th>UNLAWFUL POSS. WEAP. ON SCHOOL</th>\n",
       "      <th>VEHICLE AND TRAFFIC LAWS</th>\n",
       "    </tr>\n",
       "    <tr>\n",
       "      <th>data_da_ocorrencia</th>\n",
       "      <th></th>\n",
       "      <th></th>\n",
       "      <th></th>\n",
       "      <th></th>\n",
       "      <th></th>\n",
       "      <th></th>\n",
       "      <th></th>\n",
       "      <th></th>\n",
       "      <th></th>\n",
       "      <th></th>\n",
       "      <th></th>\n",
       "      <th></th>\n",
       "      <th></th>\n",
       "      <th></th>\n",
       "      <th></th>\n",
       "      <th></th>\n",
       "      <th></th>\n",
       "      <th></th>\n",
       "      <th></th>\n",
       "      <th></th>\n",
       "      <th></th>\n",
       "    </tr>\n",
       "  </thead>\n",
       "  <tbody>\n",
       "    <tr>\n",
       "      <th>2014-01-01</th>\n",
       "      <td>0</td>\n",
       "      <td>2</td>\n",
       "      <td>0</td>\n",
       "      <td>1</td>\n",
       "      <td>0</td>\n",
       "      <td>6</td>\n",
       "      <td>221</td>\n",
       "      <td>0</td>\n",
       "      <td>34</td>\n",
       "      <td>0</td>\n",
       "      <td>...</td>\n",
       "      <td>0</td>\n",
       "      <td>16</td>\n",
       "      <td>20</td>\n",
       "      <td>43</td>\n",
       "      <td>0</td>\n",
       "      <td>33</td>\n",
       "      <td>7</td>\n",
       "      <td>0</td>\n",
       "      <td>0</td>\n",
       "      <td>2</td>\n",
       "    </tr>\n",
       "    <tr>\n",
       "      <th>2014-01-02</th>\n",
       "      <td>0</td>\n",
       "      <td>8</td>\n",
       "      <td>0</td>\n",
       "      <td>0</td>\n",
       "      <td>0</td>\n",
       "      <td>1</td>\n",
       "      <td>51</td>\n",
       "      <td>0</td>\n",
       "      <td>49</td>\n",
       "      <td>0</td>\n",
       "      <td>...</td>\n",
       "      <td>0</td>\n",
       "      <td>1</td>\n",
       "      <td>21</td>\n",
       "      <td>5</td>\n",
       "      <td>0</td>\n",
       "      <td>5</td>\n",
       "      <td>4</td>\n",
       "      <td>0</td>\n",
       "      <td>0</td>\n",
       "      <td>2</td>\n",
       "    </tr>\n",
       "    <tr>\n",
       "      <th>2014-01-03</th>\n",
       "      <td>0</td>\n",
       "      <td>0</td>\n",
       "      <td>0</td>\n",
       "      <td>0</td>\n",
       "      <td>0</td>\n",
       "      <td>9</td>\n",
       "      <td>84</td>\n",
       "      <td>0</td>\n",
       "      <td>23</td>\n",
       "      <td>0</td>\n",
       "      <td>...</td>\n",
       "      <td>1</td>\n",
       "      <td>3</td>\n",
       "      <td>14</td>\n",
       "      <td>3</td>\n",
       "      <td>0</td>\n",
       "      <td>13</td>\n",
       "      <td>2</td>\n",
       "      <td>0</td>\n",
       "      <td>0</td>\n",
       "      <td>1</td>\n",
       "    </tr>\n",
       "    <tr>\n",
       "      <th>2014-01-04</th>\n",
       "      <td>0</td>\n",
       "      <td>2</td>\n",
       "      <td>0</td>\n",
       "      <td>0</td>\n",
       "      <td>0</td>\n",
       "      <td>6</td>\n",
       "      <td>84</td>\n",
       "      <td>0</td>\n",
       "      <td>33</td>\n",
       "      <td>0</td>\n",
       "      <td>...</td>\n",
       "      <td>0</td>\n",
       "      <td>2</td>\n",
       "      <td>18</td>\n",
       "      <td>3</td>\n",
       "      <td>0</td>\n",
       "      <td>6</td>\n",
       "      <td>0</td>\n",
       "      <td>0</td>\n",
       "      <td>0</td>\n",
       "      <td>3</td>\n",
       "    </tr>\n",
       "    <tr>\n",
       "      <th>2014-01-05</th>\n",
       "      <td>0</td>\n",
       "      <td>5</td>\n",
       "      <td>0</td>\n",
       "      <td>0</td>\n",
       "      <td>0</td>\n",
       "      <td>1</td>\n",
       "      <td>89</td>\n",
       "      <td>1</td>\n",
       "      <td>30</td>\n",
       "      <td>0</td>\n",
       "      <td>...</td>\n",
       "      <td>0</td>\n",
       "      <td>2</td>\n",
       "      <td>20</td>\n",
       "      <td>8</td>\n",
       "      <td>0</td>\n",
       "      <td>7</td>\n",
       "      <td>3</td>\n",
       "      <td>0</td>\n",
       "      <td>0</td>\n",
       "      <td>2</td>\n",
       "    </tr>\n",
       "  </tbody>\n",
       "</table>\n",
       "<p>5 rows × 63 columns</p>\n",
       "</div>"
      ],
      "text/plain": [
       "descricao_da_ofensa  ABORTION  ADMINISTRATIVE CODE  \\\n",
       "data_da_ocorrencia                                   \n",
       "2014-01-01                  0                    2   \n",
       "2014-01-02                  0                    8   \n",
       "2014-01-03                  0                    0   \n",
       "2014-01-04                  0                    2   \n",
       "2014-01-05                  0                    5   \n",
       "\n",
       "descricao_da_ofensa  AGRICULTURE & MRKTS LAW-UNCLASSIFIED  \\\n",
       "data_da_ocorrencia                                          \n",
       "2014-01-01                                              0   \n",
       "2014-01-02                                              0   \n",
       "2014-01-03                                              0   \n",
       "2014-01-04                                              0   \n",
       "2014-01-05                                              0   \n",
       "\n",
       "descricao_da_ofensa  ALCOHOLIC BEVERAGE CONTROL LAW  ANTICIPATORY OFFENSES  \\\n",
       "data_da_ocorrencia                                                           \n",
       "2014-01-01                                        1                      0   \n",
       "2014-01-02                                        0                      0   \n",
       "2014-01-03                                        0                      0   \n",
       "2014-01-04                                        0                      0   \n",
       "2014-01-05                                        0                      0   \n",
       "\n",
       "descricao_da_ofensa  ARSON  ASSAULT 3 & RELATED OFFENSES  BURGLAR'S TOOLS  \\\n",
       "data_da_ocorrencia                                                          \n",
       "2014-01-01               6                           221                0   \n",
       "2014-01-02               1                            51                0   \n",
       "2014-01-03               9                            84                0   \n",
       "2014-01-04               6                            84                0   \n",
       "2014-01-05               1                            89                1   \n",
       "\n",
       "descricao_da_ofensa  BURGLARY  CHILD ABANDONMENT/NON SUPPORT  ...  \\\n",
       "data_da_ocorrencia                                            ...   \n",
       "2014-01-01                 34                              0  ...   \n",
       "2014-01-02                 49                              0  ...   \n",
       "2014-01-03                 23                              0  ...   \n",
       "2014-01-04                 33                              0  ...   \n",
       "2014-01-05                 30                              0  ...   \n",
       "\n",
       "descricao_da_ofensa  PROSTITUTION & RELATED OFFENSES  RAPE  ROBBERY  \\\n",
       "data_da_ocorrencia                                                    \n",
       "2014-01-01                                         0    16       20   \n",
       "2014-01-02                                         0     1       21   \n",
       "2014-01-03                                         1     3       14   \n",
       "2014-01-04                                         0     2       18   \n",
       "2014-01-05                                         0     2       20   \n",
       "\n",
       "descricao_da_ofensa  SEX CRIMES  THEFT OF SERVICES  THEFT-FRAUD  \\\n",
       "data_da_ocorrencia                                                \n",
       "2014-01-01                   43                  0           33   \n",
       "2014-01-02                    5                  0            5   \n",
       "2014-01-03                    3                  0           13   \n",
       "2014-01-04                    3                  0            6   \n",
       "2014-01-05                    8                  0            7   \n",
       "\n",
       "descricao_da_ofensa  UNAUTHORIZED USE OF A VEHICLE  \\\n",
       "data_da_ocorrencia                                   \n",
       "2014-01-01                                       7   \n",
       "2014-01-02                                       4   \n",
       "2014-01-03                                       2   \n",
       "2014-01-04                                       0   \n",
       "2014-01-05                                       3   \n",
       "\n",
       "descricao_da_ofensa  UNDER THE INFLUENCE OF DRUGS  \\\n",
       "data_da_ocorrencia                                  \n",
       "2014-01-01                                      0   \n",
       "2014-01-02                                      0   \n",
       "2014-01-03                                      0   \n",
       "2014-01-04                                      0   \n",
       "2014-01-05                                      0   \n",
       "\n",
       "descricao_da_ofensa  UNLAWFUL POSS. WEAP. ON SCHOOL  VEHICLE AND TRAFFIC LAWS  \n",
       "data_da_ocorrencia                                                             \n",
       "2014-01-01                                        0                         2  \n",
       "2014-01-02                                        0                         2  \n",
       "2014-01-03                                        0                         1  \n",
       "2014-01-04                                        0                         3  \n",
       "2014-01-05                                        0                         2  \n",
       "\n",
       "[5 rows x 63 columns]"
      ]
     },
     "execution_count": 10,
     "metadata": {},
     "output_type": "execute_result"
    }
   ],
   "source": [
    "descricao_da_ofensa.head()"
   ]
  },
  {
   "cell_type": "markdown",
   "metadata": {},
   "source": [
    "###  Delitos mais graves\n",
    "\n",
    " - Selecionando os delitos considerados mais graves"
   ]
  },
  {
   "cell_type": "code",
   "execution_count": 11,
   "metadata": {},
   "outputs": [
    {
     "data": {
      "text/plain": [
       "PETIT LARCENY                      117139\n",
       "HARRASSMENT 2                       81317\n",
       "ASSAULT 3 & RELATED OFFENSES        67875\n",
       "CRIMINAL MISCHIEF & RELATED OF      62065\n",
       "GRAND LARCENY                       58116\n",
       "OFF. AGNST PUB ORD SENSBLTY &       28001\n",
       "BURGLARY                            26860\n",
       "FELONY ASSAULT                      25236\n",
       "DANGEROUS DRUGS                     24539\n",
       "MISCELLANEOUS PENAL LAW             17501\n",
       "ROBBERY                             15527\n",
       "OFFENSES AGAINST PUBLIC ADMINI      11556\n",
       "GRAND LARCENY OF MOTOR VEHICLE      10269\n",
       "DANGEROUS WEAPONS                    8228\n",
       "CRIMINAL TRESPASS                    7422\n",
       "SEX CRIMES                           5604\n",
       "THEFT-FRAUD                          5352\n",
       "FRAUDS                               3495\n",
       "FORGERY                              3218\n",
       "INTOXICATED & IMPAIRED DRIVING       2406\n",
       "POSSESSION OF STOLEN PROPERTY        2046\n",
       "UNAUTHORIZED USE OF A VEHICLE        1878\n",
       "VEHICLE AND TRAFFIC LAWS             1682\n",
       "ADMINISTRATIVE CODE                  1577\n",
       "OTHER OFFENSES RELATED TO THEF       1514\n",
       "RAPE                                 1448\n",
       "ARSON                                1393\n",
       "OFFENSES INVOLVING FRAUD             1259\n",
       "OFFENSES AGAINST THE PERSON          1022\n",
       "OTHER STATE LAWS (NON PENAL LA        420\n",
       "GAMBLING                              339\n",
       "NYS LAWS-UNCLASSIFIED FELONY          339\n",
       "BURGLAR'S TOOLS                       334\n",
       "OFFENSES RELATED TO CHILDREN          220\n",
       "FRAUDULENT ACCOSTING                  202\n",
       "KIDNAPPING & RELATED OFFENSES         170\n",
       "ALCOHOLIC BEVERAGE CONTROL LAW        108\n",
       "PETIT LARCENY OF MOTOR VEHICLE        101\n",
       "OFFENSES AGAINST PUBLIC SAFETY         61\n",
       "PROSTITUTION & RELATED OFFENSES        53\n",
       "Name: descricao_da_ofensa, dtype: int64"
      ]
     },
     "execution_count": 11,
     "metadata": {},
     "output_type": "execute_result"
    }
   ],
   "source": [
    "delitos_ny.descricao_da_ofensa.value_counts().head(40)"
   ]
  },
  {
   "cell_type": "markdown",
   "metadata": {},
   "source": [
    " - após verificar os tipos de delitos selecionamos  os delitos abaixo como sendo os mais graves\n",
    " \n",
    "    'FELONY ASSAULT','DANGEROUS DRUGS','SEX CRIMES','DANGEROUS WEAPONS'"
   ]
  },
  {
   "cell_type": "code",
   "execution_count": 12,
   "metadata": {},
   "outputs": [],
   "source": [
    "# criando um DataFrame apenas com os 4 tipos de delitos considerados mais graves\n",
    "delitos_mais_graves = descricao_da_ofensa.loc[:,['FELONY ASSAULT','DANGEROUS DRUGS',\n",
    "                                                 'SEX CRIMES','DANGEROUS WEAPONS']]"
   ]
  },
  {
   "cell_type": "code",
   "execution_count": 13,
   "metadata": {},
   "outputs": [],
   "source": [
    "# renomenado as colunas do DataFrame\n",
    "delitos_mais_graves.columns = ['crime_de_assalto','drogas_perigosas','crimes_sexuais','armas_perigosas']"
   ]
  },
  {
   "cell_type": "code",
   "execution_count": 14,
   "metadata": {},
   "outputs": [
    {
     "data": {
      "text/html": [
       "<div>\n",
       "<style scoped>\n",
       "    .dataframe tbody tr th:only-of-type {\n",
       "        vertical-align: middle;\n",
       "    }\n",
       "\n",
       "    .dataframe tbody tr th {\n",
       "        vertical-align: top;\n",
       "    }\n",
       "\n",
       "    .dataframe thead th {\n",
       "        text-align: right;\n",
       "    }\n",
       "</style>\n",
       "<table border=\"1\" class=\"dataframe\">\n",
       "  <thead>\n",
       "    <tr style=\"text-align: right;\">\n",
       "      <th></th>\n",
       "      <th>crime_de_assalto</th>\n",
       "      <th>drogas_perigosas</th>\n",
       "      <th>crimes_sexuais</th>\n",
       "      <th>armas_perigosas</th>\n",
       "    </tr>\n",
       "    <tr>\n",
       "      <th>data_da_ocorrencia</th>\n",
       "      <th></th>\n",
       "      <th></th>\n",
       "      <th></th>\n",
       "      <th></th>\n",
       "    </tr>\n",
       "  </thead>\n",
       "  <tbody>\n",
       "    <tr>\n",
       "      <th>2014-01-01</th>\n",
       "      <td>87</td>\n",
       "      <td>40</td>\n",
       "      <td>43</td>\n",
       "      <td>21</td>\n",
       "    </tr>\n",
       "    <tr>\n",
       "      <th>2014-01-02</th>\n",
       "      <td>29</td>\n",
       "      <td>38</td>\n",
       "      <td>5</td>\n",
       "      <td>10</td>\n",
       "    </tr>\n",
       "    <tr>\n",
       "      <th>2014-01-03</th>\n",
       "      <td>23</td>\n",
       "      <td>28</td>\n",
       "      <td>3</td>\n",
       "      <td>5</td>\n",
       "    </tr>\n",
       "    <tr>\n",
       "      <th>2014-01-04</th>\n",
       "      <td>28</td>\n",
       "      <td>29</td>\n",
       "      <td>3</td>\n",
       "      <td>12</td>\n",
       "    </tr>\n",
       "    <tr>\n",
       "      <th>2014-01-05</th>\n",
       "      <td>27</td>\n",
       "      <td>24</td>\n",
       "      <td>8</td>\n",
       "      <td>6</td>\n",
       "    </tr>\n",
       "  </tbody>\n",
       "</table>\n",
       "</div>"
      ],
      "text/plain": [
       "                    crime_de_assalto  drogas_perigosas  crimes_sexuais  \\\n",
       "data_da_ocorrencia                                                       \n",
       "2014-01-01                        87                40              43   \n",
       "2014-01-02                        29                38               5   \n",
       "2014-01-03                        23                28               3   \n",
       "2014-01-04                        28                29               3   \n",
       "2014-01-05                        27                24               8   \n",
       "\n",
       "                    armas_perigosas  \n",
       "data_da_ocorrencia                   \n",
       "2014-01-01                       21  \n",
       "2014-01-02                       10  \n",
       "2014-01-03                        5  \n",
       "2014-01-04                       12  \n",
       "2014-01-05                        6  "
      ]
     },
     "execution_count": 14,
     "metadata": {},
     "output_type": "execute_result"
    }
   ],
   "source": [
    "delitos_mais_graves.head()"
   ]
  },
  {
   "cell_type": "markdown",
   "metadata": {},
   "source": [
    " ## Criando o DataFrame \"crimes_sexuais\" "
   ]
  },
  {
   "cell_type": "code",
   "execution_count": 15,
   "metadata": {},
   "outputs": [],
   "source": [
    "crimes_sexuais = delitos_mais_graves.crimes_sexuais.to_frame()"
   ]
  },
  {
   "cell_type": "markdown",
   "metadata": {},
   "source": [
    " - Graficando \"crimes_sexuais\""
   ]
  },
  {
   "cell_type": "code",
   "execution_count": 16,
   "metadata": {},
   "outputs": [
    {
     "data": {
      "image/png": "[encoded data removed]",
      "text/plain": [
       "<Figure size 1080x576 with 1 Axes>"
      ]
     },
     "metadata": {
      "needs_background": "light"
     },
     "output_type": "display_data"
    }
   ],
   "source": [
    "plt.figure(figsize=(15,8))\n",
    "plt.plot(crimes_sexuais)\n",
    "plt.title('Crimes Sexuais', fontsize=12)\n",
    "plt.xlabel('Data', fontsize=12)\n",
    "plt.ylabel('Quantidade', fontsize=12)\n",
    "legenda= ['Crimes sexuais x Tempo']\n",
    "plt.legend(legenda, fontsize=15, loc=1)\n",
    "plt.show()"
   ]
  },
  {
   "cell_type": "markdown",
   "metadata": {},
   "source": [
    "- Criando as amostras de treino e teste"
   ]
  },
  {
   "cell_type": "code",
   "execution_count": 17,
   "metadata": {},
   "outputs": [],
   "source": [
    "t_treino = crimes_sexuais[crimes_sexuais.index<'2014-06-01'].index.values\n",
    "t_teste = crimes_sexuais[crimes_sexuais.index>='2014-06-01'].index.values\n",
    "X_treino = crimes_sexuais[crimes_sexuais.index<'2014-06-01'].values\n",
    "X_teste = crimes_sexuais[crimes_sexuais.index>='2014-06-01'].values"
   ]
  },
  {
   "cell_type": "markdown",
   "metadata": {},
   "source": [
    "- aplicando o modelo média móvel"
   ]
  },
  {
   "cell_type": "code",
   "execution_count": 18,
   "metadata": {},
   "outputs": [],
   "source": [
    "forecast = len(X_teste)"
   ]
  },
  {
   "cell_type": "code",
   "execution_count": 19,
   "metadata": {},
   "outputs": [],
   "source": [
    "y_hat_avg = X_teste.copy()"
   ]
  },
  {
   "cell_type": "code",
   "execution_count": 20,
   "metadata": {},
   "outputs": [
    {
     "ename": "IndexError",
     "evalue": "only integers, slices (`:`), ellipsis (`...`), numpy.newaxis (`None`) and integer or boolean arrays are valid indices",
     "output_type": "error",
     "traceback": [
      "\u001b[1;31m---------------------------------------------------------------------------\u001b[0m",
      "\u001b[1;31mIndexError\u001b[0m                                Traceback (most recent call last)",
      "\u001b[1;32m<ipython-input-20-771fc0d9d6f6>\u001b[0m in \u001b[0;36m<module>\u001b[1;34m\u001b[0m\n\u001b[1;32m----> 1\u001b[1;33m \u001b[0my_hat_avg\u001b[0m\u001b[1;33m[\u001b[0m\u001b[1;34m'predicao'\u001b[0m\u001b[1;33m]\u001b[0m \u001b[1;33m=\u001b[0m \u001b[1;36m0\u001b[0m\u001b[1;33m\u001b[0m\u001b[1;33m\u001b[0m\u001b[0m\n\u001b[0m",
      "\u001b[1;31mIndexError\u001b[0m: only integers, slices (`:`), ellipsis (`...`), numpy.newaxis (`None`) and integer or boolean arrays are valid indices"
     ]
    }
   ],
   "source": [
    "y_hat_avg['predicao'] = 0"
   ]
  },
  {
   "cell_type": "code",
   "execution_count": 21,
   "metadata": {},
   "outputs": [
    {
     "ename": "IndexError",
     "evalue": "only integers, slices (`:`), ellipsis (`...`), numpy.newaxis (`None`) and integer or boolean arrays are valid indices",
     "output_type": "error",
     "traceback": [
      "\u001b[1;31m---------------------------------------------------------------------------\u001b[0m",
      "\u001b[1;31mIndexError\u001b[0m                                Traceback (most recent call last)",
      "\u001b[1;32m<ipython-input-21-669bcdb4e03a>\u001b[0m in \u001b[0;36m<module>\u001b[1;34m\u001b[0m\n\u001b[0;32m      1\u001b[0m \u001b[1;32mfor\u001b[0m \u001b[0mi\u001b[0m \u001b[1;32min\u001b[0m \u001b[0mrange\u001b[0m\u001b[1;33m(\u001b[0m\u001b[0mforecast\u001b[0m\u001b[1;33m)\u001b[0m\u001b[1;33m:\u001b[0m\u001b[1;33m\u001b[0m\u001b[1;33m\u001b[0m\u001b[0m\n\u001b[1;32m----> 2\u001b[1;33m     \u001b[0my_hat_avg\u001b[0m\u001b[1;33m[\u001b[0m\u001b[1;34m'predicao'\u001b[0m\u001b[1;33m]\u001b[0m\u001b[1;33m.\u001b[0m\u001b[0miloc\u001b[0m\u001b[1;33m[\u001b[0m\u001b[0mi\u001b[0m\u001b[1;33m]\u001b[0m \u001b[1;33m=\u001b[0m \u001b[0mX_treino\u001b[0m\u001b[1;33m[\u001b[0m\u001b[1;34m'Temp'\u001b[0m\u001b[1;33m]\u001b[0m\u001b[1;33m.\u001b[0m\u001b[0mrolling\u001b[0m\u001b[1;33m(\u001b[0m\u001b[0mi\u001b[0m\u001b[1;33m)\u001b[0m\u001b[1;33m.\u001b[0m\u001b[0mmean\u001b[0m\u001b[1;33m(\u001b[0m\u001b[1;33m)\u001b[0m\u001b[1;33m.\u001b[0m\u001b[0miloc\u001b[0m\u001b[1;33m[\u001b[0m\u001b[1;33m-\u001b[0m\u001b[1;36m1\u001b[0m\u001b[1;33m]\u001b[0m\u001b[1;33m\u001b[0m\u001b[1;33m\u001b[0m\u001b[0m\n\u001b[0m",
      "\u001b[1;31mIndexError\u001b[0m: only integers, slices (`:`), ellipsis (`...`), numpy.newaxis (`None`) and integer or boolean arrays are valid indices"
     ]
    }
   ],
   "source": [
    "for i in range(forecast):\n",
    "    y_hat_avg['predicao'].iloc[i] = X_treino['Temp'].rolling(i).mean().iloc[-1]"
   ]
  },
  {
   "cell_type": "code",
   "execution_count": null,
   "metadata": {},
   "outputs": [],
   "source": []
  }
 ],
 "metadata": {
  "kernelspec": {
   "display_name": "Python 3",
   "language": "python",
   "name": "python3"
  },
  "language_info": {
   "codemirror_mode": {
    "name": "ipython",
    "version": 3
   },
   "file_extension": ".py",
   "mimetype": "text/x-python",
   "name": "python",
   "nbconvert_exporter": "python",
   "pygments_lexer": "ipython3",
   "version": "3.8.3"
  }
 },
 "nbformat": 4,
 "nbformat_minor": 4
}

{
 "cells": [
  {
   "cell_type": "markdown",
   "metadata": {
    "id": "mwcIIPSuidA3"
   },
   "source": [
    "## 1. Planejamento  "
   ]
  },
  {
   "cell_type": "markdown",
   "metadata": {
    "id": "qg1L-yisidA-"
   },
   "source": [
    " - Verificar a correlação entre os tipos de  delitos e suas incidencias\n",
    " - Fazer previsões do crescimento de determinados tipos de delitos\n",
    " - Relacionar com cresccimento da população"
   ]
  },
  {
   "cell_type": "markdown",
   "metadata": {
    "id": "402PuwsjidBB"
   },
   "source": [
    " ## 2. Importando e praparando a base de dados"
   ]
  },
  {
   "cell_type": "code",
   "execution_count": 1,
   "metadata": {
    "id": "NIn1O5pqidBC"
   },
   "outputs": [],
   "source": [
    "#  importando as bibliotecas\n",
    "import pandas as pd\n",
    "import numpy as np\n",
    "import seaborn as sns\n",
    "import matplotlib.pyplot as plt"
   ]
  },
  {
   "cell_type": "markdown",
   "metadata": {
    "id": "39y4MwIBidBE"
   },
   "source": [
    "- importando os dados dos delitos\n",
    "\n",
    " link para base de dados original: (https://www.kaggle.com/adamschroeder/crimes-new-york-city?select=Crime_Column_Description.csv)"
   ]
  },
  {
   "cell_type": "code",
   "execution_count": 2,
   "metadata": {
    "id": "RxNJ1izyidBF"
   },
   "outputs": [],
   "source": [
    "delitos_ny = pd.read_csv('select_ny.csv')"
   ]
  },
  {
   "cell_type": "code",
   "execution_count": 3,
   "metadata": {
    "id": "72zb-2hmidBI",
    "outputId": "931aa3dc-f106-47c6-9089-a6586313618e"
   },
   "outputs": [
    {
     "data": {
      "text/html": [
       "<div>\n",
       "<style scoped>\n",
       "    .dataframe tbody tr th:only-of-type {\n",
       "        vertical-align: middle;\n",
       "    }\n",
       "\n",
       "    .dataframe tbody tr th {\n",
       "        vertical-align: top;\n",
       "    }\n",
       "\n",
       "    .dataframe thead th {\n",
       "        text-align: right;\n",
       "    }\n",
       "</style>\n",
       "<table border=\"1\" class=\"dataframe\">\n",
       "  <thead>\n",
       "    <tr style=\"text-align: right;\">\n",
       "      <th></th>\n",
       "      <th>data_da_ocorrencia</th>\n",
       "      <th>data_final_da_ocorrencia</th>\n",
       "      <th>data_comunicacao_policia</th>\n",
       "      <th>hora_da_ocorrencia</th>\n",
       "      <th>hora_termino_da_ocorrencia</th>\n",
       "      <th>duracao_da_ocorrencia</th>\n",
       "      <th>descricao_da_ofensa</th>\n",
       "      <th>conclusao</th>\n",
       "      <th>nivel_de_ofensa</th>\n",
       "      <th>jurisdicao</th>\n",
       "      <th>bairro</th>\n",
       "      <th>local_da_ocorrencia</th>\n",
       "      <th>descricao_das_intalacoes</th>\n",
       "    </tr>\n",
       "  </thead>\n",
       "  <tbody>\n",
       "    <tr>\n",
       "      <th>0</th>\n",
       "      <td>2015-12-31</td>\n",
       "      <td>2015-12-31</td>\n",
       "      <td>2015-12-31</td>\n",
       "      <td>23:25:00</td>\n",
       "      <td>23:30:00</td>\n",
       "      <td>0 days 00:05:00.000000000</td>\n",
       "      <td>ASSAULT 3 &amp; RELATED OFFENSES</td>\n",
       "      <td>concluido</td>\n",
       "      <td>contravencao</td>\n",
       "      <td>N.Y. POLICE DEPT</td>\n",
       "      <td>MANHATTAN</td>\n",
       "      <td>em_frente</td>\n",
       "      <td>OTHER</td>\n",
       "    </tr>\n",
       "    <tr>\n",
       "      <th>1</th>\n",
       "      <td>2015-12-31</td>\n",
       "      <td>2015-12-31</td>\n",
       "      <td>2015-12-31</td>\n",
       "      <td>23:18:00</td>\n",
       "      <td>23:25:00</td>\n",
       "      <td>0 days 00:07:00.000000000</td>\n",
       "      <td>FELONY ASSAULT</td>\n",
       "      <td>nao_concluido</td>\n",
       "      <td>crime</td>\n",
       "      <td>N.Y. POLICE DEPT</td>\n",
       "      <td>BROOKLYN</td>\n",
       "      <td>em_frente</td>\n",
       "      <td>DRUG STORE</td>\n",
       "    </tr>\n",
       "    <tr>\n",
       "      <th>2</th>\n",
       "      <td>2015-12-31</td>\n",
       "      <td>2015-12-31</td>\n",
       "      <td>2015-12-31</td>\n",
       "      <td>23:15:00</td>\n",
       "      <td>23:15:00</td>\n",
       "      <td>0 days 00:00:00.000000000</td>\n",
       "      <td>DANGEROUS WEAPONS</td>\n",
       "      <td>concluido</td>\n",
       "      <td>crime</td>\n",
       "      <td>N.Y. POLICE DEPT</td>\n",
       "      <td>BRONX</td>\n",
       "      <td>em_frente</td>\n",
       "      <td>STREET</td>\n",
       "    </tr>\n",
       "    <tr>\n",
       "      <th>3</th>\n",
       "      <td>2015-12-31</td>\n",
       "      <td>2015-12-31</td>\n",
       "      <td>2015-12-31</td>\n",
       "      <td>23:15:00</td>\n",
       "      <td>23:30:00</td>\n",
       "      <td>0 days 00:15:00.000000000</td>\n",
       "      <td>ASSAULT 3 &amp; RELATED OFFENSES</td>\n",
       "      <td>concluido</td>\n",
       "      <td>contravencao</td>\n",
       "      <td>N.Y. POLICE DEPT</td>\n",
       "      <td>BRONX</td>\n",
       "      <td>dentro</td>\n",
       "      <td>RESIDENCE - APT. HOUSE</td>\n",
       "    </tr>\n",
       "    <tr>\n",
       "      <th>4</th>\n",
       "      <td>2015-12-31</td>\n",
       "      <td>2015-12-31</td>\n",
       "      <td>2015-12-31</td>\n",
       "      <td>23:10:00</td>\n",
       "      <td>23:10:00</td>\n",
       "      <td>0 days 00:00:00.000000000</td>\n",
       "      <td>PETIT LARCENY</td>\n",
       "      <td>concluido</td>\n",
       "      <td>contravencao</td>\n",
       "      <td>N.Y. POLICE DEPT</td>\n",
       "      <td>MANHATTAN</td>\n",
       "      <td>dentro</td>\n",
       "      <td>DRUG STORE</td>\n",
       "    </tr>\n",
       "  </tbody>\n",
       "</table>\n",
       "</div>"
      ],
      "text/plain": [
       "  data_da_ocorrencia data_final_da_ocorrencia data_comunicacao_policia  \\\n",
       "0         2015-12-31               2015-12-31               2015-12-31   \n",
       "1         2015-12-31               2015-12-31               2015-12-31   \n",
       "2         2015-12-31               2015-12-31               2015-12-31   \n",
       "3         2015-12-31               2015-12-31               2015-12-31   \n",
       "4         2015-12-31               2015-12-31               2015-12-31   \n",
       "\n",
       "  hora_da_ocorrencia hora_termino_da_ocorrencia      duracao_da_ocorrencia  \\\n",
       "0           23:25:00                   23:30:00  0 days 00:05:00.000000000   \n",
       "1           23:18:00                   23:25:00  0 days 00:07:00.000000000   \n",
       "2           23:15:00                   23:15:00  0 days 00:00:00.000000000   \n",
       "3           23:15:00                   23:30:00  0 days 00:15:00.000000000   \n",
       "4           23:10:00                   23:10:00  0 days 00:00:00.000000000   \n",
       "\n",
       "            descricao_da_ofensa      conclusao nivel_de_ofensa  \\\n",
       "0  ASSAULT 3 & RELATED OFFENSES      concluido    contravencao   \n",
       "1                FELONY ASSAULT  nao_concluido           crime   \n",
       "2             DANGEROUS WEAPONS      concluido           crime   \n",
       "3  ASSAULT 3 & RELATED OFFENSES      concluido    contravencao   \n",
       "4                 PETIT LARCENY      concluido    contravencao   \n",
       "\n",
       "         jurisdicao     bairro local_da_ocorrencia descricao_das_intalacoes  \n",
       "0  N.Y. POLICE DEPT  MANHATTAN           em_frente                    OTHER  \n",
       "1  N.Y. POLICE DEPT   BROOKLYN           em_frente               DRUG STORE  \n",
       "2  N.Y. POLICE DEPT      BRONX           em_frente                   STREET  \n",
       "3  N.Y. POLICE DEPT      BRONX              dentro   RESIDENCE - APT. HOUSE  \n",
       "4  N.Y. POLICE DEPT  MANHATTAN              dentro               DRUG STORE  "
      ]
     },
     "execution_count": 3,
     "metadata": {},
     "output_type": "execute_result"
    }
   ],
   "source": [
    "delitos_ny.head()"
   ]
  },
  {
   "cell_type": "markdown",
   "metadata": {
    "id": "bHOEupEwidBK"
   },
   "source": [
    " - convertendo as colunas data para Datetime"
   ]
  },
  {
   "cell_type": "code",
   "execution_count": 4,
   "metadata": {
    "id": "op59-tcJidBL"
   },
   "outputs": [],
   "source": [
    "delitos_ny['data_da_ocorrencia'] = pd.to_datetime(delitos_ny['data_da_ocorrencia'])"
   ]
  },
  {
   "cell_type": "code",
   "execution_count": 5,
   "metadata": {
    "id": "yTiMJ5_ridBM"
   },
   "outputs": [],
   "source": [
    "delitos_ny['data_final_da_ocorrencia'] = pd.to_datetime(delitos_ny['data_final_da_ocorrencia'])"
   ]
  },
  {
   "cell_type": "code",
   "execution_count": 6,
   "metadata": {
    "id": "QwFVlMckidBO"
   },
   "outputs": [],
   "source": [
    "delitos_ny['data_comunicacao_policia'] = pd.to_datetime(delitos_ny['data_comunicacao_policia'])"
   ]
  },
  {
   "cell_type": "markdown",
   "metadata": {
    "id": "X5LP48Y6idBP"
   },
   "source": [
    " - pegando apenas os delitos concluídos nos anos 2014 e 2015"
   ]
  },
  {
   "cell_type": "code",
   "execution_count": 7,
   "metadata": {
    "id": "S6HoGxbiidBd"
   },
   "outputs": [],
   "source": [
    "delitos_ny = delitos_ny.query('conclusao == \"concluido\" and data_da_ocorrencia >= \"2014-01-01\"')"
   ]
  },
  {
   "cell_type": "code",
   "execution_count": 8,
   "metadata": {
    "id": "ZpEMh4V2idBe",
    "outputId": "2a2d3add-f7e3-47b1-bae2-b96c6d81058f"
   },
   "outputs": [
    {
     "data": {
      "text/plain": [
       "2014    303854\n",
       "2015    294305\n",
       "Name: data_da_ocorrencia, dtype: int64"
      ]
     },
     "execution_count": 8,
     "metadata": {},
     "output_type": "execute_result"
    }
   ],
   "source": [
    "delitos_ny['data_da_ocorrencia'].dt.year.value_counts()"
   ]
  },
  {
   "cell_type": "markdown",
   "metadata": {
    "id": "gm7kcAt6idBf"
   },
   "source": [
    " - Classificando os delitos apenas como centro ou fora dos estabelecimentos "
   ]
  },
  {
   "cell_type": "code",
   "execution_count": 9,
   "metadata": {
    "id": "fRZz8LFTidBg"
   },
   "outputs": [],
   "source": [
    "#  classificando os delitos apenas como sendo dentro / fora  dos estabelecimentos\n",
    "\n",
    "\n",
    "new_local_da_ocorrencia = {'atras': \"fora\", 'dentro': \"dentro\", 'em_frente': \"fora\", \n",
    "                           'oposto': \"fora\" }\n",
    "delitos_ny['local_da_ocorrencia'] = delitos_ny['local_da_ocorrencia'].map(new_local_da_ocorrencia)"
   ]
  },
  {
   "cell_type": "code",
   "execution_count": 10,
   "metadata": {
    "id": "m0-99qo-idBh",
    "outputId": "e31e6b42-ec68-4890-9ad7-11ed889e61ce"
   },
   "outputs": [
    {
     "data": {
      "text/plain": [
       "dentro    387272\n",
       "fora      210887\n",
       "Name: local_da_ocorrencia, dtype: int64"
      ]
     },
     "execution_count": 10,
     "metadata": {},
     "output_type": "execute_result"
    }
   ],
   "source": [
    "delitos_ny.local_da_ocorrencia.value_counts()"
   ]
  },
  {
   "cell_type": "markdown",
   "metadata": {
    "id": "Gu5q9I0nidBn"
   },
   "source": [
    " -  Importando os dados da população de 2010-2030"
   ]
  },
  {
   "cell_type": "code",
   "execution_count": 11,
   "metadata": {
    "id": "MBNETgasidBo"
   },
   "outputs": [],
   "source": [
    "populacao = pd.read_csv('populacao_2010_2030.csv')"
   ]
  },
  {
   "cell_type": "code",
   "execution_count": 12,
   "metadata": {
    "id": "Zsu5zynGidBp",
    "outputId": "adbc9844-4358-4e56-a2ac-10d806aac9e8"
   },
   "outputs": [
    {
     "data": {
      "text/html": [
       "<div>\n",
       "<style scoped>\n",
       "    .dataframe tbody tr th:only-of-type {\n",
       "        vertical-align: middle;\n",
       "    }\n",
       "\n",
       "    .dataframe tbody tr th {\n",
       "        vertical-align: top;\n",
       "    }\n",
       "\n",
       "    .dataframe thead th {\n",
       "        text-align: right;\n",
       "    }\n",
       "</style>\n",
       "<table border=\"1\" class=\"dataframe\">\n",
       "  <thead>\n",
       "    <tr style=\"text-align: right;\">\n",
       "      <th></th>\n",
       "      <th>Age Group</th>\n",
       "      <th>Borough</th>\n",
       "      <th>1950</th>\n",
       "      <th>1950 - Boro share of NYC total</th>\n",
       "      <th>1960</th>\n",
       "      <th>1960 - Boro share of NYC total</th>\n",
       "      <th>1970</th>\n",
       "      <th>1970 - Boro share of NYC total</th>\n",
       "      <th>1980</th>\n",
       "      <th>1980 - Boro share of NYC total</th>\n",
       "      <th>...</th>\n",
       "      <th>2000</th>\n",
       "      <th>2000 - Boro share of NYC total</th>\n",
       "      <th>2010</th>\n",
       "      <th>2010 - Boro share of NYC total</th>\n",
       "      <th>2020</th>\n",
       "      <th>2020 - Boro share of NYC total</th>\n",
       "      <th>2030</th>\n",
       "      <th>2030 - Boro share of NYC total</th>\n",
       "      <th>2040</th>\n",
       "      <th>2040 - Boro share of NYC total</th>\n",
       "    </tr>\n",
       "  </thead>\n",
       "  <tbody>\n",
       "    <tr>\n",
       "      <th>0</th>\n",
       "      <td>Total Population</td>\n",
       "      <td>NYC Total</td>\n",
       "      <td>7,891,957</td>\n",
       "      <td>100%</td>\n",
       "      <td>7,781,984</td>\n",
       "      <td>100%</td>\n",
       "      <td>7,894,862</td>\n",
       "      <td>100%</td>\n",
       "      <td>7,071,639</td>\n",
       "      <td>100%</td>\n",
       "      <td>...</td>\n",
       "      <td>8,008,278</td>\n",
       "      <td>100%</td>\n",
       "      <td>8,242,624</td>\n",
       "      <td>100%</td>\n",
       "      <td>8,550,971</td>\n",
       "      <td>100%</td>\n",
       "      <td>8,821,027</td>\n",
       "      <td>100%</td>\n",
       "      <td>9,025,145</td>\n",
       "      <td>100%</td>\n",
       "    </tr>\n",
       "    <tr>\n",
       "      <th>1</th>\n",
       "      <td>Total Population</td>\n",
       "      <td>Bronx</td>\n",
       "      <td>1,451,277</td>\n",
       "      <td>18.39%</td>\n",
       "      <td>1,424,815</td>\n",
       "      <td>18.31%</td>\n",
       "      <td>1,471,701</td>\n",
       "      <td>18.64%</td>\n",
       "      <td>1,168,972</td>\n",
       "      <td>16.53%</td>\n",
       "      <td>...</td>\n",
       "      <td>1,332,650</td>\n",
       "      <td>16.64%</td>\n",
       "      <td>1,385,108</td>\n",
       "      <td>16.8%</td>\n",
       "      <td>1,446,788</td>\n",
       "      <td>16.92%</td>\n",
       "      <td>1,518,998</td>\n",
       "      <td>17.22%</td>\n",
       "      <td>1,579,245</td>\n",
       "      <td>17.5%</td>\n",
       "    </tr>\n",
       "    <tr>\n",
       "      <th>2</th>\n",
       "      <td>Total Population</td>\n",
       "      <td>Brooklyn</td>\n",
       "      <td>2,738,175</td>\n",
       "      <td>34.7%</td>\n",
       "      <td>2,627,319</td>\n",
       "      <td>33.76%</td>\n",
       "      <td>2,602,012</td>\n",
       "      <td>32.96%</td>\n",
       "      <td>2,230,936</td>\n",
       "      <td>31.55%</td>\n",
       "      <td>...</td>\n",
       "      <td>2,465,326</td>\n",
       "      <td>30.78%</td>\n",
       "      <td>2,552,911</td>\n",
       "      <td>30.97%</td>\n",
       "      <td>2,648,452</td>\n",
       "      <td>30.97%</td>\n",
       "      <td>2,754,009</td>\n",
       "      <td>31.22%</td>\n",
       "      <td>2,840,525</td>\n",
       "      <td>31.47%</td>\n",
       "    </tr>\n",
       "    <tr>\n",
       "      <th>3</th>\n",
       "      <td>Total Population</td>\n",
       "      <td>Manhattan</td>\n",
       "      <td>1,960,101</td>\n",
       "      <td>24.84%</td>\n",
       "      <td>1,698,281</td>\n",
       "      <td>21.82%</td>\n",
       "      <td>1,539,233</td>\n",
       "      <td>19.5%</td>\n",
       "      <td>1,428,285</td>\n",
       "      <td>20.2%</td>\n",
       "      <td>...</td>\n",
       "      <td>1,537,195</td>\n",
       "      <td>19.2%</td>\n",
       "      <td>1,585,873</td>\n",
       "      <td>19.24%</td>\n",
       "      <td>1,638,281</td>\n",
       "      <td>19.16%</td>\n",
       "      <td>1,676,720</td>\n",
       "      <td>19.01%</td>\n",
       "      <td>1,691,617</td>\n",
       "      <td>18.74%</td>\n",
       "    </tr>\n",
       "    <tr>\n",
       "      <th>4</th>\n",
       "      <td>Total Population</td>\n",
       "      <td>Queens</td>\n",
       "      <td>1,550,849</td>\n",
       "      <td>19.65%</td>\n",
       "      <td>1,809,578</td>\n",
       "      <td>23.25%</td>\n",
       "      <td>1,986,473</td>\n",
       "      <td>25.16%</td>\n",
       "      <td>1,891,325</td>\n",
       "      <td>26.75%</td>\n",
       "      <td>...</td>\n",
       "      <td>2,229,379</td>\n",
       "      <td>27.84%</td>\n",
       "      <td>2,250,002</td>\n",
       "      <td>27.3%</td>\n",
       "      <td>2,330,295</td>\n",
       "      <td>27.25%</td>\n",
       "      <td>2,373,551</td>\n",
       "      <td>26.91%</td>\n",
       "      <td>2,412,649</td>\n",
       "      <td>26.73%</td>\n",
       "    </tr>\n",
       "    <tr>\n",
       "      <th>5</th>\n",
       "      <td>Total Population</td>\n",
       "      <td>Staten Island</td>\n",
       "      <td>191,555</td>\n",
       "      <td>2.43%</td>\n",
       "      <td>221,991</td>\n",
       "      <td>2.85%</td>\n",
       "      <td>295,443</td>\n",
       "      <td>3.74%</td>\n",
       "      <td>352,121</td>\n",
       "      <td>4.98%</td>\n",
       "      <td>...</td>\n",
       "      <td>443,728</td>\n",
       "      <td>5.54%</td>\n",
       "      <td>468,730</td>\n",
       "      <td>5.69%</td>\n",
       "      <td>487,155</td>\n",
       "      <td>5.7%</td>\n",
       "      <td>497,749</td>\n",
       "      <td>5.64%</td>\n",
       "      <td>501,109</td>\n",
       "      <td>5.55%</td>\n",
       "    </tr>\n",
       "  </tbody>\n",
       "</table>\n",
       "<p>6 rows × 22 columns</p>\n",
       "</div>"
      ],
      "text/plain": [
       "          Age Group           Borough       1950  \\\n",
       "0  Total Population         NYC Total  7,891,957   \n",
       "1  Total Population             Bronx  1,451,277   \n",
       "2  Total Population          Brooklyn  2,738,175   \n",
       "3  Total Population         Manhattan  1,960,101   \n",
       "4  Total Population            Queens  1,550,849   \n",
       "5  Total Population     Staten Island    191,555   \n",
       "\n",
       "  1950 - Boro share of NYC total       1960 1960 - Boro share of NYC total  \\\n",
       "0                           100%  7,781,984                           100%   \n",
       "1                         18.39%  1,424,815                         18.31%   \n",
       "2                          34.7%  2,627,319                         33.76%   \n",
       "3                         24.84%  1,698,281                         21.82%   \n",
       "4                         19.65%  1,809,578                         23.25%   \n",
       "5                          2.43%    221,991                          2.85%   \n",
       "\n",
       "        1970 1970 - Boro share of NYC total       1980  \\\n",
       "0  7,894,862                           100%  7,071,639   \n",
       "1  1,471,701                         18.64%  1,168,972   \n",
       "2  2,602,012                         32.96%  2,230,936   \n",
       "3  1,539,233                          19.5%  1,428,285   \n",
       "4  1,986,473                         25.16%  1,891,325   \n",
       "5    295,443                          3.74%    352,121   \n",
       "\n",
       "  1980 - Boro share of NYC total  ...       2000  \\\n",
       "0                           100%  ...  8,008,278   \n",
       "1                         16.53%  ...  1,332,650   \n",
       "2                         31.55%  ...  2,465,326   \n",
       "3                          20.2%  ...  1,537,195   \n",
       "4                         26.75%  ...  2,229,379   \n",
       "5                          4.98%  ...    443,728   \n",
       "\n",
       "  2000 - Boro share of NYC total       2010 2010 - Boro share of NYC total  \\\n",
       "0                           100%  8,242,624                           100%   \n",
       "1                         16.64%  1,385,108                          16.8%   \n",
       "2                         30.78%  2,552,911                         30.97%   \n",
       "3                          19.2%  1,585,873                         19.24%   \n",
       "4                         27.84%  2,250,002                          27.3%   \n",
       "5                          5.54%    468,730                          5.69%   \n",
       "\n",
       "        2020 2020 - Boro share of NYC total       2030  \\\n",
       "0  8,550,971                           100%  8,821,027   \n",
       "1  1,446,788                         16.92%  1,518,998   \n",
       "2  2,648,452                         30.97%  2,754,009   \n",
       "3  1,638,281                         19.16%  1,676,720   \n",
       "4  2,330,295                         27.25%  2,373,551   \n",
       "5    487,155                           5.7%    497,749   \n",
       "\n",
       "  2030 - Boro share of NYC total       2040 2040 - Boro share of NYC total  \n",
       "0                           100%  9,025,145                           100%  \n",
       "1                         17.22%  1,579,245                          17.5%  \n",
       "2                         31.22%  2,840,525                         31.47%  \n",
       "3                         19.01%  1,691,617                         18.74%  \n",
       "4                         26.91%  2,412,649                         26.73%  \n",
       "5                          5.64%    501,109                          5.55%  \n",
       "\n",
       "[6 rows x 22 columns]"
      ]
     },
     "execution_count": 12,
     "metadata": {},
     "output_type": "execute_result"
    }
   ],
   "source": [
    "populacao"
   ]
  },
  {
   "cell_type": "markdown",
   "metadata": {
    "id": "93nGPj4OidBq"
   },
   "source": [
    " - Tratando os dados do DataFrame \"populacao\""
   ]
  },
  {
   "cell_type": "code",
   "execution_count": 16,
   "metadata": {},
   "outputs": [],
   "source": [
    "populacao=populacao.iloc[:,[0,13,15,17]]"
   ]
  },
  {
   "cell_type": "code",
   "execution_count": 17,
   "metadata": {
    "id": "buUqhzLeidBr"
   },
   "outputs": [],
   "source": [
    "#  renomenando as colunas \n",
    "\n",
    "populacao.columns = ['Bairro','Total_poplacao_2010','Total_poplacao_2020','Total_poplacao_2030']"
   ]
  },
  {
   "cell_type": "code",
   "execution_count": 18,
   "metadata": {
    "id": "NAui0aZcidB_",
    "outputId": "7d314a42-ca09-4189-dbbd-dfd248b67fc6"
   },
   "outputs": [
    {
     "data": {
      "text/html": [
       "<div>\n",
       "<style scoped>\n",
       "    .dataframe tbody tr th:only-of-type {\n",
       "        vertical-align: middle;\n",
       "    }\n",
       "\n",
       "    .dataframe tbody tr th {\n",
       "        vertical-align: top;\n",
       "    }\n",
       "\n",
       "    .dataframe thead th {\n",
       "        text-align: right;\n",
       "    }\n",
       "</style>\n",
       "<table border=\"1\" class=\"dataframe\">\n",
       "  <thead>\n",
       "    <tr style=\"text-align: right;\">\n",
       "      <th></th>\n",
       "      <th>Bairro</th>\n",
       "      <th>Total_poplacao_2010</th>\n",
       "      <th>Total_poplacao_2020</th>\n",
       "      <th>Total_poplacao_2030</th>\n",
       "    </tr>\n",
       "  </thead>\n",
       "  <tbody>\n",
       "    <tr>\n",
       "      <th>0</th>\n",
       "      <td>NYC Total</td>\n",
       "      <td>8,242,624</td>\n",
       "      <td>8,550,971</td>\n",
       "      <td>8,821,027</td>\n",
       "    </tr>\n",
       "    <tr>\n",
       "      <th>1</th>\n",
       "      <td>Bronx</td>\n",
       "      <td>1,385,108</td>\n",
       "      <td>1,446,788</td>\n",
       "      <td>1,518,998</td>\n",
       "    </tr>\n",
       "    <tr>\n",
       "      <th>2</th>\n",
       "      <td>Brooklyn</td>\n",
       "      <td>2,552,911</td>\n",
       "      <td>2,648,452</td>\n",
       "      <td>2,754,009</td>\n",
       "    </tr>\n",
       "    <tr>\n",
       "      <th>3</th>\n",
       "      <td>Manhattan</td>\n",
       "      <td>1,585,873</td>\n",
       "      <td>1,638,281</td>\n",
       "      <td>1,676,720</td>\n",
       "    </tr>\n",
       "    <tr>\n",
       "      <th>4</th>\n",
       "      <td>Queens</td>\n",
       "      <td>2,250,002</td>\n",
       "      <td>2,330,295</td>\n",
       "      <td>2,373,551</td>\n",
       "    </tr>\n",
       "    <tr>\n",
       "      <th>5</th>\n",
       "      <td>Staten Island</td>\n",
       "      <td>468,730</td>\n",
       "      <td>487,155</td>\n",
       "      <td>497,749</td>\n",
       "    </tr>\n",
       "  </tbody>\n",
       "</table>\n",
       "</div>"
      ],
      "text/plain": [
       "             Bairro Total_poplacao_2010 Total_poplacao_2020  \\\n",
       "0         NYC Total           8,242,624           8,550,971   \n",
       "1             Bronx           1,385,108           1,446,788   \n",
       "2          Brooklyn           2,552,911           2,648,452   \n",
       "3         Manhattan           1,585,873           1,638,281   \n",
       "4            Queens           2,250,002           2,330,295   \n",
       "5     Staten Island             468,730             487,155   \n",
       "\n",
       "  Total_poplacao_2030  \n",
       "0           8,821,027  \n",
       "1           1,518,998  \n",
       "2           2,754,009  \n",
       "3           1,676,720  \n",
       "4           2,373,551  \n",
       "5             497,749  "
      ]
     },
     "execution_count": 18,
     "metadata": {},
     "output_type": "execute_result"
    }
   ],
   "source": [
    "populacao"
   ]
  },
  {
   "cell_type": "markdown",
   "metadata": {
    "id": "9qBLTJPYidCA"
   },
   "source": [
    " - Retirando as vírgulas dos números e convertendo as colunas pra um formato numérico"
   ]
  },
  {
   "cell_type": "code",
   "execution_count": 19,
   "metadata": {
    "id": "yzA2hKCZidCA"
   },
   "outputs": [
    {
     "name": "stderr",
     "output_type": "stream",
     "text": [
      "<ipython-input-19-a986452c0b7a>:4: SettingWithCopyWarning: \n",
      "A value is trying to be set on a copy of a slice from a DataFrame.\n",
      "Try using .loc[row_indexer,col_indexer] = value instead\n",
      "\n",
      "See the caveats in the documentation: https://pandas.pydata.org/pandas-docs/stable/user_guide/indexing.html#returning-a-view-versus-a-copy\n",
      "  populacao[i]=populacao[i].astype(str)\n",
      "<ipython-input-19-a986452c0b7a>:5: SettingWithCopyWarning: \n",
      "A value is trying to be set on a copy of a slice from a DataFrame.\n",
      "Try using .loc[row_indexer,col_indexer] = value instead\n",
      "\n",
      "See the caveats in the documentation: https://pandas.pydata.org/pandas-docs/stable/user_guide/indexing.html#returning-a-view-versus-a-copy\n",
      "  populacao[i]=populacao[i].str.replace(\",\",\"\")\n",
      "<ipython-input-19-a986452c0b7a>:6: SettingWithCopyWarning: \n",
      "A value is trying to be set on a copy of a slice from a DataFrame.\n",
      "Try using .loc[row_indexer,col_indexer] = value instead\n",
      "\n",
      "See the caveats in the documentation: https://pandas.pydata.org/pandas-docs/stable/user_guide/indexing.html#returning-a-view-versus-a-copy\n",
      "  populacao[i]=pd.to_numeric(populacao[i])\n"
     ]
    }
   ],
   "source": [
    "lista_cols=['Total_poplacao_2010','Total_poplacao_2020','Total_poplacao_2030']\n",
    "\n",
    "for i in lista_cols:\n",
    "    populacao[i]=populacao[i].astype(str)\n",
    "    populacao[i]=populacao[i].str.replace(\",\",\"\")\n",
    "    populacao[i]=pd.to_numeric(populacao[i])"
   ]
  },
  {
   "cell_type": "code",
   "execution_count": 27,
   "metadata": {
    "id": "-jvYzLu8idCZ",
    "outputId": "12b3fd7e-47a4-40be-cca0-f55e8b525b85"
   },
   "outputs": [
    {
     "name": "stdout",
     "output_type": "stream",
     "text": [
      "<class 'pandas.core.frame.DataFrame'>\n",
      "RangeIndex: 6 entries, 0 to 5\n",
      "Data columns (total 4 columns):\n",
      " #   Column               Non-Null Count  Dtype \n",
      "---  ------               --------------  ----- \n",
      " 0   Bairro               6 non-null      object\n",
      " 1   Total_poplacao_2010  6 non-null      int64 \n",
      " 2   Total_poplacao_2020  6 non-null      int64 \n",
      " 3   Total_poplacao_2030  6 non-null      int64 \n",
      "dtypes: int64(3), object(1)\n",
      "memory usage: 320.0+ bytes\n"
     ]
    }
   ],
   "source": [
    "populacao.info()"
   ]
  },
  {
   "cell_type": "markdown",
   "metadata": {
    "id": "bn287uYaidCa"
   },
   "source": [
    " ## 3. Análise exploratória de dados"
   ]
  },
  {
   "cell_type": "code",
   "execution_count": 22,
   "metadata": {
    "id": "xsVLPGwVidCb"
   },
   "outputs": [
    {
     "data": {
      "text/html": [
       "<div>\n",
       "<style scoped>\n",
       "    .dataframe tbody tr th:only-of-type {\n",
       "        vertical-align: middle;\n",
       "    }\n",
       "\n",
       "    .dataframe tbody tr th {\n",
       "        vertical-align: top;\n",
       "    }\n",
       "\n",
       "    .dataframe thead th {\n",
       "        text-align: right;\n",
       "    }\n",
       "</style>\n",
       "<table border=\"1\" class=\"dataframe\">\n",
       "  <thead>\n",
       "    <tr style=\"text-align: right;\">\n",
       "      <th></th>\n",
       "      <th>count</th>\n",
       "      <th>unique</th>\n",
       "      <th>top</th>\n",
       "      <th>freq</th>\n",
       "      <th>first</th>\n",
       "      <th>last</th>\n",
       "    </tr>\n",
       "  </thead>\n",
       "  <tbody>\n",
       "    <tr>\n",
       "      <th>data_da_ocorrencia</th>\n",
       "      <td>598159</td>\n",
       "      <td>730</td>\n",
       "      <td>2014-01-01 00:00:00</td>\n",
       "      <td>1424</td>\n",
       "      <td>2014-01-01</td>\n",
       "      <td>2015-12-31</td>\n",
       "    </tr>\n",
       "    <tr>\n",
       "      <th>data_final_da_ocorrencia</th>\n",
       "      <td>598159</td>\n",
       "      <td>732</td>\n",
       "      <td>2014-10-17 00:00:00</td>\n",
       "      <td>1024</td>\n",
       "      <td>2014-01-01</td>\n",
       "      <td>2016-01-11</td>\n",
       "    </tr>\n",
       "    <tr>\n",
       "      <th>data_comunicacao_policia</th>\n",
       "      <td>598159</td>\n",
       "      <td>730</td>\n",
       "      <td>2014-08-20 00:00:00</td>\n",
       "      <td>1024</td>\n",
       "      <td>2014-01-01</td>\n",
       "      <td>2015-12-31</td>\n",
       "    </tr>\n",
       "    <tr>\n",
       "      <th>hora_da_ocorrencia</th>\n",
       "      <td>598159</td>\n",
       "      <td>1440</td>\n",
       "      <td>12:00:00</td>\n",
       "      <td>17137</td>\n",
       "      <td>NaT</td>\n",
       "      <td>NaT</td>\n",
       "    </tr>\n",
       "    <tr>\n",
       "      <th>hora_termino_da_ocorrencia</th>\n",
       "      <td>598159</td>\n",
       "      <td>1440</td>\n",
       "      <td>12:00:00</td>\n",
       "      <td>10780</td>\n",
       "      <td>NaT</td>\n",
       "      <td>NaT</td>\n",
       "    </tr>\n",
       "    <tr>\n",
       "      <th>duracao_da_ocorrencia</th>\n",
       "      <td>598159</td>\n",
       "      <td>2759</td>\n",
       "      <td>0 days 00:05:00.000000000</td>\n",
       "      <td>80179</td>\n",
       "      <td>NaT</td>\n",
       "      <td>NaT</td>\n",
       "    </tr>\n",
       "    <tr>\n",
       "      <th>descricao_da_ofensa</th>\n",
       "      <td>598159</td>\n",
       "      <td>63</td>\n",
       "      <td>PETIT LARCENY</td>\n",
       "      <td>117139</td>\n",
       "      <td>NaT</td>\n",
       "      <td>NaT</td>\n",
       "    </tr>\n",
       "    <tr>\n",
       "      <th>conclusao</th>\n",
       "      <td>598159</td>\n",
       "      <td>1</td>\n",
       "      <td>concluido</td>\n",
       "      <td>598159</td>\n",
       "      <td>NaT</td>\n",
       "      <td>NaT</td>\n",
       "    </tr>\n",
       "    <tr>\n",
       "      <th>nivel_de_ofensa</th>\n",
       "      <td>598159</td>\n",
       "      <td>3</td>\n",
       "      <td>contravencao</td>\n",
       "      <td>330372</td>\n",
       "      <td>NaT</td>\n",
       "      <td>NaT</td>\n",
       "    </tr>\n",
       "    <tr>\n",
       "      <th>jurisdicao</th>\n",
       "      <td>598159</td>\n",
       "      <td>19</td>\n",
       "      <td>N.Y. POLICE DEPT</td>\n",
       "      <td>534474</td>\n",
       "      <td>NaT</td>\n",
       "      <td>NaT</td>\n",
       "    </tr>\n",
       "    <tr>\n",
       "      <th>bairro</th>\n",
       "      <td>598159</td>\n",
       "      <td>5</td>\n",
       "      <td>BROOKLYN</td>\n",
       "      <td>189428</td>\n",
       "      <td>NaT</td>\n",
       "      <td>NaT</td>\n",
       "    </tr>\n",
       "    <tr>\n",
       "      <th>local_da_ocorrencia</th>\n",
       "      <td>598159</td>\n",
       "      <td>2</td>\n",
       "      <td>dentro</td>\n",
       "      <td>387272</td>\n",
       "      <td>NaT</td>\n",
       "      <td>NaT</td>\n",
       "    </tr>\n",
       "    <tr>\n",
       "      <th>descricao_das_intalacoes</th>\n",
       "      <td>598159</td>\n",
       "      <td>70</td>\n",
       "      <td>RESIDENCE - APT. HOUSE</td>\n",
       "      <td>158442</td>\n",
       "      <td>NaT</td>\n",
       "      <td>NaT</td>\n",
       "    </tr>\n",
       "  </tbody>\n",
       "</table>\n",
       "</div>"
      ],
      "text/plain": [
       "                             count unique                        top    freq  \\\n",
       "data_da_ocorrencia          598159    730        2014-01-01 00:00:00    1424   \n",
       "data_final_da_ocorrencia    598159    732        2014-10-17 00:00:00    1024   \n",
       "data_comunicacao_policia    598159    730        2014-08-20 00:00:00    1024   \n",
       "hora_da_ocorrencia          598159   1440                   12:00:00   17137   \n",
       "hora_termino_da_ocorrencia  598159   1440                   12:00:00   10780   \n",
       "duracao_da_ocorrencia       598159   2759  0 days 00:05:00.000000000   80179   \n",
       "descricao_da_ofensa         598159     63              PETIT LARCENY  117139   \n",
       "conclusao                   598159      1                  concluido  598159   \n",
       "nivel_de_ofensa             598159      3               contravencao  330372   \n",
       "jurisdicao                  598159     19           N.Y. POLICE DEPT  534474   \n",
       "bairro                      598159      5                   BROOKLYN  189428   \n",
       "local_da_ocorrencia         598159      2                     dentro  387272   \n",
       "descricao_das_intalacoes    598159     70     RESIDENCE - APT. HOUSE  158442   \n",
       "\n",
       "                                first       last  \n",
       "data_da_ocorrencia         2014-01-01 2015-12-31  \n",
       "data_final_da_ocorrencia   2014-01-01 2016-01-11  \n",
       "data_comunicacao_policia   2014-01-01 2015-12-31  \n",
       "hora_da_ocorrencia                NaT        NaT  \n",
       "hora_termino_da_ocorrencia        NaT        NaT  \n",
       "duracao_da_ocorrencia             NaT        NaT  \n",
       "descricao_da_ofensa               NaT        NaT  \n",
       "conclusao                         NaT        NaT  \n",
       "nivel_de_ofensa                   NaT        NaT  \n",
       "jurisdicao                        NaT        NaT  \n",
       "bairro                            NaT        NaT  \n",
       "local_da_ocorrencia               NaT        NaT  \n",
       "descricao_das_intalacoes          NaT        NaT  "
      ]
     },
     "execution_count": 22,
     "metadata": {},
     "output_type": "execute_result"
    }
   ],
   "source": [
    "delitos_ny.describe().T"
   ]
  },
  {
   "cell_type": "code",
   "execution_count": 23,
   "metadata": {
    "id": "P4OY0qM-idCb",
    "outputId": "3461e21a-b006-4398-8008-80234fc73c79"
   },
   "outputs": [
    {
     "data": {
      "text/html": [
       "<div>\n",
       "<style scoped>\n",
       "    .dataframe tbody tr th:only-of-type {\n",
       "        vertical-align: middle;\n",
       "    }\n",
       "\n",
       "    .dataframe tbody tr th {\n",
       "        vertical-align: top;\n",
       "    }\n",
       "\n",
       "    .dataframe thead th {\n",
       "        text-align: right;\n",
       "    }\n",
       "</style>\n",
       "<table border=\"1\" class=\"dataframe\">\n",
       "  <thead>\n",
       "    <tr style=\"text-align: right;\">\n",
       "      <th></th>\n",
       "      <th>count</th>\n",
       "      <th>mean</th>\n",
       "      <th>std</th>\n",
       "      <th>min</th>\n",
       "      <th>25%</th>\n",
       "      <th>50%</th>\n",
       "      <th>75%</th>\n",
       "      <th>max</th>\n",
       "    </tr>\n",
       "  </thead>\n",
       "  <tbody>\n",
       "    <tr>\n",
       "      <th>Total_poplacao_2010</th>\n",
       "      <td>6.0</td>\n",
       "      <td>2.747541e+06</td>\n",
       "      <td>2.788549e+06</td>\n",
       "      <td>468730.0</td>\n",
       "      <td>1435299.25</td>\n",
       "      <td>1917937.5</td>\n",
       "      <td>2477183.75</td>\n",
       "      <td>8242624.0</td>\n",
       "    </tr>\n",
       "    <tr>\n",
       "      <th>Total_poplacao_2020</th>\n",
       "      <td>6.0</td>\n",
       "      <td>2.850324e+06</td>\n",
       "      <td>2.892476e+06</td>\n",
       "      <td>487155.0</td>\n",
       "      <td>1494661.25</td>\n",
       "      <td>1984288.0</td>\n",
       "      <td>2568912.75</td>\n",
       "      <td>8550971.0</td>\n",
       "    </tr>\n",
       "    <tr>\n",
       "      <th>Total_poplacao_2030</th>\n",
       "      <td>6.0</td>\n",
       "      <td>2.940342e+06</td>\n",
       "      <td>2.984012e+06</td>\n",
       "      <td>497749.0</td>\n",
       "      <td>1558428.50</td>\n",
       "      <td>2025135.5</td>\n",
       "      <td>2658894.50</td>\n",
       "      <td>8821027.0</td>\n",
       "    </tr>\n",
       "  </tbody>\n",
       "</table>\n",
       "</div>"
      ],
      "text/plain": [
       "                     count          mean           std       min         25%  \\\n",
       "Total_poplacao_2010    6.0  2.747541e+06  2.788549e+06  468730.0  1435299.25   \n",
       "Total_poplacao_2020    6.0  2.850324e+06  2.892476e+06  487155.0  1494661.25   \n",
       "Total_poplacao_2030    6.0  2.940342e+06  2.984012e+06  497749.0  1558428.50   \n",
       "\n",
       "                           50%         75%        max  \n",
       "Total_poplacao_2010  1917937.5  2477183.75  8242624.0  \n",
       "Total_poplacao_2020  1984288.0  2568912.75  8550971.0  \n",
       "Total_poplacao_2030  2025135.5  2658894.50  8821027.0  "
      ]
     },
     "execution_count": 23,
     "metadata": {},
     "output_type": "execute_result"
    }
   ],
   "source": [
    "populacao.describe().T"
   ]
  },
  {
   "cell_type": "code",
   "execution_count": 39,
   "metadata": {
    "id": "uS2wKJxfidCd",
    "outputId": "99b7f775-89bc-4321-98f5-f72c466a30b9"
   },
   "outputs": [],
   "source": [
    "# plt.figure(figsize=(10, 6))\n",
    "# plt.scatter(populacao['Bairro'], populacao['Total_poplacao_2010'],alpha=1)\n",
    "# #x = [0, 400, 1000]\n",
    "# #y = [0, 10000, 20000]\n",
    "# #plt.plot(x, y, c='r')\n",
    "# plt.xlabel('bairro')\n",
    "# plt.ylabel('populacao')"
   ]
  },
  {
   "cell_type": "code",
   "execution_count": 35,
   "metadata": {
    "id": "78EvlnIkidCf",
    "outputId": "3664e202-b872-473c-f67e-0a3cb4dbea1f"
   },
   "outputs": [
    {
     "data": {
      "text/plain": [
       "Text(0.5, 1.0, 'Crescimento da População de Nova York por bairro')"
      ]
     },
     "execution_count": 35,
     "metadata": {},
     "output_type": "execute_result"
    },
    {
     "data": {
      "image/png": "[encoded data removed]",
      "text/plain": [
       "<Figure size 1080x576 with 1 Axes>"
      ]
     },
     "metadata": {
      "needs_background": "light"
     },
     "output_type": "display_data"
    }
   ],
   "source": [
    "# plt.figure()\n",
    "populacao.plot.bar(figsize=(15, 8))\n",
    "titulo='Crescimento da População de Nova York por bairro'\n",
    "plt.title(titulo)"
   ]
  },
  {
   "cell_type": "markdown",
   "metadata": {
    "id": "LCgIH_uHidCg"
   },
   "source": [
    "### 1-  Nivel de ofensa\n",
    "  \n",
    "  - contravenção\n",
    "  - crime\n",
    "  - violação"
   ]
  },
  {
   "cell_type": "code",
   "execution_count": 55,
   "metadata": {
    "id": "-D-csFnPidCh",
    "outputId": "6a548109-8a3b-467a-cb24-191c94a58888"
   },
   "outputs": [
    {
     "data": {
      "text/html": [
       "<div>\n",
       "<style scoped>\n",
       "    .dataframe tbody tr th:only-of-type {\n",
       "        vertical-align: middle;\n",
       "    }\n",
       "\n",
       "    .dataframe tbody tr th {\n",
       "        vertical-align: top;\n",
       "    }\n",
       "\n",
       "    .dataframe thead th {\n",
       "        text-align: right;\n",
       "    }\n",
       "</style>\n",
       "<table border=\"1\" class=\"dataframe\">\n",
       "  <thead>\n",
       "    <tr style=\"text-align: right;\">\n",
       "      <th></th>\n",
       "      <th>data_da_ocorrencia</th>\n",
       "      <th>data_final_da_ocorrencia</th>\n",
       "      <th>data_comunicacao_policia</th>\n",
       "      <th>hora_da_ocorrencia</th>\n",
       "      <th>hora_termino_da_ocorrencia</th>\n",
       "      <th>duracao_da_ocorrencia</th>\n",
       "      <th>descricao_da_ofensa</th>\n",
       "      <th>conclusao</th>\n",
       "      <th>nivel_de_ofensa</th>\n",
       "      <th>jurisdicao</th>\n",
       "      <th>bairro</th>\n",
       "      <th>local_da_ocorrencia</th>\n",
       "      <th>descricao_das_intalacoes</th>\n",
       "    </tr>\n",
       "  </thead>\n",
       "  <tbody>\n",
       "    <tr>\n",
       "      <th>0</th>\n",
       "      <td>2015-12-31</td>\n",
       "      <td>2015-12-31</td>\n",
       "      <td>2015-12-31</td>\n",
       "      <td>23:25:00</td>\n",
       "      <td>23:30:00</td>\n",
       "      <td>0 days 00:05:00.000000000</td>\n",
       "      <td>ASSAULT 3 &amp; RELATED OFFENSES</td>\n",
       "      <td>concluido</td>\n",
       "      <td>contravencao</td>\n",
       "      <td>N.Y. POLICE DEPT</td>\n",
       "      <td>MANHATTAN</td>\n",
       "      <td>fora</td>\n",
       "      <td>OTHER</td>\n",
       "    </tr>\n",
       "    <tr>\n",
       "      <th>2</th>\n",
       "      <td>2015-12-31</td>\n",
       "      <td>2015-12-31</td>\n",
       "      <td>2015-12-31</td>\n",
       "      <td>23:15:00</td>\n",
       "      <td>23:15:00</td>\n",
       "      <td>0 days 00:00:00.000000000</td>\n",
       "      <td>DANGEROUS WEAPONS</td>\n",
       "      <td>concluido</td>\n",
       "      <td>crime</td>\n",
       "      <td>N.Y. POLICE DEPT</td>\n",
       "      <td>BRONX</td>\n",
       "      <td>fora</td>\n",
       "      <td>STREET</td>\n",
       "    </tr>\n",
       "    <tr>\n",
       "      <th>3</th>\n",
       "      <td>2015-12-31</td>\n",
       "      <td>2015-12-31</td>\n",
       "      <td>2015-12-31</td>\n",
       "      <td>23:15:00</td>\n",
       "      <td>23:30:00</td>\n",
       "      <td>0 days 00:15:00.000000000</td>\n",
       "      <td>ASSAULT 3 &amp; RELATED OFFENSES</td>\n",
       "      <td>concluido</td>\n",
       "      <td>contravencao</td>\n",
       "      <td>N.Y. POLICE DEPT</td>\n",
       "      <td>BRONX</td>\n",
       "      <td>dentro</td>\n",
       "      <td>RESIDENCE - APT. HOUSE</td>\n",
       "    </tr>\n",
       "    <tr>\n",
       "      <th>4</th>\n",
       "      <td>2015-12-31</td>\n",
       "      <td>2015-12-31</td>\n",
       "      <td>2015-12-31</td>\n",
       "      <td>23:10:00</td>\n",
       "      <td>23:10:00</td>\n",
       "      <td>0 days 00:00:00.000000000</td>\n",
       "      <td>PETIT LARCENY</td>\n",
       "      <td>concluido</td>\n",
       "      <td>contravencao</td>\n",
       "      <td>N.Y. POLICE DEPT</td>\n",
       "      <td>MANHATTAN</td>\n",
       "      <td>dentro</td>\n",
       "      <td>DRUG STORE</td>\n",
       "    </tr>\n",
       "    <tr>\n",
       "      <th>5</th>\n",
       "      <td>2015-12-31</td>\n",
       "      <td>2015-12-31</td>\n",
       "      <td>2015-12-31</td>\n",
       "      <td>23:05:00</td>\n",
       "      <td>23:15:00</td>\n",
       "      <td>0 days 00:10:00.000000000</td>\n",
       "      <td>PETIT LARCENY</td>\n",
       "      <td>concluido</td>\n",
       "      <td>contravencao</td>\n",
       "      <td>N.Y. POLICE DEPT</td>\n",
       "      <td>BRONX</td>\n",
       "      <td>dentro</td>\n",
       "      <td>FAST FOOD</td>\n",
       "    </tr>\n",
       "  </tbody>\n",
       "</table>\n",
       "</div>"
      ],
      "text/plain": [
       "  data_da_ocorrencia data_final_da_ocorrencia data_comunicacao_policia  \\\n",
       "0         2015-12-31               2015-12-31               2015-12-31   \n",
       "2         2015-12-31               2015-12-31               2015-12-31   \n",
       "3         2015-12-31               2015-12-31               2015-12-31   \n",
       "4         2015-12-31               2015-12-31               2015-12-31   \n",
       "5         2015-12-31               2015-12-31               2015-12-31   \n",
       "\n",
       "  hora_da_ocorrencia hora_termino_da_ocorrencia      duracao_da_ocorrencia  \\\n",
       "0           23:25:00                   23:30:00  0 days 00:05:00.000000000   \n",
       "2           23:15:00                   23:15:00  0 days 00:00:00.000000000   \n",
       "3           23:15:00                   23:30:00  0 days 00:15:00.000000000   \n",
       "4           23:10:00                   23:10:00  0 days 00:00:00.000000000   \n",
       "5           23:05:00                   23:15:00  0 days 00:10:00.000000000   \n",
       "\n",
       "            descricao_da_ofensa  conclusao nivel_de_ofensa        jurisdicao  \\\n",
       "0  ASSAULT 3 & RELATED OFFENSES  concluido    contravencao  N.Y. POLICE DEPT   \n",
       "2             DANGEROUS WEAPONS  concluido           crime  N.Y. POLICE DEPT   \n",
       "3  ASSAULT 3 & RELATED OFFENSES  concluido    contravencao  N.Y. POLICE DEPT   \n",
       "4                 PETIT LARCENY  concluido    contravencao  N.Y. POLICE DEPT   \n",
       "5                 PETIT LARCENY  concluido    contravencao  N.Y. POLICE DEPT   \n",
       "\n",
       "      bairro local_da_ocorrencia descricao_das_intalacoes  \n",
       "0  MANHATTAN                fora                    OTHER  \n",
       "2      BRONX                fora                   STREET  \n",
       "3      BRONX              dentro   RESIDENCE - APT. HOUSE  \n",
       "4  MANHATTAN              dentro               DRUG STORE  \n",
       "5      BRONX              dentro                FAST FOOD  "
      ]
     },
     "execution_count": 55,
     "metadata": {},
     "output_type": "execute_result"
    }
   ],
   "source": [
    "delitos_ny.head()"
   ]
  },
  {
   "cell_type": "code",
   "execution_count": 61,
   "metadata": {},
   "outputs": [
    {
     "data": {
      "text/plain": [
       "concluido    598159\n",
       "Name: conclusao, dtype: int64"
      ]
     },
     "execution_count": 61,
     "metadata": {},
     "output_type": "execute_result"
    }
   ],
   "source": [
    "delitos_ny.conclusao.value_counts()"
   ]
  },
  {
   "cell_type": "markdown",
   "metadata": {},
   "source": [
    "- delitos pratidados no inteior dos estabelecimentos"
   ]
  },
  {
   "cell_type": "code",
   "execution_count": 64,
   "metadata": {},
   "outputs": [],
   "source": [
    "delitos_praticados_dentro=delitos_ny.iloc[:,[0,6,8,9,10,11,12]]"
   ]
  },
  {
   "cell_type": "code",
   "execution_count": 65,
   "metadata": {},
   "outputs": [],
   "source": [
    "delitos_praticados_dentro=delitos_praticados_dentro.query('local_da_ocorrencia == \"dentro\"')"
   ]
  },
  {
   "cell_type": "code",
   "execution_count": 71,
   "metadata": {},
   "outputs": [
    {
     "data": {
      "text/html": [
       "<div>\n",
       "<style scoped>\n",
       "    .dataframe tbody tr th:only-of-type {\n",
       "        vertical-align: middle;\n",
       "    }\n",
       "\n",
       "    .dataframe tbody tr th {\n",
       "        vertical-align: top;\n",
       "    }\n",
       "\n",
       "    .dataframe thead th {\n",
       "        text-align: right;\n",
       "    }\n",
       "</style>\n",
       "<table border=\"1\" class=\"dataframe\">\n",
       "  <thead>\n",
       "    <tr style=\"text-align: right;\">\n",
       "      <th></th>\n",
       "      <th>descricao_da_ofensa</th>\n",
       "      <th>nivel_de_ofensa</th>\n",
       "    </tr>\n",
       "  </thead>\n",
       "  <tbody>\n",
       "    <tr>\n",
       "      <th>count</th>\n",
       "      <td>598159</td>\n",
       "      <td>598159</td>\n",
       "    </tr>\n",
       "    <tr>\n",
       "      <th>unique</th>\n",
       "      <td>63</td>\n",
       "      <td>3</td>\n",
       "    </tr>\n",
       "    <tr>\n",
       "      <th>top</th>\n",
       "      <td>PETIT LARCENY</td>\n",
       "      <td>contravencao</td>\n",
       "    </tr>\n",
       "    <tr>\n",
       "      <th>freq</th>\n",
       "      <td>117139</td>\n",
       "      <td>330372</td>\n",
       "    </tr>\n",
       "  </tbody>\n",
       "</table>\n",
       "</div>"
      ],
      "text/plain": [
       "       descricao_da_ofensa nivel_de_ofensa\n",
       "count               598159          598159\n",
       "unique                  63               3\n",
       "top          PETIT LARCENY    contravencao\n",
       "freq                117139          330372"
      ]
     },
     "execution_count": 71,
     "metadata": {},
     "output_type": "execute_result"
    }
   ],
   "source": [
    "delitos_ny[['descricao_da_ofensa','nivel_de_ofensa']].describe()"
   ]
  },
  {
   "cell_type": "code",
   "execution_count": null,
   "metadata": {},
   "outputs": [],
   "source": []
  },
  {
   "cell_type": "code",
   "execution_count": 40,
   "metadata": {
    "id": "FB_QMhnmidCj"
   },
   "outputs": [],
   "source": [
    "nivel_de_ofensa=delitos_ny.loc[:,['data_da_ocorrencia','nivel_de_ofensa']]"
   ]
  },
  {
   "cell_type": "code",
   "execution_count": 41,
   "metadata": {
    "id": "ygjah7h5idCj",
    "outputId": "af07ad38-6cc1-4a8b-f2d7-1514e0f82fc0"
   },
   "outputs": [
    {
     "data": {
      "text/html": [
       "<div>\n",
       "<style scoped>\n",
       "    .dataframe tbody tr th:only-of-type {\n",
       "        vertical-align: middle;\n",
       "    }\n",
       "\n",
       "    .dataframe tbody tr th {\n",
       "        vertical-align: top;\n",
       "    }\n",
       "\n",
       "    .dataframe thead th {\n",
       "        text-align: right;\n",
       "    }\n",
       "</style>\n",
       "<table border=\"1\" class=\"dataframe\">\n",
       "  <thead>\n",
       "    <tr style=\"text-align: right;\">\n",
       "      <th></th>\n",
       "      <th>data_da_ocorrencia</th>\n",
       "      <th>nivel_de_ofensa</th>\n",
       "    </tr>\n",
       "  </thead>\n",
       "  <tbody>\n",
       "    <tr>\n",
       "      <th>0</th>\n",
       "      <td>2015-12-31</td>\n",
       "      <td>contravencao</td>\n",
       "    </tr>\n",
       "    <tr>\n",
       "      <th>2</th>\n",
       "      <td>2015-12-31</td>\n",
       "      <td>crime</td>\n",
       "    </tr>\n",
       "    <tr>\n",
       "      <th>3</th>\n",
       "      <td>2015-12-31</td>\n",
       "      <td>contravencao</td>\n",
       "    </tr>\n",
       "    <tr>\n",
       "      <th>4</th>\n",
       "      <td>2015-12-31</td>\n",
       "      <td>contravencao</td>\n",
       "    </tr>\n",
       "    <tr>\n",
       "      <th>5</th>\n",
       "      <td>2015-12-31</td>\n",
       "      <td>contravencao</td>\n",
       "    </tr>\n",
       "  </tbody>\n",
       "</table>\n",
       "</div>"
      ],
      "text/plain": [
       "  data_da_ocorrencia nivel_de_ofensa\n",
       "0         2015-12-31    contravencao\n",
       "2         2015-12-31           crime\n",
       "3         2015-12-31    contravencao\n",
       "4         2015-12-31    contravencao\n",
       "5         2015-12-31    contravencao"
      ]
     },
     "execution_count": 41,
     "metadata": {},
     "output_type": "execute_result"
    }
   ],
   "source": [
    "nivel_de_ofensa.head()"
   ]
  },
  {
   "cell_type": "code",
   "execution_count": 42,
   "metadata": {
    "id": "ns9kKKooidCl"
   },
   "outputs": [],
   "source": [
    "nivel_de_ofensa = pd.crosstab(delitos_ny.data_da_ocorrencia , delitos_ny.nivel_de_ofensa ).reset_index()"
   ]
  },
  {
   "cell_type": "code",
   "execution_count": null,
   "metadata": {
    "id": "D0TRYUKvidCk"
   },
   "outputs": [],
   "source": [
    "nivel_de_ofensa=pd.get_dummies(nivel_de_ofensa)"
   ]
  },
  {
   "cell_type": "code",
   "execution_count": 43,
   "metadata": {
    "id": "xikvNnwpidCm",
    "scrolled": true
   },
   "outputs": [
    {
     "data": {
      "text/html": [
       "<div>\n",
       "<style scoped>\n",
       "    .dataframe tbody tr th:only-of-type {\n",
       "        vertical-align: middle;\n",
       "    }\n",
       "\n",
       "    .dataframe tbody tr th {\n",
       "        vertical-align: top;\n",
       "    }\n",
       "\n",
       "    .dataframe thead th {\n",
       "        text-align: right;\n",
       "    }\n",
       "</style>\n",
       "<table border=\"1\" class=\"dataframe\">\n",
       "  <thead>\n",
       "    <tr style=\"text-align: right;\">\n",
       "      <th>nivel_de_ofensa</th>\n",
       "      <th>data_da_ocorrencia</th>\n",
       "      <th>contravencao</th>\n",
       "      <th>crime</th>\n",
       "      <th>violacao</th>\n",
       "    </tr>\n",
       "  </thead>\n",
       "  <tbody>\n",
       "    <tr>\n",
       "      <th>0</th>\n",
       "      <td>2014-01-01</td>\n",
       "      <td>855</td>\n",
       "      <td>416</td>\n",
       "      <td>153</td>\n",
       "    </tr>\n",
       "    <tr>\n",
       "      <th>1</th>\n",
       "      <td>2014-01-02</td>\n",
       "      <td>415</td>\n",
       "      <td>231</td>\n",
       "      <td>83</td>\n",
       "    </tr>\n",
       "    <tr>\n",
       "      <th>2</th>\n",
       "      <td>2014-01-03</td>\n",
       "      <td>341</td>\n",
       "      <td>201</td>\n",
       "      <td>101</td>\n",
       "    </tr>\n",
       "    <tr>\n",
       "      <th>3</th>\n",
       "      <td>2014-01-04</td>\n",
       "      <td>396</td>\n",
       "      <td>208</td>\n",
       "      <td>83</td>\n",
       "    </tr>\n",
       "    <tr>\n",
       "      <th>4</th>\n",
       "      <td>2014-01-05</td>\n",
       "      <td>390</td>\n",
       "      <td>201</td>\n",
       "      <td>86</td>\n",
       "    </tr>\n",
       "  </tbody>\n",
       "</table>\n",
       "</div>"
      ],
      "text/plain": [
       "nivel_de_ofensa data_da_ocorrencia  contravencao  crime  violacao\n",
       "0                       2014-01-01           855    416       153\n",
       "1                       2014-01-02           415    231        83\n",
       "2                       2014-01-03           341    201       101\n",
       "3                       2014-01-04           396    208        83\n",
       "4                       2014-01-05           390    201        86"
      ]
     },
     "execution_count": 43,
     "metadata": {},
     "output_type": "execute_result"
    }
   ],
   "source": [
    "nivel_de_ofensa.head()"
   ]
  },
  {
   "cell_type": "code",
   "execution_count": 44,
   "metadata": {
    "id": "0F8VsZegidCn",
    "outputId": "1a65a374-76d7-409f-a041-2621b378a24f"
   },
   "outputs": [
    {
     "data": {
      "text/html": [
       "<div>\n",
       "<style scoped>\n",
       "    .dataframe tbody tr th:only-of-type {\n",
       "        vertical-align: middle;\n",
       "    }\n",
       "\n",
       "    .dataframe tbody tr th {\n",
       "        vertical-align: top;\n",
       "    }\n",
       "\n",
       "    .dataframe thead th {\n",
       "        text-align: right;\n",
       "    }\n",
       "</style>\n",
       "<table border=\"1\" class=\"dataframe\">\n",
       "  <thead>\n",
       "    <tr style=\"text-align: right;\">\n",
       "      <th>nivel_de_ofensa</th>\n",
       "      <th>contravencao</th>\n",
       "      <th>crime</th>\n",
       "      <th>violacao</th>\n",
       "    </tr>\n",
       "  </thead>\n",
       "  <tbody>\n",
       "    <tr>\n",
       "      <th>count</th>\n",
       "      <td>730.000000</td>\n",
       "      <td>730.000000</td>\n",
       "      <td>730.000000</td>\n",
       "    </tr>\n",
       "    <tr>\n",
       "      <th>mean</th>\n",
       "      <td>452.564384</td>\n",
       "      <td>254.219178</td>\n",
       "      <td>112.612329</td>\n",
       "    </tr>\n",
       "    <tr>\n",
       "      <th>std</th>\n",
       "      <td>57.527467</td>\n",
       "      <td>32.332865</td>\n",
       "      <td>17.297418</td>\n",
       "    </tr>\n",
       "    <tr>\n",
       "      <th>min</th>\n",
       "      <td>240.000000</td>\n",
       "      <td>142.000000</td>\n",
       "      <td>67.000000</td>\n",
       "    </tr>\n",
       "    <tr>\n",
       "      <th>25%</th>\n",
       "      <td>419.250000</td>\n",
       "      <td>234.000000</td>\n",
       "      <td>100.250000</td>\n",
       "    </tr>\n",
       "    <tr>\n",
       "      <th>50%</th>\n",
       "      <td>454.000000</td>\n",
       "      <td>254.000000</td>\n",
       "      <td>112.000000</td>\n",
       "    </tr>\n",
       "    <tr>\n",
       "      <th>75%</th>\n",
       "      <td>486.750000</td>\n",
       "      <td>273.000000</td>\n",
       "      <td>124.000000</td>\n",
       "    </tr>\n",
       "    <tr>\n",
       "      <th>max</th>\n",
       "      <td>855.000000</td>\n",
       "      <td>416.000000</td>\n",
       "      <td>171.000000</td>\n",
       "    </tr>\n",
       "  </tbody>\n",
       "</table>\n",
       "</div>"
      ],
      "text/plain": [
       "nivel_de_ofensa  contravencao       crime    violacao\n",
       "count              730.000000  730.000000  730.000000\n",
       "mean               452.564384  254.219178  112.612329\n",
       "std                 57.527467   32.332865   17.297418\n",
       "min                240.000000  142.000000   67.000000\n",
       "25%                419.250000  234.000000  100.250000\n",
       "50%                454.000000  254.000000  112.000000\n",
       "75%                486.750000  273.000000  124.000000\n",
       "max                855.000000  416.000000  171.000000"
      ]
     },
     "execution_count": 44,
     "metadata": {},
     "output_type": "execute_result"
    }
   ],
   "source": [
    "nivel_de_ofensa.describe()"
   ]
  },
  {
   "cell_type": "code",
   "execution_count": 45,
   "metadata": {
    "id": "wmyWFqxPidCn",
    "outputId": "9c2eeb22-b119-455f-d9f9-597f0b2b34cf"
   },
   "outputs": [
    {
     "data": {
      "text/html": [
       "<div>\n",
       "<style scoped>\n",
       "    .dataframe tbody tr th:only-of-type {\n",
       "        vertical-align: middle;\n",
       "    }\n",
       "\n",
       "    .dataframe tbody tr th {\n",
       "        vertical-align: top;\n",
       "    }\n",
       "\n",
       "    .dataframe thead th {\n",
       "        text-align: right;\n",
       "    }\n",
       "</style>\n",
       "<table border=\"1\" class=\"dataframe\">\n",
       "  <thead>\n",
       "    <tr style=\"text-align: right;\">\n",
       "      <th>nivel_de_ofensa</th>\n",
       "      <th>contravencao</th>\n",
       "      <th>crime</th>\n",
       "      <th>violacao</th>\n",
       "    </tr>\n",
       "    <tr>\n",
       "      <th>nivel_de_ofensa</th>\n",
       "      <th></th>\n",
       "      <th></th>\n",
       "      <th></th>\n",
       "    </tr>\n",
       "  </thead>\n",
       "  <tbody>\n",
       "    <tr>\n",
       "      <th>contravencao</th>\n",
       "      <td>1.000000</td>\n",
       "      <td>0.670163</td>\n",
       "      <td>0.490169</td>\n",
       "    </tr>\n",
       "    <tr>\n",
       "      <th>crime</th>\n",
       "      <td>0.670163</td>\n",
       "      <td>1.000000</td>\n",
       "      <td>0.510484</td>\n",
       "    </tr>\n",
       "    <tr>\n",
       "      <th>violacao</th>\n",
       "      <td>0.490169</td>\n",
       "      <td>0.510484</td>\n",
       "      <td>1.000000</td>\n",
       "    </tr>\n",
       "  </tbody>\n",
       "</table>\n",
       "</div>"
      ],
      "text/plain": [
       "nivel_de_ofensa  contravencao     crime  violacao\n",
       "nivel_de_ofensa                                  \n",
       "contravencao         1.000000  0.670163  0.490169\n",
       "crime                0.670163  1.000000  0.510484\n",
       "violacao             0.490169  0.510484  1.000000"
      ]
     },
     "execution_count": 45,
     "metadata": {},
     "output_type": "execute_result"
    }
   ],
   "source": [
    "nivel_de_ofensa.corr()"
   ]
  },
  {
   "cell_type": "code",
   "execution_count": 47,
   "metadata": {
    "id": "XhZiHWNfidCo",
    "outputId": "9462c65e-894a-4607-f99a-115c109cc5d7"
   },
   "outputs": [
    {
     "data": {
      "text/plain": [
       "<matplotlib.axes._subplots.AxesSubplot at 0xc9bab50>"
      ]
     },
     "execution_count": 47,
     "metadata": {},
     "output_type": "execute_result"
    },
    {
     "data": {
      "image/png": "[encoded data removed]",
      "text/plain": [
       "<Figure size 432x288 with 2 Axes>"
      ]
     },
     "metadata": {
      "needs_background": "light"
     },
     "output_type": "display_data"
    }
   ],
   "source": [
    "sns.heatmap(nivel_de_ofensa.corr(), center = 0, annot=True)"
   ]
  },
  {
   "cell_type": "markdown",
   "metadata": {
    "id": "j4_mYeK9idCp"
   },
   "source": [
    " - Visualizando a distibuição dos delitos classificados como crime, contravenção e violação, nos anos de 2014 e 2015."
   ]
  },
  {
   "cell_type": "code",
   "execution_count": null,
   "metadata": {
    "id": "b3FBfqV7idCq",
    "outputId": "d01f7f74-35d1-4f26-cc12-f60419110d52"
   },
   "outputs": [],
   "source": [
    "nivel_de_ofensa.plot()"
   ]
  },
  {
   "cell_type": "code",
   "execution_count": null,
   "metadata": {
    "id": "1djO4T4NidCr",
    "outputId": "b58cfd1c-3c6f-4ff8-9f34-34be7993b9e9"
   },
   "outputs": [],
   "source": [
    "fig, ax = plt.subplots(1,3,figsize=(20,6))\n",
    "nivel_de_ofensa.plot(x='data_da_ocorrencia',y='contravencao',kind='hist',ax=ax[0],title='contravencao');\n",
    "nivel_de_ofensa.plot(x='data_da_ocorrencia',y='crime',kind='count',ax=ax[1],title='crime');\n",
    "nivel_de_ofensa.plot(x='data_da_ocorrencia',y='violacao',kind='count',ax=ax[2],title='violacao');\n",
    "plt.tight_layout();"
   ]
  },
  {
   "cell_type": "markdown",
   "metadata": {
    "id": "vbpITIe8idCr"
   },
   "source": [
    " - criando novo DataFrame colocando a data como índice"
   ]
  },
  {
   "cell_type": "code",
   "execution_count": null,
   "metadata": {
    "id": "zn2UtOOcidCs"
   },
   "outputs": [],
   "source": [
    "nivel_de_ofensa_geral = pd.crosstab(delitos_ny.data_da_ocorrencia , delitos_ny.nivel_de_ofensa )"
   ]
  },
  {
   "cell_type": "code",
   "execution_count": null,
   "metadata": {
    "id": "d-d-xW37idCs",
    "outputId": "e9e64968-6d32-421f-b4ad-f4dd55567211"
   },
   "outputs": [],
   "source": [
    "nivel_de_ofensa_geral.head()"
   ]
  },
  {
   "cell_type": "code",
   "execution_count": null,
   "metadata": {
    "id": "IMewiAQpidCt"
   },
   "outputs": [],
   "source": [
    "plt.figure(figsize=(20,10))\n",
    "plt.plot(nivel_de_ofensa_geral)\n",
    "plt.xlabel('Data', fontsize=20)\n",
    "plt.ylabel('Quantidade', fontsize=20)\n",
    "legenda = ['contravenção','crime', 'violação']\n",
    "plt.legend(legenda, fontsize=15)\n",
    "plt.show()"
   ]
  },
  {
   "cell_type": "markdown",
   "metadata": {
    "id": "0wNQwXAxidCt"
   },
   "source": [
    " ### 2- Bairro"
   ]
  },
  {
   "cell_type": "code",
   "execution_count": null,
   "metadata": {
    "id": "bVtasAUJidCu"
   },
   "outputs": [],
   "source": [
    "qtde_ocorrencia_dia = pd.crosstab(delitos_ny.data_da_ocorrencia , delitos_ny.bairro)"
   ]
  },
  {
   "cell_type": "code",
   "execution_count": null,
   "metadata": {
    "id": "JOW560VcidCu"
   },
   "outputs": [],
   "source": [
    "qtde_ocorrencia_dia.head()"
   ]
  },
  {
   "cell_type": "code",
   "execution_count": null,
   "metadata": {
    "id": "sjBik7ZGidCv"
   },
   "outputs": [],
   "source": [
    "plt.figure(figsize=(12,6))\n",
    "plt.plot(qtde_ocorrencia_dia)\n",
    "plt.xlabel('Data', fontsize=12)\n",
    "plt.ylabel('Quantidade', fontsize=12)\n",
    "legenda = ['BRONX','BROOKLYN', 'MANHATTAN','QUEENS','STATEN ISLAND']\n",
    "plt.legend(legenda, fontsize=10,loc=1)\n",
    "plt.title('QUANTIDADE DE DELITOS PRATICADOS POR DIA EM CADA BAIRRO', fontsize=12)\n",
    "plt.show()"
   ]
  },
  {
   "cell_type": "markdown",
   "metadata": {
    "id": "unw3dqTdidCv"
   },
   "source": [
    "### 3-  Local da ocorrencia"
   ]
  },
  {
   "cell_type": "code",
   "execution_count": null,
   "metadata": {
    "id": "fZSOfcYuidCw"
   },
   "outputs": [],
   "source": [
    "local_da_ocorrencia = pd.crosstab(delitos_ny.data_da_ocorrencia , delitos_ny.local_da_ocorrencia).reset_index()"
   ]
  },
  {
   "cell_type": "code",
   "execution_count": null,
   "metadata": {
    "id": "EL2bLg46idCw"
   },
   "outputs": [],
   "source": [
    "local_da_ocorrencia.info()"
   ]
  },
  {
   "cell_type": "code",
   "execution_count": null,
   "metadata": {
    "id": "AruL4aDuidCx"
   },
   "outputs": [],
   "source": [
    "local_da_ocorrencia.head()"
   ]
  },
  {
   "cell_type": "code",
   "execution_count": null,
   "metadata": {
    "id": "FqeYcshUidCx"
   },
   "outputs": [],
   "source": [
    "#  classificando os delitos apenas como sendo dentro / fora  dos estabelecimentos\n",
    "\n",
    "\n",
    "new_local_da_ocorrencia = {'atras': \"fora\", 'dentro': \"dentro\", 'em_frente': \"fora\", \n",
    "                           'oposto': \"fora\" }\n",
    "delitos_ny['local_da_ocorrencia'] = delitos_ny['local_da_ocorrencia'].map(new_local_da_ocorrencia)"
   ]
  },
  {
   "cell_type": "code",
   "execution_count": null,
   "metadata": {
    "id": "Fy5T9kqLidCy"
   },
   "outputs": [],
   "source": [
    "delitos_ny.local_da_ocorrencia.value_counts()"
   ]
  },
  {
   "cell_type": "code",
   "execution_count": null,
   "metadata": {
    "id": "jDZp5dktidCy"
   },
   "outputs": [],
   "source": [
    "local_da_ocorrencia = pd.crosstab(delitos_ny.data_da_ocorrencia , delitos_ny.local_da_ocorrencia)\n",
    "local_da_ocorrencia.head()"
   ]
  },
  {
   "cell_type": "code",
   "execution_count": null,
   "metadata": {
    "id": "ZVkLKTIPidCy"
   },
   "outputs": [],
   "source": [
    "plt.figure(figsize=(12,6))\n",
    "plt.plot(local_da_ocorrencia)\n",
    "plt.xlabel('Data', fontsize=12)\n",
    "plt.ylabel('Quantidade', fontsize=12)\n",
    "legenda = ['dentro','fora']\n",
    "plt.title(' DELITOS PRATICADOS DENTRO X FORA DOS ESTABELECIMENTOS', fontsize=12)\n",
    "plt.legend(legenda, fontsize=15)\n",
    "plt.show()"
   ]
  },
  {
   "cell_type": "code",
   "execution_count": null,
   "metadata": {
    "id": "TRtz2H54idCz"
   },
   "outputs": [],
   "source": [
    "# sns.set_palette('Accent')\n",
    "# sns.set_style('darkgrid')\n",
    "# ax=sns.lineplot(x='data_da_ocorrencia', y='dentro', data = local_da_ocorrencia)\n",
    "# ax.figure.set_size_inches(14,7)\n",
    "# ax.set_title('Delitos praticados dentro dos estabelecimentos', loc='left', fontsize=18)\n",
    "# ax.set_xlabel('Data dos delitos', fontsize=14)\n",
    "# ax.set_ylabel('Quatidade de delitos', fontsize=14)\n",
    "# ax=ax"
   ]
  },
  {
   "cell_type": "markdown",
   "metadata": {
    "id": "y4ivZre6idC1"
   },
   "source": [
    "### 4 -  Descrição da ofensa"
   ]
  },
  {
   "cell_type": "markdown",
   "metadata": {
    "id": "g3wDYcocidC2"
   },
   "source": [
    " - criando um dataframe data x descrição dos delitos"
   ]
  },
  {
   "cell_type": "code",
   "execution_count": null,
   "metadata": {
    "id": "WJFiuwkDidC2"
   },
   "outputs": [],
   "source": [
    "descricao_da_ofensa = pd.crosstab(delitos_ny.data_da_ocorrencia , delitos_ny.descricao_da_ofensa)"
   ]
  },
  {
   "cell_type": "code",
   "execution_count": null,
   "metadata": {
    "id": "6mSrU7p0idC5"
   },
   "outputs": [],
   "source": [
    "descricao_da_ofensa.head()"
   ]
  },
  {
   "cell_type": "markdown",
   "metadata": {
    "id": "dt-FDDG0idC6"
   },
   "source": [
    "- separando os delitos em :\n",
    " - delitos com maiores ocorrencias\n",
    " - delitos mais graves"
   ]
  },
  {
   "cell_type": "markdown",
   "metadata": {
    "id": "xkWhXSFkidC6"
   },
   "source": [
    "### 4.1 Tipos de delitos mais frequentes"
   ]
  },
  {
   "cell_type": "code",
   "execution_count": null,
   "metadata": {
    "id": "a0q9RFdbidC7"
   },
   "outputs": [],
   "source": [
    "delitos_ny.descricao_da_ofensa.value_counts().head()"
   ]
  },
  {
   "cell_type": "code",
   "execution_count": null,
   "metadata": {
    "id": "F7rSD1JgidC7"
   },
   "outputs": [],
   "source": [
    "delitos_mais_frequentes = descricao_da_ofensa.loc[:,['PETIT LARCENY','HARRASSMENT 2', 'ASSAULT 3 & RELATED OFFENSES',\n",
    "                                                     'CRIMINAL MISCHIEF & RELATED OF','GRAND LARCENY']]"
   ]
  },
  {
   "cell_type": "code",
   "execution_count": null,
   "metadata": {
    "id": "J-YWGhN_idC8"
   },
   "outputs": [],
   "source": [
    "delitos_mais_frequentes.head()"
   ]
  },
  {
   "cell_type": "code",
   "execution_count": null,
   "metadata": {
    "id": "QqlojK90idC8"
   },
   "outputs": [],
   "source": [
    "# plt.figure(figsize=(20,10))\n",
    "# plt.plot(delitos_mais_frequentes)\n",
    "# plt.xlabel('Data', fontsize=12)\n",
    "# plt.ylabel('Quantidade', fontsize=12)\n",
    "# legenda = ['PETIT LARCENY','HARRASSMENT 2', 'ASSAULT 3 & RELATED OFFENSES','CRIMINAL MISCHIEF & RELATED OF','GRAND LARCENY']\n",
    "# plt.title('TIPOS DE DELITOS MAIS FREQUENTES', fontsize=12)\n",
    "# plt.legend(legenda, fontsize=15)\n",
    "# plt.show()"
   ]
  },
  {
   "cell_type": "markdown",
   "metadata": {
    "id": "fEg6FSZlidC9"
   },
   "source": [
    "### 4.2 Delitos mais graves"
   ]
  },
  {
   "cell_type": "code",
   "execution_count": null,
   "metadata": {
    "id": "vCeSqVjlidC-"
   },
   "outputs": [],
   "source": [
    "# delitos_ny.descricao_da_ofensa.value_counts().head(40)"
   ]
  },
  {
   "cell_type": "code",
   "execution_count": null,
   "metadata": {
    "id": "Adf6KF1sidC-"
   },
   "outputs": [],
   "source": [
    "# 'HARRASSMENT 2','FELONY ASSAULT','DANGEROUS DRUGS','SEX CRIMES','DANGEROUS WEAPONS'"
   ]
  },
  {
   "cell_type": "code",
   "execution_count": null,
   "metadata": {
    "id": "_rOc1H7oidC_"
   },
   "outputs": [],
   "source": [
    "delitos_mais_graves = descricao_da_ofensa.loc[:,['FELONY ASSAULT','DANGEROUS DRUGS',\n",
    "                                                 'SEX CRIMES','DANGEROUS WEAPONS']]"
   ]
  },
  {
   "cell_type": "code",
   "execution_count": null,
   "metadata": {
    "id": "xWMZnOZlidC_"
   },
   "outputs": [],
   "source": [
    "delitos_mais_graves.columns = ['crime_de_assalto','drogas_perigosas','crimes_sexuais','armas_perigosas']"
   ]
  },
  {
   "cell_type": "code",
   "execution_count": null,
   "metadata": {
    "id": "zEWtwLyCidDA"
   },
   "outputs": [],
   "source": [
    "delitos_mais_graves.head()"
   ]
  },
  {
   "cell_type": "code",
   "execution_count": null,
   "metadata": {
    "id": "_brYxTRMidDA"
   },
   "outputs": [],
   "source": [
    "# plt.figure(figsize=(18,10))\n",
    "# plt.plot(delitos_mais_graves)\n",
    "# plt.xlabel('Data', fontsize=12)\n",
    "# plt.ylabel('Quantidade', fontsize=12)\n",
    "# legenda = ['crime_de_assalto','drogas_perigosas','crimes_sexuais','armas_perigosas']\n",
    "# plt.title('TIPOS DE DELITOS MAIS graves', fontsize=12)\n",
    "# plt.legend(legenda, fontsize=15, loc=1)\n",
    "# plt.show()"
   ]
  },
  {
   "cell_type": "markdown",
   "metadata": {
    "id": "_MO6dyb7idDB"
   },
   "source": [
    " ## Selecionando a variável \"crimes_sexuais\" e observando seu comportamento ao longo do tempo"
   ]
  },
  {
   "cell_type": "markdown",
   "metadata": {
    "id": "xk38BpkridDB"
   },
   "source": [
    " - Crimes sexuais x tempo"
   ]
  },
  {
   "cell_type": "code",
   "execution_count": null,
   "metadata": {
    "id": "SdRZwPL2idDC"
   },
   "outputs": [],
   "source": [
    "delitos_mais_graves.head()"
   ]
  },
  {
   "cell_type": "code",
   "execution_count": null,
   "metadata": {
    "id": "6PWrth_sidDC"
   },
   "outputs": [],
   "source": [
    "# plt.figure(figsize=(15,8))\n",
    "# delitos_mais_graves.crimes_sexuais.plot()\n",
    "# plt.xticks(rotation=45)\n",
    "# plt.xlabel('Data')\n",
    "# plt.ylabel('Quantidade')\n",
    "# plt.tight_layout()"
   ]
  },
  {
   "cell_type": "markdown",
   "metadata": {
    "id": "soZi571iidDD"
   },
   "source": [
    " - Criando o DataFrame \"crimes_sexuais\""
   ]
  },
  {
   "cell_type": "code",
   "execution_count": null,
   "metadata": {
    "id": "fwLACvX3idDD"
   },
   "outputs": [],
   "source": [
    "crimes_sexuais = delitos_mais_graves.crimes_sexuais.to_frame()"
   ]
  },
  {
   "cell_type": "markdown",
   "metadata": {
    "id": "zM6JKVmAidDE"
   },
   "source": [
    " - Criando o arquivo CSV crimes_sexuais"
   ]
  },
  {
   "cell_type": "code",
   "execution_count": null,
   "metadata": {
    "id": "f0EmESrVidDF"
   },
   "outputs": [],
   "source": [
    "crimes_sexuais.to_csv('crimes_sexuais.csv', encoding = 'latin-1' )"
   ]
  },
  {
   "cell_type": "markdown",
   "metadata": {
    "id": "CzhDSiUwidDF"
   },
   "source": [
    " - Graficando \"crimes_sexuais\""
   ]
  },
  {
   "cell_type": "code",
   "execution_count": null,
   "metadata": {
    "id": "FqrmOq2YidDG"
   },
   "outputs": [],
   "source": [
    "plt.figure(figsize=(15,8))\n",
    "plt.plot(crimes_sexuais)\n",
    "plt.title('Crimes Sexuais', fontsize=12)\n",
    "plt.xlabel('Data', fontsize=12)\n",
    "plt.ylabel('Quantidade', fontsize=12)\n",
    "legenda= ['Crimes sexuais x Tempo']\n",
    "plt.legend(legenda, fontsize=15, loc=1)\n",
    "plt.show()"
   ]
  },
  {
   "cell_type": "markdown",
   "metadata": {
    "id": "aLWhFZLNidDG"
   },
   "source": [
    "## Fazendo a decomposição sazonal"
   ]
  },
  {
   "cell_type": "code",
   "execution_count": null,
   "metadata": {
    "id": "yvyviG3OidDH"
   },
   "outputs": [],
   "source": [
    "from statsmodels.tsa.seasonal import seasonal_decompose"
   ]
  },
  {
   "cell_type": "code",
   "execution_count": null,
   "metadata": {
    "id": "YYH-LlMOidDH"
   },
   "outputs": [],
   "source": [
    "resultado = seasonal_decompose(crimes_sexuais, period=12)"
   ]
  },
  {
   "cell_type": "markdown",
   "metadata": {
    "id": "3WmmzqFnidDI"
   },
   "source": [
    " - obtendo os componentes"
   ]
  },
  {
   "cell_type": "code",
   "execution_count": null,
   "metadata": {
    "id": "aBpFaSaGidDI"
   },
   "outputs": [],
   "source": [
    "tendencia = resultado.trend\n",
    "sazonalidade = resultado.seasonal\n",
    "residuo = resultado.resid"
   ]
  },
  {
   "cell_type": "code",
   "execution_count": null,
   "metadata": {
    "id": "oOSvmPfOidDJ"
   },
   "outputs": [],
   "source": [
    "plt.figure(figsize=(12,6))\n",
    "plt.plot(tendencia)\n",
    "plt.xlabel('Data')\n",
    "plt.ylabel('crimes_sexuais')\n",
    "plt.title('Tendencia')"
   ]
  },
  {
   "cell_type": "code",
   "execution_count": null,
   "metadata": {
    "id": "rxddfHm8idDJ"
   },
   "outputs": [],
   "source": [
    "plt.figure(figsize=(12,6))\n",
    "plt.plot(sazonalidade)\n",
    "plt.xlabel('Data')\n",
    "plt.ylabel('crimes_sexuais')\n",
    "plt.title('Sazonalidade')"
   ]
  },
  {
   "cell_type": "code",
   "execution_count": null,
   "metadata": {
    "id": "mtEOMHGHidDK"
   },
   "outputs": [],
   "source": [
    "plt.figure(figsize=(12,6))\n",
    "plt.plot(residuo)\n",
    "plt.xlabel('Data')\n",
    "plt.ylabel('crimes_sexuais')\n",
    "plt.title('Resíduo')\n"
   ]
  },
  {
   "cell_type": "code",
   "execution_count": null,
   "metadata": {
    "id": "daraieXsidDK"
   },
   "outputs": [],
   "source": []
  }
 ],
 "metadata": {
  "colab": {
   "name": "projeto_final.ipynb",
   "provenance": []
  },
  "kernelspec": {
   "display_name": "Python 3",
   "language": "python",
   "name": "python3"
  },
  "language_info": {
   "codemirror_mode": {
    "name": "ipython",
    "version": 3
   },
   "file_extension": ".py",
   "mimetype": "text/x-python",
   "name": "python",
   "nbconvert_exporter": "python",
   "pygments_lexer": "ipython3",
   "version": "3.8.3"
  }
 },
 "nbformat": 4,
 "nbformat_minor": 1
}

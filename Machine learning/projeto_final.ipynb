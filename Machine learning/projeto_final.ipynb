{
 "cells": [
  {
   "cell_type": "markdown",
   "metadata": {},
   "source": [
    "## 1. Planejamento  "
   ]
  },
  {
   "cell_type": "markdown",
   "metadata": {},
   "source": [
    " - Verificar a correlação entre os tipos de  delitos e suas incidencias\n",
    " - Fazer previsões do crescimento de determinados tipos de delitos\n",
    " - Relacionar com cresccimento da população"
   ]
  },
  {
   "cell_type": "markdown",
   "metadata": {},
   "source": [
    " ## 2. Importando e praparando a basse de dados"
   ]
  },
  {
   "cell_type": "code",
   "execution_count": 1,
   "metadata": {},
   "outputs": [],
   "source": [
    "#  importando as bibliotecas\n",
    "import pandas as pd\n",
    "import numpy as np\n",
    "import seaborn as sns\n",
    "import matplotlib.pyplot as plt"
   ]
  },
  {
   "cell_type": "markdown",
   "metadata": {},
   "source": [
    "- importando os dados dos delitos\n",
    "\n",
    " link para base de dados original: (https://www.kaggle.com/adamschroeder/crimes-new-york-city?select=Crime_Column_Description.csv)"
   ]
  },
  {
   "cell_type": "code",
   "execution_count": 2,
   "metadata": {},
   "outputs": [],
   "source": [
    "delitos_ny = pd.read_csv('select_ny.csv')"
   ]
  },
  {
   "cell_type": "code",
   "execution_count": 3,
   "metadata": {},
   "outputs": [
    {
     "data": {
      "text/html": [
       "<div>\n",
       "<style scoped>\n",
       "    .dataframe tbody tr th:only-of-type {\n",
       "        vertical-align: middle;\n",
       "    }\n",
       "\n",
       "    .dataframe tbody tr th {\n",
       "        vertical-align: top;\n",
       "    }\n",
       "\n",
       "    .dataframe thead th {\n",
       "        text-align: right;\n",
       "    }\n",
       "</style>\n",
       "<table border=\"1\" class=\"dataframe\">\n",
       "  <thead>\n",
       "    <tr style=\"text-align: right;\">\n",
       "      <th></th>\n",
       "      <th>data_da_ocorrencia</th>\n",
       "      <th>data_final_da_ocorrencia</th>\n",
       "      <th>data_comunicacao_policia</th>\n",
       "      <th>hora_da_ocorrencia</th>\n",
       "      <th>hora_termino_da_ocorrencia</th>\n",
       "      <th>duracao_da_ocorrencia</th>\n",
       "      <th>descricao_da_ofensa</th>\n",
       "      <th>conclusao</th>\n",
       "      <th>nivel_de_ofensa</th>\n",
       "      <th>jurisdicao</th>\n",
       "      <th>bairro</th>\n",
       "      <th>local_da_ocorrencia</th>\n",
       "      <th>descricao_das_intalacoes</th>\n",
       "    </tr>\n",
       "  </thead>\n",
       "  <tbody>\n",
       "    <tr>\n",
       "      <th>0</th>\n",
       "      <td>2015-12-31</td>\n",
       "      <td>2015-12-31</td>\n",
       "      <td>2015-12-31</td>\n",
       "      <td>23:25:00</td>\n",
       "      <td>23:30:00</td>\n",
       "      <td>0 days 00:05:00.000000000</td>\n",
       "      <td>ASSAULT 3 &amp; RELATED OFFENSES</td>\n",
       "      <td>concluido</td>\n",
       "      <td>contravencao</td>\n",
       "      <td>N.Y. POLICE DEPT</td>\n",
       "      <td>MANHATTAN</td>\n",
       "      <td>em_frente</td>\n",
       "      <td>OTHER</td>\n",
       "    </tr>\n",
       "    <tr>\n",
       "      <th>1</th>\n",
       "      <td>2015-12-31</td>\n",
       "      <td>2015-12-31</td>\n",
       "      <td>2015-12-31</td>\n",
       "      <td>23:18:00</td>\n",
       "      <td>23:25:00</td>\n",
       "      <td>0 days 00:07:00.000000000</td>\n",
       "      <td>FELONY ASSAULT</td>\n",
       "      <td>nao_concluido</td>\n",
       "      <td>crime</td>\n",
       "      <td>N.Y. POLICE DEPT</td>\n",
       "      <td>BROOKLYN</td>\n",
       "      <td>em_frente</td>\n",
       "      <td>DRUG STORE</td>\n",
       "    </tr>\n",
       "    <tr>\n",
       "      <th>2</th>\n",
       "      <td>2015-12-31</td>\n",
       "      <td>2015-12-31</td>\n",
       "      <td>2015-12-31</td>\n",
       "      <td>23:15:00</td>\n",
       "      <td>23:15:00</td>\n",
       "      <td>0 days 00:00:00.000000000</td>\n",
       "      <td>DANGEROUS WEAPONS</td>\n",
       "      <td>concluido</td>\n",
       "      <td>crime</td>\n",
       "      <td>N.Y. POLICE DEPT</td>\n",
       "      <td>BRONX</td>\n",
       "      <td>em_frente</td>\n",
       "      <td>STREET</td>\n",
       "    </tr>\n",
       "    <tr>\n",
       "      <th>3</th>\n",
       "      <td>2015-12-31</td>\n",
       "      <td>2015-12-31</td>\n",
       "      <td>2015-12-31</td>\n",
       "      <td>23:15:00</td>\n",
       "      <td>23:30:00</td>\n",
       "      <td>0 days 00:15:00.000000000</td>\n",
       "      <td>ASSAULT 3 &amp; RELATED OFFENSES</td>\n",
       "      <td>concluido</td>\n",
       "      <td>contravencao</td>\n",
       "      <td>N.Y. POLICE DEPT</td>\n",
       "      <td>BRONX</td>\n",
       "      <td>dentro</td>\n",
       "      <td>RESIDENCE - APT. HOUSE</td>\n",
       "    </tr>\n",
       "    <tr>\n",
       "      <th>4</th>\n",
       "      <td>2015-12-31</td>\n",
       "      <td>2015-12-31</td>\n",
       "      <td>2015-12-31</td>\n",
       "      <td>23:10:00</td>\n",
       "      <td>23:10:00</td>\n",
       "      <td>0 days 00:00:00.000000000</td>\n",
       "      <td>PETIT LARCENY</td>\n",
       "      <td>concluido</td>\n",
       "      <td>contravencao</td>\n",
       "      <td>N.Y. POLICE DEPT</td>\n",
       "      <td>MANHATTAN</td>\n",
       "      <td>dentro</td>\n",
       "      <td>DRUG STORE</td>\n",
       "    </tr>\n",
       "  </tbody>\n",
       "</table>\n",
       "</div>"
      ],
      "text/plain": [
       "  data_da_ocorrencia data_final_da_ocorrencia data_comunicacao_policia  \\\n",
       "0         2015-12-31               2015-12-31               2015-12-31   \n",
       "1         2015-12-31               2015-12-31               2015-12-31   \n",
       "2         2015-12-31               2015-12-31               2015-12-31   \n",
       "3         2015-12-31               2015-12-31               2015-12-31   \n",
       "4         2015-12-31               2015-12-31               2015-12-31   \n",
       "\n",
       "  hora_da_ocorrencia hora_termino_da_ocorrencia      duracao_da_ocorrencia  \\\n",
       "0           23:25:00                   23:30:00  0 days 00:05:00.000000000   \n",
       "1           23:18:00                   23:25:00  0 days 00:07:00.000000000   \n",
       "2           23:15:00                   23:15:00  0 days 00:00:00.000000000   \n",
       "3           23:15:00                   23:30:00  0 days 00:15:00.000000000   \n",
       "4           23:10:00                   23:10:00  0 days 00:00:00.000000000   \n",
       "\n",
       "            descricao_da_ofensa      conclusao nivel_de_ofensa  \\\n",
       "0  ASSAULT 3 & RELATED OFFENSES      concluido    contravencao   \n",
       "1                FELONY ASSAULT  nao_concluido           crime   \n",
       "2             DANGEROUS WEAPONS      concluido           crime   \n",
       "3  ASSAULT 3 & RELATED OFFENSES      concluido    contravencao   \n",
       "4                 PETIT LARCENY      concluido    contravencao   \n",
       "\n",
       "         jurisdicao     bairro local_da_ocorrencia descricao_das_intalacoes  \n",
       "0  N.Y. POLICE DEPT  MANHATTAN           em_frente                    OTHER  \n",
       "1  N.Y. POLICE DEPT   BROOKLYN           em_frente               DRUG STORE  \n",
       "2  N.Y. POLICE DEPT      BRONX           em_frente                   STREET  \n",
       "3  N.Y. POLICE DEPT      BRONX              dentro   RESIDENCE - APT. HOUSE  \n",
       "4  N.Y. POLICE DEPT  MANHATTAN              dentro               DRUG STORE  "
      ]
     },
     "execution_count": 3,
     "metadata": {},
     "output_type": "execute_result"
    }
   ],
   "source": [
    "delitos_ny.head()"
   ]
  },
  {
   "cell_type": "markdown",
   "metadata": {},
   "source": [
    " - convertendo as colunas data para Datetime"
   ]
  },
  {
   "cell_type": "code",
   "execution_count": 4,
   "metadata": {},
   "outputs": [],
   "source": [
    "delitos_ny['data_da_ocorrencia'] = pd.to_datetime(delitos_ny['data_da_ocorrencia'])"
   ]
  },
  {
   "cell_type": "code",
   "execution_count": 5,
   "metadata": {},
   "outputs": [],
   "source": [
    "delitos_ny['data_final_da_ocorrencia'] = pd.to_datetime(delitos_ny['data_final_da_ocorrencia'])"
   ]
  },
  {
   "cell_type": "code",
   "execution_count": 6,
   "metadata": {},
   "outputs": [],
   "source": [
    "delitos_ny['data_comunicacao_policia'] = pd.to_datetime(delitos_ny['data_comunicacao_policia'])"
   ]
  },
  {
   "cell_type": "markdown",
   "metadata": {},
   "source": [
    " - pegando apenas os delitos concluídos nos anos 2014 e 2015"
   ]
  },
  {
   "cell_type": "code",
   "execution_count": 7,
   "metadata": {},
   "outputs": [],
   "source": [
    "delitos_ny = delitos_ny.query('conclusao == \"concluido\" and data_da_ocorrencia >= \"2014-01-01\"')"
   ]
  },
  {
   "cell_type": "code",
   "execution_count": 8,
   "metadata": {},
   "outputs": [
    {
     "data": {
      "text/plain": [
       "2014    303854\n",
       "2015    294305\n",
       "Name: data_da_ocorrencia, dtype: int64"
      ]
     },
     "execution_count": 8,
     "metadata": {},
     "output_type": "execute_result"
    }
   ],
   "source": [
    "delitos_ny['data_da_ocorrencia'].dt.year.value_counts()"
   ]
  },
  {
   "cell_type": "markdown",
   "metadata": {},
   "source": [
    " - Classificando os delitos apenas como centro ou fora dos estabelecimentos "
   ]
  },
  {
   "cell_type": "code",
   "execution_count": 9,
   "metadata": {},
   "outputs": [],
   "source": [
    "#  classificando os delitos apenas como sendo dentro / fora  dos estabelecimentos\n",
    "\n",
    "\n",
    "new_local_da_ocorrencia = {'atras': \"fora\", 'dentro': \"dentro\", 'em_frente': \"fora\", \n",
    "                           'oposto': \"fora\" }\n",
    "delitos_ny['local_da_ocorrencia'] = delitos_ny['local_da_ocorrencia'].map(new_local_da_ocorrencia)"
   ]
  },
  {
   "cell_type": "code",
   "execution_count": 10,
   "metadata": {},
   "outputs": [
    {
     "data": {
      "text/plain": [
       "dentro    387272\n",
       "fora      210887\n",
       "Name: local_da_ocorrencia, dtype: int64"
      ]
     },
     "execution_count": 10,
     "metadata": {},
     "output_type": "execute_result"
    }
   ],
   "source": [
    "delitos_ny.local_da_ocorrencia.value_counts()"
   ]
  },
  {
   "cell_type": "markdown",
   "metadata": {},
   "source": [
    " -  Importando os dados da população de 2010-2030"
   ]
  },
  {
   "cell_type": "code",
   "execution_count": 11,
   "metadata": {},
   "outputs": [],
   "source": [
    "populacao = pd.read_csv('populacao_2010-2020.csv')"
   ]
  },
  {
   "cell_type": "code",
   "execution_count": 12,
   "metadata": {},
   "outputs": [
    {
     "data": {
      "text/html": [
       "<div>\n",
       "<style scoped>\n",
       "    .dataframe tbody tr th:only-of-type {\n",
       "        vertical-align: middle;\n",
       "    }\n",
       "\n",
       "    .dataframe tbody tr th {\n",
       "        vertical-align: top;\n",
       "    }\n",
       "\n",
       "    .dataframe thead th {\n",
       "        text-align: right;\n",
       "    }\n",
       "</style>\n",
       "<table border=\"1\" class=\"dataframe\">\n",
       "  <thead>\n",
       "    <tr style=\"text-align: right;\">\n",
       "      <th></th>\n",
       "      <th>Age Group</th>\n",
       "      <th>Borough</th>\n",
       "      <th>2010</th>\n",
       "      <th>2010 - Boro share of NYC total</th>\n",
       "      <th>2020</th>\n",
       "      <th>2020 - Boro share of NYC total</th>\n",
       "      <th>2030</th>\n",
       "      <th>2030 - Boro share of NYC total</th>\n",
       "    </tr>\n",
       "  </thead>\n",
       "  <tbody>\n",
       "    <tr>\n",
       "      <th>0</th>\n",
       "      <td>Total Population</td>\n",
       "      <td>NYC Total</td>\n",
       "      <td>8,242,624</td>\n",
       "      <td>100%</td>\n",
       "      <td>8,550,971</td>\n",
       "      <td>100%</td>\n",
       "      <td>8,821,027</td>\n",
       "      <td>100%</td>\n",
       "    </tr>\n",
       "    <tr>\n",
       "      <th>1</th>\n",
       "      <td>Total Population</td>\n",
       "      <td>Bronx</td>\n",
       "      <td>1,385,108</td>\n",
       "      <td>16.8%</td>\n",
       "      <td>1,446,788</td>\n",
       "      <td>16.92%</td>\n",
       "      <td>1,518,998</td>\n",
       "      <td>17.22%</td>\n",
       "    </tr>\n",
       "    <tr>\n",
       "      <th>2</th>\n",
       "      <td>Total Population</td>\n",
       "      <td>Brooklyn</td>\n",
       "      <td>2,552,911</td>\n",
       "      <td>30.97%</td>\n",
       "      <td>2,648,452</td>\n",
       "      <td>30.97%</td>\n",
       "      <td>2,754,009</td>\n",
       "      <td>31.22%</td>\n",
       "    </tr>\n",
       "    <tr>\n",
       "      <th>3</th>\n",
       "      <td>Total Population</td>\n",
       "      <td>Manhattan</td>\n",
       "      <td>1,585,873</td>\n",
       "      <td>19.24%</td>\n",
       "      <td>1,638,281</td>\n",
       "      <td>19.16%</td>\n",
       "      <td>1,676,720</td>\n",
       "      <td>19.01%</td>\n",
       "    </tr>\n",
       "    <tr>\n",
       "      <th>4</th>\n",
       "      <td>Total Population</td>\n",
       "      <td>Queens</td>\n",
       "      <td>2,250,002</td>\n",
       "      <td>27.3%</td>\n",
       "      <td>2,330,295</td>\n",
       "      <td>27.25%</td>\n",
       "      <td>2,373,551</td>\n",
       "      <td>26.91%</td>\n",
       "    </tr>\n",
       "    <tr>\n",
       "      <th>5</th>\n",
       "      <td>Total Population</td>\n",
       "      <td>Staten Island</td>\n",
       "      <td>468,730</td>\n",
       "      <td>5.69%</td>\n",
       "      <td>487,155</td>\n",
       "      <td>5.7%</td>\n",
       "      <td>497,749</td>\n",
       "      <td>5.64%</td>\n",
       "    </tr>\n",
       "  </tbody>\n",
       "</table>\n",
       "</div>"
      ],
      "text/plain": [
       "          Age Group           Borough       2010  \\\n",
       "0  Total Population         NYC Total  8,242,624   \n",
       "1  Total Population             Bronx  1,385,108   \n",
       "2  Total Population          Brooklyn  2,552,911   \n",
       "3  Total Population         Manhattan  1,585,873   \n",
       "4  Total Population            Queens  2,250,002   \n",
       "5  Total Population     Staten Island    468,730   \n",
       "\n",
       "  2010 - Boro share of NYC total       2020 2020 - Boro share of NYC total  \\\n",
       "0                           100%  8,550,971                           100%   \n",
       "1                          16.8%  1,446,788                         16.92%   \n",
       "2                         30.97%  2,648,452                         30.97%   \n",
       "3                         19.24%  1,638,281                         19.16%   \n",
       "4                          27.3%  2,330,295                         27.25%   \n",
       "5                          5.69%    487,155                           5.7%   \n",
       "\n",
       "        2030 2030 - Boro share of NYC total  \n",
       "0  8,821,027                           100%  \n",
       "1  1,518,998                         17.22%  \n",
       "2  2,754,009                         31.22%  \n",
       "3  1,676,720                         19.01%  \n",
       "4  2,373,551                         26.91%  \n",
       "5    497,749                          5.64%  "
      ]
     },
     "execution_count": 12,
     "metadata": {},
     "output_type": "execute_result"
    }
   ],
   "source": [
    "populacao"
   ]
  },
  {
   "cell_type": "markdown",
   "metadata": {},
   "source": [
    " - Tratando os dados do DataFrame \"populacao\""
   ]
  },
  {
   "cell_type": "code",
   "execution_count": 13,
   "metadata": {},
   "outputs": [],
   "source": [
    "#  renomenando as colunas e apagando a coluna que não pe necesssária\n",
    "populacao = populacao.drop(columns = ['Age Group'])\n",
    "populacao.columns = ['Bairro','Total_poplacao_2010', '%Populacao_2010', 'Total_poplacao_2020', '%Populacao_2020'\n",
    "                    ,'Total_poplacao_2030', '%Populacao_2030']"
   ]
  },
  {
   "cell_type": "code",
   "execution_count": 14,
   "metadata": {},
   "outputs": [],
   "source": [
    "populacao=populacao.drop(columns=['%Populacao_2010','%Populacao_2020','%Populacao_2030'])"
   ]
  },
  {
   "cell_type": "code",
   "execution_count": 15,
   "metadata": {},
   "outputs": [
    {
     "data": {
      "text/html": [
       "<div>\n",
       "<style scoped>\n",
       "    .dataframe tbody tr th:only-of-type {\n",
       "        vertical-align: middle;\n",
       "    }\n",
       "\n",
       "    .dataframe tbody tr th {\n",
       "        vertical-align: top;\n",
       "    }\n",
       "\n",
       "    .dataframe thead th {\n",
       "        text-align: right;\n",
       "    }\n",
       "</style>\n",
       "<table border=\"1\" class=\"dataframe\">\n",
       "  <thead>\n",
       "    <tr style=\"text-align: right;\">\n",
       "      <th></th>\n",
       "      <th>Bairro</th>\n",
       "      <th>Total_poplacao_2010</th>\n",
       "      <th>Total_poplacao_2020</th>\n",
       "      <th>Total_poplacao_2030</th>\n",
       "    </tr>\n",
       "  </thead>\n",
       "  <tbody>\n",
       "    <tr>\n",
       "      <th>0</th>\n",
       "      <td>NYC Total</td>\n",
       "      <td>8,242,624</td>\n",
       "      <td>8,550,971</td>\n",
       "      <td>8,821,027</td>\n",
       "    </tr>\n",
       "    <tr>\n",
       "      <th>1</th>\n",
       "      <td>Bronx</td>\n",
       "      <td>1,385,108</td>\n",
       "      <td>1,446,788</td>\n",
       "      <td>1,518,998</td>\n",
       "    </tr>\n",
       "    <tr>\n",
       "      <th>2</th>\n",
       "      <td>Brooklyn</td>\n",
       "      <td>2,552,911</td>\n",
       "      <td>2,648,452</td>\n",
       "      <td>2,754,009</td>\n",
       "    </tr>\n",
       "    <tr>\n",
       "      <th>3</th>\n",
       "      <td>Manhattan</td>\n",
       "      <td>1,585,873</td>\n",
       "      <td>1,638,281</td>\n",
       "      <td>1,676,720</td>\n",
       "    </tr>\n",
       "    <tr>\n",
       "      <th>4</th>\n",
       "      <td>Queens</td>\n",
       "      <td>2,250,002</td>\n",
       "      <td>2,330,295</td>\n",
       "      <td>2,373,551</td>\n",
       "    </tr>\n",
       "    <tr>\n",
       "      <th>5</th>\n",
       "      <td>Staten Island</td>\n",
       "      <td>468,730</td>\n",
       "      <td>487,155</td>\n",
       "      <td>497,749</td>\n",
       "    </tr>\n",
       "  </tbody>\n",
       "</table>\n",
       "</div>"
      ],
      "text/plain": [
       "             Bairro Total_poplacao_2010 Total_poplacao_2020  \\\n",
       "0         NYC Total           8,242,624           8,550,971   \n",
       "1             Bronx           1,385,108           1,446,788   \n",
       "2          Brooklyn           2,552,911           2,648,452   \n",
       "3         Manhattan           1,585,873           1,638,281   \n",
       "4            Queens           2,250,002           2,330,295   \n",
       "5     Staten Island             468,730             487,155   \n",
       "\n",
       "  Total_poplacao_2030  \n",
       "0           8,821,027  \n",
       "1           1,518,998  \n",
       "2           2,754,009  \n",
       "3           1,676,720  \n",
       "4           2,373,551  \n",
       "5             497,749  "
      ]
     },
     "execution_count": 15,
     "metadata": {},
     "output_type": "execute_result"
    }
   ],
   "source": [
    "populacao"
   ]
  },
  {
   "cell_type": "markdown",
   "metadata": {},
   "source": [
    " - Retirando as vírgulas dos números e convertendo as colunas pra um formato numérico"
   ]
  },
  {
   "cell_type": "code",
   "execution_count": 18,
   "metadata": {},
   "outputs": [],
   "source": [
    "lista_cols=['Total_poplacao_2010','Total_poplacao_2020','Total_poplacao_2030']\n",
    "\n",
    "for i in lista_cols:\n",
    "    populacao[i]=populacao[i].astype(str)\n",
    "    populacao[i]=populacao[i].str.replace(\",\",\"\")\n",
    "    populacao[i]=pd.to_numeric(populacao[i])"
   ]
  },
  {
   "cell_type": "code",
   "execution_count": 40,
   "metadata": {},
   "outputs": [],
   "source": [
    "populacao=populacao.set_index('Bairro')"
   ]
  },
  {
   "cell_type": "code",
   "execution_count": 20,
   "metadata": {},
   "outputs": [
    {
     "name": "stdout",
     "output_type": "stream",
     "text": [
      "<class 'pandas.core.frame.DataFrame'>\n",
      "RangeIndex: 6 entries, 0 to 5\n",
      "Data columns (total 4 columns):\n",
      " #   Column               Non-Null Count  Dtype \n",
      "---  ------               --------------  ----- \n",
      " 0   Bairro               6 non-null      object\n",
      " 1   Total_poplacao_2010  6 non-null      int64 \n",
      " 2   Total_poplacao_2020  6 non-null      int64 \n",
      " 3   Total_poplacao_2030  6 non-null      int64 \n",
      "dtypes: int64(3), object(1)\n",
      "memory usage: 320.0+ bytes\n"
     ]
    }
   ],
   "source": [
    "populacao.info()"
   ]
  },
  {
   "cell_type": "markdown",
   "metadata": {},
   "source": [
    " ## 3. Análise exploratória de dados"
   ]
  },
  {
   "cell_type": "code",
   "execution_count": null,
   "metadata": {},
   "outputs": [],
   "source": [
    "delitos_ny.describe().T"
   ]
  },
  {
   "cell_type": "code",
   "execution_count": 22,
   "metadata": {},
   "outputs": [
    {
     "data": {
      "text/html": [
       "<div>\n",
       "<style scoped>\n",
       "    .dataframe tbody tr th:only-of-type {\n",
       "        vertical-align: middle;\n",
       "    }\n",
       "\n",
       "    .dataframe tbody tr th {\n",
       "        vertical-align: top;\n",
       "    }\n",
       "\n",
       "    .dataframe thead th {\n",
       "        text-align: right;\n",
       "    }\n",
       "</style>\n",
       "<table border=\"1\" class=\"dataframe\">\n",
       "  <thead>\n",
       "    <tr style=\"text-align: right;\">\n",
       "      <th></th>\n",
       "      <th>count</th>\n",
       "      <th>mean</th>\n",
       "      <th>std</th>\n",
       "      <th>min</th>\n",
       "      <th>25%</th>\n",
       "      <th>50%</th>\n",
       "      <th>75%</th>\n",
       "      <th>max</th>\n",
       "    </tr>\n",
       "  </thead>\n",
       "  <tbody>\n",
       "    <tr>\n",
       "      <th>Total_poplacao_2010</th>\n",
       "      <td>6.0</td>\n",
       "      <td>2.747541e+06</td>\n",
       "      <td>2.788549e+06</td>\n",
       "      <td>468730.0</td>\n",
       "      <td>1435299.25</td>\n",
       "      <td>1917937.5</td>\n",
       "      <td>2477183.75</td>\n",
       "      <td>8242624.0</td>\n",
       "    </tr>\n",
       "    <tr>\n",
       "      <th>Total_poplacao_2020</th>\n",
       "      <td>6.0</td>\n",
       "      <td>2.850324e+06</td>\n",
       "      <td>2.892476e+06</td>\n",
       "      <td>487155.0</td>\n",
       "      <td>1494661.25</td>\n",
       "      <td>1984288.0</td>\n",
       "      <td>2568912.75</td>\n",
       "      <td>8550971.0</td>\n",
       "    </tr>\n",
       "    <tr>\n",
       "      <th>Total_poplacao_2030</th>\n",
       "      <td>6.0</td>\n",
       "      <td>2.940342e+06</td>\n",
       "      <td>2.984012e+06</td>\n",
       "      <td>497749.0</td>\n",
       "      <td>1558428.50</td>\n",
       "      <td>2025135.5</td>\n",
       "      <td>2658894.50</td>\n",
       "      <td>8821027.0</td>\n",
       "    </tr>\n",
       "  </tbody>\n",
       "</table>\n",
       "</div>"
      ],
      "text/plain": [
       "                     count          mean           std       min         25%  \\\n",
       "Total_poplacao_2010    6.0  2.747541e+06  2.788549e+06  468730.0  1435299.25   \n",
       "Total_poplacao_2020    6.0  2.850324e+06  2.892476e+06  487155.0  1494661.25   \n",
       "Total_poplacao_2030    6.0  2.940342e+06  2.984012e+06  497749.0  1558428.50   \n",
       "\n",
       "                           50%         75%        max  \n",
       "Total_poplacao_2010  1917937.5  2477183.75  8242624.0  \n",
       "Total_poplacao_2020  1984288.0  2568912.75  8550971.0  \n",
       "Total_poplacao_2030  2025135.5  2658894.50  8821027.0  "
      ]
     },
     "execution_count": 22,
     "metadata": {},
     "output_type": "execute_result"
    }
   ],
   "source": [
    "populacao.describe().T"
   ]
  },
  {
   "cell_type": "code",
   "execution_count": 38,
   "metadata": {},
   "outputs": [
    {
     "ename": "KeyError",
     "evalue": "('Total_poplacao_2010', 'Total_poplacao_2020', 'Total_poplacao_2030')",
     "output_type": "error",
     "traceback": [
      "\u001b[1;31m---------------------------------------------------------------------------\u001b[0m",
      "\u001b[1;31mKeyError\u001b[0m                                  Traceback (most recent call last)",
      "\u001b[1;32m~\\anaconda3\\lib\\site-packages\\pandas\\core\\indexes\\base.py\u001b[0m in \u001b[0;36mget_loc\u001b[1;34m(self, key, method, tolerance)\u001b[0m\n\u001b[0;32m   2645\u001b[0m             \u001b[1;32mtry\u001b[0m\u001b[1;33m:\u001b[0m\u001b[1;33m\u001b[0m\u001b[1;33m\u001b[0m\u001b[0m\n\u001b[1;32m-> 2646\u001b[1;33m                 \u001b[1;32mreturn\u001b[0m \u001b[0mself\u001b[0m\u001b[1;33m.\u001b[0m\u001b[0m_engine\u001b[0m\u001b[1;33m.\u001b[0m\u001b[0mget_loc\u001b[0m\u001b[1;33m(\u001b[0m\u001b[0mkey\u001b[0m\u001b[1;33m)\u001b[0m\u001b[1;33m\u001b[0m\u001b[1;33m\u001b[0m\u001b[0m\n\u001b[0m\u001b[0;32m   2647\u001b[0m             \u001b[1;32mexcept\u001b[0m \u001b[0mKeyError\u001b[0m\u001b[1;33m:\u001b[0m\u001b[1;33m\u001b[0m\u001b[1;33m\u001b[0m\u001b[0m\n",
      "\u001b[1;32mpandas\\_libs\\index.pyx\u001b[0m in \u001b[0;36mpandas._libs.index.IndexEngine.get_loc\u001b[1;34m()\u001b[0m\n",
      "\u001b[1;32mpandas\\_libs\\index.pyx\u001b[0m in \u001b[0;36mpandas._libs.index.IndexEngine.get_loc\u001b[1;34m()\u001b[0m\n",
      "\u001b[1;32mpandas\\_libs\\hashtable_class_helper.pxi\u001b[0m in \u001b[0;36mpandas._libs.hashtable.PyObjectHashTable.get_item\u001b[1;34m()\u001b[0m\n",
      "\u001b[1;32mpandas\\_libs\\hashtable_class_helper.pxi\u001b[0m in \u001b[0;36mpandas._libs.hashtable.PyObjectHashTable.get_item\u001b[1;34m()\u001b[0m\n",
      "\u001b[1;31mKeyError\u001b[0m: ('Total_poplacao_2010', 'Total_poplacao_2020', 'Total_poplacao_2030')",
      "\nDuring handling of the above exception, another exception occurred:\n",
      "\u001b[1;31mKeyError\u001b[0m                                  Traceback (most recent call last)",
      "\u001b[1;32m<ipython-input-38-1571431a42ac>\u001b[0m in \u001b[0;36m<module>\u001b[1;34m\u001b[0m\n\u001b[1;32m----> 1\u001b[1;33m \u001b[0msns\u001b[0m\u001b[1;33m.\u001b[0m\u001b[0mbarplot\u001b[0m\u001b[1;33m(\u001b[0m\u001b[0mx\u001b[0m \u001b[1;33m=\u001b[0m \u001b[1;34m'Bairro'\u001b[0m \u001b[1;33m,\u001b[0m \u001b[0my\u001b[0m \u001b[1;33m=\u001b[0m \u001b[0mpopulacao\u001b[0m\u001b[1;33m[\u001b[0m\u001b[1;34m'Total_poplacao_2010'\u001b[0m\u001b[1;33m,\u001b[0m\u001b[1;34m'Total_poplacao_2020'\u001b[0m\u001b[1;33m,\u001b[0m\u001b[1;34m'Total_poplacao_2030'\u001b[0m\u001b[1;33m]\u001b[0m\u001b[1;33m,\u001b[0m\u001b[0mdata\u001b[0m\u001b[1;33m=\u001b[0m\u001b[0mpopulacao\u001b[0m\u001b[1;33m)\u001b[0m\u001b[1;33m\u001b[0m\u001b[1;33m\u001b[0m\u001b[0m\n\u001b[0m",
      "\u001b[1;32m~\\anaconda3\\lib\\site-packages\\pandas\\core\\frame.py\u001b[0m in \u001b[0;36m__getitem__\u001b[1;34m(self, key)\u001b[0m\n\u001b[0;32m   2798\u001b[0m             \u001b[1;32mif\u001b[0m \u001b[0mself\u001b[0m\u001b[1;33m.\u001b[0m\u001b[0mcolumns\u001b[0m\u001b[1;33m.\u001b[0m\u001b[0mnlevels\u001b[0m \u001b[1;33m>\u001b[0m \u001b[1;36m1\u001b[0m\u001b[1;33m:\u001b[0m\u001b[1;33m\u001b[0m\u001b[1;33m\u001b[0m\u001b[0m\n\u001b[0;32m   2799\u001b[0m                 \u001b[1;32mreturn\u001b[0m \u001b[0mself\u001b[0m\u001b[1;33m.\u001b[0m\u001b[0m_getitem_multilevel\u001b[0m\u001b[1;33m(\u001b[0m\u001b[0mkey\u001b[0m\u001b[1;33m)\u001b[0m\u001b[1;33m\u001b[0m\u001b[1;33m\u001b[0m\u001b[0m\n\u001b[1;32m-> 2800\u001b[1;33m             \u001b[0mindexer\u001b[0m \u001b[1;33m=\u001b[0m \u001b[0mself\u001b[0m\u001b[1;33m.\u001b[0m\u001b[0mcolumns\u001b[0m\u001b[1;33m.\u001b[0m\u001b[0mget_loc\u001b[0m\u001b[1;33m(\u001b[0m\u001b[0mkey\u001b[0m\u001b[1;33m)\u001b[0m\u001b[1;33m\u001b[0m\u001b[1;33m\u001b[0m\u001b[0m\n\u001b[0m\u001b[0;32m   2801\u001b[0m             \u001b[1;32mif\u001b[0m \u001b[0mis_integer\u001b[0m\u001b[1;33m(\u001b[0m\u001b[0mindexer\u001b[0m\u001b[1;33m)\u001b[0m\u001b[1;33m:\u001b[0m\u001b[1;33m\u001b[0m\u001b[1;33m\u001b[0m\u001b[0m\n\u001b[0;32m   2802\u001b[0m                 \u001b[0mindexer\u001b[0m \u001b[1;33m=\u001b[0m \u001b[1;33m[\u001b[0m\u001b[0mindexer\u001b[0m\u001b[1;33m]\u001b[0m\u001b[1;33m\u001b[0m\u001b[1;33m\u001b[0m\u001b[0m\n",
      "\u001b[1;32m~\\anaconda3\\lib\\site-packages\\pandas\\core\\indexes\\base.py\u001b[0m in \u001b[0;36mget_loc\u001b[1;34m(self, key, method, tolerance)\u001b[0m\n\u001b[0;32m   2646\u001b[0m                 \u001b[1;32mreturn\u001b[0m \u001b[0mself\u001b[0m\u001b[1;33m.\u001b[0m\u001b[0m_engine\u001b[0m\u001b[1;33m.\u001b[0m\u001b[0mget_loc\u001b[0m\u001b[1;33m(\u001b[0m\u001b[0mkey\u001b[0m\u001b[1;33m)\u001b[0m\u001b[1;33m\u001b[0m\u001b[1;33m\u001b[0m\u001b[0m\n\u001b[0;32m   2647\u001b[0m             \u001b[1;32mexcept\u001b[0m \u001b[0mKeyError\u001b[0m\u001b[1;33m:\u001b[0m\u001b[1;33m\u001b[0m\u001b[1;33m\u001b[0m\u001b[0m\n\u001b[1;32m-> 2648\u001b[1;33m                 \u001b[1;32mreturn\u001b[0m \u001b[0mself\u001b[0m\u001b[1;33m.\u001b[0m\u001b[0m_engine\u001b[0m\u001b[1;33m.\u001b[0m\u001b[0mget_loc\u001b[0m\u001b[1;33m(\u001b[0m\u001b[0mself\u001b[0m\u001b[1;33m.\u001b[0m\u001b[0m_maybe_cast_indexer\u001b[0m\u001b[1;33m(\u001b[0m\u001b[0mkey\u001b[0m\u001b[1;33m)\u001b[0m\u001b[1;33m)\u001b[0m\u001b[1;33m\u001b[0m\u001b[1;33m\u001b[0m\u001b[0m\n\u001b[0m\u001b[0;32m   2649\u001b[0m         \u001b[0mindexer\u001b[0m \u001b[1;33m=\u001b[0m \u001b[0mself\u001b[0m\u001b[1;33m.\u001b[0m\u001b[0mget_indexer\u001b[0m\u001b[1;33m(\u001b[0m\u001b[1;33m[\u001b[0m\u001b[0mkey\u001b[0m\u001b[1;33m]\u001b[0m\u001b[1;33m,\u001b[0m \u001b[0mmethod\u001b[0m\u001b[1;33m=\u001b[0m\u001b[0mmethod\u001b[0m\u001b[1;33m,\u001b[0m \u001b[0mtolerance\u001b[0m\u001b[1;33m=\u001b[0m\u001b[0mtolerance\u001b[0m\u001b[1;33m)\u001b[0m\u001b[1;33m\u001b[0m\u001b[1;33m\u001b[0m\u001b[0m\n\u001b[0;32m   2650\u001b[0m         \u001b[1;32mif\u001b[0m \u001b[0mindexer\u001b[0m\u001b[1;33m.\u001b[0m\u001b[0mndim\u001b[0m \u001b[1;33m>\u001b[0m \u001b[1;36m1\u001b[0m \u001b[1;32mor\u001b[0m \u001b[0mindexer\u001b[0m\u001b[1;33m.\u001b[0m\u001b[0msize\u001b[0m \u001b[1;33m>\u001b[0m \u001b[1;36m1\u001b[0m\u001b[1;33m:\u001b[0m\u001b[1;33m\u001b[0m\u001b[1;33m\u001b[0m\u001b[0m\n",
      "\u001b[1;32mpandas\\_libs\\index.pyx\u001b[0m in \u001b[0;36mpandas._libs.index.IndexEngine.get_loc\u001b[1;34m()\u001b[0m\n",
      "\u001b[1;32mpandas\\_libs\\index.pyx\u001b[0m in \u001b[0;36mpandas._libs.index.IndexEngine.get_loc\u001b[1;34m()\u001b[0m\n",
      "\u001b[1;32mpandas\\_libs\\hashtable_class_helper.pxi\u001b[0m in \u001b[0;36mpandas._libs.hashtable.PyObjectHashTable.get_item\u001b[1;34m()\u001b[0m\n",
      "\u001b[1;32mpandas\\_libs\\hashtable_class_helper.pxi\u001b[0m in \u001b[0;36mpandas._libs.hashtable.PyObjectHashTable.get_item\u001b[1;34m()\u001b[0m\n",
      "\u001b[1;31mKeyError\u001b[0m: ('Total_poplacao_2010', 'Total_poplacao_2020', 'Total_poplacao_2030')"
     ]
    }
   ],
   "source": [
    "sns.barplot(x = 'Bairro' , y = populacao['Total_poplacao_2010','Total_poplacao_2020','Total_poplacao_2030'],data=populacao)"
   ]
  },
  {
   "cell_type": "code",
   "execution_count": 35,
   "metadata": {},
   "outputs": [
    {
     "data": {
      "text/plain": [
       "Text(0, 0.5, 'populacao')"
      ]
     },
     "execution_count": 35,
     "metadata": {},
     "output_type": "execute_result"
    },
    {
     "data": {
      "image/png": "[encoded data removed]",
      "text/plain": [
       "<Figure size 720x432 with 1 Axes>"
      ]
     },
     "metadata": {
      "needs_background": "light"
     },
     "output_type": "display_data"
    }
   ],
   "source": [
    "plt.figure(figsize=(10, 6))\n",
    "plt.scatter(populacao['Bairro'], populacao['Total_poplacao_2010'],alpha=1)\n",
    "#x = [0, 400, 1000]\n",
    "#y = [0, 10000, 20000]\n",
    "#plt.plot(x, y, c='r')\n",
    "plt.xlabel('bairro')\n",
    "plt.ylabel('populacao')"
   ]
  },
  {
   "cell_type": "code",
   "execution_count": 50,
   "metadata": {},
   "outputs": [
    {
     "data": {
      "text/plain": [
       "Text(0.5, 1.0, 'Crescimento da População de Nova York por bairro')"
      ]
     },
     "execution_count": 50,
     "metadata": {},
     "output_type": "execute_result"
    },
    {
     "data": {
      "image/png": "[encoded data removed]",
      "text/plain": [
       "<Figure size 1080x576 with 1 Axes>"
      ]
     },
     "metadata": {
      "needs_background": "light"
     },
     "output_type": "display_data"
    }
   ],
   "source": [
    "# plt.figure()\n",
    "populacao.plot.bar(figsize=(15, 8))\n",
    "titulo='Crescimento da População de Nova York por bairro'\n",
    "plt.title(titulo)\n"
   ]
  },
  {
   "cell_type": "markdown",
   "metadata": {},
   "source": [
    "### 1-  Nivel de ofensa\n",
    "  \n",
    "  - contravenção\n",
    "  - crime\n",
    "  - violação"
   ]
  },
  {
   "cell_type": "code",
   "execution_count": 30,
   "metadata": {},
   "outputs": [
    {
     "data": {
      "text/plain": [
       "array([[<matplotlib.axes._subplots.AxesSubplot object at 0x00000171DC41F700>,\n",
       "        <matplotlib.axes._subplots.AxesSubplot object at 0x00000171DC250220>],\n",
       "       [<matplotlib.axes._subplots.AxesSubplot object at 0x00000171DC268880>,\n",
       "        <matplotlib.axes._subplots.AxesSubplot object at 0x00000171DC4975B0>]],\n",
       "      dtype=object)"
      ]
     },
     "execution_count": 30,
     "metadata": {},
     "output_type": "execute_result"
    },
    {
     "data": {
      "image/png": "[encoded data removed]",
      "text/plain": [
       "<Figure size 432x288 with 4 Axes>"
      ]
     },
     "metadata": {
      "needs_background": "light"
     },
     "output_type": "display_data"
    }
   ],
   "source": [
    "s()"
   ]
  },
  {
   "cell_type": "code",
   "execution_count": 52,
   "metadata": {},
   "outputs": [
    {
     "data": {
      "text/html": [
       "<div>\n",
       "<style scoped>\n",
       "    .dataframe tbody tr th:only-of-type {\n",
       "        vertical-align: middle;\n",
       "    }\n",
       "\n",
       "    .dataframe tbody tr th {\n",
       "        vertical-align: top;\n",
       "    }\n",
       "\n",
       "    .dataframe thead th {\n",
       "        text-align: right;\n",
       "    }\n",
       "</style>\n",
       "<table border=\"1\" class=\"dataframe\">\n",
       "  <thead>\n",
       "    <tr style=\"text-align: right;\">\n",
       "      <th></th>\n",
       "      <th>data_da_ocorrencia</th>\n",
       "      <th>data_final_da_ocorrencia</th>\n",
       "      <th>data_comunicacao_policia</th>\n",
       "      <th>hora_da_ocorrencia</th>\n",
       "      <th>hora_termino_da_ocorrencia</th>\n",
       "      <th>duracao_da_ocorrencia</th>\n",
       "      <th>descricao_da_ofensa</th>\n",
       "      <th>conclusao</th>\n",
       "      <th>nivel_de_ofensa</th>\n",
       "      <th>jurisdicao</th>\n",
       "      <th>bairro</th>\n",
       "      <th>local_da_ocorrencia</th>\n",
       "      <th>descricao_das_intalacoes</th>\n",
       "    </tr>\n",
       "  </thead>\n",
       "  <tbody>\n",
       "    <tr>\n",
       "      <th>0</th>\n",
       "      <td>2015-12-31</td>\n",
       "      <td>2015-12-31</td>\n",
       "      <td>2015-12-31</td>\n",
       "      <td>23:25:00</td>\n",
       "      <td>23:30:00</td>\n",
       "      <td>0 days 00:05:00.000000000</td>\n",
       "      <td>ASSAULT 3 &amp; RELATED OFFENSES</td>\n",
       "      <td>concluido</td>\n",
       "      <td>contravencao</td>\n",
       "      <td>N.Y. POLICE DEPT</td>\n",
       "      <td>MANHATTAN</td>\n",
       "      <td>fora</td>\n",
       "      <td>OTHER</td>\n",
       "    </tr>\n",
       "    <tr>\n",
       "      <th>2</th>\n",
       "      <td>2015-12-31</td>\n",
       "      <td>2015-12-31</td>\n",
       "      <td>2015-12-31</td>\n",
       "      <td>23:15:00</td>\n",
       "      <td>23:15:00</td>\n",
       "      <td>0 days 00:00:00.000000000</td>\n",
       "      <td>DANGEROUS WEAPONS</td>\n",
       "      <td>concluido</td>\n",
       "      <td>crime</td>\n",
       "      <td>N.Y. POLICE DEPT</td>\n",
       "      <td>BRONX</td>\n",
       "      <td>fora</td>\n",
       "      <td>STREET</td>\n",
       "    </tr>\n",
       "    <tr>\n",
       "      <th>3</th>\n",
       "      <td>2015-12-31</td>\n",
       "      <td>2015-12-31</td>\n",
       "      <td>2015-12-31</td>\n",
       "      <td>23:15:00</td>\n",
       "      <td>23:30:00</td>\n",
       "      <td>0 days 00:15:00.000000000</td>\n",
       "      <td>ASSAULT 3 &amp; RELATED OFFENSES</td>\n",
       "      <td>concluido</td>\n",
       "      <td>contravencao</td>\n",
       "      <td>N.Y. POLICE DEPT</td>\n",
       "      <td>BRONX</td>\n",
       "      <td>dentro</td>\n",
       "      <td>RESIDENCE - APT. HOUSE</td>\n",
       "    </tr>\n",
       "    <tr>\n",
       "      <th>4</th>\n",
       "      <td>2015-12-31</td>\n",
       "      <td>2015-12-31</td>\n",
       "      <td>2015-12-31</td>\n",
       "      <td>23:10:00</td>\n",
       "      <td>23:10:00</td>\n",
       "      <td>0 days 00:00:00.000000000</td>\n",
       "      <td>PETIT LARCENY</td>\n",
       "      <td>concluido</td>\n",
       "      <td>contravencao</td>\n",
       "      <td>N.Y. POLICE DEPT</td>\n",
       "      <td>MANHATTAN</td>\n",
       "      <td>dentro</td>\n",
       "      <td>DRUG STORE</td>\n",
       "    </tr>\n",
       "    <tr>\n",
       "      <th>5</th>\n",
       "      <td>2015-12-31</td>\n",
       "      <td>2015-12-31</td>\n",
       "      <td>2015-12-31</td>\n",
       "      <td>23:05:00</td>\n",
       "      <td>23:15:00</td>\n",
       "      <td>0 days 00:10:00.000000000</td>\n",
       "      <td>PETIT LARCENY</td>\n",
       "      <td>concluido</td>\n",
       "      <td>contravencao</td>\n",
       "      <td>N.Y. POLICE DEPT</td>\n",
       "      <td>BRONX</td>\n",
       "      <td>dentro</td>\n",
       "      <td>FAST FOOD</td>\n",
       "    </tr>\n",
       "  </tbody>\n",
       "</table>\n",
       "</div>"
      ],
      "text/plain": [
       "  data_da_ocorrencia data_final_da_ocorrencia data_comunicacao_policia  \\\n",
       "0         2015-12-31               2015-12-31               2015-12-31   \n",
       "2         2015-12-31               2015-12-31               2015-12-31   \n",
       "3         2015-12-31               2015-12-31               2015-12-31   \n",
       "4         2015-12-31               2015-12-31               2015-12-31   \n",
       "5         2015-12-31               2015-12-31               2015-12-31   \n",
       "\n",
       "  hora_da_ocorrencia hora_termino_da_ocorrencia      duracao_da_ocorrencia  \\\n",
       "0           23:25:00                   23:30:00  0 days 00:05:00.000000000   \n",
       "2           23:15:00                   23:15:00  0 days 00:00:00.000000000   \n",
       "3           23:15:00                   23:30:00  0 days 00:15:00.000000000   \n",
       "4           23:10:00                   23:10:00  0 days 00:00:00.000000000   \n",
       "5           23:05:00                   23:15:00  0 days 00:10:00.000000000   \n",
       "\n",
       "            descricao_da_ofensa  conclusao nivel_de_ofensa        jurisdicao  \\\n",
       "0  ASSAULT 3 & RELATED OFFENSES  concluido    contravencao  N.Y. POLICE DEPT   \n",
       "2             DANGEROUS WEAPONS  concluido           crime  N.Y. POLICE DEPT   \n",
       "3  ASSAULT 3 & RELATED OFFENSES  concluido    contravencao  N.Y. POLICE DEPT   \n",
       "4                 PETIT LARCENY  concluido    contravencao  N.Y. POLICE DEPT   \n",
       "5                 PETIT LARCENY  concluido    contravencao  N.Y. POLICE DEPT   \n",
       "\n",
       "      bairro local_da_ocorrencia descricao_das_intalacoes  \n",
       "0  MANHATTAN                fora                    OTHER  \n",
       "2      BRONX                fora                   STREET  \n",
       "3      BRONX              dentro   RESIDENCE - APT. HOUSE  \n",
       "4  MANHATTAN              dentro               DRUG STORE  \n",
       "5      BRONX              dentro                FAST FOOD  "
      ]
     },
     "execution_count": 52,
     "metadata": {},
     "output_type": "execute_result"
    }
   ],
   "source": [
    "delitos_ny.head()"
   ]
  },
  {
   "cell_type": "code",
   "execution_count": 56,
   "metadata": {},
   "outputs": [],
   "source": [
    "nivel_de_ofensa=delitos_ny.loc[:,['data_da_ocorrencia','nivel_de_ofensa']].set_index('data_da_ocorrencia')"
   ]
  },
  {
   "cell_type": "code",
   "execution_count": 57,
   "metadata": {},
   "outputs": [
    {
     "data": {
      "text/html": [
       "<div>\n",
       "<style scoped>\n",
       "    .dataframe tbody tr th:only-of-type {\n",
       "        vertical-align: middle;\n",
       "    }\n",
       "\n",
       "    .dataframe tbody tr th {\n",
       "        vertical-align: top;\n",
       "    }\n",
       "\n",
       "    .dataframe thead th {\n",
       "        text-align: right;\n",
       "    }\n",
       "</style>\n",
       "<table border=\"1\" class=\"dataframe\">\n",
       "  <thead>\n",
       "    <tr style=\"text-align: right;\">\n",
       "      <th></th>\n",
       "      <th>nivel_de_ofensa</th>\n",
       "    </tr>\n",
       "    <tr>\n",
       "      <th>data_da_ocorrencia</th>\n",
       "      <th></th>\n",
       "    </tr>\n",
       "  </thead>\n",
       "  <tbody>\n",
       "    <tr>\n",
       "      <th>2015-12-31</th>\n",
       "      <td>contravencao</td>\n",
       "    </tr>\n",
       "    <tr>\n",
       "      <th>2015-12-31</th>\n",
       "      <td>crime</td>\n",
       "    </tr>\n",
       "    <tr>\n",
       "      <th>2015-12-31</th>\n",
       "      <td>contravencao</td>\n",
       "    </tr>\n",
       "    <tr>\n",
       "      <th>2015-12-31</th>\n",
       "      <td>contravencao</td>\n",
       "    </tr>\n",
       "    <tr>\n",
       "      <th>2015-12-31</th>\n",
       "      <td>contravencao</td>\n",
       "    </tr>\n",
       "  </tbody>\n",
       "</table>\n",
       "</div>"
      ],
      "text/plain": [
       "                   nivel_de_ofensa\n",
       "data_da_ocorrencia                \n",
       "2015-12-31            contravencao\n",
       "2015-12-31                   crime\n",
       "2015-12-31            contravencao\n",
       "2015-12-31            contravencao\n",
       "2015-12-31            contravencao"
      ]
     },
     "execution_count": 57,
     "metadata": {},
     "output_type": "execute_result"
    }
   ],
   "source": [
    "nivel_de_ofensa.head()"
   ]
  },
  {
   "cell_type": "code",
   "execution_count": 59,
   "metadata": {},
   "outputs": [],
   "source": [
    "nivel_de_ofensa=pd.get_dummies(nivel_de_ofensa)"
   ]
  },
  {
   "cell_type": "code",
   "execution_count": null,
   "metadata": {},
   "outputs": [],
   "source": [
    "nivel_de_ofensa = pd.crosstab(delitos_ny.data_da_ocorrencia , delitos_ny.nivel_de_ofensa ).reset_index()"
   ]
  },
  {
   "cell_type": "code",
   "execution_count": null,
   "metadata": {
    "scrolled": true
   },
   "outputs": [],
   "source": [
    "nivel_de_ofensa.head()"
   ]
  },
  {
   "cell_type": "code",
   "execution_count": 63,
   "metadata": {},
   "outputs": [
    {
     "data": {
      "text/html": [
       "<div>\n",
       "<style scoped>\n",
       "    .dataframe tbody tr th:only-of-type {\n",
       "        vertical-align: middle;\n",
       "    }\n",
       "\n",
       "    .dataframe tbody tr th {\n",
       "        vertical-align: top;\n",
       "    }\n",
       "\n",
       "    .dataframe thead th {\n",
       "        text-align: right;\n",
       "    }\n",
       "</style>\n",
       "<table border=\"1\" class=\"dataframe\">\n",
       "  <thead>\n",
       "    <tr style=\"text-align: right;\">\n",
       "      <th></th>\n",
       "      <th>nivel_de_ofensa_contravencao</th>\n",
       "      <th>nivel_de_ofensa_crime</th>\n",
       "      <th>nivel_de_ofensa_violacao</th>\n",
       "    </tr>\n",
       "  </thead>\n",
       "  <tbody>\n",
       "    <tr>\n",
       "      <th>count</th>\n",
       "      <td>598159.000000</td>\n",
       "      <td>598159.000000</td>\n",
       "      <td>598159.000000</td>\n",
       "    </tr>\n",
       "    <tr>\n",
       "      <th>mean</th>\n",
       "      <td>0.552315</td>\n",
       "      <td>0.310252</td>\n",
       "      <td>0.137433</td>\n",
       "    </tr>\n",
       "    <tr>\n",
       "      <th>std</th>\n",
       "      <td>0.497256</td>\n",
       "      <td>0.462597</td>\n",
       "      <td>0.344305</td>\n",
       "    </tr>\n",
       "    <tr>\n",
       "      <th>min</th>\n",
       "      <td>0.000000</td>\n",
       "      <td>0.000000</td>\n",
       "      <td>0.000000</td>\n",
       "    </tr>\n",
       "    <tr>\n",
       "      <th>25%</th>\n",
       "      <td>0.000000</td>\n",
       "      <td>0.000000</td>\n",
       "      <td>0.000000</td>\n",
       "    </tr>\n",
       "    <tr>\n",
       "      <th>50%</th>\n",
       "      <td>1.000000</td>\n",
       "      <td>0.000000</td>\n",
       "      <td>0.000000</td>\n",
       "    </tr>\n",
       "    <tr>\n",
       "      <th>75%</th>\n",
       "      <td>1.000000</td>\n",
       "      <td>1.000000</td>\n",
       "      <td>0.000000</td>\n",
       "    </tr>\n",
       "    <tr>\n",
       "      <th>max</th>\n",
       "      <td>1.000000</td>\n",
       "      <td>1.000000</td>\n",
       "      <td>1.000000</td>\n",
       "    </tr>\n",
       "  </tbody>\n",
       "</table>\n",
       "</div>"
      ],
      "text/plain": [
       "       nivel_de_ofensa_contravencao  nivel_de_ofensa_crime  \\\n",
       "count                 598159.000000          598159.000000   \n",
       "mean                       0.552315               0.310252   \n",
       "std                        0.497256               0.462597   \n",
       "min                        0.000000               0.000000   \n",
       "25%                        0.000000               0.000000   \n",
       "50%                        1.000000               0.000000   \n",
       "75%                        1.000000               1.000000   \n",
       "max                        1.000000               1.000000   \n",
       "\n",
       "       nivel_de_ofensa_violacao  \n",
       "count             598159.000000  \n",
       "mean                   0.137433  \n",
       "std                    0.344305  \n",
       "min                    0.000000  \n",
       "25%                    0.000000  \n",
       "50%                    0.000000  \n",
       "75%                    0.000000  \n",
       "max                    1.000000  "
      ]
     },
     "execution_count": 63,
     "metadata": {},
     "output_type": "execute_result"
    }
   ],
   "source": [
    "nivel_de_ofensa.describe()"
   ]
  },
  {
   "cell_type": "code",
   "execution_count": 66,
   "metadata": {},
   "outputs": [
    {
     "data": {
      "text/html": [
       "<div>\n",
       "<style scoped>\n",
       "    .dataframe tbody tr th:only-of-type {\n",
       "        vertical-align: middle;\n",
       "    }\n",
       "\n",
       "    .dataframe tbody tr th {\n",
       "        vertical-align: top;\n",
       "    }\n",
       "\n",
       "    .dataframe thead th {\n",
       "        text-align: right;\n",
       "    }\n",
       "</style>\n",
       "<table border=\"1\" class=\"dataframe\">\n",
       "  <thead>\n",
       "    <tr style=\"text-align: right;\">\n",
       "      <th></th>\n",
       "      <th>nivel_de_ofensa_contravencao</th>\n",
       "      <th>nivel_de_ofensa_crime</th>\n",
       "      <th>nivel_de_ofensa_violacao</th>\n",
       "    </tr>\n",
       "  </thead>\n",
       "  <tbody>\n",
       "    <tr>\n",
       "      <th>nivel_de_ofensa_contravencao</th>\n",
       "      <td>1.000000</td>\n",
       "      <td>-0.744936</td>\n",
       "      <td>-0.443360</td>\n",
       "    </tr>\n",
       "    <tr>\n",
       "      <th>nivel_de_ofensa_crime</th>\n",
       "      <td>-0.744936</td>\n",
       "      <td>1.000000</td>\n",
       "      <td>-0.267708</td>\n",
       "    </tr>\n",
       "    <tr>\n",
       "      <th>nivel_de_ofensa_violacao</th>\n",
       "      <td>-0.443360</td>\n",
       "      <td>-0.267708</td>\n",
       "      <td>1.000000</td>\n",
       "    </tr>\n",
       "  </tbody>\n",
       "</table>\n",
       "</div>"
      ],
      "text/plain": [
       "                              nivel_de_ofensa_contravencao  \\\n",
       "nivel_de_ofensa_contravencao                      1.000000   \n",
       "nivel_de_ofensa_crime                            -0.744936   \n",
       "nivel_de_ofensa_violacao                         -0.443360   \n",
       "\n",
       "                              nivel_de_ofensa_crime  nivel_de_ofensa_violacao  \n",
       "nivel_de_ofensa_contravencao              -0.744936                 -0.443360  \n",
       "nivel_de_ofensa_crime                      1.000000                 -0.267708  \n",
       "nivel_de_ofensa_violacao                  -0.267708                  1.000000  "
      ]
     },
     "execution_count": 66,
     "metadata": {},
     "output_type": "execute_result"
    }
   ],
   "source": [
    "nivel_de_ofensa.corr()"
   ]
  },
  {
   "cell_type": "code",
   "execution_count": 76,
   "metadata": {},
   "outputs": [
    {
     "data": {
      "text/plain": [
       "<matplotlib.axes._subplots.AxesSubplot at 0x171a95f32b0>"
      ]
     },
     "execution_count": 76,
     "metadata": {},
     "output_type": "execute_result"
    },
    {
     "data": {
      "image/png": "[encoded data removed]",
      "text/plain": [
       "<Figure size 432x288 with 2 Axes>"
      ]
     },
     "metadata": {
      "needs_background": "light"
     },
     "output_type": "display_data"
    }
   ],
   "source": [
    "sns.heatmap(nivel_de_ofensa_geral.corr(), center = 0, annot=True)"
   ]
  },
  {
   "cell_type": "markdown",
   "metadata": {},
   "source": [
    " - Visualizando a distibuição dos delitos classificados como crime, contravenção e violação, nos anos de 2014 e 2015."
   ]
  },
  {
   "cell_type": "code",
   "execution_count": 73,
   "metadata": {},
   "outputs": [
    {
     "data": {
      "text/plain": [
       "<matplotlib.axes._subplots.AxesSubplot at 0x171a6a45dc0>"
      ]
     },
     "execution_count": 73,
     "metadata": {},
     "output_type": "execute_result"
    },
    {
     "data": {
      "image/png": "[encoded data removed]",
      "text/plain": [
       "<Figure size 432x288 with 1 Axes>"
      ]
     },
     "metadata": {
      "needs_background": "light"
     },
     "output_type": "display_data"
    }
   ],
   "source": [
    "nivel_de_ofensa.plot()"
   ]
  },
  {
   "cell_type": "code",
   "execution_count": 65,
   "metadata": {},
   "outputs": [
    {
     "ename": "KeyError",
     "evalue": "'data_da_ocorrencia'",
     "output_type": "error",
     "traceback": [
      "\u001b[1;31m---------------------------------------------------------------------------\u001b[0m",
      "\u001b[1;31mKeyError\u001b[0m                                  Traceback (most recent call last)",
      "\u001b[1;32m~\\anaconda3\\lib\\site-packages\\pandas\\core\\indexes\\base.py\u001b[0m in \u001b[0;36mget_loc\u001b[1;34m(self, key, method, tolerance)\u001b[0m\n\u001b[0;32m   2645\u001b[0m             \u001b[1;32mtry\u001b[0m\u001b[1;33m:\u001b[0m\u001b[1;33m\u001b[0m\u001b[1;33m\u001b[0m\u001b[0m\n\u001b[1;32m-> 2646\u001b[1;33m                 \u001b[1;32mreturn\u001b[0m \u001b[0mself\u001b[0m\u001b[1;33m.\u001b[0m\u001b[0m_engine\u001b[0m\u001b[1;33m.\u001b[0m\u001b[0mget_loc\u001b[0m\u001b[1;33m(\u001b[0m\u001b[0mkey\u001b[0m\u001b[1;33m)\u001b[0m\u001b[1;33m\u001b[0m\u001b[1;33m\u001b[0m\u001b[0m\n\u001b[0m\u001b[0;32m   2647\u001b[0m             \u001b[1;32mexcept\u001b[0m \u001b[0mKeyError\u001b[0m\u001b[1;33m:\u001b[0m\u001b[1;33m\u001b[0m\u001b[1;33m\u001b[0m\u001b[0m\n",
      "\u001b[1;32mpandas\\_libs\\index.pyx\u001b[0m in \u001b[0;36mpandas._libs.index.IndexEngine.get_loc\u001b[1;34m()\u001b[0m\n",
      "\u001b[1;32mpandas\\_libs\\index.pyx\u001b[0m in \u001b[0;36mpandas._libs.index.IndexEngine.get_loc\u001b[1;34m()\u001b[0m\n",
      "\u001b[1;32mpandas\\_libs\\hashtable_class_helper.pxi\u001b[0m in \u001b[0;36mpandas._libs.hashtable.PyObjectHashTable.get_item\u001b[1;34m()\u001b[0m\n",
      "\u001b[1;32mpandas\\_libs\\hashtable_class_helper.pxi\u001b[0m in \u001b[0;36mpandas._libs.hashtable.PyObjectHashTable.get_item\u001b[1;34m()\u001b[0m\n",
      "\u001b[1;31mKeyError\u001b[0m: 'data_da_ocorrencia'",
      "\nDuring handling of the above exception, another exception occurred:\n",
      "\u001b[1;31mKeyError\u001b[0m                                  Traceback (most recent call last)",
      "\u001b[1;32m<ipython-input-65-f33b82a02364>\u001b[0m in \u001b[0;36m<module>\u001b[1;34m\u001b[0m\n\u001b[0;32m      1\u001b[0m \u001b[0mfig\u001b[0m\u001b[1;33m,\u001b[0m \u001b[0max\u001b[0m \u001b[1;33m=\u001b[0m \u001b[0mplt\u001b[0m\u001b[1;33m.\u001b[0m\u001b[0msubplots\u001b[0m\u001b[1;33m(\u001b[0m\u001b[1;36m1\u001b[0m\u001b[1;33m,\u001b[0m\u001b[1;36m3\u001b[0m\u001b[1;33m,\u001b[0m\u001b[0mfigsize\u001b[0m\u001b[1;33m=\u001b[0m\u001b[1;33m(\u001b[0m\u001b[1;36m20\u001b[0m\u001b[1;33m,\u001b[0m\u001b[1;36m6\u001b[0m\u001b[1;33m)\u001b[0m\u001b[1;33m)\u001b[0m\u001b[1;33m\u001b[0m\u001b[1;33m\u001b[0m\u001b[0m\n\u001b[1;32m----> 2\u001b[1;33m \u001b[0mnivel_de_ofensa\u001b[0m\u001b[1;33m.\u001b[0m\u001b[0mplot\u001b[0m\u001b[1;33m(\u001b[0m\u001b[0mx\u001b[0m\u001b[1;33m=\u001b[0m\u001b[1;34m'data_da_ocorrencia'\u001b[0m\u001b[1;33m,\u001b[0m\u001b[0my\u001b[0m\u001b[1;33m=\u001b[0m\u001b[1;34m'contravencao'\u001b[0m\u001b[1;33m,\u001b[0m\u001b[0mkind\u001b[0m\u001b[1;33m=\u001b[0m\u001b[1;34m'hist'\u001b[0m\u001b[1;33m,\u001b[0m\u001b[0max\u001b[0m\u001b[1;33m=\u001b[0m\u001b[0max\u001b[0m\u001b[1;33m[\u001b[0m\u001b[1;36m0\u001b[0m\u001b[1;33m]\u001b[0m\u001b[1;33m,\u001b[0m\u001b[0mtitle\u001b[0m\u001b[1;33m=\u001b[0m\u001b[1;34m'contravencao'\u001b[0m\u001b[1;33m)\u001b[0m\u001b[1;33m;\u001b[0m\u001b[1;33m\u001b[0m\u001b[1;33m\u001b[0m\u001b[0m\n\u001b[0m\u001b[0;32m      3\u001b[0m \u001b[0mnivel_de_ofensa\u001b[0m\u001b[1;33m.\u001b[0m\u001b[0mplot\u001b[0m\u001b[1;33m(\u001b[0m\u001b[0mx\u001b[0m\u001b[1;33m=\u001b[0m\u001b[1;34m'data_da_ocorrencia'\u001b[0m\u001b[1;33m,\u001b[0m\u001b[0my\u001b[0m\u001b[1;33m=\u001b[0m\u001b[1;34m'crime'\u001b[0m\u001b[1;33m,\u001b[0m\u001b[0mkind\u001b[0m\u001b[1;33m=\u001b[0m\u001b[1;34m'count'\u001b[0m\u001b[1;33m,\u001b[0m\u001b[0max\u001b[0m\u001b[1;33m=\u001b[0m\u001b[0max\u001b[0m\u001b[1;33m[\u001b[0m\u001b[1;36m1\u001b[0m\u001b[1;33m]\u001b[0m\u001b[1;33m,\u001b[0m\u001b[0mtitle\u001b[0m\u001b[1;33m=\u001b[0m\u001b[1;34m'crime'\u001b[0m\u001b[1;33m)\u001b[0m\u001b[1;33m;\u001b[0m\u001b[1;33m\u001b[0m\u001b[1;33m\u001b[0m\u001b[0m\n\u001b[0;32m      4\u001b[0m \u001b[0mnivel_de_ofensa\u001b[0m\u001b[1;33m.\u001b[0m\u001b[0mplot\u001b[0m\u001b[1;33m(\u001b[0m\u001b[0mx\u001b[0m\u001b[1;33m=\u001b[0m\u001b[1;34m'data_da_ocorrencia'\u001b[0m\u001b[1;33m,\u001b[0m\u001b[0my\u001b[0m\u001b[1;33m=\u001b[0m\u001b[1;34m'violacao'\u001b[0m\u001b[1;33m,\u001b[0m\u001b[0mkind\u001b[0m\u001b[1;33m=\u001b[0m\u001b[1;34m'count'\u001b[0m\u001b[1;33m,\u001b[0m\u001b[0max\u001b[0m\u001b[1;33m=\u001b[0m\u001b[0max\u001b[0m\u001b[1;33m[\u001b[0m\u001b[1;36m2\u001b[0m\u001b[1;33m]\u001b[0m\u001b[1;33m,\u001b[0m\u001b[0mtitle\u001b[0m\u001b[1;33m=\u001b[0m\u001b[1;34m'violacao'\u001b[0m\u001b[1;33m)\u001b[0m\u001b[1;33m;\u001b[0m\u001b[1;33m\u001b[0m\u001b[1;33m\u001b[0m\u001b[0m\n\u001b[0;32m      5\u001b[0m \u001b[0mplt\u001b[0m\u001b[1;33m.\u001b[0m\u001b[0mtight_layout\u001b[0m\u001b[1;33m(\u001b[0m\u001b[1;33m)\u001b[0m\u001b[1;33m;\u001b[0m\u001b[1;33m\u001b[0m\u001b[1;33m\u001b[0m\u001b[0m\n",
      "\u001b[1;32m~\\anaconda3\\lib\\site-packages\\pandas\\plotting\\_core.py\u001b[0m in \u001b[0;36m__call__\u001b[1;34m(self, *args, **kwargs)\u001b[0m\n\u001b[0;32m    810\u001b[0m                 \u001b[1;32mif\u001b[0m \u001b[0mis_integer\u001b[0m\u001b[1;33m(\u001b[0m\u001b[0mx\u001b[0m\u001b[1;33m)\u001b[0m \u001b[1;32mand\u001b[0m \u001b[1;32mnot\u001b[0m \u001b[0mdata\u001b[0m\u001b[1;33m.\u001b[0m\u001b[0mcolumns\u001b[0m\u001b[1;33m.\u001b[0m\u001b[0mholds_integer\u001b[0m\u001b[1;33m(\u001b[0m\u001b[1;33m)\u001b[0m\u001b[1;33m:\u001b[0m\u001b[1;33m\u001b[0m\u001b[1;33m\u001b[0m\u001b[0m\n\u001b[0;32m    811\u001b[0m                     \u001b[0mx\u001b[0m \u001b[1;33m=\u001b[0m \u001b[0mdata_cols\u001b[0m\u001b[1;33m[\u001b[0m\u001b[0mx\u001b[0m\u001b[1;33m]\u001b[0m\u001b[1;33m\u001b[0m\u001b[1;33m\u001b[0m\u001b[0m\n\u001b[1;32m--> 812\u001b[1;33m                 \u001b[1;32melif\u001b[0m \u001b[1;32mnot\u001b[0m \u001b[0misinstance\u001b[0m\u001b[1;33m(\u001b[0m\u001b[0mdata\u001b[0m\u001b[1;33m[\u001b[0m\u001b[0mx\u001b[0m\u001b[1;33m]\u001b[0m\u001b[1;33m,\u001b[0m \u001b[0mABCSeries\u001b[0m\u001b[1;33m)\u001b[0m\u001b[1;33m:\u001b[0m\u001b[1;33m\u001b[0m\u001b[1;33m\u001b[0m\u001b[0m\n\u001b[0m\u001b[0;32m    813\u001b[0m                     \u001b[1;32mraise\u001b[0m \u001b[0mValueError\u001b[0m\u001b[1;33m(\u001b[0m\u001b[1;34m\"x must be a label or position\"\u001b[0m\u001b[1;33m)\u001b[0m\u001b[1;33m\u001b[0m\u001b[1;33m\u001b[0m\u001b[0m\n\u001b[0;32m    814\u001b[0m                 \u001b[0mdata\u001b[0m \u001b[1;33m=\u001b[0m \u001b[0mdata\u001b[0m\u001b[1;33m.\u001b[0m\u001b[0mset_index\u001b[0m\u001b[1;33m(\u001b[0m\u001b[0mx\u001b[0m\u001b[1;33m)\u001b[0m\u001b[1;33m\u001b[0m\u001b[1;33m\u001b[0m\u001b[0m\n",
      "\u001b[1;32m~\\anaconda3\\lib\\site-packages\\pandas\\core\\frame.py\u001b[0m in \u001b[0;36m__getitem__\u001b[1;34m(self, key)\u001b[0m\n\u001b[0;32m   2798\u001b[0m             \u001b[1;32mif\u001b[0m \u001b[0mself\u001b[0m\u001b[1;33m.\u001b[0m\u001b[0mcolumns\u001b[0m\u001b[1;33m.\u001b[0m\u001b[0mnlevels\u001b[0m \u001b[1;33m>\u001b[0m \u001b[1;36m1\u001b[0m\u001b[1;33m:\u001b[0m\u001b[1;33m\u001b[0m\u001b[1;33m\u001b[0m\u001b[0m\n\u001b[0;32m   2799\u001b[0m                 \u001b[1;32mreturn\u001b[0m \u001b[0mself\u001b[0m\u001b[1;33m.\u001b[0m\u001b[0m_getitem_multilevel\u001b[0m\u001b[1;33m(\u001b[0m\u001b[0mkey\u001b[0m\u001b[1;33m)\u001b[0m\u001b[1;33m\u001b[0m\u001b[1;33m\u001b[0m\u001b[0m\n\u001b[1;32m-> 2800\u001b[1;33m             \u001b[0mindexer\u001b[0m \u001b[1;33m=\u001b[0m \u001b[0mself\u001b[0m\u001b[1;33m.\u001b[0m\u001b[0mcolumns\u001b[0m\u001b[1;33m.\u001b[0m\u001b[0mget_loc\u001b[0m\u001b[1;33m(\u001b[0m\u001b[0mkey\u001b[0m\u001b[1;33m)\u001b[0m\u001b[1;33m\u001b[0m\u001b[1;33m\u001b[0m\u001b[0m\n\u001b[0m\u001b[0;32m   2801\u001b[0m             \u001b[1;32mif\u001b[0m \u001b[0mis_integer\u001b[0m\u001b[1;33m(\u001b[0m\u001b[0mindexer\u001b[0m\u001b[1;33m)\u001b[0m\u001b[1;33m:\u001b[0m\u001b[1;33m\u001b[0m\u001b[1;33m\u001b[0m\u001b[0m\n\u001b[0;32m   2802\u001b[0m                 \u001b[0mindexer\u001b[0m \u001b[1;33m=\u001b[0m \u001b[1;33m[\u001b[0m\u001b[0mindexer\u001b[0m\u001b[1;33m]\u001b[0m\u001b[1;33m\u001b[0m\u001b[1;33m\u001b[0m\u001b[0m\n",
      "\u001b[1;32m~\\anaconda3\\lib\\site-packages\\pandas\\core\\indexes\\base.py\u001b[0m in \u001b[0;36mget_loc\u001b[1;34m(self, key, method, tolerance)\u001b[0m\n\u001b[0;32m   2646\u001b[0m                 \u001b[1;32mreturn\u001b[0m \u001b[0mself\u001b[0m\u001b[1;33m.\u001b[0m\u001b[0m_engine\u001b[0m\u001b[1;33m.\u001b[0m\u001b[0mget_loc\u001b[0m\u001b[1;33m(\u001b[0m\u001b[0mkey\u001b[0m\u001b[1;33m)\u001b[0m\u001b[1;33m\u001b[0m\u001b[1;33m\u001b[0m\u001b[0m\n\u001b[0;32m   2647\u001b[0m             \u001b[1;32mexcept\u001b[0m \u001b[0mKeyError\u001b[0m\u001b[1;33m:\u001b[0m\u001b[1;33m\u001b[0m\u001b[1;33m\u001b[0m\u001b[0m\n\u001b[1;32m-> 2648\u001b[1;33m                 \u001b[1;32mreturn\u001b[0m \u001b[0mself\u001b[0m\u001b[1;33m.\u001b[0m\u001b[0m_engine\u001b[0m\u001b[1;33m.\u001b[0m\u001b[0mget_loc\u001b[0m\u001b[1;33m(\u001b[0m\u001b[0mself\u001b[0m\u001b[1;33m.\u001b[0m\u001b[0m_maybe_cast_indexer\u001b[0m\u001b[1;33m(\u001b[0m\u001b[0mkey\u001b[0m\u001b[1;33m)\u001b[0m\u001b[1;33m)\u001b[0m\u001b[1;33m\u001b[0m\u001b[1;33m\u001b[0m\u001b[0m\n\u001b[0m\u001b[0;32m   2649\u001b[0m         \u001b[0mindexer\u001b[0m \u001b[1;33m=\u001b[0m \u001b[0mself\u001b[0m\u001b[1;33m.\u001b[0m\u001b[0mget_indexer\u001b[0m\u001b[1;33m(\u001b[0m\u001b[1;33m[\u001b[0m\u001b[0mkey\u001b[0m\u001b[1;33m]\u001b[0m\u001b[1;33m,\u001b[0m \u001b[0mmethod\u001b[0m\u001b[1;33m=\u001b[0m\u001b[0mmethod\u001b[0m\u001b[1;33m,\u001b[0m \u001b[0mtolerance\u001b[0m\u001b[1;33m=\u001b[0m\u001b[0mtolerance\u001b[0m\u001b[1;33m)\u001b[0m\u001b[1;33m\u001b[0m\u001b[1;33m\u001b[0m\u001b[0m\n\u001b[0;32m   2650\u001b[0m         \u001b[1;32mif\u001b[0m \u001b[0mindexer\u001b[0m\u001b[1;33m.\u001b[0m\u001b[0mndim\u001b[0m \u001b[1;33m>\u001b[0m \u001b[1;36m1\u001b[0m \u001b[1;32mor\u001b[0m \u001b[0mindexer\u001b[0m\u001b[1;33m.\u001b[0m\u001b[0msize\u001b[0m \u001b[1;33m>\u001b[0m \u001b[1;36m1\u001b[0m\u001b[1;33m:\u001b[0m\u001b[1;33m\u001b[0m\u001b[1;33m\u001b[0m\u001b[0m\n",
      "\u001b[1;32mpandas\\_libs\\index.pyx\u001b[0m in \u001b[0;36mpandas._libs.index.IndexEngine.get_loc\u001b[1;34m()\u001b[0m\n",
      "\u001b[1;32mpandas\\_libs\\index.pyx\u001b[0m in \u001b[0;36mpandas._libs.index.IndexEngine.get_loc\u001b[1;34m()\u001b[0m\n",
      "\u001b[1;32mpandas\\_libs\\hashtable_class_helper.pxi\u001b[0m in \u001b[0;36mpandas._libs.hashtable.PyObjectHashTable.get_item\u001b[1;34m()\u001b[0m\n",
      "\u001b[1;32mpandas\\_libs\\hashtable_class_helper.pxi\u001b[0m in \u001b[0;36mpandas._libs.hashtable.PyObjectHashTable.get_item\u001b[1;34m()\u001b[0m\n",
      "\u001b[1;31mKeyError\u001b[0m: 'data_da_ocorrencia'"
     ]
    },
    {
     "data": {
      "image/png": "[encoded data removed]",
      "text/plain": [
       "<Figure size 1440x432 with 3 Axes>"
      ]
     },
     "metadata": {
      "needs_background": "light"
     },
     "output_type": "display_data"
    }
   ],
   "source": [
    "fig, ax = plt.subplots(1,3,figsize=(20,6))\n",
    "nivel_de_ofensa.plot(x='data_da_ocorrencia',y='contravencao',kind='hist',ax=ax[0],title='contravencao');\n",
    "nivel_de_ofensa.plot(x='data_da_ocorrencia',y='crime',kind='count',ax=ax[1],title='crime');\n",
    "nivel_de_ofensa.plot(x='data_da_ocorrencia',y='violacao',kind='count',ax=ax[2],title='violacao');\n",
    "plt.tight_layout();"
   ]
  },
  {
   "cell_type": "markdown",
   "metadata": {},
   "source": [
    " - criando novo DataFrame colocando a data como índice"
   ]
  },
  {
   "cell_type": "code",
   "execution_count": 74,
   "metadata": {},
   "outputs": [],
   "source": [
    "nivel_de_ofensa_geral = pd.crosstab(delitos_ny.data_da_ocorrencia , delitos_ny.nivel_de_ofensa )"
   ]
  },
  {
   "cell_type": "code",
   "execution_count": 75,
   "metadata": {},
   "outputs": [
    {
     "data": {
      "text/html": [
       "<div>\n",
       "<style scoped>\n",
       "    .dataframe tbody tr th:only-of-type {\n",
       "        vertical-align: middle;\n",
       "    }\n",
       "\n",
       "    .dataframe tbody tr th {\n",
       "        vertical-align: top;\n",
       "    }\n",
       "\n",
       "    .dataframe thead th {\n",
       "        text-align: right;\n",
       "    }\n",
       "</style>\n",
       "<table border=\"1\" class=\"dataframe\">\n",
       "  <thead>\n",
       "    <tr style=\"text-align: right;\">\n",
       "      <th>nivel_de_ofensa</th>\n",
       "      <th>contravencao</th>\n",
       "      <th>crime</th>\n",
       "      <th>violacao</th>\n",
       "    </tr>\n",
       "    <tr>\n",
       "      <th>data_da_ocorrencia</th>\n",
       "      <th></th>\n",
       "      <th></th>\n",
       "      <th></th>\n",
       "    </tr>\n",
       "  </thead>\n",
       "  <tbody>\n",
       "    <tr>\n",
       "      <th>2014-01-01</th>\n",
       "      <td>855</td>\n",
       "      <td>416</td>\n",
       "      <td>153</td>\n",
       "    </tr>\n",
       "    <tr>\n",
       "      <th>2014-01-02</th>\n",
       "      <td>415</td>\n",
       "      <td>231</td>\n",
       "      <td>83</td>\n",
       "    </tr>\n",
       "    <tr>\n",
       "      <th>2014-01-03</th>\n",
       "      <td>341</td>\n",
       "      <td>201</td>\n",
       "      <td>101</td>\n",
       "    </tr>\n",
       "    <tr>\n",
       "      <th>2014-01-04</th>\n",
       "      <td>396</td>\n",
       "      <td>208</td>\n",
       "      <td>83</td>\n",
       "    </tr>\n",
       "    <tr>\n",
       "      <th>2014-01-05</th>\n",
       "      <td>390</td>\n",
       "      <td>201</td>\n",
       "      <td>86</td>\n",
       "    </tr>\n",
       "  </tbody>\n",
       "</table>\n",
       "</div>"
      ],
      "text/plain": [
       "nivel_de_ofensa     contravencao  crime  violacao\n",
       "data_da_ocorrencia                               \n",
       "2014-01-01                   855    416       153\n",
       "2014-01-02                   415    231        83\n",
       "2014-01-03                   341    201       101\n",
       "2014-01-04                   396    208        83\n",
       "2014-01-05                   390    201        86"
      ]
     },
     "execution_count": 75,
     "metadata": {},
     "output_type": "execute_result"
    }
   ],
   "source": [
    "nivel_de_ofensa_geral.head()"
   ]
  },
  {
   "cell_type": "code",
   "execution_count": null,
   "metadata": {},
   "outputs": [],
   "source": [
    "plt.figure(figsize=(20,10))\n",
    "plt.plot(nivel_de_ofensa_geral)\n",
    "plt.xlabel('Data', fontsize=20)\n",
    "plt.ylabel('Quantidade', fontsize=20)\n",
    "legenda = ['contravenção','crime', 'violação']\n",
    "plt.legend(legenda, fontsize=15)\n",
    "plt.show()"
   ]
  },
  {
   "cell_type": "markdown",
   "metadata": {},
   "source": [
    " ### 2- Bairro"
   ]
  },
  {
   "cell_type": "code",
   "execution_count": null,
   "metadata": {},
   "outputs": [],
   "source": [
    "qtde_ocorrencia_dia = pd.crosstab(delitos_ny.data_da_ocorrencia , delitos_ny.bairro)"
   ]
  },
  {
   "cell_type": "code",
   "execution_count": null,
   "metadata": {},
   "outputs": [],
   "source": [
    "qtde_ocorrencia_dia.head()"
   ]
  },
  {
   "cell_type": "code",
   "execution_count": null,
   "metadata": {},
   "outputs": [],
   "source": [
    "plt.figure(figsize=(12,6))\n",
    "plt.plot(qtde_ocorrencia_dia)\n",
    "plt.xlabel('Data', fontsize=12)\n",
    "plt.ylabel('Quantidade', fontsize=12)\n",
    "legenda = ['BRONX','BROOKLYN', 'MANHATTAN','QUEENS','STATEN ISLAND']\n",
    "plt.legend(legenda, fontsize=10,loc=1)\n",
    "plt.title('QUANTIDADE DE DELITOS PRATICADOS POR DIA EM CADA BAIRRO', fontsize=12)\n",
    "plt.show()"
   ]
  },
  {
   "cell_type": "markdown",
   "metadata": {},
   "source": [
    "### 3-  Local da ocorrencia"
   ]
  },
  {
   "cell_type": "code",
   "execution_count": null,
   "metadata": {},
   "outputs": [],
   "source": [
    "local_da_ocorrencia = pd.crosstab(delitos_ny.data_da_ocorrencia , delitos_ny.local_da_ocorrencia).reset_index()"
   ]
  },
  {
   "cell_type": "code",
   "execution_count": null,
   "metadata": {},
   "outputs": [],
   "source": [
    "local_da_ocorrencia.info()"
   ]
  },
  {
   "cell_type": "code",
   "execution_count": null,
   "metadata": {},
   "outputs": [],
   "source": [
    "local_da_ocorrencia.head()"
   ]
  },
  {
   "cell_type": "code",
   "execution_count": null,
   "metadata": {},
   "outputs": [],
   "source": [
    "#  classificando os delitos apenas como sendo dentro / fora  dos estabelecimentos\n",
    "\n",
    "\n",
    "new_local_da_ocorrencia = {'atras': \"fora\", 'dentro': \"dentro\", 'em_frente': \"fora\", \n",
    "                           'oposto': \"fora\" }\n",
    "delitos_ny['local_da_ocorrencia'] = delitos_ny['local_da_ocorrencia'].map(new_local_da_ocorrencia)"
   ]
  },
  {
   "cell_type": "code",
   "execution_count": null,
   "metadata": {},
   "outputs": [],
   "source": [
    "delitos_ny.local_da_ocorrencia.value_counts()"
   ]
  },
  {
   "cell_type": "code",
   "execution_count": null,
   "metadata": {},
   "outputs": [],
   "source": [
    "local_da_ocorrencia = pd.crosstab(delitos_ny.data_da_ocorrencia , delitos_ny.local_da_ocorrencia)\n",
    "local_da_ocorrencia.head()"
   ]
  },
  {
   "cell_type": "code",
   "execution_count": null,
   "metadata": {},
   "outputs": [],
   "source": [
    "plt.figure(figsize=(12,6))\n",
    "plt.plot(local_da_ocorrencia)\n",
    "plt.xlabel('Data', fontsize=12)\n",
    "plt.ylabel('Quantidade', fontsize=12)\n",
    "legenda = ['dentro','fora']\n",
    "plt.title(' DELITOS PRATICADOS DENTRO X FORA DOS ESTABELECIMENTOS', fontsize=12)\n",
    "plt.legend(legenda, fontsize=15)\n",
    "plt.show()"
   ]
  },
  {
   "cell_type": "code",
   "execution_count": null,
   "metadata": {},
   "outputs": [],
   "source": [
    "# sns.set_palette('Accent')\n",
    "# sns.set_style('darkgrid')\n",
    "# ax=sns.lineplot(x='data_da_ocorrencia', y='dentro', data = local_da_ocorrencia)\n",
    "# ax.figure.set_size_inches(14,7)\n",
    "# ax.set_title('Delitos praticados dentro dos estabelecimentos', loc='left', fontsize=18)\n",
    "# ax.set_xlabel('Data dos delitos', fontsize=14)\n",
    "# ax.set_ylabel('Quatidade de delitos', fontsize=14)\n",
    "# ax=ax"
   ]
  },
  {
   "cell_type": "markdown",
   "metadata": {},
   "source": [
    "### 4 -  Descrição da ofensa"
   ]
  },
  {
   "cell_type": "markdown",
   "metadata": {},
   "source": [
    " - criando um dataframe data x descrição dos delitos"
   ]
  },
  {
   "cell_type": "code",
   "execution_count": null,
   "metadata": {},
   "outputs": [],
   "source": [
    "descricao_da_ofensa = pd.crosstab(delitos_ny.data_da_ocorrencia , delitos_ny.descricao_da_ofensa)"
   ]
  },
  {
   "cell_type": "code",
   "execution_count": null,
   "metadata": {},
   "outputs": [],
   "source": [
    "descricao_da_ofensa.head()"
   ]
  },
  {
   "cell_type": "markdown",
   "metadata": {},
   "source": [
    "- separando os delitos em :\n",
    " - delitos com maiores ocorrencias\n",
    " - delitos mais graves"
   ]
  },
  {
   "cell_type": "markdown",
   "metadata": {},
   "source": [
    "### 4.1 Tipos de delitos mais frequentes"
   ]
  },
  {
   "cell_type": "code",
   "execution_count": null,
   "metadata": {},
   "outputs": [],
   "source": [
    "delitos_ny.descricao_da_ofensa.value_counts().head()"
   ]
  },
  {
   "cell_type": "code",
   "execution_count": null,
   "metadata": {},
   "outputs": [],
   "source": [
    "delitos_mais_frequentes = descricao_da_ofensa.loc[:,['PETIT LARCENY','HARRASSMENT 2', 'ASSAULT 3 & RELATED OFFENSES',\n",
    "                                                     'CRIMINAL MISCHIEF & RELATED OF','GRAND LARCENY']]"
   ]
  },
  {
   "cell_type": "code",
   "execution_count": null,
   "metadata": {},
   "outputs": [],
   "source": [
    "delitos_mais_frequentes.head()"
   ]
  },
  {
   "cell_type": "code",
   "execution_count": null,
   "metadata": {},
   "outputs": [],
   "source": [
    "# plt.figure(figsize=(20,10))\n",
    "# plt.plot(delitos_mais_frequentes)\n",
    "# plt.xlabel('Data', fontsize=12)\n",
    "# plt.ylabel('Quantidade', fontsize=12)\n",
    "# legenda = ['PETIT LARCENY','HARRASSMENT 2', 'ASSAULT 3 & RELATED OFFENSES','CRIMINAL MISCHIEF & RELATED OF','GRAND LARCENY']\n",
    "# plt.title('TIPOS DE DELITOS MAIS FREQUENTES', fontsize=12)\n",
    "# plt.legend(legenda, fontsize=15)\n",
    "# plt.show()"
   ]
  },
  {
   "cell_type": "markdown",
   "metadata": {},
   "source": [
    "### 4.2 Delitos mais graves"
   ]
  },
  {
   "cell_type": "code",
   "execution_count": null,
   "metadata": {},
   "outputs": [],
   "source": [
    "# delitos_ny.descricao_da_ofensa.value_counts().head(40)"
   ]
  },
  {
   "cell_type": "code",
   "execution_count": null,
   "metadata": {},
   "outputs": [],
   "source": [
    "# 'HARRASSMENT 2','FELONY ASSAULT','DANGEROUS DRUGS','SEX CRIMES','DANGEROUS WEAPONS'"
   ]
  },
  {
   "cell_type": "code",
   "execution_count": null,
   "metadata": {},
   "outputs": [],
   "source": [
    "delitos_mais_graves = descricao_da_ofensa.loc[:,['FELONY ASSAULT','DANGEROUS DRUGS',\n",
    "                                                 'SEX CRIMES','DANGEROUS WEAPONS']]"
   ]
  },
  {
   "cell_type": "code",
   "execution_count": null,
   "metadata": {},
   "outputs": [],
   "source": [
    "delitos_mais_graves.columns = ['crime_de_assalto','drogas_perigosas','crimes_sexuais','armas_perigosas']"
   ]
  },
  {
   "cell_type": "code",
   "execution_count": null,
   "metadata": {},
   "outputs": [],
   "source": [
    "delitos_mais_graves.head()"
   ]
  },
  {
   "cell_type": "code",
   "execution_count": null,
   "metadata": {},
   "outputs": [],
   "source": [
    "# plt.figure(figsize=(18,10))\n",
    "# plt.plot(delitos_mais_graves)\n",
    "# plt.xlabel('Data', fontsize=12)\n",
    "# plt.ylabel('Quantidade', fontsize=12)\n",
    "# legenda = ['crime_de_assalto','drogas_perigosas','crimes_sexuais','armas_perigosas']\n",
    "# plt.title('TIPOS DE DELITOS MAIS graves', fontsize=12)\n",
    "# plt.legend(legenda, fontsize=15, loc=1)\n",
    "# plt.show()"
   ]
  },
  {
   "cell_type": "markdown",
   "metadata": {},
   "source": [
    " ## Selecionando a variável \"crimes_sexuais\" e observando seu comportamento ao longo do tempo"
   ]
  },
  {
   "cell_type": "markdown",
   "metadata": {},
   "source": [
    " - Crimes sexuais x tempo"
   ]
  },
  {
   "cell_type": "code",
   "execution_count": null,
   "metadata": {},
   "outputs": [],
   "source": [
    "delitos_mais_graves.head()"
   ]
  },
  {
   "cell_type": "code",
   "execution_count": null,
   "metadata": {},
   "outputs": [],
   "source": [
    "# plt.figure(figsize=(15,8))\n",
    "# delitos_mais_graves.crimes_sexuais.plot()\n",
    "# plt.xticks(rotation=45)\n",
    "# plt.xlabel('Data')\n",
    "# plt.ylabel('Quantidade')\n",
    "# plt.tight_layout()"
   ]
  },
  {
   "cell_type": "markdown",
   "metadata": {},
   "source": [
    " - Criando o DataFrame \"crimes_sexuais\""
   ]
  },
  {
   "cell_type": "code",
   "execution_count": null,
   "metadata": {},
   "outputs": [],
   "source": [
    "crimes_sexuais = delitos_mais_graves.crimes_sexuais.to_frame()"
   ]
  },
  {
   "cell_type": "markdown",
   "metadata": {},
   "source": [
    " - Criando o arquivo CSV crimes_sexuais"
   ]
  },
  {
   "cell_type": "code",
   "execution_count": null,
   "metadata": {},
   "outputs": [],
   "source": [
    "crimes_sexuais.to_csv('crimes_sexuais.csv', encoding = 'latin-1' )"
   ]
  },
  {
   "cell_type": "markdown",
   "metadata": {},
   "source": [
    " - Graficando \"crimes_sexuais\""
   ]
  },
  {
   "cell_type": "code",
   "execution_count": null,
   "metadata": {},
   "outputs": [],
   "source": [
    "plt.figure(figsize=(15,8))\n",
    "plt.plot(crimes_sexuais)\n",
    "plt.title('Crimes Sexuais', fontsize=12)\n",
    "plt.xlabel('Data', fontsize=12)\n",
    "plt.ylabel('Quantidade', fontsize=12)\n",
    "legenda= ['Crimes sexuais x Tempo']\n",
    "plt.legend(legenda, fontsize=15, loc=1)\n",
    "plt.show()"
   ]
  },
  {
   "cell_type": "markdown",
   "metadata": {},
   "source": [
    "## Fazendo a decomposição sazonal"
   ]
  },
  {
   "cell_type": "code",
   "execution_count": null,
   "metadata": {},
   "outputs": [],
   "source": [
    "from statsmodels.tsa.seasonal import seasonal_decompose"
   ]
  },
  {
   "cell_type": "code",
   "execution_count": null,
   "metadata": {},
   "outputs": [],
   "source": [
    "resultado = seasonal_decompose(crimes_sexuais, period=12)"
   ]
  },
  {
   "cell_type": "markdown",
   "metadata": {},
   "source": [
    " - obtendo os componentes"
   ]
  },
  {
   "cell_type": "code",
   "execution_count": null,
   "metadata": {},
   "outputs": [],
   "source": [
    "tendencia = resultado.trend\n",
    "sazonalidade = resultado.seasonal\n",
    "residuo = resultado.resid"
   ]
  },
  {
   "cell_type": "code",
   "execution_count": null,
   "metadata": {},
   "outputs": [],
   "source": [
    "plt.figure(figsize=(12,6))\n",
    "plt.plot(tendencia)\n",
    "plt.xlabel('Data')\n",
    "plt.ylabel('crimes_sexuais')\n",
    "plt.title('Tendencia')"
   ]
  },
  {
   "cell_type": "code",
   "execution_count": null,
   "metadata": {},
   "outputs": [],
   "source": [
    "plt.figure(figsize=(12,6))\n",
    "plt.plot(sazonalidade)\n",
    "plt.xlabel('Data')\n",
    "plt.ylabel('crimes_sexuais')\n",
    "plt.title('Sazonalidade')"
   ]
  },
  {
   "cell_type": "code",
   "execution_count": null,
   "metadata": {},
   "outputs": [],
   "source": [
    "plt.figure(figsize=(12,6))\n",
    "plt.plot(residuo)\n",
    "plt.xlabel('Data')\n",
    "plt.ylabel('crimes_sexuais')\n",
    "plt.title('Resíduo')\n"
   ]
  },
  {
   "cell_type": "code",
   "execution_count": null,
   "metadata": {},
   "outputs": [],
   "source": []
  }
 ],
 "metadata": {
  "kernelspec": {
   "display_name": "Python 3",
   "language": "python",
   "name": "python3"
  },
  "language_info": {
   "codemirror_mode": {
    "name": "ipython",
    "version": 3
   },
   "file_extension": ".py",
   "mimetype": "text/x-python",
   "name": "python",
   "nbconvert_exporter": "python",
   "pygments_lexer": "ipython3",
   "version": "3.8.3"
  }
 },
 "nbformat": 4,
 "nbformat_minor": 4
}
